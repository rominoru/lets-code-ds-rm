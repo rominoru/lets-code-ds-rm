{
  "nbformat": 4,
  "nbformat_minor": 0,
  "metadata": {
    "colab": {
      "provenance": [],
      "collapsed_sections": []
    },
    "kernelspec": {
      "name": "python3",
      "display_name": "Python 3"
    },
    "language_info": {
      "name": "python"
    }
  },
  "cells": [
    {
      "cell_type": "markdown",
      "source": [
        "## Estatística - Aula 6"
      ],
      "metadata": {
        "id": "NhmAdebuEb8b"
      }
    },
    {
      "cell_type": "code",
      "source": [
        "import matplotlib.pyplot as plt \n",
        "import numpy as np \n",
        "from scipy import stats"
      ],
      "metadata": {
        "id": "G_uNg4Zh4qYZ"
      },
      "execution_count": 1,
      "outputs": []
    },
    {
      "cell_type": "markdown",
      "source": [
        "### Recap dos conteúdos até o momento\n",
        "\n",
        "$\\bullet$ Probabilidade. \n",
        "\n",
        "$\\bullet$ Distribuição.\n",
        "\n",
        "$\\bullet$ Parâmetros e estimadores.\n",
        "\n",
        "$\\bullet$ Intervalo de confiança.\n",
        "\n",
        "\n",
        "\n"
      ],
      "metadata": {
        "id": "7Ow3bMNZEbqa"
      }
    },
    {
      "cell_type": "code",
      "source": [],
      "metadata": {
        "id": "tAI4w17ANrzO"
      },
      "execution_count": 1,
      "outputs": []
    },
    {
      "cell_type": "markdown",
      "source": [
        "Os passos que geralmente fazemos para o Intervalo de Confiança (e que faremos para Teste de Hipóteses).\n",
        "\n",
        "- Indicar qual é o parâmetro de interesse $\\theta$.\n",
        "\n",
        "- Determinar um estimador $\\hat{\\theta}$.\n",
        "\n",
        "- Estabelecer uma estatística de teste, que depende de $\\hat{\\theta}$ e $\\theta$. "
      ],
      "metadata": {
        "id": "9a042eqIEbne"
      }
    },
    {
      "cell_type": "code",
      "execution_count": 1,
      "metadata": {
        "id": "1yQr4Gi5yVo_"
      },
      "outputs": [],
      "source": []
    },
    {
      "cell_type": "code",
      "source": [],
      "metadata": {
        "id": "EDc8hYxHyX9H"
      },
      "execution_count": 1,
      "outputs": []
    },
    {
      "cell_type": "code",
      "source": [],
      "metadata": {
        "id": "5XhnVviSyX4p"
      },
      "execution_count": 1,
      "outputs": []
    },
    {
      "cell_type": "code",
      "source": [],
      "metadata": {
        "id": "OyjPU_pwyX1T"
      },
      "execution_count": 1,
      "outputs": []
    },
    {
      "cell_type": "markdown",
      "source": [
        "## Teste de Hipóteses"
      ],
      "metadata": {
        "id": "KnlzJ0pnyYdX"
      }
    },
    {
      "cell_type": "markdown",
      "source": [
        "O teste de hipótese **sempre** se refere a um parâmetro $\\theta$, mas nem sempre isso é tão nítido. \n",
        "\n",
        "✍ Para isso, usaremos sempre a estatística de teste, daí a importância de compreender diferentes distribuições.\n",
        "\n"
      ],
      "metadata": {
        "id": "6Vr8wnz0ycjP"
      }
    },
    {
      "cell_type": "markdown",
      "source": [
        "Como o próprio nome diz, faremos testes para verificar se as hipóteses sobre os nossos parâmetros parecem ser válidas ou não. Para isso, temos alguns termos novos.\n",
        "\n",
        "$\\bullet$ Hipótese nula ($H_{0}$) - é a nossa hipótese de partida, onde sempre será ela que será rejeitada ou não. Para isso, toda a matemática (que não será desenvolvida de uma forma profunda aqui) sempre é feita inicialmente considerando que a hipótese nula é inicialmente verdadeira. \n",
        "\n",
        "$\\bullet$ Hipótese alternativa ($H_{1}$) - é a hipótese complementar à hipótese nula. **Geralmente** é a hipótese que queremos evidenciar algo sobre o nosso parâmetro. "
      ],
      "metadata": {
        "id": "UROqoETPzLTW"
      }
    },
    {
      "cell_type": "markdown",
      "source": [
        "Por conta disso, a hipótese alternativa é o que queremos provar. Isso é, se queremos provar que a a média (parâmetro $\\theta$) de uma distribuição é igual a 0, precisamos coletar evidências de que $\\theta$ seja diferente de zero."
      ],
      "metadata": {
        "id": "vpUuXFzT0u2v"
      }
    },
    {
      "cell_type": "markdown",
      "source": [
        "Temos dois tipos de testes de hipótese:\n",
        "\n",
        "$\\bullet$ Teste unilateral - $\\theta$ $\\lt$ $\\theta_{0}$\n",
        "\n",
        "$\\bullet$ Teste bilateral - $\\theta$ = $\\theta_{0}$"
      ],
      "metadata": {
        "id": "6437XhwF4x_e"
      }
    },
    {
      "cell_type": "code",
      "source": [],
      "metadata": {
        "id": "TFWtAa7x4xY0"
      },
      "execution_count": 1,
      "outputs": []
    },
    {
      "cell_type": "code",
      "source": [],
      "metadata": {
        "id": "32-1VebT4xQw"
      },
      "execution_count": 1,
      "outputs": []
    },
    {
      "cell_type": "code",
      "source": [],
      "metadata": {
        "id": "i7jDHilt4xNp"
      },
      "execution_count": 1,
      "outputs": []
    },
    {
      "cell_type": "markdown",
      "source": [
        "O teste de hipóteses é feito sob incertezas. E o que isso significa?\n",
        "\n",
        "Provavelmente, teremos erros.\n",
        "\n",
        "Erro tipo I: Rejeitar $H_{0}$ quando $H_{0}$ é verdadeiro. \n",
        "\n",
        "Erro tipo II: Aceitar $H_{0}$ quando $H_{0}$ é falso. \n"
      ],
      "metadata": {
        "id": "z_kpz6h4359V"
      }
    },
    {
      "cell_type": "code",
      "source": [],
      "metadata": {
        "id": "_CCZgFb5adKJ"
      },
      "execution_count": 1,
      "outputs": []
    },
    {
      "cell_type": "code",
      "source": [
        "mu1 = 3\n",
        "sigma1 = 2\n",
        "n = 10\n",
        "\n",
        "\n",
        "alpha = 0.05\n",
        "cutoff1 = stats.norm.ppf(alpha/2)\n",
        "cutoff2 = stats.norm.ppf(1-alpha/2)"
      ],
      "metadata": {
        "id": "tokQs5Zs40I_"
      },
      "execution_count": 2,
      "outputs": []
    },
    {
      "cell_type": "code",
      "source": [
        "plt.figure(figsize=(12,10))\n",
        "\n",
        "\n",
        "plt.fill_between(x=np.arange(-4,cutoff1,0.01), \n",
        "                 y1= stats.norm.pdf(np.arange(-4,cutoff1,0.01)) ,\n",
        "                 facecolor='red',\n",
        "                 alpha=0.35)\n",
        "\n",
        "plt.fill_between(x=np.arange(cutoff1,cutoff2,0.01), \n",
        "                 y1= stats.norm.pdf(np.arange(cutoff1,cutoff2,0.01)) ,\n",
        "                 facecolor='grey',\n",
        "                 alpha=0.35)\n",
        "\n",
        "plt.fill_between(x=np.arange(cutoff2,4,0.01), \n",
        "                 y1= stats.norm.pdf(np.arange(cutoff2,4,0.01)) ,\n",
        "                 facecolor='red',\n",
        "                 alpha=0.5)\n",
        "\n",
        "plt.fill_between(x=np.arange(-4,cutoff1,0.01), \n",
        "                 y1= stats.norm.pdf(np.arange(-4,cutoff1,0.01),loc=mu1, scale=sigma1/np.sqrt(n)) ,\n",
        "                 facecolor='grey',\n",
        "                 alpha=0.35)\n",
        "\n",
        "plt.fill_between(x=np.arange(cutoff1,cutoff2,0.01), \n",
        "                 y1= stats.norm.pdf(np.arange(cutoff1,cutoff2,0.01),loc=mu1, scale=sigma1/np.sqrt(n)) ,\n",
        "                 facecolor='blue',\n",
        "                 alpha=0.35)\n",
        "\n",
        "plt.fill_between(x=np.arange(cutoff2,10,0.01), \n",
        "                 y1= stats.norm.pdf(np.arange(cutoff2,10,0.01),loc=mu1, scale=sigma1/np.sqrt(n)),\n",
        "                 facecolor='grey',\n",
        "                 alpha=0.35)\n",
        "\n",
        "plt.text(x=-0.8, y=0.15, s= \"Null Hypothesis\")\n",
        "plt.text(x=2.5, y=0.13, s= \"Alternative\")\n",
        "plt.text(x=2.1, y=0.01, s= \"Type 1 Error\")\n",
        "plt.text(x=-3.2, y=0.01, s= \"Type 1 Error\")\n",
        "plt.text(x=0, y=0.02, s= \"Type 2 Error\");\n",
        "\n",
        "#Source code: https://www.kaggle.com/code/hamelg/python-for-data-24-hypothesis-testing/notebook"
      ],
      "metadata": {
        "colab": {
          "base_uri": "https://localhost:8080/",
          "height": 537
        },
        "id": "7VCJ_OEHyXyt",
        "outputId": "b42db8d9-c732-46ea-8782-658165c6358e"
      },
      "execution_count": 3,
      "outputs": [
        {
          "output_type": "display_data",
          "data": {
            "text/plain": [
              "<Figure size 864x720 with 1 Axes>"
            ],
            "image/png": "[encoded data removed]"
          },
          "metadata": {
            "needs_background": "light"
          }
        }
      ]
    },
    {
      "cell_type": "code",
      "source": [],
      "metadata": {
        "id": "d4Rm9RdUyXuj"
      },
      "execution_count": 3,
      "outputs": []
    },
    {
      "cell_type": "markdown",
      "source": [
        "Montaremos testes de hipóteses para alguns parâmetros que são importantes em diversas aplicações práticas."
      ],
      "metadata": {
        "id": "3yGuB7gKLJd1"
      }
    },
    {
      "cell_type": "markdown",
      "source": [
        "### Teste para a média $\\mu$ de uma N($\\mu$, $\\sigma$), com $\\sigma$ conhecido. "
      ],
      "metadata": {
        "id": "yn9JxNJuLc01"
      }
    },
    {
      "cell_type": "markdown",
      "source": [
        "1º Passo - Definir qual é o parâmetro de interesse"
      ],
      "metadata": {
        "id": "M72157UNNWnj"
      }
    },
    {
      "cell_type": "markdown",
      "source": [
        "Parâmetro de interesse: média ($\\mu$)"
      ],
      "metadata": {
        "id": "1QB_o0vBNblF"
      }
    },
    {
      "cell_type": "markdown",
      "source": [
        "2º passo - Determinar o estimador"
      ],
      "metadata": {
        "id": "Z2LfSzeZNc3u"
      }
    },
    {
      "cell_type": "markdown",
      "source": [
        "$\\bar{X}$ = $\\frac{1}{n} \\sum_{i=1}^{n} X_{i}$"
      ],
      "metadata": {
        "id": "BngQxnheNjz6"
      }
    },
    {
      "cell_type": "markdown",
      "source": [
        "3º passo - Identificar a estatística de teste."
      ],
      "metadata": {
        "id": "T01kCsMiNjO0"
      }
    },
    {
      "cell_type": "markdown",
      "source": [
        "$\\bar{x}$ ~ N($\\mu$, $\\sigma$ / $\\sqrt{n}$)"
      ],
      "metadata": {
        "id": "-Pa6C03vNr1c"
      }
    },
    {
      "cell_type": "markdown",
      "source": [
        "4º passo - Determinar o teste de hipótese e a regra de rejeição."
      ],
      "metadata": {
        "id": "3QL-PVD5NsPW"
      }
    },
    {
      "cell_type": "markdown",
      "source": [],
      "metadata": {
        "id": "SLg3fTFbN0Su"
      }
    },
    {
      "cell_type": "markdown",
      "source": [
        "Meninos de uma certa idade são conhecidos por terem um peso médio $\\mu$ de 85 quilos. É feita uma queixa de que os meninos que vivem em um orfanato municipal são subnutridos. Como uma evidência, os meninos (da mesma idade) são pesados ​​e encontrados com um peso médio de 80,94 quilos. Sabe-se que o desvio padrão da população é de 11,6 quilos (a parte irreal deste exemplo!). Com base nos dados disponíveis, o que se deve concluir sobre a reclamação?\n",
        "\n",
        "Vamos considerar o $\\alpha$ igual a 0.05\n",
        "\n",
        "Fonte: https://online.stat.psu.edu/stat415/lesson/10/10.1"
      ],
      "metadata": {
        "id": "mfWX5wGMN2ws"
      }
    },
    {
      "cell_type": "markdown",
      "source": [
        "Hipótese nula: $\\mu$ = 85\n",
        "Hipótese alternativa: $\\mu$ != 85\n",
        "\n",
        "\n",
        "$\\sigma$ = 11.6\n",
        "\n",
        "Dado que $n$ = 25"
      ],
      "metadata": {
        "id": "U88veuBKkGiv"
      }
    },
    {
      "cell_type": "code",
      "source": [
        "x_barra = 80.94\n",
        "\n"
      ],
      "metadata": {
        "id": "sfcE3NTqN2Pj"
      },
      "execution_count": 4,
      "outputs": []
    },
    {
      "cell_type": "code",
      "source": [
        "z = (x_barra - 85)/(11.6/np.sqrt(25))"
      ],
      "metadata": {
        "id": "5UWO4AX_yXfT"
      },
      "execution_count": 5,
      "outputs": []
    },
    {
      "cell_type": "markdown",
      "source": [
        "Vemos que esse valor de z é, na verdade, -1.75. Usando o nosso teste de hipótese com nível de significância de 0.05, observamos que o valor z está dentro do intervalo entre $z_{\\alpha/2}$ e $z_{1 - \\alpha/2}$.\n",
        "\n",
        "Logo, não podemos rejeitar a hipótese nula. "
      ],
      "metadata": {
        "id": "s2-kiJrmnXt0"
      }
    },
    {
      "cell_type": "code",
      "source": [],
      "metadata": {
        "id": "zxqNMEbqyXap"
      },
      "execution_count": 5,
      "outputs": []
    },
    {
      "cell_type": "markdown",
      "source": [
        "Mas antes, o que será importante de todas as estatísticas... **p-valor**\n",
        "\n",
        "O p-valor pode ser visto como o valor de $\\alpha$ que torna a nossa estatística de teste \"indeterminada\". Com isso, não precisamos calcular outras estatísticas derivadas. Podemos calcular apenas esse **p-valor** e comparar com o nosso nível $\\alpha$. Se **p-valor** < $\\alpha$, então rejeita a hipótese."
      ],
      "metadata": {
        "id": "DRMWJ3idakUB"
      }
    },
    {
      "cell_type": "markdown",
      "source": [
        "### Teste para a média $\\mu$ de uma N($\\mu$, $\\sigma$), com $\\sigma$ desconhecido. "
      ],
      "metadata": {
        "id": "ZxpIQ2o9Rkg-"
      }
    },
    {
      "cell_type": "markdown",
      "source": [
        "Avaliando o exemplo anterior, vemos que tem algo \"estranho\". Na realidade, **dificilmente** (para não dizer nunca) temos essa informação do desvio padrão, e atuamos com a incerteza desse parâmetro. Por conta disso, mudam-se algumas premissas que vimos para o teste anterior.\n",
        "Quais são?"
      ],
      "metadata": {
        "id": "Sp1jBm2IRtW6"
      }
    },
    {
      "cell_type": "markdown",
      "source": [
        "Exemplo: repita o exemplo anterior, dessa vez sem o conhecimento anterior de $\\sigma$. "
      ],
      "metadata": {
        "id": "HvtV9FmySOpe"
      }
    },
    {
      "cell_type": "code",
      "source": [],
      "metadata": {
        "id": "gjtc4NU4RrfG"
      },
      "execution_count": 5,
      "outputs": []
    },
    {
      "cell_type": "code",
      "source": [],
      "metadata": {
        "id": "IQP6SVdeSukC"
      },
      "execution_count": 5,
      "outputs": []
    },
    {
      "cell_type": "markdown",
      "source": [
        "### Teste de hipótese para $\\sigma^2$"
      ],
      "metadata": {
        "id": "-qIFy79xS25a"
      }
    },
    {
      "cell_type": "markdown",
      "source": [
        "Exemplo: Um fabricante de video-games está preocupado com a média e a variação do tempo de vida útil do controle (ou manete). O fabricante projetou os controles de modo que o tempo médio média de vida útil seja de 800 horas (ou menos) com um desvio padrão inferior a 40 horas. Os testes foram executados em uma amostra aleatória de n = 40 controles, e a média da amostra e o desvio padrão da amostra foram de 825 horas e 48,5 horas, respectivamente.\n",
        "\n",
        "Os dados fornecem evidências suficientes, no nível, para concluir que o desvio padrão da população excede 40 horas?"
      ],
      "metadata": {
        "id": "YCFaxJ4o_nYT"
      }
    },
    {
      "cell_type": "code",
      "source": [],
      "metadata": {
        "id": "Znl44IvtSuf6"
      },
      "execution_count": 5,
      "outputs": []
    },
    {
      "cell_type": "code",
      "source": [
        "chi2 = 57.336\n",
        "\n",
        "1 - stats.chi2.cdf(chi2,df=39)"
      ],
      "metadata": {
        "colab": {
          "base_uri": "https://localhost:8080/"
        },
        "id": "Mm5qzixeSuek",
        "outputId": "831a169e-d6fb-4164-ceed-a3ccaa53a75e"
      },
      "execution_count": 6,
      "outputs": [
        {
          "output_type": "execute_result",
          "data": {
            "text/plain": [
              "0.029284224147292814"
            ]
          },
          "metadata": {},
          "execution_count": 6
        }
      ]
    },
    {
      "cell_type": "markdown",
      "source": [
        "Teste $\\chi^2$ para Goodness of Fit. "
      ],
      "metadata": {
        "id": "PmuqR4ykTE31"
      }
    },
    {
      "cell_type": "markdown",
      "source": [
        "Hipótese nula: O_i = E_i \n",
        "Hipótese alternativa: O_i != E_i\n",
        "\n",
        "Estatística de teste\n",
        "\n",
        "$\\chi^2$ = $\\sum_{i=1}^{n}$ $\\frac{(O_{i} - E_{i})^2}{(E_{i})}$"
      ],
      "metadata": {
        "id": "XDbvH4nYssXn"
      }
    },
    {
      "cell_type": "markdown",
      "source": [
        "Regra de rejeição:\n",
        "\n",
        "Rejeita se $\\chi^2$ > $\\chi^2_{a, n-p-1}$, onde p é a quantidade de paramêtros estimados na distribuição"
      ],
      "metadata": {
        "id": "SaHvYV8Wtcvs"
      }
    },
    {
      "cell_type": "code",
      "source": [],
      "metadata": {
        "id": "qoVTnBGLV48S"
      },
      "execution_count": 6,
      "outputs": []
    },
    {
      "cell_type": "code",
      "source": [
        "vals = np.load('values_squad3.npy')"
      ],
      "metadata": {
        "id": "HfacUM1EV7Ko"
      },
      "execution_count": 7,
      "outputs": []
    },
    {
      "cell_type": "code",
      "source": [
        "plt.hist(vals,bins=15);"
      ],
      "metadata": {
        "id": "fC92EupqV7Hl",
        "colab": {
          "base_uri": "https://localhost:8080/",
          "height": 265
        },
        "outputId": "8cdf6f3c-2b30-4e85-c3b1-006b19e3af90"
      },
      "execution_count": 8,
      "outputs": [
        {
          "output_type": "display_data",
          "data": {
            "text/plain": [
              "<Figure size 432x288 with 1 Axes>"
            ],
            "image/png": "[encoded data removed]"
          },
          "metadata": {
            "needs_background": "light"
          }
        }
      ]
    },
    {
      "cell_type": "code",
      "source": [
        "#Estimador de variância para a distribuição acima? Considerando distribuição normal"
      ],
      "metadata": {
        "id": "5TGlgWN9uWfp"
      },
      "execution_count": 9,
      "outputs": []
    },
    {
      "cell_type": "code",
      "source": [
        "mean = np.mean(vals)"
      ],
      "metadata": {
        "id": "Rne_ZecsvvK0"
      },
      "execution_count": 10,
      "outputs": []
    },
    {
      "cell_type": "code",
      "source": [
        "S2 = np.std(vals)"
      ],
      "metadata": {
        "id": "OZ6MXhXquWcA"
      },
      "execution_count": 11,
      "outputs": []
    },
    {
      "cell_type": "code",
      "source": [
        "normal_distribution = stats.norm(scale=S2)"
      ],
      "metadata": {
        "id": "YaxudJ31vIFd"
      },
      "execution_count": 12,
      "outputs": []
    },
    {
      "cell_type": "code",
      "source": [
        "k = 15\n",
        "interval = np.linspace(np.min(vals),np.max(vals),k)\n",
        "\n",
        "hist, bins = np.histogram(vals, bins=interval)"
      ],
      "metadata": {
        "id": "OYb-2KuUuWaK"
      },
      "execution_count": 14,
      "outputs": []
    },
    {
      "cell_type": "code",
      "source": [
        "hist"
      ],
      "metadata": {
        "id": "ZNHq7IrfV7FM",
        "colab": {
          "base_uri": "https://localhost:8080/"
        },
        "outputId": "109cf3c7-aa11-44bf-efe9-10f67dbf1768"
      },
      "execution_count": 15,
      "outputs": [
        {
          "output_type": "execute_result",
          "data": {
            "text/plain": [
              "array([  10,   50,  185,  564, 1466, 2891, 4132, 4331, 3307, 1987,  768,\n",
              "        240,   60,    9])"
            ]
          },
          "metadata": {},
          "execution_count": 15
        }
      ]
    },
    {
      "cell_type": "code",
      "source": [
        "norm_cdf = stats.norm.cdf(interval, scale=S2)"
      ],
      "metadata": {
        "id": "udIv6hRFxBVY"
      },
      "execution_count": 16,
      "outputs": []
    },
    {
      "cell_type": "code",
      "source": [
        "area_bins = norm_cdf[1:] - norm_cdf[:-1]\n",
        "frequencia_teorica = area_bins * vals.shape[0]"
      ],
      "metadata": {
        "id": "qp2zbdbgxBRj"
      },
      "execution_count": 17,
      "outputs": []
    },
    {
      "cell_type": "code",
      "source": [
        "vals.shape[0]"
      ],
      "metadata": {
        "colab": {
          "base_uri": "https://localhost:8080/"
        },
        "id": "X74KCR770HIM",
        "outputId": "a7adafc0-3b07-478d-f91f-50686f210110"
      },
      "execution_count": 18,
      "outputs": [
        {
          "output_type": "execute_result",
          "data": {
            "text/plain": [
              "20000"
            ]
          },
          "metadata": {},
          "execution_count": 18
        }
      ]
    },
    {
      "cell_type": "code",
      "source": [
        "chi_calc = np.sum((frequencia_teorica - hist)**2/frequencia_teorica)"
      ],
      "metadata": {
        "id": "lusQSSdocFI9"
      },
      "execution_count": 26,
      "outputs": []
    },
    {
      "cell_type": "code",
      "source": [],
      "metadata": {
        "id": "NOkVTK-ccEbR"
      },
      "execution_count": 26,
      "outputs": []
    },
    {
      "cell_type": "code",
      "source": [
        "#Para fazer a regra de rejeição, precisamos saber quem é chi_(a, k - p - 1)\n",
        "chi_cut = stats.chi2.ppf(0.95,df=k-1-1)"
      ],
      "metadata": {
        "id": "NTOdkU1FcEXz"
      },
      "execution_count": 27,
      "outputs": []
    },
    {
      "cell_type": "code",
      "source": [
        "if chi_calc > chi_cut:\n",
        "  print(f'Hipótese nula rejeitada pois Chi_calc ({chi_calc}) > Chi_cut ({chi_cut})')\n",
        "else:\n",
        "  print(f'Hipótese nula não rejeitada pois Chi_calc ({chi_calc}) < Chi_cut ({chi_cut})')"
      ],
      "metadata": {
        "colab": {
          "base_uri": "https://localhost:8080/"
        },
        "id": "NOvCQeS3eRND",
        "outputId": "f8cfbb27-88cd-46d4-e8d4-31d6e6801c11"
      },
      "execution_count": 28,
      "outputs": [
        {
          "output_type": "stream",
          "name": "stdout",
          "text": [
            "Hipótese nula não rejeitada pois Chi_calc (20.622788363210688 < Chi_cut (22.362032494826934\n"
          ]
        }
      ]
    },
    {
      "cell_type": "markdown",
      "source": [
        "### Teste de igualdade de médias entre duas variáveis aleatórias. "
      ],
      "metadata": {
        "id": "IFv3NcqFV7nM"
      }
    },
    {
      "cell_type": "markdown",
      "source": [
        "Agora tudo vai depender sobre o que determinamos sobre a variância destas variáveis. Vamos desenvolver um pouquinho mais no quadro."
      ],
      "metadata": {
        "id": "_VbTane9XA_M"
      }
    },
    {
      "cell_type": "markdown",
      "source": [
        "Exercícios: Considere a base de dados Students Performance (https://www.kaggle.com/datasets/spscientist/students-performance-in-exams).\n",
        "\n",
        "Faça testes estatísticos para verificar os seguintes pressupostos:"
      ],
      "metadata": {
        "id": "OT97k035XRir"
      }
    },
    {
      "cell_type": "markdown",
      "source": [
        "a) A média de *writting* para as meninas e meninos foi igual."
      ],
      "metadata": {
        "id": "GjrYIn5hYLvO"
      }
    },
    {
      "cell_type": "code",
      "source": [],
      "metadata": {
        "id": "RC0WVFkkWFR1"
      },
      "execution_count": null,
      "outputs": []
    },
    {
      "cell_type": "markdown",
      "source": [
        "b) Independente do tipo de alimentação (*standard* ou *reduced*) do aluno, a média em matemática desses grupos é igual."
      ],
      "metadata": {
        "id": "tGwTaaWLYqyN"
      }
    },
    {
      "cell_type": "code",
      "source": [],
      "metadata": {
        "id": "aAuyuFKLZJn0"
      },
      "execution_count": null,
      "outputs": []
    },
    {
      "cell_type": "markdown",
      "source": [],
      "metadata": {
        "id": "4l_CnOmmZKxZ"
      }
    }
  ]
}
{
  "nbformat": 4,
  "nbformat_minor": 0,
  "metadata": {
    "colab": {
      "provenance": []
    },
    "kernelspec": {
      "name": "python3",
      "display_name": "Python 3"
    },
    "language_info": {
      "name": "python"
    }
  },
  "cells": [
    {
      "cell_type": "markdown",
      "source": [
        "## Estatística - Aula 6"
      ],
      "metadata": {
        "id": "NhmAdebuEb8b"
      }
    },
    {
      "cell_type": "markdown",
      "source": [
        "### Recap dos conteúdos até o momento\n",
        "\n",
        "$\\bullet$ Probabilidade. \n",
        "\n",
        "$\\bullet$ Distribuição.\n",
        "\n",
        "$\\bullet$ Parâmetros e estimadores.\n",
        "\n",
        "$\\bullet$ Intervalo de confiança.\n",
        "\n",
        "\n",
        "\n"
      ],
      "metadata": {
        "id": "7Ow3bMNZEbqa"
      }
    },
    {
      "cell_type": "markdown",
      "source": [
        "Os passos que geralmente fazemos para o Intervalo de Confiança (e que faremos para Teste de Hipóteses).\n",
        "\n",
        "- Indicar qual é o parâmetro de interesse $\\theta$.\n",
        "\n",
        "- Determinar um estimador $\\hat{\\theta}$.\n",
        "\n",
        "- Estabelecer uma estatística de teste, que depende de $\\hat{\\theta}$ e $\\theta$. "
      ],
      "metadata": {
        "id": "9a042eqIEbne"
      }
    },
    {
      "cell_type": "code",
      "execution_count": null,
      "metadata": {
        "id": "1yQr4Gi5yVo_"
      },
      "outputs": [],
      "source": []
    },
    {
      "cell_type": "code",
      "source": [],
      "metadata": {
        "id": "EDc8hYxHyX9H"
      },
      "execution_count": null,
      "outputs": []
    },
    {
      "cell_type": "code",
      "source": [],
      "metadata": {
        "id": "5XhnVviSyX4p"
      },
      "execution_count": null,
      "outputs": []
    },
    {
      "cell_type": "code",
      "source": [],
      "metadata": {
        "id": "OyjPU_pwyX1T"
      },
      "execution_count": null,
      "outputs": []
    },
    {
      "cell_type": "markdown",
      "source": [
        "## Teste de Hipóteses"
      ],
      "metadata": {
        "id": "KnlzJ0pnyYdX"
      }
    },
    {
      "cell_type": "markdown",
      "source": [
        "O teste de hipótese **sempre** se refere a um parâmetro $\\theta$, mas nem sempre isso é tão nítido. \n",
        "\n",
        "✍ Para isso, usaremos sempre a estatística de teste, daí a importância de compreender diferentes distribuições.\n",
        "\n"
      ],
      "metadata": {
        "id": "6Vr8wnz0ycjP"
      }
    },
    {
      "cell_type": "markdown",
      "source": [
        "Como o próprio nome diz, faremos testes para verificar se as hipóteses sobre os nossos parâmetros parecem ser válidas ou não. Para isso, temos alguns termos novos.\n",
        "\n",
        "$\\bullet$ Hipótese nula ($H_{0}$) - é a nossa hipótese de partida, onde sempre será ela que será rejeitada ou não. Para isso, toda a matemática (que não será desenvolvida de uma forma profunda aqui) sempre é feita inicialmente considerando que a hipótese nula é inicialmente verdadeira. \n",
        "\n",
        "$\\bullet$ Hipótese alternativa ($H_{1}$) - é a hipótese complementar à hipótese nula. **Geralmente** é a hipótese que queremos evidenciar algo sobre o nosso parâmetro. "
      ],
      "metadata": {
        "id": "UROqoETPzLTW"
      }
    },
    {
      "cell_type": "markdown",
      "source": [
        "Por conta disso, a hipótese alternativa é o que queremos provar. Isso é, se queremos provar que a a média (parâmetro $\\theta$) de uma distribuição é igual a 0, precisamos coletar evidências de que $\\theta$ seja diferente de zero."
      ],
      "metadata": {
        "id": "vpUuXFzT0u2v"
      }
    },
    {
      "cell_type": "markdown",
      "source": [
        "Temos dois tipos de testes de hipótese:\n",
        "\n",
        "$\\bullet$ Teste unilateral - $\\theta$ $\\lt$ $\\theta_{0}$\n",
        "\n",
        "$\\bullet$ Teste bilateral - $\\theta$ = $\\theta_{0}$"
      ],
      "metadata": {
        "id": "6437XhwF4x_e"
      }
    },
    {
      "cell_type": "code",
      "source": [],
      "metadata": {
        "id": "TFWtAa7x4xY0"
      },
      "execution_count": null,
      "outputs": []
    },
    {
      "cell_type": "code",
      "source": [],
      "metadata": {
        "id": "32-1VebT4xQw"
      },
      "execution_count": null,
      "outputs": []
    },
    {
      "cell_type": "code",
      "source": [],
      "metadata": {
        "id": "i7jDHilt4xNp"
      },
      "execution_count": null,
      "outputs": []
    },
    {
      "cell_type": "markdown",
      "source": [
        "O teste de hipóteses é feito sob incertezas. E o que isso significa?\n",
        "\n",
        "Provavelmente, teremos erros.\n",
        "\n",
        "Erro tipo I: Rejeitar $H_{0}$ quando $H_{0}$ é verdadeiro. \n",
        "\n",
        "Erro tipo II: Aceitar $H_{0}$ quando $H_{0}$ é falso. \n"
      ],
      "metadata": {
        "id": "z_kpz6h4359V"
      }
    },
    {
      "cell_type": "code",
      "source": [],
      "metadata": {
        "id": "7VCJ_OEHyXyt"
      },
      "execution_count": null,
      "outputs": []
    },
    {
      "cell_type": "code",
      "source": [],
      "metadata": {
        "id": "d4Rm9RdUyXuj"
      },
      "execution_count": null,
      "outputs": []
    },
    {
      "cell_type": "markdown",
      "source": [
        "Montaremos testes de hipóteses para alguns parâmetros que são importantes em diversas aplicações práticas."
      ],
      "metadata": {
        "id": "3yGuB7gKLJd1"
      }
    },
    {
      "cell_type": "markdown",
      "source": [
        "### Teste para a média $\\mu$ de uma N($\\mu$, $\\sigma$), com $\\sigma$ conhecido. "
      ],
      "metadata": {
        "id": "yn9JxNJuLc01"
      }
    },
    {
      "cell_type": "markdown",
      "source": [
        "1º Passo - Definir qual é o parâmetro de interesse"
      ],
      "metadata": {
        "id": "M72157UNNWnj"
      }
    },
    {
      "cell_type": "markdown",
      "source": [],
      "metadata": {
        "id": "1QB_o0vBNblF"
      }
    },
    {
      "cell_type": "markdown",
      "source": [
        "2º passo - Determinar o estimador"
      ],
      "metadata": {
        "id": "Z2LfSzeZNc3u"
      }
    },
    {
      "cell_type": "markdown",
      "source": [],
      "metadata": {
        "id": "BngQxnheNjz6"
      }
    },
    {
      "cell_type": "markdown",
      "source": [
        "3º passo - Identificar a estatística de teste."
      ],
      "metadata": {
        "id": "T01kCsMiNjO0"
      }
    },
    {
      "cell_type": "markdown",
      "source": [],
      "metadata": {
        "id": "-Pa6C03vNr1c"
      }
    },
    {
      "cell_type": "markdown",
      "source": [
        "4º passo - Determinar o teste de hipótese e a regra de rejeição."
      ],
      "metadata": {
        "id": "3QL-PVD5NsPW"
      }
    },
    {
      "cell_type": "markdown",
      "source": [],
      "metadata": {
        "id": "SLg3fTFbN0Su"
      }
    },
    {
      "cell_type": "markdown",
      "source": [
        "Exemplo 1: O dono de uma empresa de serviços disse que a idade média de seus usuários é 28 anos. Você possui uma base de dados com clientes, e gostaria de testar se tal hipótese é verdadeira. Formule um teste de hipótese para verificar se a média da idade é igual a 28 anos. Considere que a variável aleatória segue uma distribuição normal com $\\sigma = 2$."
      ],
      "metadata": {
        "id": "mfWX5wGMN2ws"
      }
    },
    {
      "cell_type": "code",
      "source": [],
      "metadata": {
        "id": "sfcE3NTqN2Pj"
      },
      "execution_count": null,
      "outputs": []
    },
    {
      "cell_type": "code",
      "source": [],
      "metadata": {
        "id": "5UWO4AX_yXfT"
      },
      "execution_count": null,
      "outputs": []
    },
    {
      "cell_type": "code",
      "source": [],
      "metadata": {
        "id": "zxqNMEbqyXap"
      },
      "execution_count": null,
      "outputs": []
    },
    {
      "cell_type": "code",
      "source": [],
      "metadata": {
        "id": "1H03RTB1RkHK"
      },
      "execution_count": null,
      "outputs": []
    },
    {
      "cell_type": "code",
      "source": [],
      "metadata": {
        "id": "0AoSw7cIRkEI"
      },
      "execution_count": null,
      "outputs": []
    },
    {
      "cell_type": "markdown",
      "source": [
        "Mas antes, o que será importante de todas as estatísticas... **p-valor**\n",
        "\n",
        "O p-valor pode ser visto como o valor de $\\alpha$ que torna a nossa estatística de teste \"indeterminada\". Com isso, não precisamos calcular outras estatísticas derivadas. Podemos calcular apenas esse **p-valor** e comparar com o nosso nível $\\alpha$. Se **p-valor** < $\\alpha$, então rejeita a hipótese."
      ],
      "metadata": {
        "id": "DRMWJ3idakUB"
      }
    },
    {
      "cell_type": "markdown",
      "source": [
        "### Teste para a média $\\mu$ de uma N($\\mu$, $\\sigma$), com $\\sigma$ desconhecido. "
      ],
      "metadata": {
        "id": "ZxpIQ2o9Rkg-"
      }
    },
    {
      "cell_type": "markdown",
      "source": [
        "Avaliando o exemplo anterior, vemos que tem algo \"estranho\". Na realidade, **dificilmente** (para não dizer nunca) temos essa informação do desvio padrão, e atuamos com a incerteza desse parâmetro. Por conta disso, mudam-se algumas premissas que vimos para o teste anterior.\n",
        "Quais são?"
      ],
      "metadata": {
        "id": "Sp1jBm2IRtW6"
      }
    },
    {
      "cell_type": "markdown",
      "source": [
        "Exemplo: repita o exemplo anterior, dessa vez sem o conhecimento anterior de $\\sigma$. "
      ],
      "metadata": {
        "id": "HvtV9FmySOpe"
      }
    },
    {
      "cell_type": "code",
      "source": [],
      "metadata": {
        "id": "gjtc4NU4RrfG"
      },
      "execution_count": null,
      "outputs": []
    },
    {
      "cell_type": "code",
      "source": [],
      "metadata": {
        "id": "IQP6SVdeSukC"
      },
      "execution_count": null,
      "outputs": []
    },
    {
      "cell_type": "markdown",
      "source": [
        "### Teste de hipótese para $\\sigma^2$"
      ],
      "metadata": {
        "id": "-qIFy79xS25a"
      }
    },
    {
      "cell_type": "code",
      "source": [],
      "metadata": {
        "id": "Znl44IvtSuf6"
      },
      "execution_count": null,
      "outputs": []
    },
    {
      "cell_type": "code",
      "source": [],
      "metadata": {
        "id": "Mm5qzixeSuek"
      },
      "execution_count": null,
      "outputs": []
    },
    {
      "cell_type": "markdown",
      "source": [
        "Teste $\\chi^2$ para Goodness of Fit. "
      ],
      "metadata": {
        "id": "PmuqR4ykTE31"
      }
    },
    {
      "cell_type": "code",
      "source": [],
      "metadata": {
        "id": "qoVTnBGLV48S"
      },
      "execution_count": null,
      "outputs": []
    },
    {
      "cell_type": "code",
      "source": [],
      "metadata": {
        "id": "HfacUM1EV7Ko"
      },
      "execution_count": null,
      "outputs": []
    },
    {
      "cell_type": "code",
      "source": [],
      "metadata": {
        "id": "fC92EupqV7Hl"
      },
      "execution_count": null,
      "outputs": []
    },
    {
      "cell_type": "code",
      "source": [],
      "metadata": {
        "id": "ZNHq7IrfV7FM"
      },
      "execution_count": null,
      "outputs": []
    },
    {
      "cell_type": "markdown",
      "source": [
        "### Teste de igualdade de médias entre duas variáveis aleatórias. "
      ],
      "metadata": {
        "id": "IFv3NcqFV7nM"
      }
    },
    {
      "cell_type": "markdown",
      "source": [
        "Agora tudo vai depender sobre o que determinamos sobre a variância destas variáveis. Vamos desenvolver um pouquinho mais no quadro."
      ],
      "metadata": {
        "id": "_VbTane9XA_M"
      }
    },
    {
      "cell_type": "markdown",
      "source": [
        "Exercícios: Considere a base de dados Students Performance (https://www.kaggle.com/datasets/spscientist/students-performance-in-exams).\n",
        "\n",
        "Faça testes estatísticos para verificar os seguintes pressupostos:"
      ],
      "metadata": {
        "id": "OT97k035XRir"
      }
    },
    {
      "cell_type": "markdown",
      "source": [
        "a) A média de *writting* para as meninas e meninos foi igual."
      ],
      "metadata": {
        "id": "GjrYIn5hYLvO"
      }
    },
    {
      "cell_type": "code",
      "source": [],
      "metadata": {
        "id": "RC0WVFkkWFR1"
      },
      "execution_count": null,
      "outputs": []
    },
    {
      "cell_type": "markdown",
      "source": [
        "b) Independente do tipo de alimentação (*standard* ou *reduced*) do aluno, a média em matemática desses grupos é igual."
      ],
      "metadata": {
        "id": "tGwTaaWLYqyN"
      }
    },
    {
      "cell_type": "code",
      "source": [],
      "metadata": {
        "id": "aAuyuFKLZJn0"
      },
      "execution_count": null,
      "outputs": []
    },
    {
      "cell_type": "markdown",
      "source": [],
      "metadata": {
        "id": "4l_CnOmmZKxZ"
      }
    }
  ]
}
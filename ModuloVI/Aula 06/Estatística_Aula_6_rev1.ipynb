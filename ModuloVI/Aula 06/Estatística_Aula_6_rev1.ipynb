{
  "cells": [
    {
      "cell_type": "markdown",
      "metadata": {
        "id": "NhmAdebuEb8b"
      },
      "source": [
        "## Estatística - Aula 6"
      ]
    },
    {
      "cell_type": "code",
      "execution_count": 1,
      "metadata": {
        "id": "G_uNg4Zh4qYZ"
      },
      "outputs": [],
      "source": [
        "import matplotlib.pyplot as plt \n",
        "import numpy as np \n",
        "from scipy import stats"
      ]
    },
    {
      "cell_type": "markdown",
      "metadata": {
        "id": "7Ow3bMNZEbqa"
      },
      "source": [
        "### Recap dos conteúdos até o momento\n",
        "\n",
        "$\\bullet$ Probabilidade. \n",
        "\n",
        "$\\bullet$ Distribuição.\n",
        "\n",
        "$\\bullet$ Parâmetros e estimadores.\n",
        "\n",
        "$\\bullet$ Intervalo de confiança.\n",
        "\n",
        "\n",
        "\n"
      ]
    },
    {
      "cell_type": "markdown",
      "metadata": {
        "id": "9a042eqIEbne"
      },
      "source": [
        "Os passos que geralmente fazemos para o Intervalo de Confiança (e que faremos para Teste de Hipóteses).\n",
        "\n",
        "- Indicar qual é o parâmetro de interesse $\\theta$.\n",
        "\n",
        "- Determinar um estimador $\\hat{\\theta}$.\n",
        "\n",
        "- Estabelecer uma estatística de teste, que depende de $\\hat{\\theta}$ e $\\theta$. "
      ]
    },
    {
      "cell_type": "code",
      "execution_count": null,
      "metadata": {
        "id": "1yQr4Gi5yVo_"
      },
      "outputs": [],
      "source": []
    },
    {
      "cell_type": "code",
      "execution_count": null,
      "metadata": {
        "id": "EDc8hYxHyX9H"
      },
      "outputs": [],
      "source": []
    },
    {
      "cell_type": "code",
      "execution_count": null,
      "metadata": {
        "id": "5XhnVviSyX4p"
      },
      "outputs": [],
      "source": []
    },
    {
      "cell_type": "code",
      "execution_count": null,
      "metadata": {
        "id": "OyjPU_pwyX1T"
      },
      "outputs": [],
      "source": []
    },
    {
      "cell_type": "markdown",
      "metadata": {
        "id": "KnlzJ0pnyYdX"
      },
      "source": [
        "## Teste de Hipóteses"
      ]
    },
    {
      "cell_type": "markdown",
      "metadata": {
        "id": "6Vr8wnz0ycjP"
      },
      "source": [
        "O teste de hipótese **sempre** se refere a um parâmetro $\\theta$, mas nem sempre isso é tão nítido. \n",
        "\n",
        "✍ Para isso, usaremos sempre a estatística de teste, daí a importância de compreender diferentes distribuições.\n",
        "\n"
      ]
    },
    {
      "cell_type": "markdown",
      "metadata": {
        "id": "UROqoETPzLTW"
      },
      "source": [
        "Como o próprio nome diz, faremos testes para verificar se as hipóteses sobre os nossos parâmetros parecem ser válidas ou não. Para isso, temos alguns termos novos.\n",
        "\n",
        "$\\bullet$ Hipótese nula ($H_{0}$) - é a nossa hipótese de partida, onde sempre será ela que será rejeitada ou não. Para isso, toda a matemática (que não será desenvolvida de uma forma profunda aqui) sempre é feita inicialmente considerando que a hipótese nula é inicialmente verdadeira. \n",
        "\n",
        "$\\bullet$ Hipótese alternativa ($H_{1}$) - é a hipótese complementar à hipótese nula. **Geralmente** é a hipótese que queremos evidenciar algo sobre o nosso parâmetro. "
      ]
    },
    {
      "cell_type": "markdown",
      "metadata": {
        "id": "vpUuXFzT0u2v"
      },
      "source": [
        "Por conta disso, a hipótese alternativa é o que queremos provar. Isso é, se queremos provar que a a média (parâmetro $\\theta$) de uma distribuição é igual a 0, precisamos coletar evidências de que $\\theta$ seja diferente de zero."
      ]
    },
    {
      "cell_type": "markdown",
      "metadata": {
        "id": "6437XhwF4x_e"
      },
      "source": [
        "Temos dois tipos de testes de hipótese:\n",
        "\n",
        "$\\bullet$ Teste unilateral - $\\theta$ $\\lt$ $\\theta_{0}$\n",
        "\n",
        "$\\bullet$ Teste bilateral - $\\theta$ = $\\theta_{0}$"
      ]
    },
    {
      "cell_type": "code",
      "execution_count": null,
      "metadata": {
        "id": "TFWtAa7x4xY0"
      },
      "outputs": [],
      "source": []
    },
    {
      "cell_type": "code",
      "execution_count": null,
      "metadata": {
        "id": "32-1VebT4xQw"
      },
      "outputs": [],
      "source": []
    },
    {
      "cell_type": "code",
      "execution_count": null,
      "metadata": {
        "id": "i7jDHilt4xNp"
      },
      "outputs": [],
      "source": []
    },
    {
      "cell_type": "markdown",
      "metadata": {
        "id": "z_kpz6h4359V"
      },
      "source": [
        "O teste de hipóteses é feito sob incertezas. E o que isso significa?\n",
        "\n",
        "Provavelmente, teremos erros.\n",
        "\n",
        "Erro tipo I: Rejeitar $H_{0}$ quando $H_{0}$ é verdadeiro. \n",
        "\n",
        "Erro tipo II: Aceitar $H_{0}$ quando $H_{0}$ é falso. \n"
      ]
    },
    {
      "cell_type": "code",
      "execution_count": 2,
      "metadata": {
        "id": "tokQs5Zs40I_"
      },
      "outputs": [],
      "source": [
        "mu1 = 3\n",
        "sigma1 = 2\n",
        "n = 1\n",
        "\n",
        "\n",
        "alpha = 0.01\n",
        "cutoff1 = stats.norm.ppf(alpha/2)\n",
        "cutoff2 = stats.norm.ppf(1-alpha/2)"
      ]
    },
    {
      "cell_type": "code",
      "execution_count": 3,
      "metadata": {
        "colab": {
          "base_uri": "https://localhost:8080/",
          "height": 592
        },
        "id": "7VCJ_OEHyXyt",
        "outputId": "38c3795b-200b-473b-d860-19e70ea6d3cc"
      },
      "outputs": [
        {
          "data": {
            "image/png": "[encoded data removed]",
            "text/plain": [
              "<Figure size 864x720 with 1 Axes>"
            ]
          },
          "metadata": {
            "needs_background": "light"
          },
          "output_type": "display_data"
        }
      ],
      "source": [
        "plt.figure(figsize=(12,10))\n",
        "\n",
        "\n",
        "plt.fill_between(x=np.arange(-4,cutoff1,0.01), \n",
        "                 y1= stats.norm.pdf(np.arange(-4,cutoff1,0.01)) ,\n",
        "                 facecolor='red',\n",
        "                 alpha=0.35)\n",
        "\n",
        "plt.fill_between(x=np.arange(cutoff1,cutoff2,0.01), \n",
        "                 y1= stats.norm.pdf(np.arange(cutoff1,cutoff2,0.01)) ,\n",
        "                 facecolor='grey',\n",
        "                 alpha=0.35)\n",
        "\n",
        "plt.fill_between(x=np.arange(cutoff2,4,0.01), \n",
        "                 y1= stats.norm.pdf(np.arange(cutoff2,4,0.01)) ,\n",
        "                 facecolor='red',\n",
        "                 alpha=0.5)\n",
        "\n",
        "plt.fill_between(x=np.arange(-4,cutoff1,0.01), \n",
        "                 y1= stats.norm.pdf(np.arange(-4,cutoff1,0.01),loc=mu1, scale=sigma1/np.sqrt(n)) ,\n",
        "                 facecolor='grey',\n",
        "                 alpha=0.35)\n",
        "\n",
        "plt.fill_between(x=np.arange(cutoff1,cutoff2,0.01), \n",
        "                 y1= stats.norm.pdf(np.arange(cutoff1,cutoff2,0.01),loc=mu1, scale=sigma1/np.sqrt(n)) ,\n",
        "                 facecolor='blue',\n",
        "                 alpha=0.35)\n",
        "\n",
        "plt.fill_between(x=np.arange(cutoff2,10,0.01), \n",
        "                 y1= stats.norm.pdf(np.arange(cutoff2,10,0.01),loc=mu1, scale=sigma1/np.sqrt(n)),\n",
        "                 facecolor='grey',\n",
        "                 alpha=0.35)\n",
        "\n",
        "plt.text(x=-0.8, y=0.15, s= \"Null Hypothesis\")\n",
        "plt.text(x=2.5, y=0.13, s= \"Alternative\")\n",
        "plt.text(x=2.1, y=0.01, s= \"Type 1 Error\")\n",
        "plt.text(x=-3.2, y=0.01, s= \"Type 1 Error\")\n",
        "plt.text(x=0, y=0.02, s= \"Type 2 Error\");\n",
        "\n",
        "#Source code: https://www.kaggle.com/code/hamelg/python-for-data-24-hypothesis-testing/notebook"
      ]
    },
    {
      "cell_type": "code",
      "execution_count": null,
      "metadata": {
        "id": "d4Rm9RdUyXuj"
      },
      "outputs": [],
      "source": []
    },
    {
      "cell_type": "markdown",
      "metadata": {
        "id": "3yGuB7gKLJd1"
      },
      "source": [
        "Montaremos testes de hipóteses para alguns parâmetros que são importantes em diversas aplicações práticas."
      ]
    },
    {
      "cell_type": "markdown",
      "metadata": {
        "id": "yn9JxNJuLc01"
      },
      "source": [
        "### Teste para a média $\\mu$ de uma N($\\mu$, $\\sigma$), com $\\sigma$ conhecido. "
      ]
    },
    {
      "cell_type": "markdown",
      "metadata": {
        "id": "M72157UNNWnj"
      },
      "source": [
        "1º Passo - Definir qual é o parâmetro de interesse"
      ]
    },
    {
      "cell_type": "markdown",
      "metadata": {
        "id": "1QB_o0vBNblF"
      },
      "source": []
    },
    {
      "cell_type": "markdown",
      "metadata": {
        "id": "Z2LfSzeZNc3u"
      },
      "source": [
        "2º passo - Determinar o estimador"
      ]
    },
    {
      "cell_type": "markdown",
      "metadata": {
        "id": "BngQxnheNjz6"
      },
      "source": []
    },
    {
      "cell_type": "markdown",
      "metadata": {
        "id": "T01kCsMiNjO0"
      },
      "source": [
        "3º passo - Identificar a estatística de teste."
      ]
    },
    {
      "cell_type": "markdown",
      "metadata": {
        "id": "-Pa6C03vNr1c"
      },
      "source": []
    },
    {
      "cell_type": "markdown",
      "metadata": {
        "id": "3QL-PVD5NsPW"
      },
      "source": [
        "4º passo - Determinar o teste de hipótese e a regra de rejeição."
      ]
    },
    {
      "cell_type": "markdown",
      "metadata": {
        "id": "SLg3fTFbN0Su"
      },
      "source": []
    },
    {
      "cell_type": "markdown",
      "metadata": {
        "id": "mfWX5wGMN2ws"
      },
      "source": [
        "Meninos de uma certa idade são conhecidos por terem um peso médio de quilos. É feita uma queixa de que os meninos que vivem em um orfanato municipal são subnutridos. Como uma evidência, os meninos (da mesma idade) são pesados ​​e encontrados com um peso médio de 80,94 quilos. Sabe-se que o desvio padrão da população é de 11,6 quilos (a parte irreal deste exemplo!). Com base nos dados disponíveis, o que se deve concluir sobre a reclamação?\n",
        "\n",
        "Fonte: https://online.stat.psu.edu/stat415/lesson/10/10.1"
      ]
    },
    {
      "cell_type": "code",
      "execution_count": null,
      "metadata": {
        "id": "sfcE3NTqN2Pj"
      },
      "outputs": [],
      "source": [
        "# Hipótese nula ${mu}$ = "
      ]
    },
    {
      "cell_type": "code",
      "execution_count": 5,
      "metadata": {
        "id": "5UWO4AX_yXfT"
      },
      "outputs": [
        {
          "data": {
            "text/plain": [
              "-1.750000000000001"
            ]
          },
          "execution_count": 5,
          "metadata": {},
          "output_type": "execute_result"
        }
      ],
      "source": [
        "x_barra = 80.94\n",
        "z = (x_barra - 85)/(11.6/np.sqrt(25))\n",
        "z"
      ]
    },
    {
      "cell_type": "code",
      "execution_count": null,
      "metadata": {
        "id": "zxqNMEbqyXap"
      },
      "outputs": [],
      "source": []
    },
    {
      "cell_type": "code",
      "execution_count": null,
      "metadata": {
        "id": "1H03RTB1RkHK"
      },
      "outputs": [],
      "source": []
    },
    {
      "cell_type": "code",
      "execution_count": null,
      "metadata": {
        "id": "0AoSw7cIRkEI"
      },
      "outputs": [],
      "source": []
    },
    {
      "cell_type": "markdown",
      "metadata": {
        "id": "DRMWJ3idakUB"
      },
      "source": [
        "Mas antes, o que será importante de todas as estatísticas... **p-valor**\n",
        "\n",
        "O p-valor pode ser visto como o valor de $\\alpha$ que torna a nossa estatística de teste \"indeterminada\". Com isso, não precisamos calcular outras estatísticas derivadas. Podemos calcular apenas esse **p-valor** e comparar com o nosso nível $\\alpha$. Se **p-valor** < $\\alpha$, então rejeita a hipótese."
      ]
    },
    {
      "cell_type": "markdown",
      "metadata": {
        "id": "ZxpIQ2o9Rkg-"
      },
      "source": [
        "### Teste para a média $\\mu$ de uma N($\\mu$, $\\sigma$), com $\\sigma$ desconhecido. "
      ]
    },
    {
      "cell_type": "markdown",
      "metadata": {
        "id": "Sp1jBm2IRtW6"
      },
      "source": [
        "Avaliando o exemplo anterior, vemos que tem algo \"estranho\". Na realidade, **dificilmente** (para não dizer nunca) temos essa informação do desvio padrão, e atuamos com a incerteza desse parâmetro. Por conta disso, mudam-se algumas premissas que vimos para o teste anterior.\n",
        "Quais são?"
      ]
    },
    {
      "cell_type": "markdown",
      "metadata": {
        "id": "HvtV9FmySOpe"
      },
      "source": [
        "Exemplo: repita o exemplo anterior, dessa vez sem o conhecimento anterior de $\\sigma$. "
      ]
    },
    {
      "cell_type": "code",
      "execution_count": null,
      "metadata": {
        "id": "gjtc4NU4RrfG"
      },
      "outputs": [],
      "source": []
    },
    {
      "cell_type": "code",
      "execution_count": null,
      "metadata": {
        "id": "IQP6SVdeSukC"
      },
      "outputs": [],
      "source": []
    },
    {
      "cell_type": "markdown",
      "metadata": {
        "id": "-qIFy79xS25a"
      },
      "source": [
        "### Teste de hipótese para $\\sigma^2$"
      ]
    },
    {
      "cell_type": "markdown",
      "metadata": {
        "id": "YCFaxJ4o_nYT"
      },
      "source": [
        "Exemplo: Um fabricante de video-games está preocupado com a média e a variação do tempo de vida útil do controle (ou manete). O fabricante projetou os controles de modo que o tempo médio média de vida útil seja de 800 horas (ou menos) com um desvio padrão inferior a 40 horas. Os testes foram executados em uma amostra aleatória de n = 40 controles, e a média da amostra e o desvio padrão da amostra foram de 825 horas e 48,5 horas, respectivamente.\n",
        "\n",
        "Os dados fornecem evidências suficientes, no nível, para concluir que o desvio padrão da população excede 40 horas?"
      ]
    },
    {
      "cell_type": "code",
      "execution_count": null,
      "metadata": {
        "id": "Znl44IvtSuf6"
      },
      "outputs": [],
      "source": []
    },
    {
      "cell_type": "code",
      "execution_count": 21,
      "metadata": {
        "colab": {
          "base_uri": "https://localhost:8080/"
        },
        "id": "Mm5qzixeSuek",
        "outputId": "47000b4c-bd7e-44a1-a577-d1ec34ed9482"
      },
      "outputs": [
        {
          "data": {
            "text/plain": [
              "0.029284224147292814"
            ]
          },
          "execution_count": 21,
          "metadata": {},
          "output_type": "execute_result"
        }
      ],
      "source": [
        "chi2 = 57.336\n",
        "\n",
        "1 - stats.chi2.cdf(chi2,df=39)"
      ]
    },
    {
      "cell_type": "markdown",
      "metadata": {
        "id": "PmuqR4ykTE31"
      },
      "source": [
        "Teste $\\chi^2$ para Goodness of Fit. "
      ]
    },
    {
      "cell_type": "code",
      "execution_count": null,
      "metadata": {
        "id": "qoVTnBGLV48S"
      },
      "outputs": [],
      "source": []
    },
    {
      "cell_type": "code",
      "execution_count": null,
      "metadata": {
        "id": "HfacUM1EV7Ko"
      },
      "outputs": [],
      "source": []
    },
    {
      "cell_type": "code",
      "execution_count": null,
      "metadata": {
        "id": "fC92EupqV7Hl"
      },
      "outputs": [],
      "source": []
    },
    {
      "cell_type": "code",
      "execution_count": null,
      "metadata": {
        "id": "ZNHq7IrfV7FM"
      },
      "outputs": [],
      "source": []
    },
    {
      "cell_type": "markdown",
      "metadata": {
        "id": "IFv3NcqFV7nM"
      },
      "source": [
        "### Teste de igualdade de médias entre duas variáveis aleatórias. "
      ]
    },
    {
      "cell_type": "markdown",
      "metadata": {
        "id": "_VbTane9XA_M"
      },
      "source": [
        "Agora tudo vai depender sobre o que determinamos sobre a variância destas variáveis. Vamos desenvolver um pouquinho mais no quadro."
      ]
    },
    {
      "cell_type": "markdown",
      "metadata": {
        "id": "OT97k035XRir"
      },
      "source": [
        "Exercícios: Considere a base de dados Students Performance (https://www.kaggle.com/datasets/spscientist/students-performance-in-exams).\n",
        "\n",
        "Faça testes estatísticos para verificar os seguintes pressupostos:"
      ]
    },
    {
      "cell_type": "markdown",
      "metadata": {
        "id": "GjrYIn5hYLvO"
      },
      "source": [
        "a) A média de *writting* para as meninas e meninos foi igual."
      ]
    },
    {
      "cell_type": "code",
      "execution_count": null,
      "metadata": {
        "id": "RC0WVFkkWFR1"
      },
      "outputs": [],
      "source": []
    },
    {
      "cell_type": "markdown",
      "metadata": {
        "id": "tGwTaaWLYqyN"
      },
      "source": [
        "b) Independente do tipo de alimentação (*standard* ou *reduced*) do aluno, a média em matemática desses grupos é igual."
      ]
    },
    {
      "cell_type": "code",
      "execution_count": null,
      "metadata": {
        "id": "aAuyuFKLZJn0"
      },
      "outputs": [],
      "source": []
    },
    {
      "cell_type": "markdown",
      "metadata": {
        "id": "4l_CnOmmZKxZ"
      },
      "source": []
    }
  ],
  "metadata": {
    "colab": {
      "collapsed_sections": [],
      "provenance": []
    },
    "kernelspec": {
      "display_name": "Python 3.10.5 64-bit (microsoft store)",
      "language": "python",
      "name": "python3"
    },
    "language_info": {
      "codemirror_mode": {
        "name": "ipython",
        "version": 3
      },
      "file_extension": ".py",
      "mimetype": "text/x-python",
      "name": "python",
      "nbconvert_exporter": "python",
      "pygments_lexer": "ipython3",
      "version": "3.10.7"
    },
    "vscode": {
      "interpreter": {
        "hash": "d8c2dbe515bb1e132c806da356eed840d95260b43840da4c22c4a5911b708884"
      }
    }
  },
  "nbformat": 4,
  "nbformat_minor": 0
}

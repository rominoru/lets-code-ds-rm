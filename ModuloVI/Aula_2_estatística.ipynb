{
  "nbformat": 4,
  "nbformat_minor": 0,
  "metadata": {
    "colab": {
      "name": "Aula_2_estatística.ipynb",
      "provenance": [],
      "collapsed_sections": []
    },
    "kernelspec": {
      "name": "python3",
      "display_name": "Python 3"
    },
    "language_info": {
      "name": "python"
    }
  },
  "cells": [
    {
      "cell_type": "markdown",
      "source": [
        "# Aula 2 - Probabilidade\n",
        "\n",
        "* Definição de Probabilidade\n",
        "\n",
        "* Espaço Amostral\n",
        "\n",
        "* Probabilidade Condicional\n",
        "\n",
        "* Teorema de Bayes\n",
        "\n",
        "* Probabilidade da União de Eventos\n",
        "\n",
        "* Eventos Independentes\n",
        "\n",
        "* Variáveis Aleatórias e seus tipos (discretas e contínuas)"
      ],
      "metadata": {
        "id": "VKEXxXOWyLAd"
      }
    },
    {
      "cell_type": "markdown",
      "source": [
        "1) Definição de Probabilidade\n",
        "\n",
        "As origens da matemática da probabilidade remontam ao séc. XVI, com aplicações iniciais voltadas aos jogos de azar (o que acontece muito ainda hoje em dia).\n",
        "\n",
        "Contudo, a utilização dos conceitos de probabilidade ultrapassou e muito o âmbito de jogos.\n",
        "\n",
        "Hoje, governos, empresas e organizações profissionais incorporam a teoria das probabilidades em seus processos diários de deliberações.\n",
        "\n",
        "Independentemente da aplicação, o uso de probabilidade indica que existe um elemento de acaso ou incerteza, quanto à ocorrência ou não de eventos (eventos probabilísticos). Há muitos exemplos em que a probabilidade é usada:\n",
        "* Previsão de procura de um produto novo;\n",
        "* Cálculo dos custos de produção;\n",
        "* Previsão de compra de apólices de seguro.\n",
        "\n",
        "Essas e outras ocasiões possuem algum elemento de acaso. O ponto central em todas essas situações é a possibilidade de quantificar quão provável é determinado evento."
      ],
      "metadata": {
        "id": "9kGWLz_FzOup"
      }
    },
    {
      "cell_type": "markdown",
      "source": [
        "## A probabilidade de um evento\n",
        "\n",
        "Sempre que falamos de probabilidade, estamos associando-a a algum \"evento\" (chuva, lucro, lançamento de dado, etc.). Definimos a probabilidade de um evento A como *P(A)*, que deve ser um número entre 0 e 1, como a chance de ocorrência daquele evento.\n",
        "* Quanto mais próxima de 1, maior a chance de ocorrência de A;\n",
        "* Quanto mais próxima de 0, menor a chance de ocorrência de A.\n",
        "* Um evento impossível de ocorrer tem $P(A)=0$;\n",
        "* Um evento certo tem $P(A)=1$."
      ],
      "metadata": {
        "id": "Na4eiXiEJbM1"
      }
    },
    {
      "cell_type": "markdown",
      "source": [
        "2) Espaço amostral e Eventos\n",
        "\n",
        "Um dos conceitos mais importantes usado na teoria das probabilidades é o conceito de *conjunto*.\n",
        "\n",
        "**Conjunto**: Coleção de objetos ou itens com características comuns.\n",
        "* Os habitantes de uma cidade;\n",
        "* Os alunos da turma 850;\n",
        "* Uma remessa de uma refrigerante.\n",
        "\n",
        "Há dois modos de descrevermos os objetos de um conjunto:\n",
        "\n",
        "A primeira deles consiste em *relacionar* todos eles, incluindo-os em chaves.\n",
        "\n",
        "**Exemplo:** $conjunto A$ = {João, Samira, Daniel}.\n",
        "\n",
        "A segunda maneira consiste em enunciar uma regra que defina as características comuns aos membros:\n",
        "\n",
        "**Exemplo:** $conjunto B$ = {todos os alunos da sala 850}.\n",
        "\n",
        "Contudo, quando falamos de probabilidade, ela só tem sentido no contexto de um *espaço amostral* (conjunto de todos os resultados possíveis de um \"experimento\").\n",
        "\n",
        "O termo *experimento* sugere a incerteza do resultado antes de fazermos as observações e os resultados de um experimento, nós chamamos de eventos.\n",
        "* Jogar uma moeda 10x;\n",
        "* Extrair uma carta de um baralho.\n",
        "\n",
        "Podemos ainda considerar eventos como *combinações* desses eventos elementares. Por exemplo:\n",
        "* A probabilidade de sair uma \"carta de copas\";\n",
        "* Sair uma \"carta cinco\";\n",
        "* Sair uma carta vermelha.\n",
        "\n",
        "Os cálculos levam em conta a maneira como esses eventos se relacionam entre si.\n",
        "\n",
        "Algumas dessas relações podem ser descritas como: complemento, mutuamente excludentes e coletivamente exaustivo.\n",
        "* Complemento (A'): Todos os resultados possíveis do espaço amostral (S) que não façam parte do evento (A);\n",
        "* Eventos mutuamente excludentes: Não tem elemento em comum (carta de copas e carta de ouros --> não tem 1 ao mesmo tempo do mesmo tipo);\n",
        "* Coletivamente exaustivos: Se ao menos 1 tiver que ocorrer durante um dado experimento (carta preta ou vermelha).\n",
        "\n",
        "**Obs.:** Um evento (A) e seu complementar (A') são mutuamente excludentes e coletivamente exaustivos."
      ],
      "metadata": {
        "id": "dsA4ca3MKN50"
      }
    },
    {
      "cell_type": "markdown",
      "source": [
        "## Diagrama de Venn e a representação de eventos\n"
      ],
      "metadata": {
        "id": "Xz4qZ1m2Pa9b"
      }
    },
    {
      "cell_type": "markdown",
      "source": [
        "![](https://sergiogarrido.tripod.com/conteudo/estatistica/evento_complementar3.gif)"
      ],
      "metadata": {
        "id": "dFhZyAsoTeRu"
      }
    },
    {
      "cell_type": "markdown",
      "source": [
        "![](https://ellovarejo.com.br/wp-content/uploads/2020/12/mutualmente-exclusivo-1024x576.png)"
      ],
      "metadata": {
        "id": "lmJCVFQQTl6V"
      }
    },
    {
      "cell_type": "markdown",
      "source": [
        "![](http://s2.glbimg.com/p9VkbQFbZLKNfSbY5NXQT2JFU0o=/0x0:620x196/620x196/s.glbimg.com/po/ek/f/original/2014/05/30/fuvest_44.1.png)"
      ],
      "metadata": {
        "id": "ZI6Iz1GbToG-"
      }
    },
    {
      "cell_type": "markdown",
      "source": [
        "![](https://arquivos.respondeai.com.br/seo/2022/66a499ec-7879-4e6a-a313-a724309b39a8.webp)"
      ],
      "metadata": {
        "id": "XZNWDY0FXY-h"
      }
    },
    {
      "cell_type": "markdown",
      "source": [
        "## As 3 origens da probabilidade\n",
        "\n",
        "Antes de estudarmos como usar as probabilidades, é conveniente ter alguma ideia de sua origem.\n",
        "\n",
        "Há três maneiras diferentes de calcular ou estimar probabilidades: método clássico, empírico e o subjetivo."
      ],
      "metadata": {
        "id": "_oep5leqUlA_"
      }
    },
    {
      "cell_type": "markdown",
      "source": [
        "### Método clássico\n",
        "\n",
        "Aplica-se a situações que possuem *resultados igualmente prováveis*. Os jogos de azar usualmente apresentam tal característica.\n",
        "\n",
        "Quando os resultados são igualmente prováveis, a probabilidade de cada resultado é simplesmente uma função do número de resultados possíveis:\n",
        "\n",
        "$P(cada resultado) = 1/n° de resultados possíveis$.\n",
        "\n",
        "* P(cara) = 1/2;\n",
        "* P(1 dado) = 1/6."
      ],
      "metadata": {
        "id": "cJ6k0lLfU3Xj"
      }
    },
    {
      "cell_type": "markdown",
      "source": [
        "### Método Empírico\n",
        "\n",
        "Há muitos casos em que não ocorrem claramente resultados igualmente prováveis (ex.: moeda não equilibrada).\n",
        "\n",
        "Uma forma de lidar com essas situações é obter *dados empíricos*, buscando estimar a probabilidade.\n",
        "\n",
        "Com base na frequência observada de cada resultado, é possível calcular a probabilidade:\n",
        "\n",
        "$$\n",
        "P(A) = n° de ocorrências de A/ n° total de observações\n",
        "$$"
      ],
      "metadata": {
        "id": "Kd-gW4e7WOVA"
      }
    },
    {
      "cell_type": "markdown",
      "source": [
        "### Método Subjetivo\n",
        "\n",
        "Imagine que temos uma situação em que nem os resultados possíveis, nem dispomos de dados históricos.\n",
        "\n",
        "O jeito é realizar uma atribuição subjetiva de probabilidades.\n",
        "\n",
        "**Exemplo:** Você se apaixonará na próxima semana? Qual a nota receberá na próxima avaliação?\n",
        "\n",
        "Em tais casos, deve-se decidir qual é a \"probabilidade\" do evento sob as condições dadas.\n",
        "\n"
      ],
      "metadata": {
        "id": "1HqobCj3W7Ld"
      }
    },
    {
      "cell_type": "markdown",
      "source": [
        "3) Probabilidade condicional\n",
        "\n",
        "Antes de chegarmos no conceito de probabilidade condicional, primeiro vamos buscar entender como calcular a probabilidade de combinações de eventos.\n",
        "\n",
        "Há 2 categorias de combinações: podemos querer calcular a ocorrência de *ambos P(A e B)*  os eventos ou ainda a ocorrência de *A* ou *B P(A ou B)*\n",
        "\n",
        "### Cálculo da P(A e B)\n",
        "\n",
        "A probabilidade de 2 eventos é chamada de **probabilidade conjunta**, e seu cálculo difere, de acordo com o conceito de evento independente.\n",
        "\n",
        "**Evento independente:** Se a ocorrência de um não influencia a ocorrência de outro (lançamento de dados, sexo e QI).\n",
        "\n",
        "**Evento dependente:** O conhecimento da ocorrência de um pode auxiliar a predizer a ocorrência do outro (regar uma flor e esperar o seu crescimento, ver uma criança chorando, um copo caindo no chão).\n",
        "\n"
      ],
      "metadata": {
        "id": "7NInVMnLy1A0"
      }
    },
    {
      "cell_type": "markdown",
      "source": [
        "**Exemplo 1:** Jogam-se 2 moedas equilibradas. Qual a probabilidade de ambas darem cara?"
      ],
      "metadata": {
        "id": "Pu-W62LI1cYq"
      }
    },
    {
      "cell_type": "code",
      "source": [
        "P_A = 0.5\n",
        "P_B = 0.5\n",
        "\n",
        "P_A_e_B = P_A*P_B\n",
        "P_A_e_B"
      ],
      "metadata": {
        "colab": {
          "base_uri": "https://localhost:8080/"
        },
        "id": "NNCVdd54Tgp7",
        "outputId": "26a63692-90e0-49e0-fba2-fdb352cdc1ad"
      },
      "execution_count": null,
      "outputs": [
        {
          "output_type": "execute_result",
          "data": {
            "text/plain": [
              "0.25"
            ]
          },
          "metadata": {},
          "execution_count": 1
        }
      ]
    },
    {
      "cell_type": "markdown",
      "source": [
        "**Exemplo 2:** 1/3 dos eleitores de uma cidade é constituído por mulheres, e 40% dos eleitores votaram na última eleição presidencial. Supondo que sejam eventos independentes, determine a probabilidade de escolher aleatoriamente um eleitor da lista geral, que seja mulher e tenha votado na última eleição."
      ],
      "metadata": {
        "id": "-hz5enVj1Itd"
      }
    },
    {
      "cell_type": "code",
      "source": [
        "P_M = 1/3\n",
        "P_v = 0.4\n",
        "\n",
        "P_M_e_v = P_M*P_v\n",
        "P_M_e_v"
      ],
      "metadata": {
        "colab": {
          "base_uri": "https://localhost:8080/"
        },
        "id": "Rd9N-oR22LYt",
        "outputId": "d097666a-db88-4436-f6dd-5c27c7820c04"
      },
      "execution_count": null,
      "outputs": [
        {
          "output_type": "execute_result",
          "data": {
            "text/plain": [
              "0.13333333333333333"
            ]
          },
          "metadata": {},
          "execution_count": 2
        }
      ]
    },
    {
      "cell_type": "markdown",
      "source": [
        "Se 2 eventos são independentes, o cálculo de P(A e B) deve levar em conta este fato.\n",
        "\n",
        "Suponha agora que temos 2 urnas com fichas. A primeira contém 8 vermelhas e 2 brancas. A segunda contém 5 vermelhas e 5 brancas:\n",
        "\n",
        "\n",
        "| Urna | Vermelhas | Brancas | Total |\n",
        "|:----:|:---------:|:-------:|:-----:|\n",
        "|Y|8|2|10|\n",
        "|Z|5|5|10|"
      ],
      "metadata": {
        "id": "1NOkKGnZ2y5g"
      }
    },
    {
      "cell_type": "markdown",
      "source": [
        "Vamos extrair uma ficha de uma delas. Escolhendo a urna Y, a P(V) = 8/10. Se escolhermos a segunda, a P(V) = 5/10. Logo, P(V) depende de qual a urna escolhida. Assim, a **probabilidade condicional** de escolha de ficha vermelha, admitindo-se escolhida a urna Y, é 8/10.\n",
        "\n",
        "Simbolicamente, definimos a **probabilidade condicional** como P(vermelha|urna Y) ou P(V|Y)."
      ],
      "metadata": {
        "id": "4QyEX0Yp4ckm"
      }
    },
    {
      "cell_type": "markdown",
      "source": [
        "Supondo que as 2 urnas são indistinguíveis e a escolha por qualquer delas seja 0.5: P(Y) = P(Z) = 0.5.\n",
        "\n",
        "Qual a probabilidade de extrair uma ficha vermelha da urna Z?"
      ],
      "metadata": {
        "id": "J1oD-LvT5D5r"
      }
    },
    {
      "cell_type": "markdown",
      "source": [
        "$P(Z) = 0.5$\n",
        "\n",
        "$P(V|Z) = 0.5$\n",
        "\n",
        "$P(Z e V) = P(Z)*P(V|Z)$\n",
        "\n",
        "$P(Z e V) = 0.5*0.5 = 0.25$"
      ],
      "metadata": {
        "id": "NT_ixIsw5tse"
      }
    },
    {
      "cell_type": "markdown",
      "source": [
        "Como regra geral, podemos dizer que a probabilidade conjunta de 2 eventos dependentes é a probabilidade de uma multiplicada pela condicional do outro:\n",
        "\n",
        "$P(A e B) = P(A)*P(B|A) ou P(A e B) = P(B)*P(A|B)$"
      ],
      "metadata": {
        "id": "joGFRAbm55ov"
      }
    },
    {
      "cell_type": "markdown",
      "source": [
        "**Obs.1:** Se 2 eventos são mutuamente excludentes, ficha V e B, suas probabilidades condicionais são 0, pois, por definição, os 2 não podem ocorrer simultaneamente. Isto é,\n",
        "\n",
        "$P(V|B) = 0$\n",
        "\n",
        "e \n",
        "\n",
        "$P(B|V) = 0$"
      ],
      "metadata": {
        "id": "v2DjRB8-6MxG"
      }
    },
    {
      "cell_type": "markdown",
      "source": [
        "### Probabilidade de P(A ou B)\n",
        "\n",
        "Para determinar a P de um ou outro evento, aplica-se a regra de adição.\n",
        "\n",
        "**Obs.1:** O Cálculo depende se o evento é mutuamente excludente.\n",
        "\n",
        "Quando um evento é mutuamente excludente (não pode ocorrer os 2 conjuntamente), a probabilidade de ocorrência deles é a soma de suas probabilidades:\n",
        "\n",
        "$P(A ou B) = P(A)+P(B)$\n",
        "\n",
        "**Exemplo:** A probabilidade de aparecer 5 ou 6 em uma jogada de dado equilibrado."
      ],
      "metadata": {
        "id": "3U5kWfKQ8A98"
      }
    },
    {
      "cell_type": "code",
      "source": [
        "P_5 = 1/6\n",
        "P_6 = 1/6\n",
        "\n",
        "P_5_ou_6 = P_5+P_6\n",
        "P_5_ou_6"
      ],
      "metadata": {
        "colab": {
          "base_uri": "https://localhost:8080/"
        },
        "id": "rusUhggv2U2u",
        "outputId": "0003b2c9-7af8-4cf4-bf43-b511018cdaa3"
      },
      "execution_count": null,
      "outputs": [
        {
          "output_type": "execute_result",
          "data": {
            "text/plain": [
              "0.3333333333333333"
            ]
          },
          "metadata": {},
          "execution_count": 5
        }
      ]
    },
    {
      "cell_type": "markdown",
      "source": [
        "Quando os eventos não são mutuamente excludentes, é possível que tenha a ocorrência de ambos. Neste caso, precisamos considerá-la no cálculo.\n",
        "\n",
        "Suponha que você queira calcular a probabilidade de extração de uma carta de paus ou um 10 de um baralho.\n",
        "\n",
        "$P(paus ou dez) = P(paus)+P(dez)-P(paus)*P(dez)$"
      ],
      "metadata": {
        "id": "4JYlVXZX9P9y"
      }
    },
    {
      "cell_type": "markdown",
      "source": [
        "## Técnicas de Contagem\n",
        "\n",
        "Para utilizar o método clássico da probabilidade, é preciso conhecer o n° total de resultados possíveis de um evento, ou seja, o espaço amostral.\n",
        "\n",
        "Em geral, usamos técnicas de contagem para calcular esse número.\n",
        "\n",
        "A técnica mais primitiva é literalmente *listar* os resultados possíveis e um aprimoramento seria criar árvores de decisões.\n",
        "\n",
        "![](data:image/jpeg;base64,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)\n",
        "\n",
        "Contudo, quando estamos trabalhando com um grande número de resultados, essa listagem pode se tornar muito trabalhosa. Desse modo, é necessário recorrer a *fórmulas matemáticas* para determinar o n° de resultados possíveis."
      ],
      "metadata": {
        "id": "gbZCyqejAZ7I"
      }
    },
    {
      "cell_type": "markdown",
      "source": [
        "Suponha que um aluno esteja fazendo um teste com 20 questões de V ou F. Se esse aluno chutar todas as questões.\n",
        "* 1 questão: V ou F;\n",
        "* 2 questões: VV, VF, FV ou FF.\n",
        "\n",
        "O n° de resultados possíveis aumenta com o número de questões:\n",
        "\n",
        "| n° de questões | 1 | 2 | 3 | 4 |\n",
        "|:--------------:|:-:|:-:|:-:|:-:|\n",
        "| n° de resultados|2|4|8|16"
      ],
      "metadata": {
        "id": "xWtn_nSgCOBP"
      }
    },
    {
      "cell_type": "markdown",
      "source": [
        "### Princípio da Multiplicação\n",
        "\n",
        "Na tabela anterior, vimos que cada questão *dobra* o n° total de resultados possíveis, pois cada nova questão acrescenta mais 2 escolhas.\n",
        "\n",
        "A implicação é que, quando há certo número de decisões sequenciais a tomar (tais como responder V ou F a cada questão), o n° total de resultados possíveis será igual ao *produto* dos diversos modos de responder a questão:\n",
        "\n",
        "| n° de questões | Total de resultados |\n",
        "|:--------------:|:-------------------:|\n",
        "|1|2=2|\n",
        "|2|2x2=4|\n",
        "|3|2x2x2=8|\n",
        "|4|2x2x2x2=16|"
      ],
      "metadata": {
        "id": "Nthi8UyPED9S"
      }
    },
    {
      "cell_type": "markdown",
      "source": [
        "Logo, pelo princípio da multiplicação, há $2^{20}$ maneiras de responder as 20 questões de V ou F.\n",
        "\n",
        "De modo geral, se há *n* decicões sequenciais, cada uma com *m* escolhas, o n° total de resultados possíveis é $m^n$.\n",
        "\n",
        "Assim, a probabilidade de o estudante acertar todas as 20 questões é:"
      ],
      "metadata": {
        "id": "rifpwdjdTYsK"
      }
    },
    {
      "cell_type": "code",
      "source": [
        "1/(2^20)"
      ],
      "metadata": {
        "colab": {
          "base_uri": "https://localhost:8080/"
        },
        "id": "mfi0OVXr5sN2",
        "outputId": "f736a7c1-d7da-4dd4-9368-2cdaad4aa216"
      },
      "execution_count": null,
      "outputs": [
        {
          "output_type": "execute_result",
          "data": {
            "text/plain": [
              "0.045454545454545456"
            ]
          },
          "metadata": {},
          "execution_count": 6
        }
      ]
    },
    {
      "cell_type": "markdown",
      "source": [
        "### Permutações, Arranjos e Combinações\n",
        "\n",
        "Quando a *ordem* em que todos os elementos se dispõem é importante, o n° total de resultados possíveis é conhecido como **aranjo** ou **permutação**.\n",
        "\n",
        "Quando a *ordem* não interessa, o n° total de resultados possíveis é designado como **combinação**.\n",
        "\n",
        "Consideremos primeiro as permutações. Suponhamos que haja 4 times de futebol em um torneio. De quantas maneiras pode apresentar-se o resultado final?\n",
        "\n",
        "Imaginando 4 compartimentos a preencher: 1°, 2°, 3° e 4°.\n",
        "\n",
        "|1°|2°|3°|4°|n° resultados possíveis|\n",
        "|:-:|:-:|:-:|:-:|:-:|\n",
        "|4x|3x|2x|1|=24|"
      ],
      "metadata": {
        "id": "gsWpviuxEkEb"
      }
    },
    {
      "cell_type": "markdown",
      "source": [
        "**Obs.1:** Cada decisão envolve uma escolha menos que a anterior.\n",
        "\n",
        "**Obs.2:** Uma forma abreviada de escrever o produto acima é com emprego do símbolo \"!\".\n",
        "\n",
        "**Obs.3:** O fatorial de zero é um: 0!=1. Uma explicação intuitiva é a seguinte: se houver certo n° de cadeiras vazias, quantos arranjos de *assentos* são possíveis, se não há ninguém para se sentar? **Resposta:** um (1), com todas as cadeiras vazias."
      ],
      "metadata": {
        "id": "E-OTakSxkVr6"
      }
    },
    {
      "cell_type": "markdown",
      "source": [
        "### Arranjos\n",
        "\n",
        "Se há 7 cavalos num páreo, quantos arranjos há considerando 1°, 2° e 3° lugares?"
      ],
      "metadata": {
        "id": "rVsVW1wIlAqM"
      }
    },
    {
      "cell_type": "code",
      "source": [
        "#Pelo princípio da multiplicação:\n",
        "7*6*5"
      ],
      "metadata": {
        "colab": {
          "base_uri": "https://localhost:8080/"
        },
        "id": "xa4bnEh2T3Bp",
        "outputId": "9fb60230-3423-4ded-fc27-af0a1b0f82c7"
      },
      "execution_count": null,
      "outputs": [
        {
          "output_type": "execute_result",
          "data": {
            "text/plain": [
              "210"
            ]
          },
          "metadata": {},
          "execution_count": 1
        }
      ]
    },
    {
      "cell_type": "code",
      "source": [
        "#Usando arranjos: Com 7 itens, quantos arranjos de 3 são possíveis?"
      ],
      "metadata": {
        "id": "QOYnaon3ljVH"
      },
      "execution_count": null,
      "outputs": []
    },
    {
      "cell_type": "markdown",
      "source": [
        "![](https://static.mundoeducacao.uol.com.br/mundoeducacao/2021/07/formula-do-arranjo-simples.jpg)"
      ],
      "metadata": {
        "id": "gqbjWB5Gl1wM"
      }
    },
    {
      "cell_type": "code",
      "source": [
        "from itertools import permutations, combinations"
      ],
      "metadata": {
        "id": "ejGFNYgml-t2"
      },
      "execution_count": null,
      "outputs": []
    },
    {
      "cell_type": "code",
      "source": [
        "perm = permutations(range(1,8),3)"
      ],
      "metadata": {
        "id": "6kfNEX6umb23"
      },
      "execution_count": null,
      "outputs": []
    },
    {
      "cell_type": "code",
      "source": [
        "tamanho = 0\n",
        "# imprime as permutações\n",
        "for i in list(perm):\n",
        "  tamanho=tamanho+1"
      ],
      "metadata": {
        "id": "8hiao2L9mgkr"
      },
      "execution_count": null,
      "outputs": []
    },
    {
      "cell_type": "code",
      "source": [
        "tamanho"
      ],
      "metadata": {
        "colab": {
          "base_uri": "https://localhost:8080/"
        },
        "id": "yPsnO5LQmnPq",
        "outputId": "f8ca51b0-34e7-47f8-eaf8-9cbd8d6d1c87"
      },
      "execution_count": null,
      "outputs": [
        {
          "output_type": "execute_result",
          "data": {
            "text/plain": [
              "210"
            ]
          },
          "metadata": {},
          "execution_count": 28
        }
      ]
    },
    {
      "cell_type": "markdown",
      "source": [
        "Em alguns casos os itens são idênticos, ou *indistinguíveis* entre si.\n",
        "\n",
        "Suponha, por exemplo, que 3 moedas de 10 centavos e 2 de vinte são lançadas.\n",
        "\n",
        "Ao menos que queiramos diferenciar as moedas por suas datas de cunhagem ou outra característica qualquer, as 3 de 10 são idênticas (as 2 de vinte também).\n",
        "\n",
        "Em razão disso, nem todas as permutações serão distintas. Uma permutação seria DDDVV. A troca de 2 moedas de 20 entre si não modifica a permutação. Assim é que algumas permutações se perdem, devendo, por isso, ser deduzidas do n° total, pois o conceito básico de permutação é que cada grupamento seja diferente dos demais.\n",
        "\n",
        "Se identificarmos as moedas como D1, D2, D3, V1 e V2, veremos que há 2! permutações das 2 moedas de 20 centavos e 3! das três moedas de 10 centavos.\n",
        "\n",
        "Além disso, há 3!(2!) permutações quando se consideram em conjunto os 2 tipos de moeda.\n",
        "\n",
        "Tais permutações devem ser removidas do n° total, para obter o n° de *permutações com repetição (distinguíveis)*.\n",
        "\n",
        "Como? Dividindo o n° total pelo n° de perdas."
      ],
      "metadata": {
        "id": "zEGI3RnAnjRe"
      }
    },
    {
      "cell_type": "code",
      "source": [
        "(5*4*3*2*1)/((3*2*1)*(2*1))"
      ],
      "metadata": {
        "colab": {
          "base_uri": "https://localhost:8080/"
        },
        "id": "yhUJ_MSEnDi2",
        "outputId": "84c860f6-b455-45fc-bfbb-ab0a661c34cf"
      },
      "execution_count": null,
      "outputs": [
        {
          "output_type": "execute_result",
          "data": {
            "text/plain": [
              "10.0"
            ]
          },
          "metadata": {},
          "execution_count": 31
        }
      ]
    },
    {
      "cell_type": "markdown",
      "source": [
        "### Combinação\n",
        "\n",
        "Quando a ordem não interessa, usa-se o termo \"combinação\", denotando o n° de grupamentos distintos possíveis.\n",
        "\n",
        "**Exemplo 1:** A escolha dos membros de um comitê.\n",
        "\n",
        "**Exemplo 2:** Escolha de 2 tipos de vegetal de um cardápio de 5.\n",
        "\n",
        "![](https://static.mundoeducacao.uol.com.br/mundoeducacao/2021/06/formula-da-combinacao-simples-escrita-em-quadro-negro.jpg)\n"
      ],
      "metadata": {
        "id": "0kP4mbxPrh7c"
      }
    },
    {
      "cell_type": "markdown",
      "source": [
        "5) Teorema de Bayes\n",
        "\n",
        "A regra ou Teorema de Bayes é um método de revisão de probabilidades existentes (*a priori*) com base em informação amostral.\n",
        "\n",
        "Considere um gerente que, em dada manhã, sai de casa apressado para o trabalho e apanha na cozinha uma de 3 sacolas. Ao entrar na via expressa, ocorre-lhe a ideia de que pode ter apanhado a errada. Uma delas contém seu almoço (2 sanduíches de presunto). A outra contém o almoço de sua filha (um sanduíche de presunto e um de amendoim, que ele detesta) e a última, contém lixo.\n",
        "\n",
        "Após um momento de reflexão, ele convence de que a probabilidade de ter feito a escolha correta é de apenas 1/3.\n",
        "\n",
        "Ao abrir a sacola, ele tira um sanduíche de presunto. Com iso, ele pode pelo menos estar certo de que não pegou a sacola de lixo.\n",
        "\n",
        "O tráfego para e ele resolve determinar a probabilidade de ter apanhado a sacola correta. Recorda então que a probabilidade é definida como a razão entre o n° de resultados favoráveis e o total possível. Raciocina que, se apanhou realmente o seu almoço, então há 2 maneiras de ober um sanduíche de presunto. Ao contrário, se apanhou a da filha, há apenas 1 maneira de obter o de presunto. Logo, há *3 maneiras* de ele obter um sanduíche de presunto, 2 das quais podem ser consideradas favoráveis. Nesta altura, a probabilidade de ele ter apanhado a sacola correta é 2/3, dada a evidência amostral.\n",
        "\n",
        "**Obs.1:** Se não tivesse a sacola de lixo? Ainda seria 2/3, pois a evidência amostral é a mesma.\n",
        "\n",
        "**Obs.2:** O gerente empregou intuitivamente o Teorema de Bayes para determinar a p de ter escohido a sacola do seu almoço.\n",
        "\n",
        "Se um evento pode ocorrer de mais de uma maneira, então a probabilidade de ocorrência de uma determinada maneira seria a razão da probabilidade de ocorrência daquela maneira para a probabilidade de ocorrência de qualquer modo.\n",
        "\n",
        "No exemplo, a probabilidade de obter um sanduíche de preseunto é a probabilidade de escolher a primeira sacola e obter o sanduíche de presunto + a probabilidade de escolher a segunda e obter um sanduíche de presunto + a probabilidade de escolher a terceira e obter um sanduíche de presunto.\n",
        "\n",
        "Assim, a probabilidade *a posteriori* de ele ter escolhido a sacola correta é:\n",
        "\n",
        "$P(lanche correto) = P(sacola correta e presunto)/P(presunto)$\n",
        "\n",
        "Podemos escrever isso de forma mais detalhada:\n",
        "\n",
        "$P(lanche correto|sanduíche de preseunto)=P(sanduíche de presunto da sacola correta)/P(todas as maneiras de obter preseunto)$ \n"
      ],
      "metadata": {
        "id": "oe4QDvG8t1jx"
      }
    },
    {
      "cell_type": "markdown",
      "source": [
        "Uma tabulação permite visualizar melhor:\n",
        "\n",
        "|sacola|presunto|amendoim|lixo|\n",
        "|:----:|:------:|:------:|:--:|\n",
        "|Sua sacola|2|-|-|\n",
        "|sacola da filha|1|1|-|\n",
        "|lixeira|-|-|1|"
      ],
      "metadata": {
        "id": "uUfl-Oxiyzwf"
      }
    },
    {
      "cell_type": "markdown",
      "source": [
        "Exercícios: Sejam 4 urnas com bolas coloridas, contendo 10 bolas cada uma.\n",
        "\n",
        "A tabela abaixo discrimina a composição das urnas.\n",
        "\n",
        "|urna|vermelha|branca|azul|total|\n",
        "|:--:|:------:|:----:|:--:|:---:|\n",
        "|A|1|6|3|10|\n",
        "|B|6|2|2|10|\n",
        "|C|8|1|1|10|\n",
        "|D|0|6|4|10|"
      ],
      "metadata": {
        "id": "YOd_H2Xv1ZK4"
      }
    },
    {
      "cell_type": "markdown",
      "source": [
        "Escolheu-se arbitrariamente uma das urnas e extraiu-se uma bola. Se a bola é vermelha, qual é a probabilidade de ter sido extraída da urna B?"
      ],
      "metadata": {
        "id": "V4TfMV_dPgug"
      }
    },
    {
      "cell_type": "code",
      "source": [],
      "metadata": {
        "id": "PsnnIZkDvxI2"
      },
      "execution_count": null,
      "outputs": []
    },
    {
      "cell_type": "code",
      "source": [],
      "metadata": {
        "id": "roI_mrrGvxEb"
      },
      "execution_count": null,
      "outputs": []
    },
    {
      "cell_type": "code",
      "source": [],
      "metadata": {
        "id": "A44QEBSVqtKI"
      },
      "execution_count": null,
      "outputs": []
    }
  ]
}
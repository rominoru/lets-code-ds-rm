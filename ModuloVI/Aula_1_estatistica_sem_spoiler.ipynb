{
  "cells": [
    {
      "cell_type": "markdown",
      "metadata": {
        "id": "5M6ebIiZ5gRl"
      },
      "source": [
        "## 📍 Tópicos de Hoje 📍\n",
        "<br>\n",
        "\n",
        "1 [Tipos de Variáveis (Quantitativas e Qualitativas)](#um)\n",
        "\n",
        "2 [Métricas de Posição (média, mediana e moda)](#dois)\n",
        "\n",
        "3 [Quartis e Interpretação por BoxPlot](#três)\n",
        "\n",
        "4 [Identificação de Anomalias (Outliers)](#quatro)\n",
        "\n",
        "5 [Métricas de Dispersão (amplitude, variância, covariância e desvio padrão)](#cinco)\n",
        "\n",
        "6 [Correlação](#seis)\n",
        "\n",
        "7 [Tabela de Frequências (absoluta, relativa e percentual)](#sete)"
      ]
    },
    {
      "cell_type": "code",
      "execution_count": 11,
      "metadata": {},
      "outputs": [],
      "source": [
        "import matplotlib.pyplot as plt\n",
        "import pandas as pd\n",
        "import numpy as np\n",
        "from sklearn import datasets"
      ]
    },
    {
      "cell_type": "code",
      "execution_count": 13,
      "metadata": {},
      "outputs": [],
      "source": []
    },
    {
      "cell_type": "markdown",
      "metadata": {
        "id": "WQo7T30X5tv6"
      },
      "source": [
        "## 1) Tipos de Variáveis (Quantitativas e Qualitativas) <a class=\"anchor\" id=\"um\"></a>"
      ]
    },
    {
      "cell_type": "markdown",
      "metadata": {},
      "source": [
        "Quando coletamos informações, em geral, realizamos uma **amostragem** (tópico de outra aula).\n",
        "\n",
        "Essas informações vão muito além do que números ou palavras, trazendo consigo características e contextos fundamentais para as nossas futuras análises e modelos.\n",
        "\n",
        "Cada uma dessas características coletadas (peso, altura, idade, sexo) é chamada de **variável**.\n",
        "\n",
        "As variáveis podem ser:\n"
      ]
    },
    {
      "cell_type": "markdown",
      "metadata": {},
      "source": [
        "!['Imagem'](https://miro.medium.com/max/1400/0*rxxyee4xr8HD1O6N.png)"
      ]
    },
    {
      "cell_type": "markdown",
      "metadata": {},
      "source": [
        "* **Discreta**: apenas valores inteiros (n° irmãos, filhos, passageiros);\n",
        "* **Contínuas**: Qualquer valor no intervalo de n° reais (peso, altura, salário);\n",
        "* **Nominais**: Categorias sem ordem (nome, sexo, cores);\n",
        "* **Ordinais**: Categorias com ordem (tamanho: P, M, G; classe social: baixa, média, alta; grau de instrução: básico, fundamental, médio, superior)."
      ]
    },
    {
      "cell_type": "code",
      "execution_count": 15,
      "metadata": {},
      "outputs": [],
      "source": [
        "df_titanic = pd.read_csv('Titanic_data.csv')"
      ]
    },
    {
      "cell_type": "code",
      "execution_count": 16,
      "metadata": {},
      "outputs": [
        {
          "name": "stdout",
          "output_type": "stream",
          "text": [
            "<class 'pandas.core.frame.DataFrame'>\n",
            "RangeIndex: 891 entries, 0 to 890\n",
            "Data columns (total 12 columns):\n",
            " #   Column       Non-Null Count  Dtype  \n",
            "---  ------       --------------  -----  \n",
            " 0   PassengerId  891 non-null    int64  \n",
            " 1   Survived     891 non-null    int64  \n",
            " 2   Pclass       891 non-null    int64  \n",
            " 3   Name         891 non-null    object \n",
            " 4   Sex          891 non-null    object \n",
            " 5   Age          714 non-null    float64\n",
            " 6   SibSp        891 non-null    int64  \n",
            " 7   Parch        891 non-null    int64  \n",
            " 8   Ticket       891 non-null    object \n",
            " 9   Fare         891 non-null    float64\n",
            " 10  Cabin        204 non-null    object \n",
            " 11  Embarked     889 non-null    object \n",
            "dtypes: float64(2), int64(5), object(5)\n",
            "memory usage: 83.7+ KB\n"
          ]
        }
      ],
      "source": [
        "df_titanic.info"
      ]
    },
    {
      "cell_type": "markdown",
      "metadata": {},
      "source": [
        "O conjunto de treinamento tem 891 exemplos e 11 características + a variável de destino (Survived) . 2 dos recursos são floats, 5 são inteiros e 5 são objetos. Abaixo listei os recursos com uma breve descrição:\n",
        "\n",
        "* survival: Sobrevivente\n",
        "* PassengerId: ID único de um passageiro\n",
        "* Pclass: Classe de bilhetes\n",
        "* Sex: Sexo\n",
        "* Age: Idade em anos\n",
        "* Sibsp: Número de irmãos / cônjuges a bordo do Titanic\n",
        "* Parch: Número de pais / filhos a bordo do Titanic\n",
        "* Ticket: Numero do bilhete\n",
        "* Fare: Tarifa de passageiros\n",
        "* Cabin: Número de cabine\n",
        "* Embarked: Porto de embarcação"
      ]
    },
    {
      "cell_type": "code",
      "execution_count": null,
      "metadata": {},
      "outputs": [],
      "source": []
    },
    {
      "cell_type": "code",
      "execution_count": null,
      "metadata": {},
      "outputs": [],
      "source": []
    },
    {
      "cell_type": "code",
      "execution_count": null,
      "metadata": {},
      "outputs": [],
      "source": []
    },
    {
      "cell_type": "code",
      "execution_count": null,
      "metadata": {},
      "outputs": [],
      "source": []
    },
    {
      "cell_type": "code",
      "execution_count": null,
      "metadata": {},
      "outputs": [],
      "source": []
    },
    {
      "cell_type": "code",
      "execution_count": null,
      "metadata": {},
      "outputs": [],
      "source": []
    },
    {
      "cell_type": "markdown",
      "metadata": {},
      "source": [
        "## 2) Métricas de Posição (média, mediana e moda) <a class=\"anchor\" id=\"dois\"></a>"
      ]
    },
    {
      "cell_type": "markdown",
      "metadata": {},
      "source": [
        "**Média (mean, average):** Demonstra a concentração dos dados de uma distribuição. É como se fosse o ponto de equilíbrio da distribuição e pode ser calculada por:\n",
        "\n",
        "!['média'](https://miro.medium.com/max/628/1*U9LeYbNWJt0YERVo4KU61w.png)"
      ]
    },
    {
      "cell_type": "code",
      "execution_count": 54,
      "metadata": {},
      "outputs": [
        {
          "data": {
            "text/plain": [
              "29.69911764705882"
            ]
          },
          "execution_count": 54,
          "metadata": {},
          "output_type": "execute_result"
        }
      ],
      "source": []
    },
    {
      "cell_type": "code",
      "execution_count": 51,
      "metadata": {},
      "outputs": [
        {
          "data": {
            "text/plain": [
              "29.69911764705882"
            ]
          },
          "execution_count": 51,
          "metadata": {},
          "output_type": "execute_result"
        }
      ],
      "source": []
    },
    {
      "cell_type": "markdown",
      "metadata": {},
      "source": [
        "**Moda:** Representa o(s) valores mais comuns dos dados:\n",
        "* Unimodal: 1 único valor;\n",
        "* Bimodal: 2 valores;\n",
        "* Multimodal: Mais de 2 valores como os que mais aparecem;\n",
        "* Amodal: Não existe moda.\n"
      ]
    },
    {
      "cell_type": "code",
      "execution_count": 55,
      "metadata": {},
      "outputs": [
        {
          "data": {
            "text/plain": [
              "0    24.0\n",
              "Name: Age, dtype: float64"
            ]
          },
          "execution_count": 55,
          "metadata": {},
          "output_type": "execute_result"
        }
      ],
      "source": []
    },
    {
      "cell_type": "markdown",
      "metadata": {},
      "source": [
        "**Mediana**: É o ponto médio, que divide os dados em 50% maiores e 50% maiores do que ele. É também conhecido como o 2°quartil (uma medida separatriz).\n",
        "* Primeiro quartil (designado por Q1) = quartil inferior = é o valor aos 25% da amostra ordenada = 25º percentil;\n",
        "* Segundo quartil (designado por Q2) = mediana = é o valor até ao qual se encontra 50% da amostra ordenada = 50º percentil, ou 5º decil;\n",
        "* Terceiro quartil (designado por Q3) = quartil superior = valor a partir do qual se encontram 25% dos valores mais elevados = valor aos 75% da amostra ordenada = 75º percentil."
      ]
    },
    {
      "cell_type": "code",
      "execution_count": 56,
      "metadata": {},
      "outputs": [
        {
          "data": {
            "text/plain": [
              "count    714.000000\n",
              "mean      29.699118\n",
              "std       14.526497\n",
              "min        0.420000\n",
              "25%       20.125000\n",
              "50%       28.000000\n",
              "75%       38.000000\n",
              "max       80.000000\n",
              "Name: Age, dtype: float64"
            ]
          },
          "execution_count": 56,
          "metadata": {},
          "output_type": "execute_result"
        }
      ],
      "source": []
    },
    {
      "cell_type": "markdown",
      "metadata": {},
      "source": [
        "## 3) Quartis e Interpretação por BoxPlot <a class=\"anchor\" id=\"três\"></a>"
      ]
    },
    {
      "cell_type": "code",
      "execution_count": 57,
      "metadata": {},
      "outputs": [
        {
          "data": {
            "text/plain": [
              "<AxesSubplot:>"
            ]
          },
          "execution_count": 57,
          "metadata": {},
          "output_type": "execute_result"
        },
        {
          "data": {
            "image/png": "[encoded data removed]",
            "text/plain": [
              "<Figure size 432x288 with 1 Axes>"
            ]
          },
          "metadata": {
            "needs_background": "light"
          },
          "output_type": "display_data"
        }
      ],
      "source": []
    },
    {
      "cell_type": "markdown",
      "metadata": {},
      "source": [
        "## 4) Identificação de Anomalias (Outliers) <a class=\"anchor\" id=\"quatro\"></a>"
      ]
    },
    {
      "cell_type": "markdown",
      "metadata": {},
      "source": [
        "*Outlier* são dados diferentes dos outros pontos que podem causar problemas em procedimentos estatísticos (mudar uma média).\n",
        "\n",
        "**Exemplo:** Mudar uma idade e ver a média.\n",
        "\n",
        "* Solução 1: Ordenar os dados para encontrar outliers;\n",
        "* Solução 2: Utilizar gráficos: dispersão, boxplot;\n",
        "* Solução 3: Utilizar IQR para encontrar;\n",
        "* Solução 4: Utilizar o Z-score.\n"
      ]
    },
    {
      "cell_type": "markdown",
      "metadata": {},
      "source": [
        "## 5) Métricas de Dispersão (amplitude, variância, covariância e desvio padrão <a class=\"anchor\" id=\"cinco\"></a>"
      ]
    },
    {
      "cell_type": "markdown",
      "metadata": {},
      "source": [
        "**Amplitude**: A diferença entre o maior e o menor valor de um conjunto de dados."
      ]
    },
    {
      "cell_type": "code",
      "execution_count": 58,
      "metadata": {},
      "outputs": [
        {
          "data": {
            "text/plain": [
              "79.58"
            ]
          },
          "execution_count": 58,
          "metadata": {},
          "output_type": "execute_result"
        }
      ],
      "source": [
        "#Amplitude:\n"
      ]
    },
    {
      "cell_type": "markdown",
      "metadata": {},
      "source": [
        "**Amplitude Interquartil:** Diferença entre o 1° e o 3° interquartil."
      ]
    },
    {
      "cell_type": "code",
      "execution_count": 59,
      "metadata": {},
      "outputs": [
        {
          "data": {
            "text/plain": [
              "<AxesSubplot:>"
            ]
          },
          "execution_count": 59,
          "metadata": {},
          "output_type": "execute_result"
        },
        {
          "data": {
            "image/png": "[encoded data removed]",
            "text/plain": [
              "<Figure size 432x288 with 1 Axes>"
            ]
          },
          "metadata": {
            "needs_background": "light"
          },
          "output_type": "display_data"
        }
      ],
      "source": [
        "#Boxplot e describe"
      ]
    },
    {
      "cell_type": "code",
      "execution_count": 61,
      "metadata": {},
      "outputs": [],
      "source": [
        "#Encontrando o primeiro quartil (quantile - 0.25)\n",
        "\n",
        "#Encontrando o terceiro quartil (quantile - 0.75)\n"
      ]
    },
    {
      "cell_type": "code",
      "execution_count": 63,
      "metadata": {},
      "outputs": [
        {
          "data": {
            "text/plain": [
              "17.875"
            ]
          },
          "execution_count": 63,
          "metadata": {},
          "output_type": "execute_result"
        }
      ],
      "source": []
    },
    {
      "cell_type": "markdown",
      "metadata": {},
      "source": [
        "**Variância:** Mede o quanto os dados estão dispersos com relação à média. É calculada da seguinte forma:\n",
        "\n",
        "!['Variância'](https://miro.medium.com/max/996/1*7BEyGiM3JHEEmU2XTB1zZA.png)"
      ]
    },
    {
      "cell_type": "code",
      "execution_count": 85,
      "metadata": {},
      "outputs": [],
      "source": []
    },
    {
      "cell_type": "code",
      "execution_count": 86,
      "metadata": {},
      "outputs": [
        {
          "data": {
            "text/plain": [
              "150456.63594411768"
            ]
          },
          "execution_count": 86,
          "metadata": {},
          "output_type": "execute_result"
        }
      ],
      "source": []
    },
    {
      "cell_type": "code",
      "execution_count": 88,
      "metadata": {},
      "outputs": [
        {
          "data": {
            "text/plain": [
              "210.7235797536662"
            ]
          },
          "execution_count": 88,
          "metadata": {},
          "output_type": "execute_result"
        }
      ],
      "source": []
    },
    {
      "cell_type": "markdown",
      "metadata": {},
      "source": [
        "**Desvio-padrão**: mais utilizado por estar na unidade dos dados. É a raiz quadrada da variância.\n",
        "\n",
        "!['Desvio-padrão'](https://miro.medium.com/max/1152/1*qPMBPNKhZvuPIBN1BQLV7w.png)\n"
      ]
    },
    {
      "cell_type": "code",
      "execution_count": 89,
      "metadata": {},
      "outputs": [
        {
          "data": {
            "text/plain": [
              "14.516321150817317"
            ]
          },
          "execution_count": 89,
          "metadata": {},
          "output_type": "execute_result"
        }
      ],
      "source": []
    },
    {
      "cell_type": "markdown",
      "metadata": {},
      "source": [
        "**Coeficiente de variação:** Variabilidade dos dados em relação à média.\n",
        "\n",
        "**Desvio-padrão** é menor (CV<100%) ou maior (CV>100%) do que a média.\n",
        "\n",
        "!['Coeficiente de Variação'](https://www.questoesestrategicas.com.br//imgs//?i=lAhgne6HtltF2uKrJPYUvB2i0W7KTGqTYsaFKn3c5BM)\n"
      ]
    },
    {
      "cell_type": "code",
      "execution_count": 90,
      "metadata": {},
      "outputs": [
        {
          "data": {
            "text/plain": [
              "count    714.000000\n",
              "mean      29.699118\n",
              "std       14.526497\n",
              "min        0.420000\n",
              "25%       20.125000\n",
              "50%       28.000000\n",
              "75%       38.000000\n",
              "max       80.000000\n",
              "Name: Age, dtype: float64"
            ]
          },
          "execution_count": 90,
          "metadata": {},
          "output_type": "execute_result"
        }
      ],
      "source": []
    },
    {
      "cell_type": "code",
      "execution_count": 91,
      "metadata": {},
      "outputs": [
        {
          "data": {
            "text/plain": [
              "count    891.000000\n",
              "mean      32.204208\n",
              "std       49.693429\n",
              "min        0.000000\n",
              "25%        7.910400\n",
              "50%       14.454200\n",
              "75%       31.000000\n",
              "max      512.329200\n",
              "Name: Fare, dtype: float64"
            ]
          },
          "execution_count": 91,
          "metadata": {},
          "output_type": "execute_result"
        }
      ],
      "source": []
    },
    {
      "cell_type": "code",
      "execution_count": 92,
      "metadata": {},
      "outputs": [
        {
          "data": {
            "text/plain": [
              "0.48912216854386054"
            ]
          },
          "execution_count": 92,
          "metadata": {},
          "output_type": "execute_result"
        }
      ],
      "source": []
    },
    {
      "cell_type": "code",
      "execution_count": 94,
      "metadata": {},
      "outputs": [
        {
          "data": {
            "text/plain": [
              "1.543072538843371"
            ]
          },
          "execution_count": 94,
          "metadata": {},
          "output_type": "execute_result"
        }
      ],
      "source": []
    },
    {
      "cell_type": "markdown",
      "metadata": {},
      "source": [
        "**Covariância:** A covariância é uma medida estatística onde é possível comparar duas variáveis, permitindo entender como elas se relacionam entre si.\n",
        "\n",
        "!['Covariância'](data:image/png;base64,iVBORw0KGgoAAAANSUhEUgAAAP4AAACDCAMAAACa9FZ8AAAAM1BMVEX///8AAABHR0eJiYnDw8Ps7OzQ0NARERF6eno0NDRpaWmnp6fd3d0jIyOYmJi1tbVXV1fNYgqLAAAHtElEQVR4nO1d2YKrIAwVkFVQ//9rLwE3NpfptL2jnLexmiaQDSxnmqai4pfBjKQYiW+r8S30DClN8LfV+BoGrhvx2NlvxNg0Zvi2Fl+D7BuN9FOnnyLWUG7Yt/WoeAuoIt9W4YsgHD3YfNE1TzbfIm9+jzK4Y/dTmH2Jog+oepL5miMUljvKH2R+MyBkaHBFPcn8RiA0Bhf6R5kP4d9/UpOvoGx+Gv73A93J52n43wwdtuXcFAfAhr/6pDr/G2z4d+nVn+/+kHETTT8UE8h4L2z48/jLqITVv4AmkFrfaS8JbPk8nE6MfX6wFfVaQ7nKeDts+Mso/LHf+zCQFkTOOXbB5mzqxPRuF5Um33FSxvthZznc6um4V5Vwq7e5Pg8Cb8UYaC36a9YvMhIwZdBlh9yHdP65+XtKhtpelgerxQ5ZuxQPrmk/dZMY+JDxPevhe6wgFl7LTn+HCH1pW5akiR7CX0faOEiljsqCMHBf2Ds2hmzEDGjQ+1tpA7LfLsIh9DJitBCJAyoJIuvSNT9r49CSNnHEIbi9XVyri3riDDDcEX8ZxlsxXMn9AIIg88/EMpJvCwQfYx0O/zftRz7q5LZxm9/6ZXRV3BLjVd6kAlie6OO0XMSocHTSKXK3Z4cwAnVqkp+nRa2kFIn5jG99nMx6i1GZA3kMLO9RXDnwVkyUGVJwAoKiNw058/04j9z5a2/nlhiop8s4/sz5qQyuzNPWSTpMA81Lb0E6uBfDIM0KLaovs298BI2ljKXBKGLjvwOfIpOj5sx3g61dmzpKm3KEv3KUnrfIpD4V9j2TLzO4yg9SH2S+wWeISaFF9Tkk9NFWI2Q+zcFFRvvcINkqI4ZRjfZzZSuDgkjApFGvtUh91Nho9zfjEPcYKlZb7tjs563CgnWrQo335kkMtBUugaCdfN3qUUhKbLNHGaYbGTGYRFz5G5RvDAfzovUsebkNBZtx8LGWu5nFxflDGCkqvAQ1d6psW/fJlCbL7T/GCLMBgd1SzNYftX0UT8714oYFNTK+1MVNiilVGraZ0kWhecssFFN+18JX6WRZfR9suzHD/HiyOO1eBOZpHcShP+ii3/br0C0KRT3/jJ0hXA1Y0uPB5NsomXILOSor+yC5HoKGubTDrOBh6xytCm1XfKsYjWgh83fr4FLez9J2A1pDlcGQTdpSiZvQc0OZKd7TFj4JItXHZQ7jfNuqUGG9r4vvkNcuywtofnG93/Ut6oVNTvmP77mxv0ULuZsUzJfRRh/91ZXk/4AeLBqT7O4g4gQz3M58Z7nJpp0hqZnJePx52D5xs4LfgiUdre1yPqHSB0Fhhrtcb0Bl7g335zV8K9yajSCqkuZG5Ky/m/ku5zOe+d0ezll/tL6vqKi4A6LVYv/a6ulvox3Hu+X9fRBY7i07o9ouD76t0WcRdfgPMz/exXmY+Z17u7K+FniY+Yp0gfcnb2vuDRFscbd3/U1vRUVFRUVFRUVFRUVFRUVFxQYUcy1Q/scRD0CnDW4ftge4BUVDMzx29puBN416KqvLTOojHrUFvIHs4XevHztVV/FeVBqbb+vwPVQam3Pm35bW5uTs35XW5qT5d6W1ORv7N6W1OZ367klrcz7z35LW5rz5v0Br80rJeEu52aOxiXE7WpsDGpsYldYmw1zyAzqaV+hsPkhjEyNDa+NZbSAvtJ7bZgeudxrglMRlOhvsCFW68NmPI6W1mY6mdlAVjvhotCudEkbwKp0N8xus4bOfR0xrMx9MdgdOD/logNqDef+5SmfjSB/CZ+3f1inMR6txRGszs9o0SjbDLh8NoENU85nG4BqdDTDZUBM86+gUdP5U3m+gzZzlCWlt1jNxAxqOqZ0p6hfalot0NtR6XfjsxF5BSrP/4oksQhqscXKOM6C12bC0mDMRuSF/uUhn04xyZQ2aqSz4Jfan7Fm18vm1TnCZOcW6pbVZz1szHh3+yPGmULmO0UU6G+v9a1mYzW95kQfgZVCCuUilB6c9l8PQmg8nyMxkb8IZPE9nE9BYLUQmeoTosfmYtTYnb6le3uT8Ia3NPHvUuu7EVdWXXwJZ713JqK7R2YQD5M1v4WZIA9SmP2q7gS3Vyy8gl/pCWps5dkcFpqS8FwGgsLHFR67R2Vg7Ny2RN7+3qrSO4aEzGrMmoHp5DyJam4mORhk6Uz/g4qF3771LBF+js5npgDbPNi1UfT9sxpeNlerlPUhobVzdVq4VHhGU9OL7386tF/p50+AinU27zaBJ28eM7xnIqytSlla6DVJam4TVpju5gLlIZ5N7dv1OST2X0E7qOAOq9pkPM7Q2EavNWQsu0tnkn50AyZbAMC5ULz/E2O6y3+VobSJWG2vBmfe/V+ls8s96dLAJ5RaLeL/EaWwDTyCzk6H3zC/Q2oQBK88sRy/T2ZSevYRRYyxauldkdsy/wcY+huT8Q/NvQGsDE7gwIea68rL5N6C1YZ4Ddic3Fc2/A61NB32p2vtlVsn8W9DauAXH7vZIwfx70Nq4RRkSrDwAQz4v3oPWxtmmkCoFv4BJlpnBqbQ2FRWPRbiYbN+3x/j/Q4/iz7V8r8Hxjs4Fj9KY5uXuiPehHmZ+vIvzMPNNu3H+5mnmx/tQyf8PuDeifag/2fJXVNwD/wBg3DCSmGta8AAAAABJRU5ErkJggg==)"
      ]
    },
    {
      "cell_type": "markdown",
      "metadata": {},
      "source": [
        "## 6) Correlação <a class=\"anchor\" id=\"seis\"></a>"
      ]
    },
    {
      "cell_type": "markdown",
      "metadata": {},
      "source": [
        "A correlação indica a interdependência entre duas ou mais variáveis.\n",
        "\n",
        "Em certos casos essa interdependência é clara:\n",
        "\n",
        "* Massa corporal e altura;\n",
        "* Consumo de combustível e distância percorrida;\n",
        "* Número de anúncios e produtos vendidos;\n",
        "* Tempo de estudo e desempenho na avaliação(nem sempre…rs).\n",
        "* Mas em muitos casos essa relação não é aparente, e assim devemos recorrer a métodos mais confiáveis de detecção. \n",
        "\n",
        "Dentre os métodos mais comuns temos os índices de Pearson, Spearman e Kendall. Vamos falar um pouco sobre esses índices."
      ]
    },
    {
      "cell_type": "markdown",
      "metadata": {},
      "source": [
        "### Correlação de Pearson"
      ]
    },
    {
      "cell_type": "markdown",
      "metadata": {},
      "source": [
        "Também chamado de “coeficiente de correlação produto-momento” ou simplesmente de “ρ de Pearson” mede o grau da correlação (e a direção dessa correlação — se positiva ou negativa) entre duas variáveis. Este coeficiente, normalmente representado por ρ assume apenas valores entre -1 e 1.\n",
        "\n",
        "!['Pearson'](https://miro.medium.com/max/872/1*KWAowigAR0EqWMmSBwOsqg.png)"
      ]
    },
    {
      "cell_type": "code",
      "execution_count": 95,
      "metadata": {},
      "outputs": [
        {
          "data": {
            "text/html": [
              "<div>\n",
              "<style scoped>\n",
              "    .dataframe tbody tr th:only-of-type {\n",
              "        vertical-align: middle;\n",
              "    }\n",
              "\n",
              "    .dataframe tbody tr th {\n",
              "        vertical-align: top;\n",
              "    }\n",
              "\n",
              "    .dataframe thead th {\n",
              "        text-align: right;\n",
              "    }\n",
              "</style>\n",
              "<table border=\"1\" class=\"dataframe\">\n",
              "  <thead>\n",
              "    <tr style=\"text-align: right;\">\n",
              "      <th></th>\n",
              "      <th>PassengerId</th>\n",
              "      <th>Survived</th>\n",
              "      <th>Pclass</th>\n",
              "      <th>Age</th>\n",
              "      <th>SibSp</th>\n",
              "      <th>Parch</th>\n",
              "      <th>Fare</th>\n",
              "    </tr>\n",
              "  </thead>\n",
              "  <tbody>\n",
              "    <tr>\n",
              "      <th>PassengerId</th>\n",
              "      <td>1.000000</td>\n",
              "      <td>-0.005007</td>\n",
              "      <td>-0.035144</td>\n",
              "      <td>0.036847</td>\n",
              "      <td>-0.057527</td>\n",
              "      <td>-0.001652</td>\n",
              "      <td>0.012658</td>\n",
              "    </tr>\n",
              "    <tr>\n",
              "      <th>Survived</th>\n",
              "      <td>-0.005007</td>\n",
              "      <td>1.000000</td>\n",
              "      <td>-0.338481</td>\n",
              "      <td>-0.077221</td>\n",
              "      <td>-0.035322</td>\n",
              "      <td>0.081629</td>\n",
              "      <td>0.257307</td>\n",
              "    </tr>\n",
              "    <tr>\n",
              "      <th>Pclass</th>\n",
              "      <td>-0.035144</td>\n",
              "      <td>-0.338481</td>\n",
              "      <td>1.000000</td>\n",
              "      <td>-0.369226</td>\n",
              "      <td>0.083081</td>\n",
              "      <td>0.018443</td>\n",
              "      <td>-0.549500</td>\n",
              "    </tr>\n",
              "    <tr>\n",
              "      <th>Age</th>\n",
              "      <td>0.036847</td>\n",
              "      <td>-0.077221</td>\n",
              "      <td>-0.369226</td>\n",
              "      <td>1.000000</td>\n",
              "      <td>-0.308247</td>\n",
              "      <td>-0.189119</td>\n",
              "      <td>0.096067</td>\n",
              "    </tr>\n",
              "    <tr>\n",
              "      <th>SibSp</th>\n",
              "      <td>-0.057527</td>\n",
              "      <td>-0.035322</td>\n",
              "      <td>0.083081</td>\n",
              "      <td>-0.308247</td>\n",
              "      <td>1.000000</td>\n",
              "      <td>0.414838</td>\n",
              "      <td>0.159651</td>\n",
              "    </tr>\n",
              "    <tr>\n",
              "      <th>Parch</th>\n",
              "      <td>-0.001652</td>\n",
              "      <td>0.081629</td>\n",
              "      <td>0.018443</td>\n",
              "      <td>-0.189119</td>\n",
              "      <td>0.414838</td>\n",
              "      <td>1.000000</td>\n",
              "      <td>0.216225</td>\n",
              "    </tr>\n",
              "    <tr>\n",
              "      <th>Fare</th>\n",
              "      <td>0.012658</td>\n",
              "      <td>0.257307</td>\n",
              "      <td>-0.549500</td>\n",
              "      <td>0.096067</td>\n",
              "      <td>0.159651</td>\n",
              "      <td>0.216225</td>\n",
              "      <td>1.000000</td>\n",
              "    </tr>\n",
              "  </tbody>\n",
              "</table>\n",
              "</div>"
            ],
            "text/plain": [
              "             PassengerId  Survived    Pclass       Age     SibSp     Parch  \\\n",
              "PassengerId     1.000000 -0.005007 -0.035144  0.036847 -0.057527 -0.001652   \n",
              "Survived       -0.005007  1.000000 -0.338481 -0.077221 -0.035322  0.081629   \n",
              "Pclass         -0.035144 -0.338481  1.000000 -0.369226  0.083081  0.018443   \n",
              "Age             0.036847 -0.077221 -0.369226  1.000000 -0.308247 -0.189119   \n",
              "SibSp          -0.057527 -0.035322  0.083081 -0.308247  1.000000  0.414838   \n",
              "Parch          -0.001652  0.081629  0.018443 -0.189119  0.414838  1.000000   \n",
              "Fare            0.012658  0.257307 -0.549500  0.096067  0.159651  0.216225   \n",
              "\n",
              "                 Fare  \n",
              "PassengerId  0.012658  \n",
              "Survived     0.257307  \n",
              "Pclass      -0.549500  \n",
              "Age          0.096067  \n",
              "SibSp        0.159651  \n",
              "Parch        0.216225  \n",
              "Fare         1.000000  "
            ]
          },
          "execution_count": 95,
          "metadata": {},
          "output_type": "execute_result"
        }
      ],
      "source": []
    },
    {
      "cell_type": "markdown",
      "metadata": {},
      "source": [
        "### Correlação de Spearman\n",
        "\n",
        "O coeficiente de correlação de Spearman é indicado para o cálculo da correlação entre variáveis aleatórias x e y relacionadas monotonicamente entre si, mas não necessariamente de maneira linear. Se a relação é linear o método de Pearson é o mais indicado.\n",
        "\n",
        "!['Spearman'](https://miro.medium.com/max/772/1*QmKUAIDKRmOkoXYYp6dlFw.png)"
      ]
    },
    {
      "cell_type": "code",
      "execution_count": 96,
      "metadata": {},
      "outputs": [
        {
          "data": {
            "text/html": [
              "<div>\n",
              "<style scoped>\n",
              "    .dataframe tbody tr th:only-of-type {\n",
              "        vertical-align: middle;\n",
              "    }\n",
              "\n",
              "    .dataframe tbody tr th {\n",
              "        vertical-align: top;\n",
              "    }\n",
              "\n",
              "    .dataframe thead th {\n",
              "        text-align: right;\n",
              "    }\n",
              "</style>\n",
              "<table border=\"1\" class=\"dataframe\">\n",
              "  <thead>\n",
              "    <tr style=\"text-align: right;\">\n",
              "      <th></th>\n",
              "      <th>PassengerId</th>\n",
              "      <th>Survived</th>\n",
              "      <th>Pclass</th>\n",
              "      <th>Age</th>\n",
              "      <th>SibSp</th>\n",
              "      <th>Parch</th>\n",
              "      <th>Fare</th>\n",
              "    </tr>\n",
              "  </thead>\n",
              "  <tbody>\n",
              "    <tr>\n",
              "      <th>PassengerId</th>\n",
              "      <td>1.000000</td>\n",
              "      <td>-0.005007</td>\n",
              "      <td>-0.034091</td>\n",
              "      <td>0.041010</td>\n",
              "      <td>-0.061161</td>\n",
              "      <td>0.001235</td>\n",
              "      <td>-0.013975</td>\n",
              "    </tr>\n",
              "    <tr>\n",
              "      <th>Survived</th>\n",
              "      <td>-0.005007</td>\n",
              "      <td>1.000000</td>\n",
              "      <td>-0.339668</td>\n",
              "      <td>-0.052565</td>\n",
              "      <td>0.088879</td>\n",
              "      <td>0.138266</td>\n",
              "      <td>0.323736</td>\n",
              "    </tr>\n",
              "    <tr>\n",
              "      <th>Pclass</th>\n",
              "      <td>-0.034091</td>\n",
              "      <td>-0.339668</td>\n",
              "      <td>1.000000</td>\n",
              "      <td>-0.361666</td>\n",
              "      <td>-0.043019</td>\n",
              "      <td>-0.022801</td>\n",
              "      <td>-0.688032</td>\n",
              "    </tr>\n",
              "    <tr>\n",
              "      <th>Age</th>\n",
              "      <td>0.041010</td>\n",
              "      <td>-0.052565</td>\n",
              "      <td>-0.361666</td>\n",
              "      <td>1.000000</td>\n",
              "      <td>-0.182061</td>\n",
              "      <td>-0.254212</td>\n",
              "      <td>0.135051</td>\n",
              "    </tr>\n",
              "    <tr>\n",
              "      <th>SibSp</th>\n",
              "      <td>-0.061161</td>\n",
              "      <td>0.088879</td>\n",
              "      <td>-0.043019</td>\n",
              "      <td>-0.182061</td>\n",
              "      <td>1.000000</td>\n",
              "      <td>0.450014</td>\n",
              "      <td>0.447113</td>\n",
              "    </tr>\n",
              "    <tr>\n",
              "      <th>Parch</th>\n",
              "      <td>0.001235</td>\n",
              "      <td>0.138266</td>\n",
              "      <td>-0.022801</td>\n",
              "      <td>-0.254212</td>\n",
              "      <td>0.450014</td>\n",
              "      <td>1.000000</td>\n",
              "      <td>0.410074</td>\n",
              "    </tr>\n",
              "    <tr>\n",
              "      <th>Fare</th>\n",
              "      <td>-0.013975</td>\n",
              "      <td>0.323736</td>\n",
              "      <td>-0.688032</td>\n",
              "      <td>0.135051</td>\n",
              "      <td>0.447113</td>\n",
              "      <td>0.410074</td>\n",
              "      <td>1.000000</td>\n",
              "    </tr>\n",
              "  </tbody>\n",
              "</table>\n",
              "</div>"
            ],
            "text/plain": [
              "             PassengerId  Survived    Pclass       Age     SibSp     Parch  \\\n",
              "PassengerId     1.000000 -0.005007 -0.034091  0.041010 -0.061161  0.001235   \n",
              "Survived       -0.005007  1.000000 -0.339668 -0.052565  0.088879  0.138266   \n",
              "Pclass         -0.034091 -0.339668  1.000000 -0.361666 -0.043019 -0.022801   \n",
              "Age             0.041010 -0.052565 -0.361666  1.000000 -0.182061 -0.254212   \n",
              "SibSp          -0.061161  0.088879 -0.043019 -0.182061  1.000000  0.450014   \n",
              "Parch           0.001235  0.138266 -0.022801 -0.254212  0.450014  1.000000   \n",
              "Fare           -0.013975  0.323736 -0.688032  0.135051  0.447113  0.410074   \n",
              "\n",
              "                 Fare  \n",
              "PassengerId -0.013975  \n",
              "Survived     0.323736  \n",
              "Pclass      -0.688032  \n",
              "Age          0.135051  \n",
              "SibSp        0.447113  \n",
              "Parch        0.410074  \n",
              "Fare         1.000000  "
            ]
          },
          "execution_count": 96,
          "metadata": {},
          "output_type": "execute_result"
        }
      ],
      "source": []
    },
    {
      "cell_type": "markdown",
      "metadata": {},
      "source": [
        "### Correlação de Kendall\n",
        "\n",
        "É uma medida de correlação de postos, ou seja, verifica a semelhança entre as ordens dos dados quando classificados por cada uma das quantidades. Recebe este nome em homenagem ao estatístico britânico Maurice Kendall, que o desenvolveu em 1938.\n",
        "\n",
        "A correlação de Kendall leva em consideração apenas a concordância direcional dos chamados pares concordantes e discordantes.\n",
        "\n",
        "!['Kendall'](https://miro.medium.com/max/1174/1*rPQsIVhiD3izV5sIiewMBg.png)"
      ]
    },
    {
      "cell_type": "code",
      "execution_count": 1,
      "metadata": {},
      "outputs": [
        {
          "ename": "NameError",
          "evalue": "name 'df_titanic' is not defined",
          "output_type": "error",
          "traceback": [
            "\u001b[1;31m---------------------------------------------------------------------------\u001b[0m",
            "\u001b[1;31mNameError\u001b[0m                                 Traceback (most recent call last)",
            "\u001b[1;32mc:\\Users\\Dell\\Downloads\\Aulas_Estatistica\\Aula_1_estatistica_sem_spoiler.ipynb Célula: 57\u001b[0m in \u001b[0;36m<cell line: 1>\u001b[1;34m()\u001b[0m\n\u001b[1;32m----> <a href='vscode-notebook-cell:/c%3A/Users/Dell/Downloads/Aulas_Estatistica/Aula_1_estatistica_sem_spoiler.ipynb#Y135sZmlsZQ%3D%3D?line=0'>1</a>\u001b[0m df_titanic\u001b[39m.\u001b[39mcorr(method\u001b[39m=\u001b[39m\u001b[39m'\u001b[39m\u001b[39mkendall\u001b[39m\u001b[39m'\u001b[39m)\n",
            "\u001b[1;31mNameError\u001b[0m: name 'df_titanic' is not defined"
          ]
        }
      ],
      "source": []
    },
    {
      "cell_type": "markdown",
      "metadata": {},
      "source": [
        "## 7) Tabela de Frequências (absoluta, relativa e percentual) <a class=\"anchor\" id=\"sete\"></a>"
      ]
    },
    {
      "cell_type": "code",
      "execution_count": 99,
      "metadata": {},
      "outputs": [
        {
          "data": {
            "text/plain": [
              "803     0.42\n",
              "755     0.67\n",
              "644     0.75\n",
              "469     0.75\n",
              "78      0.83\n",
              "       ...  \n",
              "116    70.50\n",
              "493    71.00\n",
              "96     71.00\n",
              "851    74.00\n",
              "630    80.00\n",
              "Name: Age, Length: 714, dtype: float64"
            ]
          },
          "execution_count": 99,
          "metadata": {},
          "output_type": "execute_result"
        }
      ],
      "source": []
    },
    {
      "cell_type": "code",
      "execution_count": 100,
      "metadata": {},
      "outputs": [],
      "source": []
    },
    {
      "cell_type": "code",
      "execution_count": 101,
      "metadata": {},
      "outputs": [],
      "source": [
        "import math"
      ]
    },
    {
      "cell_type": "code",
      "execution_count": 102,
      "metadata": {},
      "outputs": [],
      "source": []
    },
    {
      "cell_type": "code",
      "execution_count": 103,
      "metadata": {},
      "outputs": [],
      "source": []
    },
    {
      "cell_type": "code",
      "execution_count": 108,
      "metadata": {},
      "outputs": [
        {
          "name": "stdout",
          "output_type": "stream",
          "text": [
            "36.4 - 39.4    43\n",
            "54.4 - 57.4    41\n",
            "18.4 - 21.4    40\n",
            "48.4 - 51.4    35\n",
            "27.4 - 30.4    31\n",
            "0.4 - 3.4      30\n",
            "9.4 - 12.4     30\n",
            "6.4 - 9.4      29\n",
            "72.4 - 75.4    29\n",
            "21.4 - 24.4    27\n",
            "60.4 - 63.4    27\n",
            "66.4 - 69.4    26\n",
            "78.4 - 81.4    26\n",
            "12.4 - 15.4    26\n",
            "42.4 - 45.4    25\n",
            "15.4 - 18.4    25\n",
            "75.4 - 78.4    25\n",
            "3.4 - 6.4      24\n",
            "30.4 - 33.4    24\n",
            "69.4 - 72.4    23\n",
            "39.4 - 42.4    22\n",
            "63.4 - 66.4    21\n",
            "45.4 - 48.4    19\n",
            "33.4 - 36.4    18\n",
            "57.4 - 60.4    18\n",
            "51.4 - 54.4    15\n",
            "24.4 - 27.4    15\n",
            "Name: Age, dtype: int64\n"
          ]
        }
      ],
      "source": []
    },
    {
      "cell_type": "code",
      "execution_count": null,
      "metadata": {},
      "outputs": [],
      "source": []
    }
  ],
  "metadata": {
    "colab": {
      "name": "Untitled92.ipynb",
      "provenance": []
    },
    "kernelspec": {
      "display_name": "Python 3.9.12 ('base')",
      "language": "python",
      "name": "python3"
    },
    "language_info": {
      "codemirror_mode": {
        "name": "ipython",
        "version": 3
      },
      "file_extension": ".py",
      "mimetype": "text/x-python",
      "name": "python",
      "nbconvert_exporter": "python",
      "pygments_lexer": "ipython3",
      "version": "3.9.12"
    },
    "vscode": {
      "interpreter": {
        "hash": "a2ab3825ac7005fb7b26f112e9c99ae62f464c629e30b0d534c3b931b6cbc3ff"
      }
    }
  },
  "nbformat": 4,
  "nbformat_minor": 0
}

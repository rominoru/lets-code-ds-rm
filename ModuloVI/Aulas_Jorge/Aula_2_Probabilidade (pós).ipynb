{
 "cells": [
  {
   "cell_type": "markdown",
   "id": "8153db1d-bb08-491a-9466-cb2527e4eb13",
   "metadata": {
    "id": "8153db1d-bb08-491a-9466-cb2527e4eb13"
   },
   "source": [
    "# 2. Probabilidade\n",
    "\n",
    "\n",
    "Probabilidade é a área da matemática que estuda **eventos aleatórios**, cujos resultados são **probabilísticos** ou **estocásticos**.\n",
    "\n",
    "Ex.: lançamento de moeda, lançamento de dados, etc.\n",
    "\n",
    "O objetivo da estatística é similar: analisar dados ou criar modelos que **generalizem relações** que não podem ser determinadas diretamente uma vez que não temos acesso à população. Neste sentido, há muita probabilidade envolvida em estatística, e é por isso que vamos olhar para os principais conceitos de probabilidade."
   ]
  },
  {
   "cell_type": "markdown",
   "id": "c1a4998e",
   "metadata": {
    "id": "c1a4998e"
   },
   "source": [
    "## 2.1 Princípio da Contagem\n",
    "\n",
    "O **Princípio fundamental da contagem** afirma que, se eu preciso fazer, por exemplo, 3 escolhas e cada uma delas pode ser feita de $a, b, c$ maneiras, para sabermos a quantidade de formas que essas escolhas podem ser tomadas simultaneamente, basta calcular o produto dessas possibilidades ($a x b x c$).\n",
    "\n",
    "<img src='https://s3.static.brasilescola.uol.com.br/be/2020/09/1-diagrama.jpg' width=300>\n",
    "\n",
    "2.1.1 Permutação simples : Um arranjo de objetos sem repetição, onde a ordem é importante.\n",
    "Fórmula:\n",
    "\n",
    "\\\\[  n (n-1)(n-2)(n-3) ... 3 * 2 *1 = n! \\\\]\n",
    "\n",
    "Se eu quero selecionar $p$ elementos de um conjunto de tamanho $n$?\n",
    "\n",
    "Exemplo:\n",
    "Em uma turma, dez alunos candidataram-se para ocupar os cargos de representante e vice-presidente da turma. De quantas maneiras distintas a escolha poderá ser feita?\n",
    "Temos dez alunos disputando duas vagas, portanto, dez elementos tomados dois a dois.\n",
    "\n",
    "$$ P = \\frac{n!}{(n-p)!}$$\n",
    "\n",
    "n - Alunos candidatos, p - vagas"
   ]
  },
  {
   "cell_type": "code",
   "execution_count": 4,
   "id": "4ed8516a",
   "metadata": {
    "id": "4ed8516a",
    "outputId": "1649a3b6-b681-4ba0-aad5-446c889ad89b"
   },
   "outputs": [
    {
     "data": {
      "text/plain": [
       "90"
      ]
     },
     "execution_count": 4,
     "metadata": {},
     "output_type": "execute_result"
    }
   ],
   "source": [
    "# Verificar as permutações possíveis\n",
    "alunos = ['João', 'Antônio', 'Carolina', 'Maria', 'Henrique', \n",
    "          'Elisa', 'Alexandre','Filipe','Gabriela','Renata']\n",
    "\n",
    "from itertools import permutations\n",
    "\n",
    "perm = permutations(alunos,2)\n",
    "\n",
    "len(list(perm))"
   ]
  },
  {
   "cell_type": "markdown",
   "id": "9fdef386",
   "metadata": {
    "id": "9fdef386"
   },
   "source": [
    "2.1.2 Combinação simples\n",
    "\n",
    "Na combinação simples, a ordem dos elementos no agrupamento não interfere. São arranjos que se diferenciam somente pela natureza de seus elementos. Portanto, se temos um conjunto A formado por n elementos tomados p a p, qualquer subconjunto de A formado por p elementos será uma combinação.\n",
    "\n",
    "Exemplo\n",
    "\n",
    "Quando temos 5 itens (A,B,C,D,E), quantos grupos de 3 conseguimos selecionar? Pense no caso que quando for selecionado ABC, ACB,BAC,BCA,CAB,CBA temos o mesmo grupo sendo contado 6 vezes.\n",
    "\n",
    "<img src='http://drive.google.com/uc?export=view&id=1ZkYqNykitRt2BhxsthQ8bEK5pHT4MLOl' width=200>\n",
    "\n",
    "$$ C = \\frac{n!}{p!(n-p)!}$$"
   ]
  },
  {
   "cell_type": "code",
   "execution_count": 5,
   "id": "3018cc8d",
   "metadata": {
    "id": "3018cc8d",
    "outputId": "3372804c-fd79-4912-8238-dd1fcea34658"
   },
   "outputs": [
    {
     "data": {
      "text/plain": [
       "10"
      ]
     },
     "execution_count": 5,
     "metadata": {},
     "output_type": "execute_result"
    }
   ],
   "source": [
    "numeros = [1,2,3,4, 5]\n",
    "#Combinacoes dois a dois\n",
    "\n",
    "from itertools import combinations\n",
    "\n",
    "comb = !4\n",
    "\n",
    "len(list(comb))"
   ]
  },
  {
   "cell_type": "markdown",
   "id": "a1be95c2",
   "metadata": {
    "id": "a1be95c2"
   },
   "source": [
    "Aplicação é no estudo das probabilidades. Para calculá-las, precisamos saber a quantidade de casos possíveis e a quantidade de casos favoráveis. A contagem dessa quantidade de casos possíveis e favoráveis pode ser feita por meio do princípio fundamental da contagem."
   ]
  },
  {
   "cell_type": "markdown",
   "id": "9bcb9ede-b05f-43a4-823e-33a1a868fee7",
   "metadata": {
    "id": "9bcb9ede-b05f-43a4-823e-33a1a868fee7"
   },
   "source": [
    "## 2.2 Variável aleatória\n",
    "\n",
    "Uma **variável aleatória** é uma variável cujo valor depende de fatores **não-deterministícos**, isto é, **probabilísticos**. \n",
    "\n",
    "**Exemplo**: resultado do lançamento de um ou mais dados.\n",
    "\n",
    "<img src = \"https://bookdown.org/daniel_flores_agreda/Prob1-GSEM-UNIGE/img/fun/EC_Latin.png\" width = \"40%\"></img>"
   ]
  },
  {
   "cell_type": "markdown",
   "id": "cd20dd66-8184-4990-95c8-9c9c19db3275",
   "metadata": {
    "id": "cd20dd66-8184-4990-95c8-9c9c19db3275"
   },
   "source": [
    "## 2.3 Espaço amostral\n",
    "\n",
    "Chamamos de **espaço amostral** o conjunto de **todos os resultados possíveis de um certo fenômeno aleatório** (<font color = red> elementar e indivisível do experimento</font>), ou seja, **os valores possíveis que a variável aleatória de interesse pode assumir**. Representamos o espaço amostral pela letra grega $\\Omega$. \n",
    "\n",
    "Os subconjuntos de $\\Omega$ são denominados **eventos** e representados pelas letras latinas maiúsculas A, B, etc. \n",
    "\n",
    "**Exemplo**: o espaço amostral dos resultados do lançamento de um dado é:\n",
    "\n",
    "$$ \\Omega = \\{1, 2, 3, 4, 5, 6\\} $$\n",
    "\n",
    "Alguns eventos possíveis são:\n",
    "\n",
    "- Evento A = {3} : o resultado do lançamento do dado foi 3;\n",
    "- Evento B = {2,4,6} : o resultado do lançamento do dado foi um número par.\n",
    "\n",
    "**Exemplo**: considere o lançamento de uma moeda:\n",
    "\n",
    "<img src=\"https://www.vertica.com/wp-content/uploads/2019/07/Coin_Flip_183981489-2160.jpg\" width=300>\n",
    "\n",
    "- Se lançarmos uma única moeda:\n",
    "    - A variável aleatória será **o resultado do lançamento da moeda**\n",
    "    - Portanto, o espaço amostral é: $$ \\Omega = \\{ K, C \\} $$\n",
    "        \n",
    "- Se retirarmos uma carta do baralho:\n",
    "    - A variável aleatória será **o resultado do valor e naipe da carta**\n",
    "    - Portanto, o espaço amostral é: $$ \\Omega = \\{ 2\\clubsuit, 2\\diamondsuit, 2\\spadesuit, 2\\heartsuit, 3\\clubsuit, 3\\diamondsuit, 3\\spadesuit, 3\\heartsuit, ... \\}$$\n",
    "   \n",
    "\n",
    "- Se lançarmos uma moeda e cair cara, lançamos um dado apenas com números pares, caso coroa outro dado apenas com números ímpares:\n",
    "    - A variável aleatória será **o resultado do par de lançamentos de moeda e dados**\n",
    "    - Portanto, o espaço amostral é: "
   ]
  },
  {
   "cell_type": "markdown",
   "id": "fa301aa1",
   "metadata": {
    "id": "fa301aa1"
   },
   "source": [
    "Moeda e dado:  \n",
    "    Cara - 2  \n",
    "    Cara - 4  \n",
    "    Cara - 6  \n",
    "    Coroa - 1  \n",
    "    Coroa - 3  \n",
    "    Coroa - 5  \n",
    "$$ \\Omega = \\{ (K, 1), (K, 3), (K, 5), (C, 2), (C, 4), (C, 6) \\} $$"
   ]
  },
  {
   "cell_type": "markdown",
   "id": "bf16fb68-16e2-4b24-968d-6a2a49e04ac4",
   "metadata": {
    "id": "bf16fb68-16e2-4b24-968d-6a2a49e04ac4"
   },
   "source": [
    "## 2.4 Probabilidade\n",
    "Podemos definir a probabilidade de um evento aleatório A ocorrer como:\n",
    "\n",
    "$$P(A) = \\dfrac{\\#A}{\\#\\Omega}$$\n",
    "\n",
    "em que $\\#A$ é a cardinalidade do evento $A$, ou seja, a quantidade de vezes que ele pode ocorrer dentro do espaço amostral; ou ainda, a quantidade de \"casos favoráveis\" em relação aos casos possíveis.\n",
    "\n",
    "Dessa maneira temos que:\n",
    "- $P(\\Omega) = 1$\n",
    "- $P(\\emptyset) = 0$\n",
    "- $0 \\leq P(A) \\leq 1$\n",
    "- $P(A^c) = 1 - P(A)$ -> evento complementar"
   ]
  },
  {
   "cell_type": "markdown",
   "id": "VaelWCFQD0rX",
   "metadata": {
    "id": "VaelWCFQD0rX"
   },
   "source": [
    "Exercício:\n",
    "\n",
    "1. Qual a probabilidade de ao retirarmos aleatoriamente uma carta de um baralho (sem coringas), termos uma figura? Qual é o espaço amostral e o evento do nosso problema?"
   ]
  },
  {
   "cell_type": "code",
   "execution_count": 8,
   "id": "yIsh5k__D0Qt",
   "metadata": {
    "id": "yIsh5k__D0Qt"
   },
   "outputs": [
    {
     "data": {
      "text/plain": [
       "23.076923076923077"
      ]
     },
     "execution_count": 8,
     "metadata": {},
     "output_type": "execute_result"
    }
   ],
   "source": [
    "naipe = ['espadas', 'paus', 'ouros', 'copas']\n",
    "valor = ['A',2,3,4,5,6,7,8,9,10,'J','Q','K']\n",
    "\n",
    "cartas = [(v,n) for v in valor for n in naipe] #Espaço Amostral\n",
    "evento = [(v,n) for v in ['J','Q','K'] for n in naipe] #Evento\n",
    "\n",
    "probabilidade = len(evento)/len(cartas)\n",
    "\n",
    "probabilidade*100"
   ]
  },
  {
   "cell_type": "code",
   "execution_count": null,
   "id": "f93f4f40",
   "metadata": {},
   "outputs": [],
   "source": [
    "#Resolução do Gabriel\n",
    "from itertools import product\n",
    "\n",
    "baralho = list(product(valor, naipe))"
   ]
  },
  {
   "cell_type": "markdown",
   "id": "k-vFplDVHXH0",
   "metadata": {
    "id": "k-vFplDVHXH0"
   },
   "source": [
    "2. Lucas vai realizar uma viagem e quer escolher quatro entre nove camisetas. De quantos modos distintos ele pode escolher as camisetas?"
   ]
  },
  {
   "cell_type": "code",
   "execution_count": 9,
   "id": "0af97982",
   "metadata": {
    "ExecuteTime": {
     "end_time": "2021-11-29T20:18:53.161069Z",
     "start_time": "2021-11-29T20:18:53.146071Z"
    },
    "id": "0af97982"
   },
   "outputs": [
    {
     "data": {
      "text/plain": [
       "126"
      ]
     },
     "execution_count": 9,
     "metadata": {},
     "output_type": "execute_result"
    }
   ],
   "source": [
    "camisas = [1,2,3,4,5,6,7,8,9]\n",
    "\n",
    "comb = combinations(camisas,4)\n",
    "\n",
    "len(list(comb))"
   ]
  },
  {
   "cell_type": "code",
   "execution_count": 10,
   "id": "cf9e7e4e",
   "metadata": {},
   "outputs": [
    {
     "data": {
      "text/plain": [
       "126"
      ]
     },
     "execution_count": 10,
     "metadata": {},
     "output_type": "execute_result"
    }
   ],
   "source": [
    "#resolução do gabriel\n",
    "# camisas = list(range(1, 10))\n",
    "comb = combinations(range(1, 10),4)\n",
    "len(list(comb))"
   ]
  },
  {
   "cell_type": "markdown",
   "id": "1173d0fc",
   "metadata": {},
   "source": [
    "\"Em teoria das probabilidades, o paradoxo do aniversário afirma que dado um grupo de 23 pessoas escolhidas aleatoriamente, a chance de que duas pessoas terão a mesma data de aniversário é de mais de 50%.\"\n",
    "\n",
    "https://pt.wikipedia.org/wiki/Paradoxo_do_anivers%C3%A1rio#Implementa%C3%A7%C3%A3o_em_Python"
   ]
  },
  {
   "cell_type": "markdown",
   "id": "46c7eb31-1803-4479-b7be-ca3a62f2b28e",
   "metadata": {
    "id": "46c7eb31-1803-4479-b7be-ca3a62f2b28e"
   },
   "source": [
    "## 2.5 Propriedades importantes\n",
    "\n",
    "### Diagrama de Venn e Espaço de Probabilidade\n",
    "\n",
    "O diagrama de Venn, também conhecido como diagrama de Venn-Euler, é uma maneira de representar graficamente um conjunto, para isso utilizamos uma linha fechada que não possui auto-intersecção e representamos os elementos do conjunto no interior dessa linha. A ideia do diagrama é facilitar o entendimento nas operações básicas de conjuntos, como: relação inclusão e pertinência, união e intersecção, diferença e conjunto complementar.\n",
    "\n",
    "<img src = \"https://d3rw207pwvlq3a.cloudfront.net/attachments/000/123/316/original/image.png?1596464245\" width = \"50%\"></img>\n",
    "\n",
    "<img src = \"https://efofexnews.files.wordpress.com/2016/02/gfbdbfba.png\" width = \"25%\"></img>"
   ]
  },
  {
   "cell_type": "markdown",
   "id": "80df0ee5-b721-4fb5-a559-e6572d19e210",
   "metadata": {
    "id": "80df0ee5-b721-4fb5-a559-e6572d19e210"
   },
   "source": [
    "\n",
    "### Eventos Disjuntos ou Mutuamente Excludentes\n",
    "Dois eventos são disjuntos se $A \\cap B = \\emptyset$ e portanto $P(A \\cap B) = 0$\n",
    "\n",
    "**Ex.:**\n",
    "\n",
    "- Probabilidade de cair cara e coroa simultâneamente (lançamento de uma moeda)\n",
    "\n",
    "- Probabilidade de um jogador de fotebol jogar para dois times ao mesmo tempo\n"
   ]
  },
  {
   "cell_type": "markdown",
   "id": "cd8ee8a8-2097-49cb-8908-37f02d9c6313",
   "metadata": {
    "id": "cd8ee8a8-2097-49cb-8908-37f02d9c6313"
   },
   "source": [
    "\n",
    "### União de eventos\n",
    "Dados os eventos $A$ e $B$, o cálculo da união desses eventos é determianda da seguinte forma:\n",
    "    \n",
    "$$ P(A \\cup B) = P(A) + P(B) - P(A \\cap B) $$\n",
    "\n",
    "Exemplo: Qual é a probabilidade de que em um lançamento de um dado saia um número par ou maior do que três?"
   ]
  },
  {
   "cell_type": "markdown",
   "id": "537d3aff",
   "metadata": {
    "id": "537d3aff"
   },
   "source": [
    "espaço amostral do dado = {1,2,3,4,5,6}\n",
    "\n",
    "- Evento A - sair par  \n",
    "S(A) = {2, 4, 6}  \n",
    "P(A) = 3/6 = 1/2\n",
    "\n",
    "\n",
    "- Evento B -maior que três  \n",
    "S(B) = {4, 5, 6}  \n",
    "P(B) = 3/6 = 1/2\n",
    "\n",
    "\n",
    "- Evento A ∩ B  \n",
    "S(A ∩ B) = {4, 6}  \n",
    "P(A ∩ B) = 2/6 = 1/3\n",
    "\n",
    "\n",
    "- Probabilidade da união de A e B  \n",
    "P(A ∪ B) = P(A) + P(B) - P(A ∩ B) = 1/2 + 1/2 - 1/3 = 2/3\n",
    "\n",
    "\n",
    "_conferindo_\n",
    "- Evento A ∪ B  \n",
    "S(A ∪ B) = {2, 4, 5, 6}  \n",
    "P(A ∪ B) = 4/6 = 2/3\n"
   ]
  },
  {
   "cell_type": "markdown",
   "id": "03602faa-2ac9-4b7b-a953-94faf3eae949",
   "metadata": {
    "id": "03602faa-2ac9-4b7b-a953-94faf3eae949"
   },
   "source": [
    "\n",
    "### Exemplo\n",
    "\n",
    "A Netflix vai recomendar dois filmes pra você e ela sabe que:\n",
    "\n",
    "- A probabilidade de você gostar do primeiro filme é de 0.5\n",
    "- A probabilidade de você gostar do segundo filme é de 0.4\n",
    "- A probabilidade de você gostar de ambos os filmes é de 0.3\n",
    "\n",
    "Agora, qual é a probabilidade de você gostar de ao menos um dos dois filmes?\n",
    "\n",
    "\n",
    "\n",
    "Sejam os eventos\n",
    "\n",
    "A: Gostar do primeiro filme\n",
    "\n",
    "B: Gostar do segundo filme\n",
    "\n",
    "$$P(A\\cup B) = P(A) + P(B) - P(A \\cap B) = 0.5 + 0.4 - 0.3 = 0.6$$\n",
    "\n",
    "Portanto, qual é a probabilidade da netflix sugerir dois filmes e você não gostar de nenhum?\n",
    "\n",
    "Seja\n",
    "\n",
    "C: Não gostar de nenhum filme\n",
    "\n",
    "$$P(C) = P((A \\cup B)^c) = 1 - P(A\\cup B) =1 - 0.6 = 0.4$$\n"
   ]
  },
  {
   "cell_type": "markdown",
   "id": "38757403-4e61-4c1a-bf6d-20eefc2a346f",
   "metadata": {
    "id": "38757403-4e61-4c1a-bf6d-20eefc2a346f"
   },
   "source": [
    "## 2.6 Probabilidade Condicional\n",
    "\n",
    "<img src = \"https://bookdown.org/daniel_flores_agreda/Prob1-GSEM-UNIGE/img/fun/probconditionnelle2.png\" width = \"40%\"></img>\n",
    "\n",
    "Probabilidade condicional é um dos conceitos mais importantes da teoria de probabilidades, pois frequentemente se quer calcular seu valor quando se tem alguma informação parcial a respeito do resultado de um experimento aleatório.\n",
    "\n",
    "Além disso, mesmo quando não se tem essa informação parcial, as probabilidades condicionais muitas vezes são utilizadas para computar mais facilmente valores de probabilidades que se tem interesse.\n",
    "\n",
    "Mais importante do que isso o conceito por trás de probabilidades condicionais é de que nós conseguimos atualizar a nossa medida de incerteza a partir do momento que conhecemos uma informação nova.\n",
    "\n",
    "**Ex.:** Qual a probabilidade de ao se jogar dois dados simultaneamente, que a soma deles seja 5? E se jogamos o segundo só depois de termos o resultado do primeiro? Muda alguma coisa?\n",
    "\n",
    "Seja\n",
    "\n",
    "A: O valor do lançamento do primeiro dado (não viesado)\n",
    "\n",
    "B: O valor do lançamento do segundo dado (não viesado)\n",
    "\n",
    "Logo o nosso espaço amostral S é dado pela tabela abaixo:\n",
    "\n",
    "<img src = \"https://bookdown.org/daniel_flores_agreda/Prob1-GSEM-UNIGE/img/03_axioms/c2.png\" width = \"50%\"></img>\n",
    "\n",
    "$$P(A + B = 5) = \\dfrac{\\#\\text{Casos favoráveis}}{\\#\\text{Casos possíveis}} = \\dfrac{4}{36} = \\dfrac{1}{9}$$\n",
    "\n",
    "Agora suponha que jogamos um dado de cada vez e que no primeiro lançamento caiu 2. Então temos um novo espaço amostral reduzido.\n",
    "\n",
    "<img src = \"https://bookdown.org/daniel_flores_agreda/Prob1-GSEM-UNIGE/img/03_axioms/c4.png\" width = \"50%\"></img>\n",
    "\n",
    "$$P(A + B = 5| A = 2) = \\dfrac{\\#\\text{Casos favoráveis}}{\\#\\text{Casos possíveis}} = \\dfrac{1}{6}$$"
   ]
  },
  {
   "cell_type": "markdown",
   "id": "EkA3StK0-TDX",
   "metadata": {
    "id": "EkA3StK0-TDX"
   },
   "source": [
    "### De maneira geral:\n",
    "\n",
    "$$ P(A|B) = \\frac{P(A \\cap B)}{P(B)}$$"
   ]
  },
  {
   "cell_type": "markdown",
   "id": "9p7OKVip3LQN",
   "metadata": {
    "id": "9p7OKVip3LQN"
   },
   "source": [
    "Logo,\n",
    "\n",
    "$$ P(A \\cap B) = P(A,B) = P(A|B) \\times P(B)$$\n",
    "\n",
    "Se dois eventos são independentes: \n",
    "\n",
    "$$P(A,B) = P(A) \\times P(B)$$\n",
    "\n",
    "\n",
    "Exemplo: Foi lançado um dado e uma moeda, qual é a probabilidade de ocorrer um número ímpar e sair cara na moeda?\n",
    "\n",
    "espaço amostral do dado = {1, 2, 3, 4, 5, 6}  \n",
    "espaço amostral da moeda = {cara, coroa}\n",
    "\n",
    "- evento A - dado - número ímpar\n",
    "S(A) = {1, 3, 5}  \n",
    "P(A) = 3/6 = 1/2\n",
    "\n",
    "- evento B - moeda - cara  \n",
    "S(B) = {cara}  \n",
    "P(B) = 1/2\n",
    "\n",
    "- Probabilidade de A ∩ B  \n",
    "P(A ∩ B) = P(A)*P(B) = 1/2 * 1/2 = 1/4\n",
    "\n",
    "- Espaço amostral dado e moeda\n",
    "S total = {(1, cara), (2, cara), (3,cara), (4,cara), (5,cara), (6,cara), (1, coroa), (2, coroa), (3,coroa), (4, coroa), (5,coroa), (6,coroa)}\n",
    "\n",
    "S(A ∩ B) = {(1, cara), (3,cara), (5,cara)}  \n",
    "P(A ∩ B) = 3/12 = 1/4"
   ]
  },
  {
   "cell_type": "markdown",
   "id": "ec4536df-2e98-4d3e-b6db-3a79604f96bc",
   "metadata": {
    "id": "ec4536df-2e98-4d3e-b6db-3a79604f96bc"
   },
   "source": [
    "\n",
    "## O caso de Sally Clark\n",
    "\n",
    "**Contexto:** Uma mãe solo, com trabalho e não fumante, que teve dois filhos recém nascidos, sofre com a perda de ambos os bebês para o que é chamado de SIDS (Síndrome de morte súbita infantil) e é julgada por homicídio culposo pela morte dos filhos. Por conta da ausência de provas contra e a favor do crime, chamaram um especialista para determinar o quão provável seria que duas crianças morresem de SIDS, e o especialista utilizou o seguinte racional:\n",
    "\n",
    "Sejam os eventos\n",
    "\n",
    "- A: O primeiro bebê morrer de SIDS\n",
    "- B: O segundo bebê morrer de SIDS\n",
    "\n",
    "Portanto\n",
    "\n",
    "$$P(A \\cap B) = P(A)*P(B) = \\dfrac{1}{8500}\\dfrac{1}{8500} \\approx \\dfrac{1}{73\\text{milhões}}$$\n",
    "\n",
    "Sendo esse um evento quase impossível, isso a levou a ser condenada e passar 3 anos presa até conseguir recorrer e ser libertada.\n",
    "\n",
    "**3 Erros Principais e reflexões:**\n",
    "<!---\n",
    "- Os valores de $P(A)$ e $P(B)$ estavam inflados, o mais correto seria o valor de 1 em cada 3mil. \n",
    "- É fácil supor que os eventos não são independentes pois pode haver fatores ambientais e/ou genéticos e portanto, dado que o primeiro filho teve SIDS, ela deveria ser considerada grupo de risco, pois a probabilidade de um segundo filho ter SIDS seria alta. O que foi constatado entre 5 e 10 vezes mais provável em estudos futuros.\n",
    "- Mesmo que o valor de 1 em cada 73 milhões fosse a probabilidade correta, deveria-se também ter se calculado a probabilidade de uma mãe solo, com emprego e não fumante, cometer 2 assassinatos de seus próprios filhos e facilmente se perceberia que, apesar de ser improvável que duas crianças tivessem óbito por SIDS, é ainda menos provavel que ela tenha cometido o duplo homicídio culposo. Na verdade entre 4.5 e 9 vezes menos provável. ([Prosecutor's fallacy](https://en.wikipedia.org/wiki/Prosecutor%27s_fallacy))\n",
    "--->\n",
    "\n",
    "TED Peter Donnelly: https://www.youtube.com/watch?v=kLmzxmRcUTo"
   ]
  },
  {
   "cell_type": "markdown",
   "id": "bce26ae2-ecce-4ad4-83fe-a82afbce0c4f",
   "metadata": {
    "id": "bce26ae2-ecce-4ad4-83fe-a82afbce0c4f"
   },
   "source": [
    "## 2.7 Teorema de Bayes\n",
    "\n",
    "O **Teorema de Bayes** é um conceito importantíssimo da probabilidade e uma das ferramentas mais importantes de serem aprendidas para um Cientista de Dados, pois é a base de uma área com muitas aplicações práticas chamada [inferência bayesiana](https://en.wikipedia.org/wiki/Bayesian_inference).\n",
    "\n",
    "O Teorema de Bayes é uma forma **calcular probabilidades condicionais de forma reversa**.\n",
    "\n",
    "Vamos considerar o clássico exemplo para explicar o teorema. \n",
    "\n",
    "Temos uma determinada doença C, e um teste T utilizado para detectar esta doença. \n",
    "\n",
    "O teste não é 100% confiável, indicando pessoas que **não têm a doença como doentes (falsos positivos)** e **não detectando a doença em pessoas que a possuem (falsos negativos)**\n",
    "\n",
    "> Consideremos que 1% das pessoas possui a doença: $P(C) = 0.01$\n",
    "\n",
    "> Logo, 99% das pessoas não a possuem: $P(¬C) = 0.99$\n",
    "\n",
    "O teste detecta a doença em pessoas efetivamente doentes 90% das vezes e, consequentemente, não detecta a doença em pessoas doentes em 10% dos casos. \n",
    "\n",
    "Em pessoas não doentes, o teste detecta a doença (erradamente) em 5% dos casos e não detecta em 95% dos casos.\n",
    "\n",
    "#### Em equações, temos:\n",
    "\n",
    "* P(C|+) = Probabilidade de ter a doença dado um teste positivo (esta é a probabilidade que desejamos saber)\n",
    "\n",
    "* P(C) = Probabilidade da pessoa ter a doença = 1%\n",
    "\n",
    "* P(¬C) = Probabilidade da pessoa não ter a doença = 99%\n",
    "\n",
    "* P(+|C) = Probabilidade de um teste positivo dado que a pessoa tem a doença = 90% \n",
    "\n",
    "* P(-|C) = Probabilidade de um teste negativo dado que a pessoa tem a doença = 10% \n",
    "\n",
    "* P(+|¬C) = Probabilidade de um teste positivo dado que a pessoa não tem a doença = 5%\n",
    "\n",
    "* P(-|¬C) = Probabilidade de um teste negativo dado que a pessoa não tem a doença = 95%\n",
    "\n",
    "    **O Teorema de bayes diz que :**\n",
    "    \n",
    "    \n",
    "$$ P(C|+) = \\frac{P(+|C) \\ P(C)}{P(+|C) \\ P(C)  + P(+|¬ C) \\ P(¬ C)} = \\dfrac{P(C \\cap +)}{P(C \\cap +) + P(¬C \\cap +)}  = \\dfrac{P(+|C) \\ P(C)}{P(+)} = \\dfrac{P(C \\cap +)}{P(+)}$$\n",
    "\n",
    "Agora, a chance de você **ter a doença e o teste detectá-la - $P(C \\cap +)$ - (verdadeiro positivo)** é igual **a chance de você ter a doença - $P(C)$ - multiplicado pela chance do teste ter dado positivo corretamente - $P(+|C)$**;\n",
    "\n",
    "Analogamente, a chance de você **não ter a doença e o teste detecta-la mesmo assim - $P(¬C \\cap +)$ - (falso positivo)** é igual **a chance de você não ter a doença -$P(¬ C)$- multiplicado pela chance do teste ter dado positivo incorretamente - $P(+|¬ C)$**;\n",
    "\n",
    "E assim por diante, para todos os resultados. Assim:\n",
    "\n",
    "|                | Pessoa Doente                            | Pessoa Não Doente                               | Soma\n",
    "|----------------|------------------------------------------|-------------------------------------------------|-------|\n",
    "| **Teste positivo** | Prob Doente e teste pos: 1% × 90% = 0,9% | Prob Não Doente e teste pos: 99% × 5% = 4,95%   | 5,85%\n",
    "| **Teste Negativo** | Prob Doente e teste neg: 1% × 10% = 0,1% | Prob Não Doente e teste neg: 99% × 95% = 94,05% | 94,15%\n",
    "| **Soma** | 1% | 99% | 100%\n",
    "\n",
    "Estas então são nossas probabilidades para cada evento. Note que, se somadas, o resultado é 1, ou 100%. \n",
    "\n",
    "Agora, vamos supor que você fez o teste e o **resultado deu positivo**. \n",
    "\n",
    "Como devemos interpretar este resultado? Qual a chance de você de fato ter a doença? \n",
    "\n",
    "Considerando o cálculo básico de probabilidade, temos que a chance de ter a doença é igual à **chance do evento desejado dividido por todas as possibilidades**. \n",
    "\n",
    "O evento desejado é um positivo verdadeiro, ou seja, **teste positivo e a pessoa com doença**. Para este caso, a probabilidade é de 0,9% (olhe na tabela!) \n",
    "\n",
    "O **total de possibilidades com relação ao teste positivo** seria a **soma da probabilidade de “doente e teste pos”** (verdadeiro positivo) com **“não doente e teste pos” (falso positivo)**, que resultará em 0,9% + 4,95%, igual a 5,85%.\n",
    "\n",
    "Fazendo toda a conta, nossa chance de ter a doença se temos um teste positivo é de **0,9%/5,85% = 0.1538**, ou **15,38%**. \n",
    "\n",
    "É uma chance bem mais baixa do que imaginamos apenas ao olhar para o problema e para a suposta precisão do teste!\n",
    "\n"
   ]
  },
  {
   "cell_type": "markdown",
   "id": "DxgJYUh_-TDa",
   "metadata": {
    "ExecuteTime": {
     "end_time": "2021-11-29T21:42:41.572126Z",
     "start_time": "2021-11-29T21:42:41.557196Z"
    },
    "id": "DxgJYUh_-TDa"
   },
   "source": [
    "**De maneira mais geral, o Teorema de Bayes pode ser dado por :**\n",
    "    \n",
    "    \n",
    "$$ P(A_j|B) = \\frac{P(B|A_j) \\ P(A_j)}{\\sum_{i=1}^{n} P(B|A_i) \\ P(A_i)}    $$"
   ]
  },
  {
   "cell_type": "markdown",
   "id": "eBEGYNtB-TDb",
   "metadata": {
    "id": "eBEGYNtB-TDb"
   },
   "source": [
    "##### Exercício:\n",
    "    \n",
    "Um certo vírus infecta uma em\n",
    "cada 200 pessoas. Um teste usado para detectar o vírus\n",
    "em uma pessoa dá positivo 80% das vezes quando a pessoa\n",
    "tem o vírus e 5% das vezes quando a pessoa não\n",
    "tem o vírus. (Este resultado de 5% é chamado de falso\n",
    "positivo.) Seja A o evento “a pessoa está infectada” e B\n",
    "o evento “o teste dá positivo”.\n",
    "\n",
    "(a) Usando o teorema de Bayes, se o teste dá positivo,\n",
    "determine a probabilidade de a pessoa estar\n",
    "infectada.\n",
    "\n",
    "(b) Usando o teorema de Bayes, se o teste dá negativo,\n",
    "determine a probabilidade de a pessoa não estar\n",
    "infectada."
   ]
  },
  {
   "cell_type": "markdown",
   "id": "b03b6fe7-3511-4f5e-b278-b83208b8727d",
   "metadata": {
    "id": "b03b6fe7-3511-4f5e-b278-b83208b8727d"
   },
   "source": [
    "## O Problema de Monty Hall"
   ]
  },
  {
   "cell_type": "markdown",
   "id": "e5887de5",
   "metadata": {
    "id": "e5887de5"
   },
   "source": [
    "https://youtu.be/DSbtIa8NM5E"
   ]
  }
 ],
 "metadata": {
  "colab": {
   "name": "Aula_2_Probabilidade.ipynb",
   "provenance": []
  },
  "kernelspec": {
   "display_name": "Python 3 (ipykernel)",
   "language": "python",
   "name": "python3"
  },
  "language_info": {
   "codemirror_mode": {
    "name": "ipython",
    "version": 3
   },
   "file_extension": ".py",
   "mimetype": "text/x-python",
   "name": "python",
   "nbconvert_exporter": "python",
   "pygments_lexer": "ipython3",
   "version": "3.10.5"
  },
  "varInspector": {
   "cols": {
    "lenName": 16,
    "lenType": 16,
    "lenVar": 40
   },
   "kernels_config": {
    "python": {
     "delete_cmd_postfix": "",
     "delete_cmd_prefix": "del ",
     "library": "var_list.py",
     "varRefreshCmd": "print(var_dic_list())"
    },
    "r": {
     "delete_cmd_postfix": ") ",
     "delete_cmd_prefix": "rm(",
     "library": "var_list.r",
     "varRefreshCmd": "cat(var_dic_list()) "
    }
   },
   "types_to_exclude": [
    "module",
    "function",
    "builtin_function_or_method",
    "instance",
    "_Feature"
   ],
   "window_display": false
  },
  "vscode": {
   "interpreter": {
    "hash": "04c99251120b9783bb57db04925b02d6d9a65330f6ca271b364357389b908c1b"
   }
  }
 },
 "nbformat": 4,
 "nbformat_minor": 5
}

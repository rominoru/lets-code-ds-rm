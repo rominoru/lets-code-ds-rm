{
 "cells": [
  {
   "cell_type": "code",
   "execution_count": null,
   "id": "0babc2ff",
   "metadata": {},
   "outputs": [],
   "source": [
    "#Bibliotecas utilizadas\n",
    "import matplotlib.pyplot as plt\n",
    "import seaborn as sns\n",
    "import numpy as np\n",
    "import math\n",
    "from scipy import stats\n",
    "import pandas as pd"
   ]
  },
  {
   "cell_type": "code",
   "execution_count": null,
   "id": "df6c7fbd",
   "metadata": {},
   "outputs": [],
   "source": [
    "## Exercício: Identificar variáveis discretas e continuas no dataset 'weather'\n",
    "\n",
    "df_weather = pd.read_csv('weather.csv')"
   ]
  },
  {
   "cell_type": "code",
   "execution_count": null,
   "id": "e8dbb831",
   "metadata": {},
   "outputs": [],
   "source": [
    "# Analisar dataset"
   ]
  },
  {
   "cell_type": "code",
   "execution_count": null,
   "id": "c3fa5ac9",
   "metadata": {},
   "outputs": [],
   "source": [
    "df_weather.info()"
   ]
  },
  {
   "cell_type": "code",
   "execution_count": null,
   "id": "d4dc33c0",
   "metadata": {},
   "outputs": [],
   "source": [
    "df_weather.describe()"
   ]
  },
  {
   "cell_type": "markdown",
   "id": "4dfea89c",
   "metadata": {},
   "source": [
    "## Analise Estatistica"
   ]
  },
  {
   "cell_type": "markdown",
   "id": "5d024782",
   "metadata": {},
   "source": [
    "Analisemos a variavel relacionada a:\n",
    "- Temperatura"
   ]
  },
  {
   "cell_type": "code",
   "execution_count": null,
   "id": "38001870",
   "metadata": {},
   "outputs": [],
   "source": [
    "df_temperatura = df_weather['Temperature (C)']"
   ]
  },
  {
   "cell_type": "code",
   "execution_count": null,
   "id": "43f27098",
   "metadata": {},
   "outputs": [],
   "source": [
    "# Histograma de valores"
   ]
  },
  {
   "cell_type": "code",
   "execution_count": null,
   "id": "20276b5f",
   "metadata": {},
   "outputs": [],
   "source": [
    "# Calculemos media e desvio padrao"
   ]
  },
  {
   "cell_type": "markdown",
   "id": "71a4d697",
   "metadata": {},
   "source": [
    "Pertence a uma distribuicao normal?"
   ]
  },
  {
   "cell_type": "code",
   "execution_count": null,
   "id": "5daf2fb5",
   "metadata": {},
   "outputs": [],
   "source": [
    "# Q–Q plot\n",
    "\n",
    "from statsmodels.graphics.gofplots import qqplot"
   ]
  },
  {
   "cell_type": "code",
   "execution_count": null,
   "id": "bbaaaf9a",
   "metadata": {},
   "outputs": [],
   "source": [
    "# Geremos uma amostra para estudar ela e suas estatisticas descritivas"
   ]
  },
  {
   "cell_type": "code",
   "execution_count": null,
   "id": "0cafca64",
   "metadata": {},
   "outputs": [],
   "source": []
  },
  {
   "cell_type": "code",
   "execution_count": null,
   "id": "8a017e21",
   "metadata": {},
   "outputs": [],
   "source": []
  },
  {
   "cell_type": "markdown",
   "id": "4a5e3888",
   "metadata": {},
   "source": [
    "## Inferencia estatistica"
   ]
  },
  {
   "cell_type": "markdown",
   "id": "b5790f61",
   "metadata": {},
   "source": [
    "- Qual a probabilidade de ter mais de 15 graus em um dia aleatorio?"
   ]
  },
  {
   "cell_type": "markdown",
   "id": "54124fe0",
   "metadata": {},
   "source": [
    "Seja minha variavel aleatoria: \n",
    "\n",
    "- X : temperatura em um dia aleatorio\n",
    "\n",
    "Eu quero calcular:\n",
    "$$P(X > 15)$$"
   ]
  },
  {
   "cell_type": "code",
   "execution_count": null,
   "id": "3a1148a9",
   "metadata": {},
   "outputs": [],
   "source": [
    "X = 15"
   ]
  },
  {
   "cell_type": "markdown",
   "id": "bb545e88",
   "metadata": {},
   "source": [
    "a <img src=\"https://zscoregeek.com/wp-content/uploads/2021/09/positive-z-score-table-493x1024.png\" width=500>"
   ]
  },
  {
   "cell_type": "code",
   "execution_count": null,
   "id": "8e6323b6",
   "metadata": {},
   "outputs": [],
   "source": [
    "from scipy.stats import norm\n",
    "\n",
    "probabilidade_mais_15_graus "
   ]
  },
  {
   "cell_type": "markdown",
   "id": "23755d5f",
   "metadata": {},
   "source": [
    "- Qual a probabilidade de ter mais de 15 graus em uma amostra de 100 dias?"
   ]
  },
  {
   "cell_type": "code",
   "execution_count": null,
   "id": "e6fc3648",
   "metadata": {},
   "outputs": [],
   "source": [
    "X = 15\n",
    "tamanho_amostra = 100"
   ]
  },
  {
   "cell_type": "code",
   "execution_count": null,
   "id": "d64b6833",
   "metadata": {},
   "outputs": [],
   "source": [
    "probabilidade_mais_15_graus_amostra "
   ]
  },
  {
   "cell_type": "code",
   "execution_count": null,
   "id": "6d234878",
   "metadata": {},
   "outputs": [],
   "source": [
    "amostra_temperatura[amostra_temperatura > 15].shape[0]"
   ]
  },
  {
   "cell_type": "markdown",
   "id": "5867210c",
   "metadata": {},
   "source": [
    "## Teste de hipoteses"
   ]
  },
  {
   "cell_type": "markdown",
   "id": "6c53ef41",
   "metadata": {},
   "source": [
    "Considerando nossa amostra de temperatura de 100 dias.\n",
    "- Avalie a hipoteses de uma media populacional teorica de 11.93 graus contra a hipoteses alternativa de que es menor a 11.93 com um nivel de significancia de 5%."
   ]
  },
  {
   "cell_type": "code",
   "execution_count": null,
   "id": "44404cfc",
   "metadata": {},
   "outputs": [],
   "source": [
    "# Paso 1: Propor as hipoteses\n",
    "\n",
    "# Ho - media populacional é de 11,93 graus \n",
    "# H1 - media populacional é menor a 11,93 graus\n",
    "\n",
    "# Paso 2: Especificar o nivel de significancia\n",
    "\n",
    "alpha = 0.05\n",
    "\n",
    "# Paso 3: Calcular valores critico e de teste, definindo zonas de aceitacao e rejeicao de Ho\n",
    "\n",
    "# Como H1 pede comparar se o valor é MENOR, falamos de uma cauda esquerda (se fosse 'maior' seria cauda direita, \n",
    "# se fosse 'diferente' seria com duas caudas)\n",
    "\n",
    "# os valores dentro da cauda esquerda rejeitam a hipotese Ho, e os valores maiores aceitam a hipotese\n",
    "\n",
    "valor_critico \n",
    "\n",
    "valor_teste "
   ]
  },
  {
   "cell_type": "code",
   "execution_count": null,
   "id": "03643c04",
   "metadata": {},
   "outputs": [],
   "source": [
    "# Paso 4: Decisao e conclusao\n",
    "# "
   ]
  }
 ],
 "metadata": {
  "kernelspec": {
   "display_name": "Python 3 (ipykernel)",
   "language": "python",
   "name": "python3"
  },
  "language_info": {
   "codemirror_mode": {
    "name": "ipython",
    "version": 3
   },
   "file_extension": ".py",
   "mimetype": "text/x-python",
   "name": "python",
   "nbconvert_exporter": "python",
   "pygments_lexer": "ipython3",
   "version": "3.10.5"
  }
 },
 "nbformat": 4,
 "nbformat_minor": 5
}

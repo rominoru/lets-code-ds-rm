{
 "cells": [
  {
   "cell_type": "code",
   "execution_count": 1,
   "id": "0babc2ff",
   "metadata": {},
   "outputs": [],
   "source": [
    "#Bibliotecas utilizadas\n",
    "import matplotlib.pyplot as plt\n",
    "import seaborn as sns\n",
    "import numpy as np\n",
    "import math\n",
    "from scipy import stats\n",
    "import pandas as pd"
   ]
  },
  {
   "cell_type": "code",
   "execution_count": 2,
   "id": "df6c7fbd",
   "metadata": {},
   "outputs": [],
   "source": [
    "## Exercício: Identificar variáveis discretas e continuas no dataset 'weather'\n",
    "\n",
    "df_weather = pd.read_csv('weather.csv')"
   ]
  },
  {
   "cell_type": "code",
   "execution_count": null,
   "id": "e8dbb831",
   "metadata": {},
   "outputs": [],
   "source": [
    "# Analisar dataset"
   ]
  },
  {
   "cell_type": "code",
   "execution_count": null,
   "id": "c3fa5ac9",
   "metadata": {},
   "outputs": [],
   "source": [
    "df_weather.info()"
   ]
  },
  {
   "cell_type": "code",
   "execution_count": null,
   "id": "d4dc33c0",
   "metadata": {},
   "outputs": [],
   "source": [
    "df_weather.describe()"
   ]
  },
  {
   "cell_type": "markdown",
   "id": "4dfea89c",
   "metadata": {},
   "source": [
    "## Analise Estatistica"
   ]
  },
  {
   "cell_type": "markdown",
   "id": "5d024782",
   "metadata": {},
   "source": [
    "Analisemos a variavel relacionada a:\n",
    "- Temperatura"
   ]
  },
  {
   "cell_type": "code",
   "execution_count": 4,
   "id": "38001870",
   "metadata": {},
   "outputs": [],
   "source": [
    "df_temperatura = df_weather['Temperature (C)']"
   ]
  },
  {
   "cell_type": "code",
   "execution_count": 6,
   "id": "43f27098",
   "metadata": {},
   "outputs": [
    {
     "data": {
      "image/png": "[encoded data removed]",
      "text/plain": [
       "<Figure size 432x288 with 1 Axes>"
      ]
     },
     "metadata": {
      "needs_background": "light"
     },
     "output_type": "display_data"
    }
   ],
   "source": [
    "# Histograma de valores\n",
    "df_temperatura.hist(bins=20);"
   ]
  },
  {
   "cell_type": "code",
   "execution_count": 7,
   "id": "20276b5f",
   "metadata": {},
   "outputs": [
    {
     "data": {
      "text/plain": [
       "11.93267843751188"
      ]
     },
     "execution_count": 7,
     "metadata": {},
     "output_type": "execute_result"
    }
   ],
   "source": [
    "# Calculemos media e desvio padrao\n",
    "media_populacional_temperatura = df_temperatura.mean()\n",
    "media_populacional_temperatura"
   ]
  },
  {
   "cell_type": "code",
   "execution_count": 8,
   "id": "be239bc0",
   "metadata": {},
   "outputs": [
    {
     "data": {
      "text/plain": [
       "9.551546320657026"
      ]
     },
     "execution_count": 8,
     "metadata": {},
     "output_type": "execute_result"
    }
   ],
   "source": [
    "desvio_populacional_temperatura = df_temperatura.std()\n",
    "desvio_populacional_temperatura"
   ]
  },
  {
   "cell_type": "markdown",
   "id": "71a4d697",
   "metadata": {},
   "source": [
    "Pertence a uma distribuicao normal?"
   ]
  },
  {
   "cell_type": "code",
   "execution_count": 9,
   "id": "5daf2fb5",
   "metadata": {},
   "outputs": [],
   "source": [
    "# Q–Q plot\n",
    "\n",
    "from statsmodels.graphics.gofplots import qqplot"
   ]
  },
  {
   "cell_type": "code",
   "execution_count": 10,
   "id": "00844d7d",
   "metadata": {},
   "outputs": [
    {
     "data": {
      "image/png": "[encoded data removed]",
      "text/plain": [
       "<Figure size 432x288 with 1 Axes>"
      ]
     },
     "metadata": {
      "needs_background": "light"
     },
     "output_type": "display_data"
    }
   ],
   "source": [
    "qqplot(df_temperatura, line = 's')\n",
    "plt.show();"
   ]
  },
  {
   "cell_type": "code",
   "execution_count": 11,
   "id": "bbaaaf9a",
   "metadata": {},
   "outputs": [],
   "source": [
    "# Geremos uma amostra para estudar ela e suas estatisticas descritivas\n",
    "amostra_temperatura = df_temperatura.sample(n=100)"
   ]
  },
  {
   "cell_type": "code",
   "execution_count": 12,
   "id": "0cafca64",
   "metadata": {},
   "outputs": [
    {
     "data": {
      "image/png": "[encoded data removed]",
      "text/plain": [
       "<Figure size 432x288 with 1 Axes>"
      ]
     },
     "metadata": {
      "needs_background": "light"
     },
     "output_type": "display_data"
    }
   ],
   "source": [
    "amostra_temperatura.hist(bins=20);"
   ]
  },
  {
   "cell_type": "code",
   "execution_count": null,
   "id": "8a017e21",
   "metadata": {},
   "outputs": [],
   "source": []
  },
  {
   "cell_type": "markdown",
   "id": "4a5e3888",
   "metadata": {},
   "source": [
    "## Inferencia estatistica"
   ]
  },
  {
   "cell_type": "markdown",
   "id": "b5790f61",
   "metadata": {},
   "source": [
    "- Qual a probabilidade de ter mais de 15 graus em um dia aleatorio?"
   ]
  },
  {
   "cell_type": "markdown",
   "id": "54124fe0",
   "metadata": {},
   "source": [
    "Seja minha variavel aleatoria: \n",
    "\n",
    "- X : temperatura em um dia aleatorio\n",
    "\n",
    "Eu quero calcular:\n",
    "$$P(X > 15)$$"
   ]
  },
  {
   "cell_type": "code",
   "execution_count": 13,
   "id": "3a1148a9",
   "metadata": {},
   "outputs": [],
   "source": [
    "X = 15 # valor q estamos verificando"
   ]
  },
  {
   "cell_type": "code",
   "execution_count": 14,
   "id": "ccfc74cb",
   "metadata": {},
   "outputs": [
    {
     "data": {
      "text/plain": [
       "0.3211335065040156"
      ]
     },
     "execution_count": 14,
     "metadata": {},
     "output_type": "execute_result"
    }
   ],
   "source": [
    "z = (X - media_populacional_temperatura) / desvio_populacional_temperatura\n",
    "z"
   ]
  },
  {
   "cell_type": "code",
   "execution_count": 16,
   "id": "54a22f93",
   "metadata": {},
   "outputs": [
    {
     "data": {
      "text/plain": [
       "0.3740546097114126"
      ]
     },
     "execution_count": 16,
     "metadata": {},
     "output_type": "execute_result"
    }
   ],
   "source": [
    "from scipy.stats import norm\n",
    "\n",
    "probabilidade_mais_15_graus = 1 - norm.cdf(z)\n",
    "probabilidade_mais_15_graus"
   ]
  },
  {
   "cell_type": "code",
   "execution_count": 19,
   "id": "d6c1207f",
   "metadata": {},
   "outputs": [
    {
     "data": {
      "text/plain": [
       "0.3832332846049371"
      ]
     },
     "execution_count": 19,
     "metadata": {},
     "output_type": "execute_result"
    }
   ],
   "source": [
    "len(df_temperatura[df_temperatura > 15]) / len(df_temperatura)"
   ]
  },
  {
   "cell_type": "code",
   "execution_count": 20,
   "id": "0c46e2f6",
   "metadata": {},
   "outputs": [
    {
     "data": {
      "text/plain": [
       "0.38"
      ]
     },
     "execution_count": 20,
     "metadata": {},
     "output_type": "execute_result"
    }
   ],
   "source": [
    "len(amostra_temperatura[amostra_temperatura > 15]) / len(amostra_temperatura)"
   ]
  },
  {
   "cell_type": "markdown",
   "id": "bb545e88",
   "metadata": {},
   "source": [
    "a <img src=\"https://zscoregeek.com/wp-content/uploads/2021/09/positive-z-score-table-493x1024.png\" width=500>"
   ]
  },
  {
   "cell_type": "code",
   "execution_count": null,
   "id": "8e6323b6",
   "metadata": {},
   "outputs": [],
   "source": [
    "from scipy.stats import norm\n",
    "\n"
   ]
  },
  {
   "cell_type": "markdown",
   "id": "23755d5f",
   "metadata": {},
   "source": [
    "- Qual a probabilidade de ter mais de 15 graus em uma amostra de 100 dias?"
   ]
  },
  {
   "cell_type": "code",
   "execution_count": null,
   "id": "e6fc3648",
   "metadata": {},
   "outputs": [],
   "source": [
    "X = 15\n",
    "tamanho_amostra = 100"
   ]
  },
  {
   "cell_type": "code",
   "execution_count": null,
   "id": "d64b6833",
   "metadata": {},
   "outputs": [],
   "source": [
    "probabilidade_mais_15_graus_amostra = "
   ]
  },
  {
   "cell_type": "code",
   "execution_count": null,
   "id": "6d234878",
   "metadata": {},
   "outputs": [],
   "source": [
    "amostra_temperatura[amostra_temperatura > 15].shape[0]"
   ]
  },
  {
   "cell_type": "markdown",
   "id": "5867210c",
   "metadata": {},
   "source": [
    "## Teste de hipoteses"
   ]
  },
  {
   "cell_type": "markdown",
   "id": "6c53ef41",
   "metadata": {},
   "source": [
    "Considerando nossa amostra de temperatura de 100 dias.\n",
    "- Avalie a hipoteses de uma media populacional teorica de 11.93 graus contra a hipoteses alternativa de que es maior a 11.93 com um nivel de significancia de 5%."
   ]
  },
  {
   "cell_type": "code",
   "execution_count": null,
   "id": "44404cfc",
   "metadata": {},
   "outputs": [],
   "source": [
    "# Paso 1: Propor as hipoteses\n",
    "\n",
    "# Ho - media populacional é de 11,93 graus \n",
    "# H1 - media populacional é maior a 11,93 graus\n",
    "\n",
    "# Paso 2: Especificar o nivel de significancia\n",
    "\n",
    "alpha = 0.05\n",
    "\n",
    "# Paso 3: Calcular valores critico e de teste, definindo zonas de aceitacao e rejeicao de Ho\n",
    "\n",
    "# Como H1 pede comparar se o valor é MAIOR, falamos de uma cauda direita (se fosse 'maior' seria cauda esquerda, \n",
    "# se fosse 'diferente' seria com duas caudas)\n",
    "\n",
    "# os valores dentro da cauda direita rejeitam a hipotese Ho, e os valores maiores aceitam a hipotese\n",
    "\n",
    "valor_critico \n",
    "\n",
    "valor_teste "
   ]
  },
  {
   "cell_type": "code",
   "execution_count": null,
   "id": "03643c04",
   "metadata": {},
   "outputs": [],
   "source": [
    "# Paso 4: Decisao e conclusao\n",
    "# "
   ]
  }
 ],
 "metadata": {
  "kernelspec": {
   "display_name": "Python 3.10.7 64-bit (microsoft store)",
   "language": "python",
   "name": "python3"
  },
  "language_info": {
   "codemirror_mode": {
    "name": "ipython",
    "version": 3
   },
   "file_extension": ".py",
   "mimetype": "text/x-python",
   "name": "python",
   "nbconvert_exporter": "python",
   "pygments_lexer": "ipython3",
   "version": "3.10.7"
  },
  "vscode": {
   "interpreter": {
    "hash": "d8c2dbe515bb1e132c806da356eed840d95260b43840da4c22c4a5911b708884"
   }
  }
 },
 "nbformat": 4,
 "nbformat_minor": 5
}

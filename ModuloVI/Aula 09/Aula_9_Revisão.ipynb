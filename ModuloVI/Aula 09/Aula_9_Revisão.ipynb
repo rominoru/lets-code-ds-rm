{
  "nbformat": 4,
  "nbformat_minor": 0,
  "metadata": {
    "colab": {
      "provenance": [],
      "collapsed_sections": []
    },
    "kernelspec": {
      "name": "python3",
      "display_name": "Python 3"
    },
    "language_info": {
      "name": "python"
    }
  },
  "cells": [
    {
      "cell_type": "markdown",
      "source": [
        "# Estatística Descritiva"
      ],
      "metadata": {
        "id": "TE0X-P9VwR46"
      }
    },
    {
      "cell_type": "markdown",
      "source": [
        "## 1) Análise dos Dados"
      ],
      "metadata": {
        "id": "jOYPPY6qwZVZ"
      }
    },
    {
      "cell_type": "code",
      "source": [
        "import pandas as pd\n",
        "import matplotlib.pyplot as plt\n",
        "import random\n",
        "import numpy as np"
      ],
      "metadata": {
        "id": "-qLQTmGD9nfr"
      },
      "execution_count": null,
      "outputs": []
    },
    {
      "cell_type": "code",
      "execution_count": null,
      "metadata": {
        "id": "BETnbu4yA9qZ"
      },
      "outputs": [],
      "source": [
        "df_titanic = pd.read_csv('/content/Titanic_data.csv')"
      ]
    },
    {
      "cell_type": "code",
      "execution_count": null,
      "metadata": {
        "id": "a3gii7OkA9qZ",
        "outputId": "244fa994-d472-4ac2-f6e2-c5b74822c8f0",
        "colab": {
          "base_uri": "https://localhost:8080/"
        }
      },
      "outputs": [
        {
          "output_type": "stream",
          "name": "stdout",
          "text": [
            "<class 'pandas.core.frame.DataFrame'>\n",
            "RangeIndex: 891 entries, 0 to 890\n",
            "Data columns (total 12 columns):\n",
            " #   Column       Non-Null Count  Dtype  \n",
            "---  ------       --------------  -----  \n",
            " 0   PassengerId  891 non-null    int64  \n",
            " 1   Survived     891 non-null    int64  \n",
            " 2   Pclass       891 non-null    int64  \n",
            " 3   Name         891 non-null    object \n",
            " 4   Sex          891 non-null    object \n",
            " 5   Age          714 non-null    float64\n",
            " 6   SibSp        891 non-null    int64  \n",
            " 7   Parch        891 non-null    int64  \n",
            " 8   Ticket       891 non-null    object \n",
            " 9   Fare         891 non-null    float64\n",
            " 10  Cabin        204 non-null    object \n",
            " 11  Embarked     889 non-null    object \n",
            "dtypes: float64(2), int64(5), object(5)\n",
            "memory usage: 83.7+ KB\n"
          ]
        }
      ],
      "source": [
        "df_titanic.info()"
      ]
    },
    {
      "cell_type": "markdown",
      "metadata": {
        "id": "fq_UPCEfA9qa"
      },
      "source": [
        "O conjunto de treinamento tem 891 exemplos e 11 características + a variável de destino (Survived) . 2 dos recursos são floats, 5 são inteiros e 5 são objetos. Abaixo listei os recursos com uma breve descrição:\n",
        "\n",
        "* survival: Sobrevivente\n",
        "* PassengerId: ID único de um passageiro\n",
        "* Pclass: Classe de bilhetes\n",
        "* Sex: Sexo\n",
        "* Age: Idade em anos\n",
        "* Sibsp: Número de irmãos / cônjuges a bordo do Titanic\n",
        "* Parch: Número de pais / filhos a bordo do Titanic\n",
        "* Ticket: Numero do bilhete\n",
        "* Fare: Tarifa de passageiros\n",
        "* Cabin: Número de cabine\n",
        "* Embarked: Porto de embarcação"
      ]
    },
    {
      "cell_type": "code",
      "execution_count": null,
      "metadata": {
        "id": "czsRggg8A9qa",
        "outputId": "7fffa8e4-84b1-4968-d90a-26a679c04c16",
        "colab": {
          "base_uri": "https://localhost:8080/"
        }
      },
      "outputs": [
        {
          "output_type": "execute_result",
          "data": {
            "text/plain": [
              "577"
            ]
          },
          "metadata": {},
          "execution_count": 13
        }
      ],
      "source": [
        "df_titanic[df_titanic['Sex']=='male'].Sex.count()"
      ]
    },
    {
      "cell_type": "code",
      "source": [
        "df_titanic[df_titanic['Sex']=='female'].Sex.count()"
      ],
      "metadata": {
        "colab": {
          "base_uri": "https://localhost:8080/"
        },
        "id": "eJQWX5blcM3_",
        "outputId": "fd14c692-5534-40d3-a805-c778e1ffc947"
      },
      "execution_count": null,
      "outputs": [
        {
          "output_type": "execute_result",
          "data": {
            "text/plain": [
              "314"
            ]
          },
          "metadata": {},
          "execution_count": 14
        }
      ]
    },
    {
      "cell_type": "code",
      "execution_count": null,
      "metadata": {
        "id": "8Dx88R_hA9qa",
        "outputId": "3a2b7f0a-e00b-483d-aa1d-971d069a5536",
        "colab": {
          "base_uri": "https://localhost:8080/",
          "height": 284
        }
      },
      "outputs": [
        {
          "output_type": "execute_result",
          "data": {
            "text/plain": [
              "<BarContainer object of 2 artists>"
            ]
          },
          "metadata": {},
          "execution_count": 15
        },
        {
          "output_type": "display_data",
          "data": {
            "text/plain": [
              "<Figure size 432x288 with 1 Axes>"
            ],
            "image/png": "[encoded data removed]"
          },
          "metadata": {
            "needs_background": "light"
          }
        }
      ],
      "source": [
        "plt.bar(['male','female'],[df_titanic[df_titanic['Sex']=='male'].Sex.count(),df_titanic[df_titanic['Sex']=='female'].Sex.count()])"
      ]
    },
    {
      "cell_type": "code",
      "execution_count": null,
      "metadata": {
        "id": "64RAE6eKA9qb",
        "outputId": "5561bc6f-5551-43f7-e55a-1de195bfe5b6",
        "colab": {
          "base_uri": "https://localhost:8080/",
          "height": 411
        }
      },
      "outputs": [
        {
          "output_type": "display_data",
          "data": {
            "text/plain": [
              "<Figure size 720x504 with 1 Axes>"
            ],
            "image/png": "[encoded data removed]"
          },
          "metadata": {}
        }
      ],
      "source": [
        "fig = plt.figure(figsize =(10, 7))\n",
        "plt.pie([df_titanic[df_titanic['Sex']=='male'].Sex.count(),df_titanic[df_titanic['Sex']=='female'].Sex.count()],labels=['male','female'])\n",
        "plt.show()"
      ]
    },
    {
      "cell_type": "code",
      "execution_count": null,
      "metadata": {
        "id": "2zus4-K7A9qb",
        "outputId": "6898c322-5ef1-4351-9e77-5fa909cd92a8",
        "colab": {
          "base_uri": "https://localhost:8080/",
          "height": 265
        }
      },
      "outputs": [
        {
          "output_type": "display_data",
          "data": {
            "text/plain": [
              "<Figure size 432x288 with 1 Axes>"
            ],
            "image/png": "[encoded data removed]"
          },
          "metadata": {
            "needs_background": "light"
          }
        }
      ],
      "source": [
        "plt.hist(df_titanic['Age'],bins=10)\n",
        "plt.show()"
      ]
    },
    {
      "cell_type": "code",
      "execution_count": null,
      "metadata": {
        "id": "U727nCwkA9qb",
        "outputId": "e652a151-2116-4a96-d7c5-08472d0764ca",
        "colab": {
          "base_uri": "https://localhost:8080/",
          "height": 282
        }
      },
      "outputs": [
        {
          "output_type": "execute_result",
          "data": {
            "text/plain": [
              "<matplotlib.collections.PathCollection at 0x7fccaa022dd0>"
            ]
          },
          "metadata": {},
          "execution_count": 19
        },
        {
          "output_type": "display_data",
          "data": {
            "text/plain": [
              "<Figure size 432x288 with 1 Axes>"
            ],
            "image/png": "[encoded data removed]"
          },
          "metadata": {
            "needs_background": "light"
          }
        }
      ],
      "source": [
        "plt.scatter(df_titanic['Age'],df_titanic['Fare'])"
      ]
    },
    {
      "cell_type": "code",
      "execution_count": null,
      "metadata": {
        "id": "ShBvj9csA9qc",
        "outputId": "5d847562-33de-43e2-ab8e-aef7325a184a",
        "colab": {
          "base_uri": "https://localhost:8080/",
          "height": 337
        }
      },
      "outputs": [
        {
          "output_type": "stream",
          "name": "stderr",
          "text": [
            "/usr/local/lib/python3.7/dist-packages/matplotlib/cbook/__init__.py:1376: VisibleDeprecationWarning: Creating an ndarray from ragged nested sequences (which is a list-or-tuple of lists-or-tuples-or ndarrays with different lengths or shapes) is deprecated. If you meant to do this, you must specify 'dtype=object' when creating the ndarray.\n",
            "  X = np.atleast_1d(X.T if isinstance(X, np.ndarray) else np.asarray(X))\n"
          ]
        },
        {
          "output_type": "execute_result",
          "data": {
            "text/plain": [
              "<matplotlib.axes._subplots.AxesSubplot at 0x7fcca9eb2890>"
            ]
          },
          "metadata": {},
          "execution_count": 21
        },
        {
          "output_type": "display_data",
          "data": {
            "text/plain": [
              "<Figure size 432x288 with 1 Axes>"
            ],
            "image/png": "[encoded data removed]"
          },
          "metadata": {
            "needs_background": "light"
          }
        }
      ],
      "source": [
        "df_titanic.boxplot(column=['Age','Fare'])"
      ]
    },
    {
      "cell_type": "markdown",
      "metadata": {
        "id": "2kNJRzoHA9qc"
      },
      "source": [
        "## 2) Métricas de Posição (média, mediana e moda) <a class=\"anchor\" id=\"dois\"></a>"
      ]
    },
    {
      "cell_type": "markdown",
      "metadata": {
        "id": "sDmJc4tIA9qc"
      },
      "source": [
        "**Média (mean, average):** Demonstra a concentração dos dados de uma distribuição. É como se fosse o ponto de equilíbrio da distribuição e pode ser calculada por:\n",
        "\n",
        "!['média'](https://miro.medium.com/max/628/1*U9LeYbNWJt0YERVo4KU61w.png)"
      ]
    },
    {
      "cell_type": "code",
      "execution_count": null,
      "metadata": {
        "id": "84588L0_A9qd",
        "outputId": "547a497e-2fc5-4326-d39d-ae4661d4f540",
        "colab": {
          "base_uri": "https://localhost:8080/"
        }
      },
      "outputs": [
        {
          "output_type": "execute_result",
          "data": {
            "text/plain": [
              "29.69911764705882"
            ]
          },
          "metadata": {},
          "execution_count": 22
        }
      ],
      "source": [
        "media_idade = df_titanic['Age'].sum()/df_titanic['Age'].count() #Posso usar length também\n",
        "media_idade"
      ]
    },
    {
      "cell_type": "code",
      "execution_count": null,
      "metadata": {
        "id": "88n4WJYMA9qd",
        "outputId": "fc01cb65-ea66-45e8-b1d5-6ef1430cefe2",
        "colab": {
          "base_uri": "https://localhost:8080/"
        }
      },
      "outputs": [
        {
          "output_type": "execute_result",
          "data": {
            "text/plain": [
              "29.69911764705882"
            ]
          },
          "metadata": {},
          "execution_count": 23
        }
      ],
      "source": [
        "df_titanic['Age'].mean()"
      ]
    },
    {
      "cell_type": "markdown",
      "metadata": {
        "id": "Rq6B7ADJA9qd"
      },
      "source": [
        "**Moda:** Representa o(s) valores mais comuns dos dados:\n",
        "* Unimodal: 1 único valor;\n",
        "* Bimodal: 2 valores;\n",
        "* Multimodal: Mais de 2 valores como os que mais aparecem;\n",
        "* Amodal: Não existe moda.\n"
      ]
    },
    {
      "cell_type": "code",
      "execution_count": null,
      "metadata": {
        "id": "WHjprI6FA9qe",
        "outputId": "c9058b7d-970b-427b-9db7-f86224819338",
        "colab": {
          "base_uri": "https://localhost:8080/"
        }
      },
      "outputs": [
        {
          "output_type": "execute_result",
          "data": {
            "text/plain": [
              "0    24.0\n",
              "dtype: float64"
            ]
          },
          "metadata": {},
          "execution_count": 24
        }
      ],
      "source": [
        "df_titanic['Age'].mode()"
      ]
    },
    {
      "cell_type": "markdown",
      "metadata": {
        "id": "VedRmmw_A9qf"
      },
      "source": [
        "**Mediana**: É o ponto médio, que divide os dados em 50% maiores e 50% maiores do que ele. É também conhecido como o 2°quartil (uma medida separatriz).\n",
        "* Primeiro quartil (designado por Q1) = quartil inferior = é o valor aos 25% da amostra ordenada = 25º percentil;\n",
        "* Segundo quartil (designado por Q2) = mediana = é o valor até ao qual se encontra 50% da amostra ordenada = 50º percentil, ou 5º decil;\n",
        "* Terceiro quartil (designado por Q3) = quartil superior = valor a partir do qual se encontram 25% dos valores mais elevados = valor aos 75% da amostra ordenada = 75º percentil."
      ]
    },
    {
      "cell_type": "code",
      "execution_count": null,
      "metadata": {
        "id": "3efiIYBnA9qf",
        "outputId": "f96c712d-6feb-4d62-dab3-0c7ff07ea448",
        "colab": {
          "base_uri": "https://localhost:8080/"
        }
      },
      "outputs": [
        {
          "output_type": "execute_result",
          "data": {
            "text/plain": [
              "count    714.000000\n",
              "mean      29.699118\n",
              "std       14.526497\n",
              "min        0.420000\n",
              "25%       20.125000\n",
              "50%       28.000000\n",
              "75%       38.000000\n",
              "max       80.000000\n",
              "Name: Age, dtype: float64"
            ]
          },
          "metadata": {},
          "execution_count": 25
        }
      ],
      "source": [
        "df_titanic['Age'].describe()"
      ]
    },
    {
      "cell_type": "markdown",
      "metadata": {
        "id": "642FSTfRA9qg"
      },
      "source": [
        "## 3) Quartis e Interpretação por BoxPlot <a class=\"anchor\" id=\"três\"></a>"
      ]
    },
    {
      "cell_type": "code",
      "execution_count": null,
      "metadata": {
        "id": "uvC49bMWA9qg",
        "outputId": "bf731c1f-24ed-48c5-c40e-63c9f2f16eb0",
        "colab": {
          "base_uri": "https://localhost:8080/",
          "height": 282
        }
      },
      "outputs": [
        {
          "output_type": "execute_result",
          "data": {
            "text/plain": [
              "<matplotlib.axes._subplots.AxesSubplot at 0x7fcca9d07090>"
            ]
          },
          "metadata": {},
          "execution_count": 26
        },
        {
          "output_type": "display_data",
          "data": {
            "text/plain": [
              "<Figure size 432x288 with 1 Axes>"
            ],
            "image/png": "[encoded data removed]"
          },
          "metadata": {
            "needs_background": "light"
          }
        }
      ],
      "source": [
        "df_titanic.boxplot(column=['Age'])"
      ]
    },
    {
      "cell_type": "markdown",
      "metadata": {
        "id": "4iFKJSUqA9qg"
      },
      "source": [
        "## 4) Identificação de Anomalias (Outliers) <a class=\"anchor\" id=\"quatro\"></a>"
      ]
    },
    {
      "cell_type": "markdown",
      "metadata": {
        "id": "lE6y0MvXA9qh"
      },
      "source": [
        "*Outlier* são dados diferentes dos outros pontos que podem causar problemas em procedimentos estatísticos (mudar uma média).\n",
        "\n",
        "**Exemplo:** Mudar uma idade e ver a média.\n",
        "\n",
        "* Solução 1: Ordenar os dados para encontrar outliers;\n",
        "* Solução 2: Utilizar gráficos: dispersão, boxplot;\n",
        "* Solução 3: Utilizar IQR para encontrar;\n",
        "* Solução 4: Utilizar o Z-score.\n"
      ]
    },
    {
      "cell_type": "markdown",
      "source": [
        "teste de hipóteses:\n",
        "\n",
        "H0: $X = max$\n",
        "\n",
        "H1: $X>max$"
      ],
      "metadata": {
        "id": "9TJ_5VilhM09"
      }
    },
    {
      "cell_type": "markdown",
      "metadata": {
        "id": "c1gKmdbEA9qi"
      },
      "source": [
        "## 5) Métricas de Dispersão (amplitude, variância, covariância e desvio padrão <a class=\"anchor\" id=\"cinco\"></a>"
      ]
    },
    {
      "cell_type": "markdown",
      "metadata": {
        "id": "PudDYxr_A9qi"
      },
      "source": [
        "**Amplitude**: A diferença entre o maior e o menor valor de um conjunto de dados."
      ]
    },
    {
      "cell_type": "code",
      "execution_count": null,
      "metadata": {
        "id": "AX93WxoqA9qi",
        "outputId": "41ab93a7-abfe-4d9e-c30b-e8d53b991c9a",
        "colab": {
          "base_uri": "https://localhost:8080/"
        }
      },
      "outputs": [
        {
          "output_type": "execute_result",
          "data": {
            "text/plain": [
              "79.58"
            ]
          },
          "metadata": {},
          "execution_count": 27
        }
      ],
      "source": [
        "#Amplitude:\n",
        "df_titanic['Age'].max()-df_titanic['Age'].min()"
      ]
    },
    {
      "cell_type": "markdown",
      "metadata": {
        "id": "HjWox-Q5A9qj"
      },
      "source": [
        "**Amplitude Interquartil:** Diferença entre o 1° e o 3° interquartil."
      ]
    },
    {
      "cell_type": "code",
      "execution_count": null,
      "metadata": {
        "id": "XjXixQLKA9qj",
        "outputId": "356dc00a-9189-414a-e704-97156a4abd20",
        "colab": {
          "base_uri": "https://localhost:8080/",
          "height": 282
        }
      },
      "outputs": [
        {
          "output_type": "execute_result",
          "data": {
            "text/plain": [
              "<matplotlib.axes._subplots.AxesSubplot at 0x7fcca9c0f710>"
            ]
          },
          "metadata": {},
          "execution_count": 29
        },
        {
          "output_type": "display_data",
          "data": {
            "text/plain": [
              "<Figure size 432x288 with 1 Axes>"
            ],
            "image/png": "[encoded data removed]"
          },
          "metadata": {
            "needs_background": "light"
          }
        }
      ],
      "source": [
        "df_titanic.boxplot(column=['Age'])"
      ]
    },
    {
      "cell_type": "code",
      "execution_count": null,
      "metadata": {
        "id": "xQpASY_ZA9qk"
      },
      "outputs": [],
      "source": [
        "#Encontrando o primeiro quartil\n",
        "Q1 = df_titanic['Age'].quantile(0.25)\n",
        "#Encontrando o terceiro quartil\n",
        "Q3 = df_titanic['Age'].quantile(0.75)"
      ]
    },
    {
      "cell_type": "code",
      "execution_count": null,
      "metadata": {
        "id": "8QekpnX7A9qk",
        "outputId": "2b378d03-8980-456b-8e3a-bbe39000ab3e",
        "colab": {
          "base_uri": "https://localhost:8080/"
        }
      },
      "outputs": [
        {
          "output_type": "execute_result",
          "data": {
            "text/plain": [
              "17.875"
            ]
          },
          "metadata": {},
          "execution_count": 31
        }
      ],
      "source": [
        "IQR = Q3-Q1\n",
        "IQR"
      ]
    },
    {
      "cell_type": "markdown",
      "metadata": {
        "id": "6qi_I5kFA9ql"
      },
      "source": [
        "**Variância:** Mede o quanto os dados estão dispersos com relação à média. É calculada da seguinte forma:\n",
        "\n",
        "!['Variância'](https://miro.medium.com/max/996/1*7BEyGiM3JHEEmU2XTB1zZA.png)"
      ]
    },
    {
      "cell_type": "code",
      "execution_count": null,
      "metadata": {
        "id": "cVJTwPhpA9ql",
        "outputId": "be0fb01d-bebb-4441-e03e-138601372b85",
        "colab": {
          "base_uri": "https://localhost:8080/"
        }
      },
      "outputs": [
        {
          "output_type": "execute_result",
          "data": {
            "text/plain": [
              "[1, 0, 1]"
            ]
          },
          "metadata": {},
          "execution_count": 32
        }
      ],
      "source": [
        "list(map(lambda x: (x-2)**2,[1,2,3]))"
      ]
    },
    {
      "cell_type": "code",
      "execution_count": null,
      "metadata": {
        "id": "iralwXVqA9qm"
      },
      "outputs": [],
      "source": [
        "media = df_titanic['Age'].mean()\n",
        "sum_erro = sum(list(map(lambda x: (x-media)**2,df_titanic['Age'].dropna())))"
      ]
    },
    {
      "cell_type": "code",
      "execution_count": null,
      "metadata": {
        "id": "l9c2O_E3A9qm",
        "outputId": "7a281116-c7d1-4751-8f09-cc361a62da4b",
        "colab": {
          "base_uri": "https://localhost:8080/"
        }
      },
      "outputs": [
        {
          "output_type": "execute_result",
          "data": {
            "text/plain": [
              "150456.63594411768"
            ]
          },
          "metadata": {},
          "execution_count": 34
        }
      ],
      "source": [
        "sum_erro"
      ]
    },
    {
      "cell_type": "code",
      "execution_count": null,
      "metadata": {
        "id": "cpyRBdUKA9qm",
        "outputId": "1c3ad34c-7f99-4820-9dee-596a1f7b5d56",
        "colab": {
          "base_uri": "https://localhost:8080/"
        }
      },
      "outputs": [
        {
          "output_type": "execute_result",
          "data": {
            "text/plain": [
              "210.7235797536662"
            ]
          },
          "metadata": {},
          "execution_count": 35
        }
      ],
      "source": [
        "variancia = sum_erro/len(df_titanic['Age'].dropna())\n",
        "variancia"
      ]
    },
    {
      "cell_type": "markdown",
      "metadata": {
        "id": "WlW_w-s3A9qn"
      },
      "source": [
        "**Desvio-padrão**: mais utilizado por estar na unidade dos dados. É a raiz quadrada da variância.\n",
        "\n",
        "!['Desvio-padrão'](https://miro.medium.com/max/1152/1*qPMBPNKhZvuPIBN1BQLV7w.png)\n"
      ]
    },
    {
      "cell_type": "code",
      "execution_count": null,
      "metadata": {
        "id": "a-GWqj6tA9qn",
        "outputId": "54e3623e-8b5a-4313-afb8-a8b187a48b25",
        "colab": {
          "base_uri": "https://localhost:8080/"
        }
      },
      "outputs": [
        {
          "output_type": "execute_result",
          "data": {
            "text/plain": [
              "14.516321150817317"
            ]
          },
          "metadata": {},
          "execution_count": 36
        }
      ],
      "source": [
        "dvp = np.sqrt(variancia)\n",
        "dvp"
      ]
    },
    {
      "cell_type": "markdown",
      "metadata": {
        "id": "SaYu_KsdA9qo"
      },
      "source": [
        "**Coeficiente de variação:** Variabilidade dos dados em relação à média.\n",
        "\n",
        "**Desvio-padrão** é menor (CV<100%) ou maior (CV>100%) do que a média.\n",
        "\n",
        "!['Coeficiente de Variação'](https://www.questoesestrategicas.com.br//imgs//?i=lAhgne6HtltF2uKrJPYUvB2i0W7KTGqTYsaFKn3c5BM)\n"
      ]
    },
    {
      "cell_type": "code",
      "execution_count": null,
      "metadata": {
        "id": "GSJPh6ssA9qo",
        "outputId": "7d58f8d5-c623-4077-b261-9d551a9bedc0",
        "colab": {
          "base_uri": "https://localhost:8080/"
        }
      },
      "outputs": [
        {
          "output_type": "execute_result",
          "data": {
            "text/plain": [
              "count    714.000000\n",
              "mean      29.699118\n",
              "std       14.526497\n",
              "min        0.420000\n",
              "25%       20.125000\n",
              "50%       28.000000\n",
              "75%       38.000000\n",
              "max       80.000000\n",
              "Name: Age, dtype: float64"
            ]
          },
          "metadata": {},
          "execution_count": 37
        }
      ],
      "source": [
        "df_titanic['Age'].describe()"
      ]
    },
    {
      "cell_type": "code",
      "execution_count": null,
      "metadata": {
        "id": "wO3iEjyjA9qp",
        "outputId": "eb77251d-ecb7-480f-881e-057c16d0831d",
        "colab": {
          "base_uri": "https://localhost:8080/"
        }
      },
      "outputs": [
        {
          "output_type": "execute_result",
          "data": {
            "text/plain": [
              "count    891.000000\n",
              "mean      32.204208\n",
              "std       49.693429\n",
              "min        0.000000\n",
              "25%        7.910400\n",
              "50%       14.454200\n",
              "75%       31.000000\n",
              "max      512.329200\n",
              "Name: Fare, dtype: float64"
            ]
          },
          "metadata": {},
          "execution_count": 38
        }
      ],
      "source": [
        "df_titanic['Fare'].describe()"
      ]
    },
    {
      "cell_type": "code",
      "execution_count": null,
      "metadata": {
        "id": "gdsq8NGeA9qp",
        "outputId": "9193d3dd-3c33-4adb-e81e-4b81ccbe7c3d",
        "colab": {
          "base_uri": "https://localhost:8080/"
        }
      },
      "outputs": [
        {
          "output_type": "execute_result",
          "data": {
            "text/plain": [
              "0.48912216854386054"
            ]
          },
          "metadata": {},
          "execution_count": 41
        }
      ],
      "source": [
        "CV1 = 14.526497/29.699118\n",
        "CV1"
      ]
    },
    {
      "cell_type": "code",
      "execution_count": null,
      "metadata": {
        "id": "4sKyS1WqA9qq",
        "outputId": "7bfd4824-4114-461b-b2eb-a9e2b35b2167",
        "colab": {
          "base_uri": "https://localhost:8080/"
        }
      },
      "outputs": [
        {
          "output_type": "execute_result",
          "data": {
            "text/plain": [
              "1.543072538843371"
            ]
          },
          "metadata": {},
          "execution_count": 40
        }
      ],
      "source": [
        "CV2 = 49.693429/32.204208\n",
        "CV2"
      ]
    },
    {
      "cell_type": "markdown",
      "metadata": {
        "id": "CyU8hMXCA9qs"
      },
      "source": [
        "**Covariância:** A covariância é uma medida estatística onde é possível comparar duas variáveis, permitindo entender como elas se relacionam entre si.\n",
        "\n",
        "!['Covariância'](data:image/png;base64,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)"
      ]
    },
    {
      "cell_type": "code",
      "source": [
        "df_titanic.cov()"
      ],
      "metadata": {
        "id": "oWJYF9FheiXv",
        "colab": {
          "base_uri": "https://localhost:8080/",
          "height": 269
        },
        "outputId": "b0a4f111-e1f5-48c3-e5a6-e23aaf7daee3"
      },
      "execution_count": null,
      "outputs": [
        {
          "output_type": "execute_result",
          "data": {
            "text/plain": [
              "              PassengerId  Survived     Pclass         Age      SibSp  \\\n",
              "PassengerId  66231.000000 -0.626966  -7.561798  138.696504 -16.325843   \n",
              "Survived        -0.626966  0.236772  -0.137703   -0.551296  -0.018954   \n",
              "Pclass          -7.561798 -0.137703   0.699015   -4.496004   0.076599   \n",
              "Age            138.696504 -0.551296  -4.496004  211.019125  -4.163334   \n",
              "SibSp          -16.325843 -0.018954   0.076599   -4.163334   1.216043   \n",
              "Parch           -0.342697  0.032017   0.012429   -2.344191   0.368739   \n",
              "Fare           161.883369  6.221787 -22.830196   73.849030   8.748734   \n",
              "\n",
              "                Parch         Fare  \n",
              "PassengerId -0.342697   161.883369  \n",
              "Survived     0.032017     6.221787  \n",
              "Pclass       0.012429   -22.830196  \n",
              "Age         -2.344191    73.849030  \n",
              "SibSp        0.368739     8.748734  \n",
              "Parch        0.649728     8.661052  \n",
              "Fare         8.661052  2469.436846  "
            ],
            "text/html": [
              "\n",
              "  <div id=\"df-fe72049a-8976-4882-879c-bca460d4f375\">\n",
              "    <div class=\"colab-df-container\">\n",
              "      <div>\n",
              "<style scoped>\n",
              "    .dataframe tbody tr th:only-of-type {\n",
              "        vertical-align: middle;\n",
              "    }\n",
              "\n",
              "    .dataframe tbody tr th {\n",
              "        vertical-align: top;\n",
              "    }\n",
              "\n",
              "    .dataframe thead th {\n",
              "        text-align: right;\n",
              "    }\n",
              "</style>\n",
              "<table border=\"1\" class=\"dataframe\">\n",
              "  <thead>\n",
              "    <tr style=\"text-align: right;\">\n",
              "      <th></th>\n",
              "      <th>PassengerId</th>\n",
              "      <th>Survived</th>\n",
              "      <th>Pclass</th>\n",
              "      <th>Age</th>\n",
              "      <th>SibSp</th>\n",
              "      <th>Parch</th>\n",
              "      <th>Fare</th>\n",
              "    </tr>\n",
              "  </thead>\n",
              "  <tbody>\n",
              "    <tr>\n",
              "      <th>PassengerId</th>\n",
              "      <td>66231.000000</td>\n",
              "      <td>-0.626966</td>\n",
              "      <td>-7.561798</td>\n",
              "      <td>138.696504</td>\n",
              "      <td>-16.325843</td>\n",
              "      <td>-0.342697</td>\n",
              "      <td>161.883369</td>\n",
              "    </tr>\n",
              "    <tr>\n",
              "      <th>Survived</th>\n",
              "      <td>-0.626966</td>\n",
              "      <td>0.236772</td>\n",
              "      <td>-0.137703</td>\n",
              "      <td>-0.551296</td>\n",
              "      <td>-0.018954</td>\n",
              "      <td>0.032017</td>\n",
              "      <td>6.221787</td>\n",
              "    </tr>\n",
              "    <tr>\n",
              "      <th>Pclass</th>\n",
              "      <td>-7.561798</td>\n",
              "      <td>-0.137703</td>\n",
              "      <td>0.699015</td>\n",
              "      <td>-4.496004</td>\n",
              "      <td>0.076599</td>\n",
              "      <td>0.012429</td>\n",
              "      <td>-22.830196</td>\n",
              "    </tr>\n",
              "    <tr>\n",
              "      <th>Age</th>\n",
              "      <td>138.696504</td>\n",
              "      <td>-0.551296</td>\n",
              "      <td>-4.496004</td>\n",
              "      <td>211.019125</td>\n",
              "      <td>-4.163334</td>\n",
              "      <td>-2.344191</td>\n",
              "      <td>73.849030</td>\n",
              "    </tr>\n",
              "    <tr>\n",
              "      <th>SibSp</th>\n",
              "      <td>-16.325843</td>\n",
              "      <td>-0.018954</td>\n",
              "      <td>0.076599</td>\n",
              "      <td>-4.163334</td>\n",
              "      <td>1.216043</td>\n",
              "      <td>0.368739</td>\n",
              "      <td>8.748734</td>\n",
              "    </tr>\n",
              "    <tr>\n",
              "      <th>Parch</th>\n",
              "      <td>-0.342697</td>\n",
              "      <td>0.032017</td>\n",
              "      <td>0.012429</td>\n",
              "      <td>-2.344191</td>\n",
              "      <td>0.368739</td>\n",
              "      <td>0.649728</td>\n",
              "      <td>8.661052</td>\n",
              "    </tr>\n",
              "    <tr>\n",
              "      <th>Fare</th>\n",
              "      <td>161.883369</td>\n",
              "      <td>6.221787</td>\n",
              "      <td>-22.830196</td>\n",
              "      <td>73.849030</td>\n",
              "      <td>8.748734</td>\n",
              "      <td>8.661052</td>\n",
              "      <td>2469.436846</td>\n",
              "    </tr>\n",
              "  </tbody>\n",
              "</table>\n",
              "</div>\n",
              "      <button class=\"colab-df-convert\" onclick=\"convertToInteractive('df-fe72049a-8976-4882-879c-bca460d4f375')\"\n",
              "              title=\"Convert this dataframe to an interactive table.\"\n",
              "              style=\"display:none;\">\n",
              "        \n",
              "  <svg xmlns=\"http://www.w3.org/2000/svg\" height=\"24px\"viewBox=\"0 0 24 24\"\n",
              "       width=\"24px\">\n",
              "    <path d=\"M0 0h24v24H0V0z\" fill=\"none\"/>\n",
              "    <path d=\"M18.56 5.44l.94 2.06.94-2.06 2.06-.94-2.06-.94-.94-2.06-.94 2.06-2.06.94zm-11 1L8.5 8.5l.94-2.06 2.06-.94-2.06-.94L8.5 2.5l-.94 2.06-2.06.94zm10 10l.94 2.06.94-2.06 2.06-.94-2.06-.94-.94-2.06-.94 2.06-2.06.94z\"/><path d=\"M17.41 7.96l-1.37-1.37c-.4-.4-.92-.59-1.43-.59-.52 0-1.04.2-1.43.59L10.3 9.45l-7.72 7.72c-.78.78-.78 2.05 0 2.83L4 21.41c.39.39.9.59 1.41.59.51 0 1.02-.2 1.41-.59l7.78-7.78 2.81-2.81c.8-.78.8-2.07 0-2.86zM5.41 20L4 18.59l7.72-7.72 1.47 1.35L5.41 20z\"/>\n",
              "  </svg>\n",
              "      </button>\n",
              "      \n",
              "  <style>\n",
              "    .colab-df-container {\n",
              "      display:flex;\n",
              "      flex-wrap:wrap;\n",
              "      gap: 12px;\n",
              "    }\n",
              "\n",
              "    .colab-df-convert {\n",
              "      background-color: #E8F0FE;\n",
              "      border: none;\n",
              "      border-radius: 50%;\n",
              "      cursor: pointer;\n",
              "      display: none;\n",
              "      fill: #1967D2;\n",
              "      height: 32px;\n",
              "      padding: 0 0 0 0;\n",
              "      width: 32px;\n",
              "    }\n",
              "\n",
              "    .colab-df-convert:hover {\n",
              "      background-color: #E2EBFA;\n",
              "      box-shadow: 0px 1px 2px rgba(60, 64, 67, 0.3), 0px 1px 3px 1px rgba(60, 64, 67, 0.15);\n",
              "      fill: #174EA6;\n",
              "    }\n",
              "\n",
              "    [theme=dark] .colab-df-convert {\n",
              "      background-color: #3B4455;\n",
              "      fill: #D2E3FC;\n",
              "    }\n",
              "\n",
              "    [theme=dark] .colab-df-convert:hover {\n",
              "      background-color: #434B5C;\n",
              "      box-shadow: 0px 1px 3px 1px rgba(0, 0, 0, 0.15);\n",
              "      filter: drop-shadow(0px 1px 2px rgba(0, 0, 0, 0.3));\n",
              "      fill: #FFFFFF;\n",
              "    }\n",
              "  </style>\n",
              "\n",
              "      <script>\n",
              "        const buttonEl =\n",
              "          document.querySelector('#df-fe72049a-8976-4882-879c-bca460d4f375 button.colab-df-convert');\n",
              "        buttonEl.style.display =\n",
              "          google.colab.kernel.accessAllowed ? 'block' : 'none';\n",
              "\n",
              "        async function convertToInteractive(key) {\n",
              "          const element = document.querySelector('#df-fe72049a-8976-4882-879c-bca460d4f375');\n",
              "          const dataTable =\n",
              "            await google.colab.kernel.invokeFunction('convertToInteractive',\n",
              "                                                     [key], {});\n",
              "          if (!dataTable) return;\n",
              "\n",
              "          const docLinkHtml = 'Like what you see? Visit the ' +\n",
              "            '<a target=\"_blank\" href=https://colab.research.google.com/notebooks/data_table.ipynb>data table notebook</a>'\n",
              "            + ' to learn more about interactive tables.';\n",
              "          element.innerHTML = '';\n",
              "          dataTable['output_type'] = 'display_data';\n",
              "          await google.colab.output.renderOutput(dataTable, element);\n",
              "          const docLink = document.createElement('div');\n",
              "          docLink.innerHTML = docLinkHtml;\n",
              "          element.appendChild(docLink);\n",
              "        }\n",
              "      </script>\n",
              "    </div>\n",
              "  </div>\n",
              "  "
            ]
          },
          "metadata": {},
          "execution_count": 42
        }
      ]
    },
    {
      "cell_type": "markdown",
      "metadata": {
        "id": "MENZNU9-A9qt"
      },
      "source": [
        "## 6) Correlação <a class=\"anchor\" id=\"seis\"></a>"
      ]
    },
    {
      "cell_type": "markdown",
      "metadata": {
        "id": "8MWU-FXTA9qt"
      },
      "source": [
        "A correlação indica a interdependência entre duas ou mais variáveis.\n",
        "\n",
        "Em certos casos essa interdependência é clara:\n",
        "\n",
        "* Massa corporal e altura;\n",
        "* Consumo de combustível e distância percorrida;\n",
        "* Número de anúncios e produtos vendidos;\n",
        "* Tempo de estudo e desempenho na avaliação(nem sempre…rs).\n",
        "* Mas em muitos casos essa relação não é aparente, e assim devemos recorrer a métodos mais confiáveis de detecção. \n",
        "\n",
        "Dentre os métodos mais comuns temos os índices de Pearson, Spearman e Kendall. Vamos falar um pouco sobre esses índices."
      ]
    },
    {
      "cell_type": "markdown",
      "metadata": {
        "id": "hY7LERplA9qu"
      },
      "source": [
        "### Correlação de Pearson"
      ]
    },
    {
      "cell_type": "markdown",
      "metadata": {
        "id": "p3ZARYAoA9qu"
      },
      "source": [
        "Também chamado de “coeficiente de correlação produto-momento” ou simplesmente de “ρ de Pearson” mede o grau da correlação (e a direção dessa correlação — se positiva ou negativa) entre duas variáveis. Este coeficiente, normalmente representado por ρ assume apenas valores entre -1 e 1.\n",
        "\n",
        "!['Pearson'](https://miro.medium.com/max/872/1*KWAowigAR0EqWMmSBwOsqg.png)"
      ]
    },
    {
      "cell_type": "code",
      "execution_count": null,
      "metadata": {
        "id": "RHqIuL_pA9qu",
        "outputId": "9cf1b122-d4bf-4d12-edb8-2cc8dfd78c76",
        "colab": {
          "base_uri": "https://localhost:8080/",
          "height": 269
        }
      },
      "outputs": [
        {
          "output_type": "execute_result",
          "data": {
            "text/plain": [
              "             PassengerId  Survived    Pclass       Age     SibSp     Parch  \\\n",
              "PassengerId     1.000000 -0.005007 -0.035144  0.036847 -0.057527 -0.001652   \n",
              "Survived       -0.005007  1.000000 -0.338481 -0.077221 -0.035322  0.081629   \n",
              "Pclass         -0.035144 -0.338481  1.000000 -0.369226  0.083081  0.018443   \n",
              "Age             0.036847 -0.077221 -0.369226  1.000000 -0.308247 -0.189119   \n",
              "SibSp          -0.057527 -0.035322  0.083081 -0.308247  1.000000  0.414838   \n",
              "Parch          -0.001652  0.081629  0.018443 -0.189119  0.414838  1.000000   \n",
              "Fare            0.012658  0.257307 -0.549500  0.096067  0.159651  0.216225   \n",
              "\n",
              "                 Fare  \n",
              "PassengerId  0.012658  \n",
              "Survived     0.257307  \n",
              "Pclass      -0.549500  \n",
              "Age          0.096067  \n",
              "SibSp        0.159651  \n",
              "Parch        0.216225  \n",
              "Fare         1.000000  "
            ],
            "text/html": [
              "\n",
              "  <div id=\"df-74ea5391-efb8-4bb5-83a3-d26df93caf35\">\n",
              "    <div class=\"colab-df-container\">\n",
              "      <div>\n",
              "<style scoped>\n",
              "    .dataframe tbody tr th:only-of-type {\n",
              "        vertical-align: middle;\n",
              "    }\n",
              "\n",
              "    .dataframe tbody tr th {\n",
              "        vertical-align: top;\n",
              "    }\n",
              "\n",
              "    .dataframe thead th {\n",
              "        text-align: right;\n",
              "    }\n",
              "</style>\n",
              "<table border=\"1\" class=\"dataframe\">\n",
              "  <thead>\n",
              "    <tr style=\"text-align: right;\">\n",
              "      <th></th>\n",
              "      <th>PassengerId</th>\n",
              "      <th>Survived</th>\n",
              "      <th>Pclass</th>\n",
              "      <th>Age</th>\n",
              "      <th>SibSp</th>\n",
              "      <th>Parch</th>\n",
              "      <th>Fare</th>\n",
              "    </tr>\n",
              "  </thead>\n",
              "  <tbody>\n",
              "    <tr>\n",
              "      <th>PassengerId</th>\n",
              "      <td>1.000000</td>\n",
              "      <td>-0.005007</td>\n",
              "      <td>-0.035144</td>\n",
              "      <td>0.036847</td>\n",
              "      <td>-0.057527</td>\n",
              "      <td>-0.001652</td>\n",
              "      <td>0.012658</td>\n",
              "    </tr>\n",
              "    <tr>\n",
              "      <th>Survived</th>\n",
              "      <td>-0.005007</td>\n",
              "      <td>1.000000</td>\n",
              "      <td>-0.338481</td>\n",
              "      <td>-0.077221</td>\n",
              "      <td>-0.035322</td>\n",
              "      <td>0.081629</td>\n",
              "      <td>0.257307</td>\n",
              "    </tr>\n",
              "    <tr>\n",
              "      <th>Pclass</th>\n",
              "      <td>-0.035144</td>\n",
              "      <td>-0.338481</td>\n",
              "      <td>1.000000</td>\n",
              "      <td>-0.369226</td>\n",
              "      <td>0.083081</td>\n",
              "      <td>0.018443</td>\n",
              "      <td>-0.549500</td>\n",
              "    </tr>\n",
              "    <tr>\n",
              "      <th>Age</th>\n",
              "      <td>0.036847</td>\n",
              "      <td>-0.077221</td>\n",
              "      <td>-0.369226</td>\n",
              "      <td>1.000000</td>\n",
              "      <td>-0.308247</td>\n",
              "      <td>-0.189119</td>\n",
              "      <td>0.096067</td>\n",
              "    </tr>\n",
              "    <tr>\n",
              "      <th>SibSp</th>\n",
              "      <td>-0.057527</td>\n",
              "      <td>-0.035322</td>\n",
              "      <td>0.083081</td>\n",
              "      <td>-0.308247</td>\n",
              "      <td>1.000000</td>\n",
              "      <td>0.414838</td>\n",
              "      <td>0.159651</td>\n",
              "    </tr>\n",
              "    <tr>\n",
              "      <th>Parch</th>\n",
              "      <td>-0.001652</td>\n",
              "      <td>0.081629</td>\n",
              "      <td>0.018443</td>\n",
              "      <td>-0.189119</td>\n",
              "      <td>0.414838</td>\n",
              "      <td>1.000000</td>\n",
              "      <td>0.216225</td>\n",
              "    </tr>\n",
              "    <tr>\n",
              "      <th>Fare</th>\n",
              "      <td>0.012658</td>\n",
              "      <td>0.257307</td>\n",
              "      <td>-0.549500</td>\n",
              "      <td>0.096067</td>\n",
              "      <td>0.159651</td>\n",
              "      <td>0.216225</td>\n",
              "      <td>1.000000</td>\n",
              "    </tr>\n",
              "  </tbody>\n",
              "</table>\n",
              "</div>\n",
              "      <button class=\"colab-df-convert\" onclick=\"convertToInteractive('df-74ea5391-efb8-4bb5-83a3-d26df93caf35')\"\n",
              "              title=\"Convert this dataframe to an interactive table.\"\n",
              "              style=\"display:none;\">\n",
              "        \n",
              "  <svg xmlns=\"http://www.w3.org/2000/svg\" height=\"24px\"viewBox=\"0 0 24 24\"\n",
              "       width=\"24px\">\n",
              "    <path d=\"M0 0h24v24H0V0z\" fill=\"none\"/>\n",
              "    <path d=\"M18.56 5.44l.94 2.06.94-2.06 2.06-.94-2.06-.94-.94-2.06-.94 2.06-2.06.94zm-11 1L8.5 8.5l.94-2.06 2.06-.94-2.06-.94L8.5 2.5l-.94 2.06-2.06.94zm10 10l.94 2.06.94-2.06 2.06-.94-2.06-.94-.94-2.06-.94 2.06-2.06.94z\"/><path d=\"M17.41 7.96l-1.37-1.37c-.4-.4-.92-.59-1.43-.59-.52 0-1.04.2-1.43.59L10.3 9.45l-7.72 7.72c-.78.78-.78 2.05 0 2.83L4 21.41c.39.39.9.59 1.41.59.51 0 1.02-.2 1.41-.59l7.78-7.78 2.81-2.81c.8-.78.8-2.07 0-2.86zM5.41 20L4 18.59l7.72-7.72 1.47 1.35L5.41 20z\"/>\n",
              "  </svg>\n",
              "      </button>\n",
              "      \n",
              "  <style>\n",
              "    .colab-df-container {\n",
              "      display:flex;\n",
              "      flex-wrap:wrap;\n",
              "      gap: 12px;\n",
              "    }\n",
              "\n",
              "    .colab-df-convert {\n",
              "      background-color: #E8F0FE;\n",
              "      border: none;\n",
              "      border-radius: 50%;\n",
              "      cursor: pointer;\n",
              "      display: none;\n",
              "      fill: #1967D2;\n",
              "      height: 32px;\n",
              "      padding: 0 0 0 0;\n",
              "      width: 32px;\n",
              "    }\n",
              "\n",
              "    .colab-df-convert:hover {\n",
              "      background-color: #E2EBFA;\n",
              "      box-shadow: 0px 1px 2px rgba(60, 64, 67, 0.3), 0px 1px 3px 1px rgba(60, 64, 67, 0.15);\n",
              "      fill: #174EA6;\n",
              "    }\n",
              "\n",
              "    [theme=dark] .colab-df-convert {\n",
              "      background-color: #3B4455;\n",
              "      fill: #D2E3FC;\n",
              "    }\n",
              "\n",
              "    [theme=dark] .colab-df-convert:hover {\n",
              "      background-color: #434B5C;\n",
              "      box-shadow: 0px 1px 3px 1px rgba(0, 0, 0, 0.15);\n",
              "      filter: drop-shadow(0px 1px 2px rgba(0, 0, 0, 0.3));\n",
              "      fill: #FFFFFF;\n",
              "    }\n",
              "  </style>\n",
              "\n",
              "      <script>\n",
              "        const buttonEl =\n",
              "          document.querySelector('#df-74ea5391-efb8-4bb5-83a3-d26df93caf35 button.colab-df-convert');\n",
              "        buttonEl.style.display =\n",
              "          google.colab.kernel.accessAllowed ? 'block' : 'none';\n",
              "\n",
              "        async function convertToInteractive(key) {\n",
              "          const element = document.querySelector('#df-74ea5391-efb8-4bb5-83a3-d26df93caf35');\n",
              "          const dataTable =\n",
              "            await google.colab.kernel.invokeFunction('convertToInteractive',\n",
              "                                                     [key], {});\n",
              "          if (!dataTable) return;\n",
              "\n",
              "          const docLinkHtml = 'Like what you see? Visit the ' +\n",
              "            '<a target=\"_blank\" href=https://colab.research.google.com/notebooks/data_table.ipynb>data table notebook</a>'\n",
              "            + ' to learn more about interactive tables.';\n",
              "          element.innerHTML = '';\n",
              "          dataTable['output_type'] = 'display_data';\n",
              "          await google.colab.output.renderOutput(dataTable, element);\n",
              "          const docLink = document.createElement('div');\n",
              "          docLink.innerHTML = docLinkHtml;\n",
              "          element.appendChild(docLink);\n",
              "        }\n",
              "      </script>\n",
              "    </div>\n",
              "  </div>\n",
              "  "
            ]
          },
          "metadata": {},
          "execution_count": 45
        }
      ],
      "source": [
        "df_titanic.corr()"
      ]
    },
    {
      "cell_type": "markdown",
      "source": [
        "# Probabilidade"
      ],
      "metadata": {
        "id": "YH2cE0KQws6Z"
      }
    },
    {
      "cell_type": "markdown",
      "source": [
        "Qual a probabilidade de ter uma pessoa sorteada nessa população ser do sexo masculino?"
      ],
      "metadata": {
        "id": "wN7dQLxMxcTA"
      }
    },
    {
      "cell_type": "code",
      "source": [
        "df_titanic[df_titanic['Sex']=='male'].count()/df_titanic['Sex'].count()"
      ],
      "metadata": {
        "id": "yqcCovBmxisI",
        "colab": {
          "base_uri": "https://localhost:8080/"
        },
        "outputId": "c5f60192-562d-4c9c-f4ce-ab125570f79a"
      },
      "execution_count": null,
      "outputs": [
        {
          "output_type": "execute_result",
          "data": {
            "text/plain": [
              "PassengerId    0.647587\n",
              "Survived       0.647587\n",
              "Pclass         0.647587\n",
              "Name           0.647587\n",
              "Sex            0.647587\n",
              "Age            0.508418\n",
              "SibSp          0.647587\n",
              "Parch          0.647587\n",
              "Ticket         0.647587\n",
              "Fare           0.647587\n",
              "Cabin          0.120090\n",
              "Embarked       0.647587\n",
              "dtype: float64"
            ]
          },
          "metadata": {},
          "execution_count": 46
        }
      ]
    },
    {
      "cell_type": "markdown",
      "source": [
        "Qual a probabilidade de ter uma pessoa sorteada nessa população ser do sexo feminino?"
      ],
      "metadata": {
        "id": "CIv3LXqJxi_4"
      }
    },
    {
      "cell_type": "code",
      "source": [],
      "metadata": {
        "id": "cnUCVD3Uxns5"
      },
      "execution_count": null,
      "outputs": []
    },
    {
      "cell_type": "markdown",
      "source": [
        "Considerando que eu tiro uma amostra de 10 pessoas da população de tripulantes, qual a probabilidade de 7 ou mais serem mulheres?"
      ],
      "metadata": {
        "id": "5I2dJ6Wow4AC"
      }
    },
    {
      "cell_type": "code",
      "source": [],
      "metadata": {
        "id": "nhpubtkbwuH5"
      },
      "execution_count": null,
      "outputs": []
    },
    {
      "cell_type": "markdown",
      "source": [
        "Retire uma amostra aleatória da população, calcule a média dessa idade e conclua qual a probabilidade de encontrar uma pessoa com uma média menor ou igual à essa idade."
      ],
      "metadata": {
        "id": "4Wxut8OfxAF9"
      }
    },
    {
      "cell_type": "code",
      "source": [],
      "metadata": {
        "id": "_DiEjVCRxUzx"
      },
      "execution_count": null,
      "outputs": []
    },
    {
      "cell_type": "markdown",
      "source": [
        "# Inferência"
      ],
      "metadata": {
        "id": "9HRS37FexVkZ"
      }
    },
    {
      "cell_type": "markdown",
      "source": [
        "## Teorema Central do limite"
      ],
      "metadata": {
        "id": "U7S5xtUj9el3"
      }
    },
    {
      "cell_type": "code",
      "source": [
        "n = 5000\n",
        "s = []\n",
        "\n",
        "for i in range(n):\n",
        "  j=0\n",
        "  for k in range(300):\n",
        "    val = random.randint(1,6)\n",
        "    j = j+val\n",
        "  s.append(j/300)\n",
        "plt.hist(s,bins=50)\n",
        "plt.show()"
      ],
      "metadata": {
        "colab": {
          "base_uri": "https://localhost:8080/",
          "height": 269
        },
        "id": "Zs-nfwgf9g0a",
        "outputId": "71f2bc99-38d4-4dfe-b4d5-c6f8c094264e"
      },
      "execution_count": null,
      "outputs": [
        {
          "output_type": "display_data",
          "data": {
            "text/plain": [
              "<Figure size 432x288 with 1 Axes>"
            ],
            "image/png": "[encoded data removed]"
          },
          "metadata": {
            "needs_background": "light"
          }
        }
      ]
    },
    {
      "cell_type": "markdown",
      "source": [
        "## Estimação por intervalos de confiança"
      ],
      "metadata": {
        "id": "EkEF4o0i0THx"
      }
    },
    {
      "cell_type": "markdown",
      "source": [
        "Use o conceito de intervalos de confiança para dizer se há diferença significativa no valor pago de tarifas para as pessoas do sexo masculino e do sexo feminino, com confiança de 95%."
      ],
      "metadata": {
        "id": "b23Tz-9n060E"
      }
    },
    {
      "cell_type": "markdown",
      "source": [
        "a) Use a tabela t-Student."
      ],
      "metadata": {
        "id": "K5G-pZHu2WJp"
      }
    },
    {
      "cell_type": "code",
      "source": [],
      "metadata": {
        "id": "WjYZwlzc2bqJ"
      },
      "execution_count": null,
      "outputs": []
    },
    {
      "cell_type": "markdown",
      "source": [
        "b) Use a tabela normal padrão."
      ],
      "metadata": {
        "id": "2eVAelYR2cI6"
      }
    },
    {
      "cell_type": "code",
      "source": [],
      "metadata": {
        "id": "Z-iR8qDX0SXZ"
      },
      "execution_count": null,
      "outputs": []
    },
    {
      "cell_type": "markdown",
      "source": [
        "Use o conceito de intervalos de confiança para dizer se há diferença significativa na média de idades para as pessoas do sexo masculino e do sexo feminino, com confiança de 95%."
      ],
      "metadata": {
        "id": "ZIgCk8FT2jip"
      }
    },
    {
      "cell_type": "code",
      "source": [],
      "metadata": {
        "id": "kvqRU87h2oR5"
      },
      "execution_count": null,
      "outputs": []
    },
    {
      "cell_type": "markdown",
      "source": [
        "Use o conceito de intervalos de confiança para dizer se há diferença significativa na proporção de sobreviventes para as pessoas do sexo masculino e do sexo feminino, com confiança de 95%."
      ],
      "metadata": {
        "id": "Xnm_h7Cf2o9X"
      }
    },
    {
      "cell_type": "code",
      "source": [],
      "metadata": {
        "id": "ArVHVjpq2t5x"
      },
      "execution_count": null,
      "outputs": []
    },
    {
      "cell_type": "markdown",
      "source": [
        "## Teste de hipóteses"
      ],
      "metadata": {
        "id": "Z9UIVzZ12uf7"
      }
    },
    {
      "cell_type": "markdown",
      "source": [
        "Com base na nossa base de dados do Titanic tentaremos responder a seguintes pergunta “O gênero/sexo teve algum efeito na sobrevivência dos passageiros?”"
      ],
      "metadata": {
        "id": "0R393nAE3Mq2"
      }
    },
    {
      "cell_type": "code",
      "source": [],
      "metadata": {
        "id": "4c3nV18w2wGK"
      },
      "execution_count": null,
      "outputs": []
    },
    {
      "cell_type": "markdown",
      "source": [
        "Use o conceito de teste de hipóteses para dizer se há diferença significativa no valor pago de tarifas para as pessoas do sexo masculino e do sexo feminino, com confiança de 95%."
      ],
      "metadata": {
        "id": "bx1SbSJV5ESj"
      }
    },
    {
      "cell_type": "code",
      "source": [],
      "metadata": {
        "id": "9XLKTRKz5GgK"
      },
      "execution_count": null,
      "outputs": []
    }
  ]
}
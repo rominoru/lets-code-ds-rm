{
  "nbformat": 4,
  "nbformat_minor": 0,
  "metadata": {
    "colab": {
      "provenance": []
    },
    "kernelspec": {
      "name": "python3",
      "display_name": "Python 3"
    },
    "language_info": {
      "name": "python"
    }
  },
  "cells": [
    {
      "cell_type": "code",
      "execution_count": 6,
      "metadata": {
        "id": "AAAAmFGWkTOj"
      },
      "outputs": [],
      "source": [
        "from scipy import stats \n",
        "import numpy as np \n",
        "import matplotlib.pyplot as plt "
      ]
    },
    {
      "cell_type": "markdown",
      "source": [
        "Suponha que você tenha feito vários cenários para a previsão de um indicador econômico. Faça o gráfico do intervalo de confiança para a estimativa média desse indicador. Use diferentes quantidades de amostras para a estimação do valor médio do indicador a cada instante de tempo e faça o gráfico da média e do intervalo de confiança. "
      ],
      "metadata": {
        "id": "H24pyHG1kUNH"
      }
    },
    {
      "cell_type": "code",
      "source": [
        "def forecasts(n, sigma=1.0):\n",
        "  return 10*(1 - 1/np.exp(np.linspace(0,40,n))) + np.random.normal(0, sigma, n)"
      ],
      "metadata": {
        "id": "ygXoObw8ldZq"
      },
      "execution_count": 75,
      "outputs": []
    },
    {
      "cell_type": "code",
      "source": [],
      "metadata": {
        "id": "phIJilJ32mUx"
      },
      "execution_count": null,
      "outputs": []
    },
    {
      "cell_type": "code",
      "source": [],
      "metadata": {
        "id": "eogEb3FD2mNj"
      },
      "execution_count": null,
      "outputs": []
    },
    {
      "cell_type": "code",
      "source": [],
      "metadata": {
        "id": "Qrsw79zK2l8A"
      },
      "execution_count": null,
      "outputs": []
    },
    {
      "cell_type": "code",
      "source": [],
      "metadata": {
        "id": "f8RYxwMV2l4J"
      },
      "execution_count": null,
      "outputs": []
    },
    {
      "cell_type": "code",
      "source": [],
      "metadata": {
        "id": "sH1svlXX2l2K"
      },
      "execution_count": null,
      "outputs": []
    },
    {
      "cell_type": "code",
      "source": [],
      "metadata": {
        "id": "TqJOaN_t2lye"
      },
      "execution_count": null,
      "outputs": []
    },
    {
      "cell_type": "code",
      "source": [],
      "metadata": {
        "id": "lad9Q2j82lw4"
      },
      "execution_count": null,
      "outputs": []
    },
    {
      "cell_type": "code",
      "source": [],
      "metadata": {
        "id": "WidH2FnW2lpG"
      },
      "execution_count": null,
      "outputs": []
    },
    {
      "cell_type": "code",
      "source": [],
      "metadata": {
        "id": "-t1Bc48A2llH"
      },
      "execution_count": null,
      "outputs": []
    },
    {
      "cell_type": "code",
      "source": [],
      "metadata": {
        "id": "FXmMVdzy2ljr"
      },
      "execution_count": null,
      "outputs": []
    },
    {
      "cell_type": "code",
      "source": [],
      "metadata": {
        "id": "EIGaqjlz2lgR"
      },
      "execution_count": null,
      "outputs": []
    },
    {
      "cell_type": "code",
      "source": [],
      "metadata": {
        "id": "Nn5BsF2U2lex"
      },
      "execution_count": null,
      "outputs": []
    },
    {
      "cell_type": "code",
      "source": [
        "X_forecast = [] \n",
        "for i in range(1000):\n",
        "  X_forecast.append(forecasts(100, sigma=1.0))\n",
        "\n",
        "np_forecast = np.array(X_forecast)"
      ],
      "metadata": {
        "id": "UPX7kOKnleKb"
      },
      "execution_count": 76,
      "outputs": []
    },
    {
      "cell_type": "code",
      "source": [
        "mean_ = np.mean(np_forecast,axis=0)\n",
        "std_ = np.std(np_forecast,axis=0)\n",
        "\n",
        "conf_ = 1.96*std_/np.sqrt(1000)"
      ],
      "metadata": {
        "id": "IAIAeAyIleF2"
      },
      "execution_count": 77,
      "outputs": []
    },
    {
      "cell_type": "code",
      "source": [
        "plt.figure(figsize=(10,10))\n",
        "plt.plot(mean_) \n",
        "plt.plot(mean_ + conf_, '--r') \n",
        "plt.plot(mean_ - conf_, '--r')"
      ],
      "metadata": {
        "colab": {
          "base_uri": "https://localhost:8080/",
          "height": 609
        },
        "id": "1nrZG1a6xnRP",
        "outputId": "2ce19415-2390-472e-8cbb-f9b4a3c9bb50"
      },
      "execution_count": 79,
      "outputs": [
        {
          "output_type": "execute_result",
          "data": {
            "text/plain": [
              "[<matplotlib.lines.Line2D at 0x7f94f0623650>]"
            ]
          },
          "metadata": {},
          "execution_count": 79
        },
        {
          "output_type": "display_data",
          "data": {
            "text/plain": [
              "<Figure size 720x720 with 1 Axes>"
            ],
            "image/png": "[encoded data removed]"
          },
          "metadata": {
            "needs_background": "light"
          }
        }
      ]
    },
    {
      "cell_type": "code",
      "source": [],
      "metadata": {
        "id": "P0zHxMArxnOR"
      },
      "execution_count": null,
      "outputs": []
    },
    {
      "cell_type": "markdown",
      "source": [
        "Lembrete: o mesmo vale quando queremos calcular a estimativa média e o intervalo de confiança para a previsão de uma série temporal usando algum modelo de Machine Learning (ou algum método estatístico). "
      ],
      "metadata": {
        "id": "wPg_d-oWlep5"
      }
    },
    {
      "cell_type": "code",
      "source": [],
      "metadata": {
        "id": "smEeNd3Gm3MY"
      },
      "execution_count": null,
      "outputs": []
    },
    {
      "cell_type": "markdown",
      "source": [
        "Seja uma distribuição lognormal, com a função mostrada abaixo.\n",
        "\n",
        "f(x, $\\mu$, $\\theta$) = $\\frac{1}{x\\sqrt{2\\pi\\theta}}$ $e^{(-\\frac{1}{2\\theta}(ln(x) - \\mu)}$\n",
        "\n",
        "Vamos supor que a média dessa distribuição é dada $\\mu = 0$ e queremos estimar o parâmetro desconhecido $\\theta$. Não chegamos (e nem iremos nesse curso) mostrar como se determina a função matemática desses estimadores, que geralmente é feito utilizando métodos de momentos ou máxima verossimilhança. \n",
        "\n",
        "Contudo, não tem problema nesse caso. Como essas distribuições são conhecidas, podemos apenas pesquisar quais são tais estimadores. \n",
        "Procure na internet qual é o estimador para tal parâmetro. Em seguida, calcule qual é o valor estimado desse parâmetro.\n",
        "\n"
      ],
      "metadata": {
        "id": "M96ihyTLqNnA"
      }
    },
    {
      "cell_type": "code",
      "source": [
        "rng = np.random.random(1)\n",
        "lognorm = stats.lognorm(np.sqrt(rng))"
      ],
      "metadata": {
        "id": "Rwy33mN5qNSm"
      },
      "execution_count": 10,
      "outputs": []
    },
    {
      "cell_type": "code",
      "source": [
        "values = lognorm.rvs(size=20000)"
      ],
      "metadata": {
        "id": "Rp20sZnZsdxq"
      },
      "execution_count": 11,
      "outputs": []
    },
    {
      "cell_type": "code",
      "source": [],
      "metadata": {
        "id": "XjpxPBNDuxmX"
      },
      "execution_count": null,
      "outputs": []
    },
    {
      "cell_type": "markdown",
      "source": [
        "Faça uma simulação de Monte Carlo para investigar a estimativa média do parâmetro desconhecido. Como você possui 20000 valores dessa distribuição, faça 100 simulações com 200 amostras cada. Faça o gráfico da média da estimativa em função das simulações "
      ],
      "metadata": {
        "id": "xWRT3RMrseJC"
      }
    },
    {
      "cell_type": "code",
      "source": [],
      "metadata": {
        "id": "kAaOgAgesduy"
      },
      "execution_count": null,
      "outputs": []
    },
    {
      "cell_type": "code",
      "source": [],
      "metadata": {
        "id": "JCJIzbruqM-N"
      },
      "execution_count": null,
      "outputs": []
    },
    {
      "cell_type": "markdown",
      "source": [
        "Vemos no início da aula que podemos estabelecer um intervalo de confiança para a estimação do desvio padrão de uma distribuição normal. Vamos verificar empiricamente como isso funciona. \n",
        "\n",
        "Lembrando que:\n",
        "\n",
        "$P(\\frac{(n-1)S^2}{\\chi^2_{\\alpha/2,n-1}} \\le \\sigma^2 \\le \\frac{(n-1)S^2}{\\chi^2_{1-\\alpha/2,n-1}}) = 1-\\alpha$\n",
        "\n",
        "Construa um intervalo de confiança para esse parâmetro, supondo $\\alpha$ = 0.05 e um tamanho de amostras igual a 200.\n",
        "\n",
        "Rode essa subamostragem 100 vezes e determine a quantidade de vezes no qual a estimativa está dentro do intervalo de confiança"
      ],
      "metadata": {
        "id": "fPqou_oTnc05"
      }
    },
    {
      "cell_type": "code",
      "source": [],
      "metadata": {
        "id": "3ZacKITSqMSN"
      },
      "execution_count": null,
      "outputs": []
    }
  ]
}
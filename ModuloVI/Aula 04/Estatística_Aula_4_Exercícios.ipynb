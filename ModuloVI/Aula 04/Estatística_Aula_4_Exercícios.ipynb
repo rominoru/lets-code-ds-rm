{
  "nbformat": 4,
  "nbformat_minor": 0,
  "metadata": {
    "colab": {
      "provenance": []
    },
    "kernelspec": {
      "name": "python3",
      "display_name": "Python 3"
    },
    "language_info": {
      "name": "python"
    }
  },
  "cells": [
    {
      "cell_type": "code",
      "execution_count": 31,
      "metadata": {
        "id": "Gi-vNw5wIe9i"
      },
      "outputs": [],
      "source": [
        "import numpy as np \n",
        "import matplotlib.pyplot as plt \n",
        "from scipy import stats"
      ]
    },
    {
      "cell_type": "code",
      "source": [],
      "metadata": {
        "id": "s3jJNKpEIht0"
      },
      "execution_count": 1,
      "outputs": []
    },
    {
      "cell_type": "markdown",
      "source": [
        "Seja uma área inicialmente quadrada, com dimensão  $1$ m $\\times$ $1$ m. Queremos estimar um parâmetro de uma função que determina a área dentro do setor circular mostrado abaixo.\n",
        "\n",
        "Sabemos que:\n",
        "\n",
        "Área = $\\frac{\\pi r^2}{4}$\n",
        "\n",
        "Faça uma simulação de Monte-Carlo para estimar a proporção de pontos que residem dentro dessa área destacada.![image_2022-09-02_185834677.png](data:image/png;base64,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)"
      ],
      "metadata": {
        "id": "Tnbfw8hZKtPi"
      }
    },
    {
      "cell_type": "code",
      "source": [],
      "metadata": {
        "id": "vfYYxB8MKsuO"
      },
      "execution_count": null,
      "outputs": []
    },
    {
      "cell_type": "code",
      "source": [],
      "metadata": {
        "id": "JzlwyPbxKspy"
      },
      "execution_count": null,
      "outputs": []
    },
    {
      "cell_type": "code",
      "source": [],
      "metadata": {
        "id": "3DZqTEbrKsm0"
      },
      "execution_count": null,
      "outputs": []
    },
    {
      "cell_type": "code",
      "source": [],
      "metadata": {
        "id": "3185dg8uKskE"
      },
      "execution_count": null,
      "outputs": []
    },
    {
      "cell_type": "code",
      "source": [],
      "metadata": {
        "id": "tSQMUrfaIj9j"
      },
      "execution_count": 5,
      "outputs": []
    },
    {
      "cell_type": "code",
      "source": [],
      "metadata": {
        "id": "h0EWHaFQIu7c"
      },
      "execution_count": 9,
      "outputs": []
    },
    {
      "cell_type": "code",
      "source": [],
      "metadata": {
        "id": "ah7w0gXuI_pQ"
      },
      "execution_count": 12,
      "outputs": []
    },
    {
      "cell_type": "code",
      "source": [],
      "metadata": {
        "id": "HpqGBtjsJqSL"
      },
      "execution_count": null,
      "outputs": []
    },
    {
      "cell_type": "markdown",
      "source": [
        "Escolha uma variável aleatória com distribuição normal e escolha um valor para a média. Em seguida, faça 100 simulações com 200 amostras cada e obtenha a estimativa da média. Faça o gráfico da estimativa média (i.e. média das simulações) em função das simulações."
      ],
      "metadata": {
        "id": "1srJLNl-N11x"
      }
    },
    {
      "cell_type": "code",
      "source": [],
      "metadata": {
        "id": "Hjs_UXISSjeo"
      },
      "execution_count": null,
      "outputs": []
    },
    {
      "cell_type": "code",
      "source": [],
      "metadata": {
        "id": "coIjX_ZzTVPj"
      },
      "execution_count": null,
      "outputs": []
    },
    {
      "cell_type": "code",
      "source": [],
      "metadata": {
        "id": "yM-QXuULTVMl"
      },
      "execution_count": null,
      "outputs": []
    },
    {
      "cell_type": "code",
      "source": [],
      "metadata": {
        "id": "E1QE-QdtTVIy"
      },
      "execution_count": null,
      "outputs": []
    },
    {
      "cell_type": "code",
      "source": [],
      "metadata": {
        "id": "FLrKnA4bTVFP"
      },
      "execution_count": null,
      "outputs": []
    },
    {
      "cell_type": "markdown",
      "source": [
        "Suponha que você trabalhe em um projeto de logística e está encarregado de organizar as caixas em uma região, conforme mostra a figura abaixo. \n",
        "\n",
        "![boxes_.png](data:image/png;base64,iVBORw0KGgoAAAANSUhEUgAAAgkAAADJCAYAAACpFaFlAAAAAXNSR0IArs4c6QAABHN0RVh0bXhmaWxlACUzQ214ZmlsZSUyMGhvc3QlM0QlMjJFbGVjdHJvbiUyMiUyMG1vZGlmaWVkJTNEJTIyMjAyMi0wOS0wMlQyMiUzQTQ3JTNBMTUuNTUxWiUyMiUyMGFnZW50JTNEJTIyNS4wJTIwKFdpbmRvd3MlMjBOVCUyMDEwLjAlM0IlMjBXaW42NCUzQiUyMHg2NCklMjBBcHBsZVdlYktpdCUyRjUzNy4zNiUyMChLSFRNTCUyQyUyMGxpa2UlMjBHZWNrbyklMjBkcmF3LmlvJTJGMjAuMi4zJTIwQ2hyb21lJTJGMTAyLjAuNTAwNS4xNjclMjBFbGVjdHJvbiUyRjE5LjAuMTElMjBTYWZhcmklMkY1MzcuMzYlMjIlMjBldGFnJTNEJTIyd1lyYWo2Szc0VGdXamQ4dGVQU0MlMjIlMjB2ZXJzaW9uJTNEJTIyMjAuMi4zJTIyJTIwdHlwZSUzRCUyMmRldmljZSUyMiUzRSUzQ2RpYWdyYW0lMjBpZCUzRCUyMlZ5WGxyWG02djF5WU1XLXZJTldiJTIyJTIwbmFtZSUzRCUyMlBhZ2UtMSUyMiUzRTNaWmhiNXdnR0lCJTJGalIlMkJiSUloSHYlMkZiYWJrM1dKY3VsYWI5eThxcGtLSWJqNXRsZlB6engxR21UTGJGTk0wME1QTzhMd2dOQkE3SXRUbDhNciUyRkpITFVBRkdJbFRRRzREakZuTTNMTUZUUWRvUkRxUUdTazZGQTVnSjElMkZCUSUyQlRwVVFvNFRCS3Qxc3JLYWdvVFhaYVEyQW5qeHVoNm1wWnFOWDFyeFRPWWdWM0MxWnclMkJTMkZ6UHkyS0J2NFZaSmIzYnc2Ump4UzhUJTJGYmdrSE9oNnhFaWR3SFpHcTF0VnlwT1cxQ3R1OTVMMSUyQjclMkJqZWhsWUFaSyUyQnpjTm1zZjdUZFY4ZTNqSVh2WnclMkIwbzJUeiUyQiUyQlglMkZsZWZuRjE5QlAyZzdWTmI4RG9ZeW1nN1FRRjVLYk9wWVZkeFpNMldyc2xkeXkzaFhLMTBCVlRxZFJXSzIzT2JRbEQ3ZDF5WGRvUjd5N0hEOWJvbnpDS3hPZkxSZnpBd0ZnNHZUbmo4T0xSN1QlMkZRQlZqVHVCVGZnUFRxJTJGZDdEa2ElMkZYdzByU1BpY2ZyU0x6alB2TmsxMjZIdnk2Z2xmOEQ3ckpCJTJCazIybklyZGVudzFUV2FlUzUxQ2Vzb3huU3FPTHllSzhab1FYSDhYb3FqJTJGMDN4SnZ4c2l1bUNZaEt1cWpsTlU1d2tTd2VFaVBjeFhldUFZSCUyQm9aWE8xNGRJQjhXNXE0eVcxNiUyQjdnbENXd3JIYlBhRVRST21vcCUyQm14cU4wdHF5YXBxQlFVbW9pVzFETyUyRkpXcCUyQjFHSCUyQmNXbGNkJTJGbERPc2RGdkhybjdEUSUzRCUzRCUzQyUyRmRpYWdyYW0lM0UlM0MlMkZteGZpbGUlM0XKr5nCAAASGklEQVR4Xu3dXailddkG8L9H6sFgH9CpSmR6VBgqUqAFHRSSoDAQqX0ZSppSU46NjtGoo6NRaFpjX/QlQWRkWhKVMxuKUinrREqpUVGiID/wwI8TY+1h7cYctdnP/Xddz3p+c/a+zHPva/2u3evV2mv7HrRr167n28T+nHzyyRN7xV4uAQIECAwV2L1799ATo3v+oNlIWFlZGV3w9QY+6aSTmpGwXj3PESBAYLoCs5EwtX9eGgnT/X73ygkQIEDgAASMhAPAGutf9U7CWJuTmwABAosVMBIW6/+qfHUj4VVh9kUIECCwdAJGwtJV+uIXZCRMoGQvkQABAh0EjIQOqGknjYS0RuQhQIDAOASMhHH0NCilkTCIz8MECBCYrICRMIHqjYQJlOwlEiBAoIOAkdABNe2kkZDWiDwECBAYh4CRMI6eBqU0EgbxeZgAAQKTFTASJlC9kTCBkr1EAgQIdBAwEjqgpp00EtIakYcAAQLjEDASxtHToJRGwiA+DxMgQGCyAkbCBKo3EiZQspdIgACBDgJGQgfUtJNGQloj8hAgQGAcAkbCOHoalNJIGMTnYQIECExWwEiYQPVGwgRK9hIJECDQQcBI6ICadtJISGtEHgIECIxDwEgYR0+DUhoJg/g8TIAAgckKGAkTqN5ImEDJXiIBAgQ6CBgJHVDTThoJaY3IQ4AAgXEIGAnj6GlQSiNhEJ+HCRAgMFkBI2EC1RsJEyjZSyRAgEAHASOhA2raSSMhrRF5CBAgMA4BI2EcPQ1KaSQM4vMwAQIEJitgJEygeiNhAiV7iQQIEOggYCR0QE07aSSkNSIPAQIExiFgJIyjp0EpjYRBfB4mQIDAZAWMhAlUbyRMoGQvkQABAh0EjIQOqGknjYS0RuQhQIDAOASMhHH0NCilkTCIz8MECBCYrICRMIHqjYQJlOwlEiBAoIOAkdABNe2kkZDWiDwECBAYh4CRMI6eBqU0EgbxeZgAAQKTFTASJlC9kTCBkr1EAgQIdBAwEjqgpp00EtIakYcAAQLjEDASxtHToJRGwiA+DxMgQGCyAkbCBKo3EiZQspdIgACBDgJGQgfUtJNGQloj8hAgQGAcAkbCOHoalNJIGMTnYQIECExWwEiYQPVGwgRK9hIJECDQQcBI6ICadtJISGtEHgIECIxDwEgYR0+DUhoJg/g8TIAAgckKGAkTqN5ImEDJXiIBAgQ6CBgJHVDTThoJaY3IQ4AAgXEIGAnj6GlQSiNhEJ+HCRAgMFkBI2EC1RsJEyjZSyRAgEAHASOhA2raSSMhrRF5CBAgMA4BI2EcPQ1KaSQM4vMwAQIEJitgJEygeiNhAiV7iQQIEOggYCR0QE07aSSkNSIPAQIExiFgJIyjp0EpjYRBfB4mQIDAZAWMhAlUbyRMoGQvkQABAh0EjIQOqGknjYS0RuQhQIDAOASMhHH0NCilkTCIz8MECBCYrICRMIHqjYQJlOwlEiBAoIOAkdABNe2kkZDWiDwECBAYh4CRMI6eBqU0EgbxeZgAAQKTFTASJlC9kTCBkr1EAgQIdBAwEjqgpp3cePx9aZHkKRR4+FvPFV5zKk3g7g++IS2SPMUCW0+5qfhi3Tkjoc4y9tJsJBzzjoti8wk2TOAXH7minbzl0mFHPB0rcM2jX2unH3dBbD7Bhgnccs/1zUgYZlj59Oyd94N27dr1/MrKSuXd6FtGQnQ9g8MZCYMJow8YCdH1DA5nJAwmLD1gJJRyOpYgYCQktNAvg5HQzzbhspGQ0MJ/MxgJWX1IUyBgJBQgBp8wEoLLKYhmJBQgFp4wEgoxncoQMBIyeuiVwkjoJZtx10jI6GGewkjI6kOaAgEjoQAx+ISREFxOQTQjoQCx8ISRUIjpVIaAkZDRQ68URkIv2Yy7RkJGD95J8CuQWd+JhWmMhELMwFNGQmAphZGMhELMglPeSShAdCJLwEjI6qM6jZFQLZp1z0jI6sNIyOpDmgIBI6EAMfiEkRBcTkE0I6EAsfCEkVCI6VSGgJGQ0UOvFEZCL9mMu0ZCRg/zFEZCVh/SFAgYCQWIwSeMhOByCqIZCQWIhSeMhEJMpzIEjISMHnqlMBJ6yWbcNRIyevBOgt9uyPpOLExjJBRiBp4yEgJLKYxkJBRiFpzyTkIBohNZAkZCVh/VaYyEatGse0ZCVh9GQlYf0hQIGAkFiMEnjITgcgqiGQkFiIUnjIRCTKcyBIyEjB56pTASeslm3DUSMnqYpzASsvqQpkDASChADD5hJASXUxDNSChALDxhJBRiOpUhYCRk9NArhZHQSzbjrpGQ0YN3Evx2Q9Z3YmEaI6EQM/CUkRBYSmEkI6EQs+CUdxIKEJ3IEjASsvqoTmMkVItm3TMSsvowErL6kKZAwEgoQAw+YSQEl1MQzUgoQCw8YSQUYjqVIWAkZPTQK4WR0Es2466RkNHDPIWRkNWHNAUCRkIBYvAJIyG4nIJoRkIBYuEJI6EQM+HUb3//53bnyj3t0xec2T63/ab20bNObW9+0+Fr0W7+4R3t73sebVs3n50Qt0uGZR4Jv/vTn9uue+5pnzzrzHb5zpvah049tR11xOFt+9e/0bZ9deeq57tPPLF9Z/sV7XWHHdbFd9FHl3kk3Hv3ve2u39zVPvTxD7cbr7mhnfaB09uRbzyi3X7L7W3zeRev0n/iovPbuZ86d9E1dPv6RkI32nUdNhLWxZb70OU7vtHeddJx7eijjmiXbLuxXXnZee31r9v7D4vZQDjj7K1t2yXnGgm5Fb5sstkYeOdxx7U3H3lEu+yGG9u2889rf93z4Opw2PKxvcNv9ndmf+b/80hf6kvGXuaRsPOLO9sJ7zihHfmmI9t1V13fLvzsBe3xx55oP775lnbeReevmuy4bEd72wnHtlNOP2XZql19PUZCVq1GQlYf604zGweXXbn3v0nu++ecj5zWvnTVpvaF67/XHv3Hv9qxbzm6/fNfjxkJ65ZezIP7vlOwb4KzTz+tXfvpTe3Qgw9e+1/P3m2Y/f1lfTdhGUfCbBx8+ZobXvTNtfGsjW3zts3tkEP+2+/sXYVHHnpkad9NMBIW839jXuqrGglZfQxK8+/Hnlx79+Av9z+4+mOH//2xgh83DCJe6MOPPfnkS757sG+wH/z8jvbbe+990XhYaPjCL76MI2HG88TjT6y9e7DngT2rP3b43x8rPPPMs95JKPxeWs+p3bt3t5WVlfU8OspnjIRR1rb/0H994KH2ze/e2j6/5Zz249vuXP1LH9j4nhf8ZSNhvIXf/+BD7du33tq2nntO+8mv9/b7/ve+sN/Z3/nUtde2L37mM6ufVVjGP8s6Evb87cG1Hyv86me/XK1u3x8pzD6vcMb7zmxvf+fb2zVf2dFe89rXLGO9ftwQ1qqREFbIeuO80o8bDj1079uVRsJ6hRf73P/z44bZQDjj4s+26y7e3E5861sWG7jjV1/GkXAgP26YjYWvfmnn0g4FP27o+B+edZw2EtaBlvrIy31ocZ7ZSEht75Vz7e9Di/PfYJh9DuHCq3e071991dK+gzAXWsaRMHtt+/vQ4v7eLZi947D9ku1ty5VbVn/zYdn+GAlZjRoJWX2sO83TTz+79iuPsyPzHzvM30EwEtZNG/Hg088+u/Yrj7NA8x87zD6wOIUfMexbwjKOhNlnDea/8jh7rfPfZph9YHH2zsFPf3Tb2gcYZx9c/MNdf3zRBxojvlELQhgJBYiFJ4yEQsxFnvp/PrToxw2LbGjY1365Dy3OPqj44Uu3vuALLPO/K2EZR8IrfWhx339Pgs8kDPvP0tCnfXBxqOAInt94/H3tGP9fIEfQ1PoiLvO/TGl9Isv11DKOhOVqaNir8U7CML/qp72TUC3q3sIFjISFV9A1gJHQlXfhx42EhVfwggBGQlYf0hQIGAkFiMEnjITgcgqiGQkFiIUnjIRCTKcyBIyEjB56pTASeslm3DUSMnqYpzASsvqQpkDASChADD5hJASXUxDNSChALDxhJBRiOpUhYCRk9NArhZHQSzbjrpGQ0YN3Evx2Q9Z3YmEaI6EQM/CUkRBYSmEkI6EQs+CUdxIKEJ3IEjASsvqoTmMkVItm3TMSsvowErL6kKZAwEgoQAw+YSQEl1MQzUgoQCw8YSQUYjqVIWAkZPTQK4WR0Es2466RkNHDPIWRkNWHNAUCRkIBYvAJIyG4nIJoRkIBYuEJI6EQ06kMASMho4deKYyEXrIZd42EjB68k+C3G7K+EwvTGAmFmIGnjITAUgojGQmFmAWnvJNQgOhEloCRkNVHdRojoVo0656RkNWHkZDVhzQFAkZCAWLwCSMhuJyCaEZCAWLhCSOhENOpDAEjIaOHXimMhF6yGXeNhIwe5imMhKw+pCkQMBIKEINPGAnB5RREMxIKEAtPGAmFmE5lCBgJGT30SmEk9JLNuGskZPTgnQS/3ZD1nViYxkgoxAw8ZSQEllIYyUgoxCw45Z2EAkQnsgSMhKw+qtMYCdWiWfeMhKw+jISsPqQpEDASChCDTxgJweUURDMSChALTxgJhZhOZQgYCRk99EphJPSSzbhrJGT0ME9hJGT1IU2BgJFQgBh8wkgILqcgmpFQgFh4wkgoxHQqQ8BIyOihVwojoZdsxl0jIaMH7yT47Yas78TCNEZCIWbgKSMhsJTCSEZCIWbBKe8kFCA6kSVgJGT1UZ3GSKgWzbpnJGT1sToSNm3a9PyGDRuyknVMs/H4+zped3rRAg9/67lFR/D1Owrc/cE3dLzudILAI7clpNh/htk/K6f0z8unnnpqeiMh99tPMgIECBAgkCNgJOR0IQkBAgQIEIgSMBKi6hCGAAECBAjkCBgJOV1IQoAAAQIEogSMhKg6hCFAgAABAjkCRkJOF5IQIECAAIEoASMhqg5hCBAgQIBAjoCRkNOFJAQIECBAIErASIiqQxgCBAgQIJAjYCTkdCEJAQIECBCIEjASouoQhgABAgQI5AgYCTldSEKAAAECBKIEjISoOoQhQIAAAQI5AkZCTheSECBAgACBKAEjIaoOYQgQIECAQI6AkZDThSQECBAgQCBKwEiIqkMYAgQIECCQI2Ak5HQhCQECBAgQiBIwEqLqEIYAAQIECOQIGAk5XUhCgAABAgSiBIyEqDqEIUCAAAECOQJGQk4XkhAgQIAAgSgBIyGqDmEIECBAgECOgJGQ04UkBAgQIEAgSsBIiKpDGAIECBAgkCNgJOR0IQkBAgQIEIgSMBKi6hCGAAECBAjkCBgJOV1IQoAAAQIEogSMhKg6hCFAgAABAjkCRkJOF5IQIECAAIEoASMhqg5hCBAgQIBAjoCRkNOFJAQIECBAIErASIiqQxgCBAgQIJAjYCTkdCEJAQIECBCIEjASouoQhgABAgQI5AgYCTldSEKAAAECBKIEjISoOoQhQIAAAQI5AkZCTheSECBAgACBKAEjIaoOYQgQIECAQI6AkZDThSQECBAgQCBKwEiIqkMYAgQIECCQI2Ak5HQhCQECBAgQiBIwEqLqEIYAAQIECOQIGAk5XUhCgAABAgSiBIyEqDqEIUCAAAECOQJGQk4XkhAgQIAAgSgBIyGqDmEIECBAgECOgJGQ04UkBAgQIEAgSsBIiKpDGAIECBAgkCNgJOR0IQkBAgQIEIgSMBKi6hCGAAECBAjkCBgJOV1IQoAAAQIEogSMhKg6hCFAgAABAjkCRkJOF5IQIECAAIEoASMhqg5hCBAgQIBAjoCRkNOFJAQIECBAIErASIiqQxgCBAgQIJAjYCTkdCEJAQIECBCIEjASouoQhgABAgQI5AgYCTldSEKAAAECBKIEjISoOoQhQIAAAQI5AkZCTheSECBAgACBKAEjIaoOYQgQIECAQI6AkZDThSQECBAgQCBKwEiIqkMYAgQIECCQI2Ak5HQhCQECBAgQiBIwEqLqEIYAAQIECOQIGAk5XUhCgAABAgSiBIyEqDqEIUCAAAECOQJGQk4XkhAgQIAAgSgBIyGqDmEIECBAgECOgJGQ04UkBAgQIEAgSsBIiKpDGAIECBAgkCNgJOR0IQkBAgQIEIgSMBKi6hCGAAECBAjkCBgJOV1IQoAAAQIEogSMhKg6hCFAgAABAjkCRkJOF5IQIECAAIEoASMhqg5hCBAgQIBAjsDaSMiJ9Ookmb1wfwgQIECAwIEIbNiw4UD++lL83f8AOodUZ+J/sL0AAAAASUVORK5CYII=)"
      ],
      "metadata": {
        "id": "CDJIidQOTWSQ"
      }
    },
    {
      "cell_type": "markdown",
      "source": [
        "Suponha que o tamanho disponível é de 330 cm e sua dimensão possa variar uniformemente, com variação de +- 1 cm.\n",
        "\n",
        "Suponha que as três caixas também possuem dimensões nominais, mas seu tamanho varia de acordo com uma distribuição que não é uniforme, nem normal.\n",
        "\n",
        "$X_1$ ~ $Triang(72, 80, 88)$\n",
        "\n",
        "$X_2$ ~ $Triang(118, 120, 130)$\n",
        "\n",
        "$X_3$ ~ $Triang(116, 120, 122)$\n",
        "\n",
        "Calcule a probabilidade de que as três caixas não caibam no lugar especificado."
      ],
      "metadata": {
        "id": "2EtWdg3wZQim"
      }
    },
    {
      "cell_type": "code",
      "source": [
        "def montecarlo_triangle(l, m, r, n):\n",
        "  vals = []\n",
        "  for i in range(n):\n",
        "    vals.append(np.random.triangular(l, m, r))\n",
        "  return np.array(vals)"
      ],
      "metadata": {
        "id": "V0KCcv3QZPzo"
      },
      "execution_count": 30,
      "outputs": []
    },
    {
      "cell_type": "code",
      "source": [],
      "metadata": {
        "id": "cAJjtg-rTlBt"
      },
      "execution_count": null,
      "outputs": []
    }
  ]
}
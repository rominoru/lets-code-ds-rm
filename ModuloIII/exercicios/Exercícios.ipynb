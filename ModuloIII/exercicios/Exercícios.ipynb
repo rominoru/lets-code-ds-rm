{
 "cells": [
  {
   "cell_type": "markdown",
   "id": "published-mississippi",
   "metadata": {},
   "source": [
    "## Exercícios Aulas 1 a 4\n",
    "Prof Roger Rendón"
   ]
  },
  {
   "cell_type": "code",
   "execution_count": null,
   "id": "loose-storm",
   "metadata": {},
   "outputs": [],
   "source": [
    "#Imports"
   ]
  },
  {
   "cell_type": "markdown",
   "id": "clear-killer",
   "metadata": {},
   "source": [
    "#### Numpy."
   ]
  },
  {
   "cell_type": "code",
   "execution_count": null,
   "id": "consecutive-fluid",
   "metadata": {},
   "outputs": [],
   "source": [
    "#1. Gere uma array randomica de 10 elementos com duas dimensões, e explore o array (ndim, dtype e shape). "
   ]
  },
  {
   "cell_type": "code",
   "execution_count": null,
   "id": "external-margin",
   "metadata": {},
   "outputs": [],
   "source": []
  },
  {
   "cell_type": "code",
   "execution_count": null,
   "id": "substantial-duncan",
   "metadata": {},
   "outputs": [],
   "source": []
  },
  {
   "cell_type": "code",
   "execution_count": null,
   "id": "greatest-warrior",
   "metadata": {},
   "outputs": [],
   "source": [
    "#2. Verifique os elementos da array e veja se tem valores NaN e transforme os valores NaN pra número\n",
    "a =  np.array([1, 0, np.nan, 6.0])"
   ]
  },
  {
   "cell_type": "code",
   "execution_count": null,
   "id": "confident-letter",
   "metadata": {},
   "outputs": [],
   "source": []
  },
  {
   "cell_type": "code",
   "execution_count": null,
   "id": "controversial-theology",
   "metadata": {},
   "outputs": [],
   "source": []
  },
  {
   "cell_type": "code",
   "execution_count": null,
   "id": "fewer-porcelain",
   "metadata": {},
   "outputs": [],
   "source": [
    "#3. Gere duas arrays de uma dimensão com 10 elementos cada, valores entre 1 e 50. \n",
    "    # Faça comparações entre as duas matrizes ( >, <, equal)"
   ]
  },
  {
   "cell_type": "code",
   "execution_count": null,
   "id": "outstanding-geography",
   "metadata": {},
   "outputs": [],
   "source": []
  },
  {
   "cell_type": "code",
   "execution_count": null,
   "id": "norman-terminal",
   "metadata": {},
   "outputs": [],
   "source": []
  },
  {
   "cell_type": "code",
   "execution_count": null,
   "id": "moderate-gallery",
   "metadata": {},
   "outputs": [],
   "source": [
    "#4. Faça uma array com aragne de 12 elementos e de o reshape correto nele. \n",
    "    # Salve sua array em um arquivo de texto (Dica = Save Text and Headers)"
   ]
  },
  {
   "cell_type": "code",
   "execution_count": null,
   "id": "intermediate-fifth",
   "metadata": {},
   "outputs": [],
   "source": []
  },
  {
   "cell_type": "code",
   "execution_count": null,
   "id": "republican-airline",
   "metadata": {},
   "outputs": [],
   "source": []
  },
  {
   "cell_type": "code",
   "execution_count": null,
   "id": "upper-genealogy",
   "metadata": {},
   "outputs": [],
   "source": [
    "#5. Carregue o arquvio da array anterior e faça uma subseleções:\n",
    "    #Elemento na linha 1 coluna 1 \n",
    "    #Elementos na coluna 2\n",
    "    #Elementos na linha 2 e escolha o maximo valor dessa seleção\n",
    "    #Uma array nova com o resultado de uma seleção complexa ex. (arr1 > 3) & (arr1 % 2 == 0)\n",
    "    "
   ]
  },
  {
   "cell_type": "code",
   "execution_count": null,
   "id": "pretty-delight",
   "metadata": {},
   "outputs": [],
   "source": []
  },
  {
   "cell_type": "code",
   "execution_count": null,
   "id": "controversial-rogers",
   "metadata": {},
   "outputs": [],
   "source": []
  },
  {
   "cell_type": "code",
   "execution_count": null,
   "id": "indirect-democrat",
   "metadata": {},
   "outputs": [],
   "source": [
    "#6. Gere duas arrays em formato de matriz e faça um dot product nela "
   ]
  },
  {
   "cell_type": "markdown",
   "id": "differential-vertical",
   "metadata": {},
   "source": [
    "#### Pandas"
   ]
  },
  {
   "cell_type": "code",
   "execution_count": null,
   "id": "oriental-treasury",
   "metadata": {},
   "outputs": [],
   "source": [
    "#1. Faça uma pandas Series com valores inteiros randomicos de tamanho 30 de numeros entre 5 e 15\n",
    "    # Divida sua serie em duas partes e gere duas series novas \n",
    "    # Adicione 5 valores a cada serie e mantenha os dois elementos como series\n",
    "    # Conte as aparições de cada elemento da Serie\n",
    "    # Faça comparações booleanas entre as das series\n",
    "    # Junte as duas series em um dataframe\n",
    "    # Rename nas colunas utilizando inplace \n",
    "    # Explore seu novo DataFrame\n"
   ]
  },
  {
   "cell_type": "code",
   "execution_count": null,
   "id": "swiss-phoenix",
   "metadata": {},
   "outputs": [],
   "source": []
  },
  {
   "cell_type": "code",
   "execution_count": null,
   "id": "combined-generation",
   "metadata": {},
   "outputs": [],
   "source": [
    "#2. Carregue o dataset da url (https://www.kaggle.com/datasets/andrewmvd/global-monkeypox-cases)\n",
    "    # Explore seu dataframe\n",
    "    # Faça uma lista com todas as colunas disponíveis \n",
    "    # Veja todos os paises que tem no dataframe\n",
    "    # Faça um groupby pais e veja quantos casos tem cada pais, gere um novo df com essa informação\n",
    "    # Faça um groupby por status e pais e veja quantos casos confirmados tem por pais\n"
   ]
  },
  {
   "cell_type": "code",
   "execution_count": null,
   "id": "funky-serbia",
   "metadata": {},
   "outputs": [],
   "source": []
  },
  {
   "cell_type": "code",
   "execution_count": null,
   "id": "threatened-consensus",
   "metadata": {},
   "outputs": [],
   "source": [
    "#3 Opcional(vamos discutir em aula)\n",
    "    # O que vocês fariam com a coluna Idade?\n",
    "    \n",
    "    # Faça o tratamento de acordo com a sua linha de pensamento\n",
    "    \n",
    "    # Esse tratamento que fez é útil (Sim / Não e Por que)?\n",
    "    \n",
    "    # O que podemos fazer com essa informação para ter um dado mais acertivo?"
   ]
  },
  {
   "cell_type": "code",
   "execution_count": null,
   "id": "circular-stone",
   "metadata": {},
   "outputs": [],
   "source": []
  }
 ],
 "metadata": {
  "kernelspec": {
   "display_name": "Python 3",
   "language": "python",
   "name": "python3"
  },
  "language_info": {
   "codemirror_mode": {
    "name": "ipython",
    "version": 3
   },
   "file_extension": ".py",
   "mimetype": "text/x-python",
   "name": "python",
   "nbconvert_exporter": "python",
   "pygments_lexer": "ipython3",
   "version": "3.7.7"
  }
 },
 "nbformat": 4,
 "nbformat_minor": 5
}

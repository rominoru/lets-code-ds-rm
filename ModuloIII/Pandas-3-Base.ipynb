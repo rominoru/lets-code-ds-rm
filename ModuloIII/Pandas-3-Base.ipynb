{
 "cells": [
  {
   "cell_type": "code",
   "execution_count": null,
   "id": "eastern-sampling",
   "metadata": {
    "tags": []
   },
   "outputs": [],
   "source": [
    "import pandas as pd\n",
    "import numpy as np "
   ]
  },
  {
   "cell_type": "code",
   "execution_count": null,
   "id": "hispanic-journalism",
   "metadata": {},
   "outputs": [],
   "source": [
    "# limpeza de dados - isna, notna, duplicated"
   ]
  },
  {
   "cell_type": "code",
   "execution_count": null,
   "id": "arctic-contents",
   "metadata": {
    "tags": []
   },
   "outputs": [],
   "source": [
    "df = pd.DataFrame({\n",
    "'ord_no':[70001,70006,70002,70004,70007,70005,70008,70010,70003,70011,70009,70012],\n",
    "'purch_amt':[150.5,270.65,65.26,110.5,948.5,2400.6,5760,1983.43,2480.4,250.45, 75.29,3045.6],\n",
    "'ord_date': ['2012-10-05','2012-09-10',np.nan,'2012-08-17','2012-09-10','2012-07-27','2012-09-10','2012-10-10','2012-10-10','2012-06-27','2012-08-17','2012-04-25'],\n",
    "'customer_id':[3002,3001,3001,3003,3002,3001,3001,3004,3003,3002,3001,3001],\n",
    "'salesman_id':[5002,5003,5001,np.nan,5002,5001,5001,np.nan,5003,5002,5003,np.nan]})"
   ]
  },
  {
   "cell_type": "code",
   "execution_count": null,
   "id": "martial-yesterday",
   "metadata": {},
   "outputs": [],
   "source": [
    "# isna mostra uma copia do dataframe com a resposta booleana \n"
   ]
  },
  {
   "cell_type": "code",
   "execution_count": null,
   "id": "sexual-houston",
   "metadata": {
    "tags": []
   },
   "outputs": [],
   "source": [
    "# isna.any mostra uma Series com a resposta booleana agregada da coluna (se tiver ao menos um valor nan ele retorna True)\n",
    "\n",
    "# isna.all mostra uma Series com a resposta booleana agregada da coluna (ele só retorna True se todos os valores forem NaN)\n",
    "\n",
    "# isna.sum() mostra uma Series com a conta de quantos valores NaN temos em cada coluna do Dataframe\n",
    "\n",
    "# sum duas veces traz o valor total do dataframe\n"
   ]
  },
  {
   "cell_type": "code",
   "execution_count": null,
   "id": "fuzzy-translator",
   "metadata": {
    "tags": []
   },
   "outputs": [],
   "source": [
    "#Criamos uma coluna com valores teste, atenção na diferencia entre None e np.nan, também se a nossa serie é menor veja o que acontece\n"
   ]
  },
  {
   "cell_type": "code",
   "execution_count": null,
   "id": "behavioral-canberra",
   "metadata": {
    "tags": []
   },
   "outputs": [],
   "source": []
  },
  {
   "cell_type": "code",
   "execution_count": null,
   "id": "unusual-charger",
   "metadata": {
    "tags": []
   },
   "outputs": [],
   "source": [
    "#notna - Mostra uma Series com a conta contraria do isna\n",
    "\n"
   ]
  },
  {
   "cell_type": "code",
   "execution_count": null,
   "id": "fixed-bracelet",
   "metadata": {
    "tags": []
   },
   "outputs": [],
   "source": [
    "#replace conseguimos trocar todos os valores do nosso dataframe, utilizando o formato de dict\n"
   ]
  },
  {
   "cell_type": "code",
   "execution_count": null,
   "id": "practical-prayer",
   "metadata": {
    "tags": []
   },
   "outputs": [],
   "source": [
    "#Observe como a nossa coluna se transformou em dtype float\n"
   ]
  },
  {
   "cell_type": "markdown",
   "id": "exotic-insulation",
   "metadata": {},
   "source": [
    "OBSERVAÇÃO\n",
    ">**None** - é um Python type que não deve ser usado matematicamente ele vale mais como um valor não existente ou vazio<br>\n",
    ">**NaN** - é um valor que é utilizado para representar um valor numericamente invalido ele é considerado como float\n"
   ]
  },
  {
   "cell_type": "code",
   "execution_count": null,
   "id": "constant-minimum",
   "metadata": {},
   "outputs": [],
   "source": []
  },
  {
   "cell_type": "code",
   "execution_count": null,
   "id": "standard-authority",
   "metadata": {
    "tags": []
   },
   "outputs": [],
   "source": [
    "# duplicated - Mostra uma Series com a verificação se tem valores duplicados\n",
    "# subset - para escolher qual coluna\n",
    "# keep - first=coloca True apos a primeira ocorrencia / last-coloca True desde a primeira aparição e False na ultma ocorrencia da serie\n"
   ]
  },
  {
   "cell_type": "code",
   "execution_count": null,
   "id": "endless-attention",
   "metadata": {},
   "outputs": [],
   "source": []
  },
  {
   "cell_type": "code",
   "execution_count": null,
   "id": "elder-possession",
   "metadata": {
    "tags": []
   },
   "outputs": [],
   "source": [
    "# droping values - drop, dropna, drop_duplicates "
   ]
  },
  {
   "cell_type": "code",
   "execution_count": null,
   "id": "civic-spectacular",
   "metadata": {
    "tags": []
   },
   "outputs": [],
   "source": [
    "#drop - da um drop na coluna ou colunas especificada\n"
   ]
  },
  {
   "cell_type": "code",
   "execution_count": null,
   "id": "moderate-workstation",
   "metadata": {
    "tags": []
   },
   "outputs": [],
   "source": [
    "#dropna - da um drop em colunas ou linhas, se não especificar dropa linha ou coluna se tiver ao menos um na value / default axis=0\n"
   ]
  },
  {
   "cell_type": "code",
   "execution_count": null,
   "id": "welsh-surge",
   "metadata": {
    "tags": []
   },
   "outputs": [],
   "source": [
    "#drop_duplicates, T (Transpose) - Muda a orientação do Dataframe\n"
   ]
  },
  {
   "cell_type": "code",
   "execution_count": null,
   "id": "russian-liberia",
   "metadata": {
    "tags": []
   },
   "outputs": [],
   "source": [
    "\n",
    "#falar do inplace (https://towardsdatascience.com/why-you-should-probably-never-use-pandas-inplace-true-9f9f211849e4#:~:text=Using%20the%20inplace%3DTrue%20keyword,which%20you%20apply%20it%20to.)\n"
   ]
  },
  {
   "cell_type": "code",
   "execution_count": null,
   "id": "ignored-stuff",
   "metadata": {
    "tags": []
   },
   "outputs": [],
   "source": []
  },
  {
   "cell_type": "code",
   "execution_count": null,
   "id": "magnetic-subject",
   "metadata": {
    "tags": []
   },
   "outputs": [],
   "source": [
    "#drop_duplicates - faz um drop em qualquer linha que tiver todos os valores iguais, subset escolhe coluna, keep(last ou first)\n"
   ]
  },
  {
   "cell_type": "code",
   "execution_count": null,
   "id": "regional-elephant",
   "metadata": {},
   "outputs": [],
   "source": []
  },
  {
   "cell_type": "code",
   "execution_count": null,
   "id": "tutorial-encounter",
   "metadata": {
    "tags": []
   },
   "outputs": [],
   "source": []
  },
  {
   "cell_type": "code",
   "execution_count": null,
   "id": "sitting-girlfriend",
   "metadata": {},
   "outputs": [],
   "source": [
    "# manipulação de dataframes - merge, concat, melt"
   ]
  },
  {
   "cell_type": "code",
   "execution_count": null,
   "id": "simplified-fence",
   "metadata": {},
   "outputs": [],
   "source": [
    "#melt - transforma nosso dataframe para usos especificos id_vars escolhe qual é a nossa primera coluna e value_vars qual queremos mostrar\n"
   ]
  },
  {
   "cell_type": "code",
   "execution_count": null,
   "id": "adopted-basement",
   "metadata": {
    "tags": []
   },
   "outputs": [],
   "source": []
  },
  {
   "cell_type": "markdown",
   "id": "integral-mumbai",
   "metadata": {},
   "source": [
    ">**Merge** - junta dois dataframes e podemos especificar como:\n",
    "- em coluna especifica\n",
    "- left(so nos valores que tiverem na coluna esquerda)\n",
    "- right(so nos valores que tiverem na coluna direita)\n",
    "- inner(so nos valores em comum nos dois dataframes)\n",
    "- outer(tudo)"
   ]
  },
  {
   "cell_type": "code",
   "execution_count": null,
   "id": "outstanding-aluminum",
   "metadata": {
    "tags": []
   },
   "outputs": [],
   "source": [
    "df_clientes = pd.read_csv('customers.csv',sep=';')"
   ]
  },
  {
   "cell_type": "code",
   "execution_count": null,
   "id": "searching-trial",
   "metadata": {
    "tags": []
   },
   "outputs": [],
   "source": []
  },
  {
   "cell_type": "code",
   "execution_count": null,
   "id": "national-rally",
   "metadata": {
    "tags": []
   },
   "outputs": [],
   "source": []
  },
  {
   "cell_type": "code",
   "execution_count": null,
   "id": "embedded-conversation",
   "metadata": {},
   "outputs": [],
   "source": [
    "#DIY - Grupos (Olist)"
   ]
  },
  {
   "cell_type": "markdown",
   "id": "portuguese-trinidad",
   "metadata": {},
   "source": [
    "https://www.kaggle.com/datasets/olistbr/brazilian-ecommerce"
   ]
  },
  {
   "cell_type": "markdown",
   "id": "burning-receiver",
   "metadata": {},
   "source": [
    "1. Pegar os dados de products, orders,  customers,items\n",
    "2. Explorar os dados e identificar as colunas em comum\n",
    "3. Junte as colunas no seu dataframe de items necessarias para poder ver quais são as 10 categorias que mais trouxeram receita pra a empresa\n",
    "4. Faça um groupby e descobra qual order_id teve mais produtos pedidos(um pedido pode ter mais de um item)\n",
    "    - Procure por esse pedido no df de clientes(faça o merge)\n",
    "    - De qual estado é o cliente?\n",
    "5. No DF de orders crie uma nova coluna com o time delta entre a data estimada de entrega e a data real \n",
    "6. Analise a coluna e traga conclusões(\n",
    "    - temos valores outliers?\n",
    "    - quanto eles representam?\n",
    "    - qual é a nossa media?\n",
    "    - quanto representa nosso de nosso dataframe pedidos que demoraram mais de 5 dias para entregar apos a data prometida\n",
    "7. Quantos estados temos no nosso dataset?, Tem todos os estados do Brasil?,Quais são os 3 estados com mais pedidos?\n",
    "8. Bonus(Faça um gafico com essa informação)"
   ]
  },
  {
   "cell_type": "code",
   "execution_count": null,
   "id": "indie-communications",
   "metadata": {},
   "outputs": [],
   "source": []
  }
 ],
 "metadata": {
  "kernelspec": {
   "display_name": "Python 3",
   "language": "python",
   "name": "python3"
  },
  "language_info": {
   "codemirror_mode": {
    "name": "ipython",
    "version": 3
   },
   "file_extension": ".py",
   "mimetype": "text/x-python",
   "name": "python",
   "nbconvert_exporter": "python",
   "pygments_lexer": "ipython3",
   "version": "3.7.7"
  }
 },
 "nbformat": 4,
 "nbformat_minor": 5
}

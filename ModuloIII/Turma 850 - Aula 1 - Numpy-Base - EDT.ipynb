{
 "cells": [
  {
   "cell_type": "markdown",
   "id": "unexpected-parliament",
   "metadata": {
    "execution": {
     "iopub.execute_input": "2022-06-23T22:42:49.761772Z",
     "iopub.status.busy": "2022-06-23T22:42:49.761413Z",
     "iopub.status.idle": "2022-06-23T22:42:49.792967Z",
     "shell.execute_reply": "2022-06-23T22:42:49.770780Z",
     "shell.execute_reply.started": "2022-06-23T22:42:49.761738Z"
    },
    "tags": []
   },
   "source": [
    "<div>\n",
    "<img src=\"Imgs/logo-numpy.svg\" width=\"250\"/>\n",
    "</div>"
   ]
  },
  {
   "cell_type": "markdown",
   "id": "electric-importance",
   "metadata": {},
   "source": [
    "https://numpy.org\n",
    "\n",
    "- Abreviação para Numerical Python\n",
    "- É base para muitos outros pacotes, inclusive pacotes de Machinle Learning \n",
    "- Utilizado para computação de alta performance \n",
    "- Utilizado para analise e transformação de dados\n",
    "- É utilizado frequentemente em conjunto com Pandas (Próximo tema)"
   ]
  },
  {
   "cell_type": "markdown",
   "id": "tamil-abortion",
   "metadata": {},
   "source": [
    "Curiosidade sobre Numpy\n",
    "https://numpy.org/case-studies/blackhole-image/"
   ]
  },
  {
   "cell_type": "code",
   "execution_count": 2,
   "id": "respective-silicon",
   "metadata": {},
   "outputs": [],
   "source": [
    "import numpy as np"
   ]
  },
  {
   "cell_type": "markdown",
   "id": "organizational-seattle",
   "metadata": {},
   "source": [
    "#### Conceitos principais"
   ]
  },
  {
   "cell_type": "code",
   "execution_count": null,
   "id": "spread-baghdad",
   "metadata": {
    "tags": []
   },
   "outputs": [],
   "source": [
    "#numpy.ndarray VS Lists\n",
    "list1 = [4,2,5,6,10]\n",
    "array1 = np.array(list1)\n",
    "print(f'List: {list1}')\n",
    "print(type(list1))\n",
    "print(list1)\n",
    "print(type(list1[1]))\n",
    "print(type(list1[4]))\n",
    "print('\\n')\n",
    "print(f'Numpy array: {array1}')\n",
    "print(f'Type: {type(array1)}')\n",
    "print(array1)\n",
    "print(type(array1[0]))\n",
    "print(type(array1[3]))\n"
   ]
  },
  {
   "cell_type": "code",
   "execution_count": null,
   "id": "burning-jesus",
   "metadata": {
    "tags": []
   },
   "outputs": [],
   "source": [
    "# Soma de um numero na lista e no nparray\n",
    "arr + 2"
   ]
  },
  {
   "cell_type": "code",
   "execution_count": null,
   "id": "described-investor",
   "metadata": {
    "tags": []
   },
   "outputs": [],
   "source": [
    "list1 + 2"
   ]
  },
  {
   "cell_type": "markdown",
   "id": "removable-movie",
   "metadata": {},
   "source": [
    ">Todos os itens de um array devem ser do mesmo tipo, diferentemente os itens de uma lista. Segue!"
   ]
  },
  {
   "cell_type": "markdown",
   "id": "universal-jackson",
   "metadata": {},
   "source": [
    "- i - integer\n",
    "- b - boolean\n",
    "- U - unsigned integer (Inteiros que não tem simbolos de + ou - associados )\n",
    "- f - float\n",
    "- c - complex float (Numeros Imaginarios)\n",
    "- m - timedelta\n",
    "- M - datetime\n",
    "- O - object\n",
    "- S - string\n",
    "- U - unicode string"
   ]
  },
  {
   "cell_type": "code",
   "execution_count": null,
   "id": "amazing-blind",
   "metadata": {
    "tags": []
   },
   "outputs": [],
   "source": [
    "#Testes com diferentes tipos\n",
    "#Str>Float>Int\n",
    "list2 = [[2,3,4,4],[3,40,100,0]]"
   ]
  },
  {
   "cell_type": "code",
   "execution_count": null,
   "id": "wrapped-anger",
   "metadata": {
    "tags": []
   },
   "outputs": [],
   "source": [
    "#dtype param \n"
   ]
  },
  {
   "cell_type": "code",
   "execution_count": null,
   "id": "front-spell",
   "metadata": {
    "tags": []
   },
   "outputs": [],
   "source": [
    "#ndim, shape, size, dtype\n"
   ]
  },
  {
   "cell_type": "code",
   "execution_count": null,
   "id": "found-bunny",
   "metadata": {
    "tags": []
   },
   "outputs": [],
   "source": [
    "#astype\n"
   ]
  },
  {
   "cell_type": "code",
   "execution_count": 6,
   "id": "southeast-victoria",
   "metadata": {
    "tags": []
   },
   "outputs": [
    {
     "name": "stdout",
     "output_type": "stream",
     "text": [
      "[[ -495339213  1951276594]\n",
      " [ -419191370 -1428299268]]\n",
      "[0 5]\n",
      "[1 2 3]\n",
      "[1 2 3]\n"
     ]
    }
   ],
   "source": [
    "#zeros = array feita de zeros\n",
    "\n",
    "#ones - array feita de qualquer numero\n",
    "\n",
    "#empty - array dada um tamanho e tipo determinado com valores randomicos\n",
    "npempty = np.empty((2,2),dtype='int')\n",
    "print(npempty)\n",
    "#full - parecida a ones porem mais \"elegante\"\n",
    "\n",
    "#fulllike - cria um array baseada em uma\n",
    "# existente com outro numero dado\n",
    "# nplike = np.full_like(npfull,4)\n",
    "# print(nplike)\n",
    "# arange - cria um array com elementos separados por um step\n",
    "nparange = np.arange(0,10,5)\n",
    "print(nparange)\n",
    "#copias do array \n",
    "array = np.array([1,2,3])\n",
    "arraycopy = array.copy()\n",
    "print(arraycopy)\n",
    "print(arraycopy)"
   ]
  },
  {
   "cell_type": "markdown",
   "id": "committed-america",
   "metadata": {},
   "source": [
    "#### Operações entre ndarrays"
   ]
  },
  {
   "cell_type": "markdown",
   "id": "prescribed-samuel",
   "metadata": {},
   "source": [
    "> Numpy foi feito para manipular e realizar operações vetorizadas em grande escala, com velocidade"
   ]
  },
  {
   "cell_type": "code",
   "execution_count": null,
   "id": "neutral-groove",
   "metadata": {},
   "outputs": [],
   "source": [
    "#creating random arrays  = np.random.random_sample retorna array do tamanho pedido com numeros entre 0.0, 1.0"
   ]
  },
  {
   "cell_type": "code",
   "execution_count": null,
   "id": "unauthorized-silver",
   "metadata": {
    "tags": []
   },
   "outputs": [],
   "source": [
    "np.random.random_sample((3, 3))"
   ]
  },
  {
   "cell_type": "code",
   "execution_count": null,
   "id": "serious-weapon",
   "metadata": {
    "tags": []
   },
   "outputs": [],
   "source": [
    "#multipy, divide, add, subtract\n"
   ]
  },
  {
   "cell_type": "markdown",
   "id": "british-atmosphere",
   "metadata": {},
   "source": [
    "##### DIY"
   ]
  },
  {
   "cell_type": "markdown",
   "id": "important-shame",
   "metadata": {},
   "source": [
    "Ex 1\n",
    "1) Transforme a duas listas em duas arrays diferentes arr1 e arr2.\n",
    "2) Verifique o dtype dos array\n",
    "3) Transforme os dois array em float\n",
    "4) Compare as duas arrays e mostre os indices dos elementos que são iguais(dica : where)\n",
    "5) Retorne os numeros do array que são iguais usando o output do paso 4 dica subsetting"
   ]
  },
  {
   "cell_type": "code",
   "execution_count": 13,
   "id": "furnished-boutique",
   "metadata": {
    "execution": {
     "iopub.execute_input": "2022-06-24T18:28:41.320388Z",
     "iopub.status.busy": "2022-06-24T18:28:41.317945Z",
     "iopub.status.idle": "2022-06-24T18:28:41.332595Z",
     "shell.execute_reply": "2022-06-24T18:28:41.331483Z",
     "shell.execute_reply.started": "2022-06-24T18:28:41.319864Z"
    },
    "tags": []
   },
   "outputs": [],
   "source": [
    "list_1 = [1,2,3,4,5]\n",
    "list_2 = [1,3,2.2,4,5]\n"
   ]
  },
  {
   "cell_type": "code",
   "execution_count": 19,
   "id": "ac75783b",
   "metadata": {},
   "outputs": [],
   "source": [
    "arr1 = np.array(list_1)\n",
    "arr2 = np.array(list_2)"
   ]
  },
  {
   "cell_type": "code",
   "execution_count": 20,
   "id": "6e63da8d",
   "metadata": {},
   "outputs": [],
   "source": [
    "arr1 = arr1.astype('f')\n",
    "arr2 = arr2.astype('f')"
   ]
  },
  {
   "cell_type": "code",
   "execution_count": 21,
   "id": "26e82f8e",
   "metadata": {},
   "outputs": [
    {
     "name": "stdout",
     "output_type": "stream",
     "text": [
      "[1. 2. 3. 4. 5.]\n",
      "[1.  3.  2.2 4.  5. ]\n"
     ]
    }
   ],
   "source": [
    "print(arr1)\n",
    "print(arr2)"
   ]
  },
  {
   "cell_type": "code",
   "execution_count": 22,
   "id": "16fb084c",
   "metadata": {},
   "outputs": [
    {
     "data": {
      "text/plain": [
       "(array([0, 3, 4], dtype=int64),)"
      ]
     },
     "execution_count": 22,
     "metadata": {},
     "output_type": "execute_result"
    }
   ],
   "source": [
    "np.where(arr1==arr2)"
   ]
  },
  {
   "cell_type": "code",
   "execution_count": 23,
   "id": "9deb4777",
   "metadata": {},
   "outputs": [
    {
     "data": {
      "text/plain": [
       "array([1., 4., 5.], dtype=float32)"
      ]
     },
     "execution_count": 23,
     "metadata": {},
     "output_type": "execute_result"
    }
   ],
   "source": [
    "arr1[[0,3,4]]"
   ]
  },
  {
   "cell_type": "markdown",
   "id": "understanding-basis",
   "metadata": {},
   "source": [
    "#### Indexação, Slicing"
   ]
  },
  {
   "cell_type": "code",
   "execution_count": 24,
   "id": "aggregate-burke",
   "metadata": {
    "tags": []
   },
   "outputs": [],
   "source": [
    "array = np.array([[1, 2, 3, 4, 5, 6, 7], [8, 9, 10, 11, 12, 13, 14]])\n"
   ]
  },
  {
   "cell_type": "code",
   "execution_count": 25,
   "id": "89e6a78c",
   "metadata": {},
   "outputs": [
    {
     "data": {
      "text/plain": [
       "(2, 7)"
      ]
     },
     "execution_count": 25,
     "metadata": {},
     "output_type": "execute_result"
    }
   ],
   "source": [
    "array.shape"
   ]
  },
  {
   "cell_type": "code",
   "execution_count": 29,
   "id": "increased-paragraph",
   "metadata": {
    "tags": []
   },
   "outputs": [
    {
     "name": "stdout",
     "output_type": "stream",
     "text": [
      "5\n",
      "13\n",
      "[1 2 3 4 5 6 7]\n",
      "[ 3 10]\n",
      "[[ 2  4  6]\n",
      " [ 9 11 13]]\n"
     ]
    }
   ],
   "source": [
    "#seleção por index [linha, coluna]\n",
    "#numero especifico\n",
    "print(array[0,4])\n",
    "#numero especifico negativo\n",
    "print(array[-1,-2])\n",
    "\n",
    "# : é chamado de slicing [startindex:endindex:stepsize]\n",
    "#primera linha\n",
    "print(array[0,:])\n",
    "#todos os elementos da 2 coluna\n",
    "print(array[:,2])\n",
    "#elemento especificos com step\n",
    "print(array[:,1:6:2])"
   ]
  },
  {
   "cell_type": "markdown",
   "id": "willing-regard",
   "metadata": {},
   "source": [
    "> conseguimos mudar também elementos especificos de uma array usando index e slicing"
   ]
  },
  {
   "cell_type": "code",
   "execution_count": 33,
   "id": "dutch-jordan",
   "metadata": {
    "tags": []
   },
   "outputs": [
    {
     "name": "stdout",
     "output_type": "stream",
     "text": [
      "[[ 1  2  5  4  5  6  7]\n",
      " [ 8  9  5 11  7 13 14]]\n",
      "[[ 1  2  5  4  5  6  7]\n",
      " [ 8  9  5 11  7 13 14]]\n",
      "[[ 1  2  3  4  5  6  7]\n",
      " [ 8  9 10 11  7 13 14]]\n"
     ]
    }
   ],
   "source": [
    "#trocando um numero especifico\n",
    "array[1,4] = 7\n",
    "print(array)\n",
    "#trocar coluna inteira \n",
    "array[:,2] = 5\n",
    "print(array)\n",
    "#voltar os valores originais \n",
    "array[:,2] = [3,10]\n",
    "print(array)"
   ]
  },
  {
   "cell_type": "markdown",
   "id": "executed-luther",
   "metadata": {
    "execution": {
     "iopub.execute_input": "2022-06-24T16:58:47.984825Z",
     "iopub.status.busy": "2022-06-24T16:58:47.984085Z",
     "iopub.status.idle": "2022-06-24T16:58:48.042519Z",
     "shell.execute_reply": "2022-06-24T16:58:48.040862Z",
     "shell.execute_reply.started": "2022-06-24T16:58:47.984789Z"
    },
    "tags": []
   },
   "source": [
    "#### DIY"
   ]
  },
  {
   "cell_type": "markdown",
   "id": "relevant-deposit",
   "metadata": {},
   "source": [
    "Ex 2\n",
    "1) Gere uma array com 3 dimensões com shape. (2,2,2)\n",
    "2) Printe o ndim da array e o shape\n",
    "3) Retire um elemento especifico [bloco][linha][coluna]\n",
    "\n"
   ]
  },
  {
   "cell_type": "code",
   "execution_count": 34,
   "id": "removable-catalog",
   "metadata": {
    "tags": []
   },
   "outputs": [
    {
     "name": "stdout",
     "output_type": "stream",
     "text": [
      "(2, 2, 2)\n"
     ]
    }
   ],
   "source": [
    "array3d= np.array([[[1,2],[3,4]],[[5,6],[7,8]]])\n"
   ]
  },
  {
   "cell_type": "code",
   "execution_count": 35,
   "id": "willing-empty",
   "metadata": {
    "tags": []
   },
   "outputs": [
    {
     "name": "stdout",
     "output_type": "stream",
     "text": [
      "[[[1 2]\n",
      "  [3 4]]\n",
      "\n",
      " [[5 6]\n",
      "  [7 8]]]\n"
     ]
    }
   ],
   "source": [
    "#print array\n",
    "print(array3d)"
   ]
  },
  {
   "cell_type": "code",
   "execution_count": 38,
   "id": "rotary-suite",
   "metadata": {
    "tags": []
   },
   "outputs": [
    {
     "name": "stdout",
     "output_type": "stream",
     "text": [
      "3\n"
     ]
    }
   ],
   "source": [
    "#print ndim\n",
    "print(array3d.ndim)"
   ]
  },
  {
   "cell_type": "code",
   "execution_count": 37,
   "id": "existing-ending",
   "metadata": {
    "tags": []
   },
   "outputs": [
    {
     "name": "stdout",
     "output_type": "stream",
     "text": [
      "(2, 2, 2)\n"
     ]
    }
   ],
   "source": [
    "#print shape\n",
    "print(array3d.shape)"
   ]
  },
  {
   "cell_type": "code",
   "execution_count": 36,
   "id": "liquid-globe",
   "metadata": {
    "tags": []
   },
   "outputs": [
    {
     "name": "stdout",
     "output_type": "stream",
     "text": [
      "4\n"
     ]
    }
   ],
   "source": [
    "#print elemento\n",
    "print(array3d[0,1,1])"
   ]
  },
  {
   "cell_type": "markdown",
   "id": "explicit-keyboard",
   "metadata": {
    "heading_collapsed": "true",
    "tags": []
   },
   "source": [
    "##### Dica"
   ]
  },
  {
   "cell_type": "markdown",
   "id": "basic-friday",
   "metadata": {},
   "source": [
    "O array 3D é um conjunto de arrays de duas dimensões, \"um array de arrays de arrays\", os elementos são acessados para um indice para linha, um para coluna um para o bloco ( Parecido com um cubo). Tem apliações em diversas areas como: Jogos, Data Wharehouses, Analise de dados entre outros. \n",
    "\n",
    "Ordem [bloco][linha][coluna]"
   ]
  },
  {
   "cell_type": "markdown",
   "id": "suspended-directory",
   "metadata": {
    "execution": {
     "iopub.execute_input": "2022-06-24T17:37:00.185437Z",
     "iopub.status.busy": "2022-06-24T17:37:00.183727Z",
     "iopub.status.idle": "2022-06-24T17:37:00.200784Z",
     "shell.execute_reply": "2022-06-24T17:37:00.198669Z",
     "shell.execute_reply.started": "2022-06-24T17:37:00.185363Z"
    }
   },
   "source": [
    "<div>\n",
    "<img src=\"Imgs/arrays.png\" width=\"500\"/>\n",
    "</div>\n",
    "<img src=\"Imgs/formato3d.png\" width=\"500\"/>"
   ]
  },
  {
   "cell_type": "markdown",
   "id": "technological-irish",
   "metadata": {},
   "source": [
    "#### Transposição, Stacking e Redimensionamento"
   ]
  },
  {
   "cell_type": "markdown",
   "id": "social-meditation",
   "metadata": {},
   "source": [
    "<img src=\"Imgs/transpose.png\" width=\"500\"/>"
   ]
  },
  {
   "cell_type": "code",
   "execution_count": 23,
   "id": "coordinated-ocean",
   "metadata": {},
   "outputs": [
    {
     "data": {
      "text/plain": [
       "array([[ 1,  2,  3,  4,  5,  6,  7],\n",
       "       [ 8,  9, 10, 11, 12, 13, 14]])"
      ]
     },
     "execution_count": 23,
     "metadata": {},
     "output_type": "execute_result"
    }
   ],
   "source": [
    "array = np.array([[1, 2, 3, 4, 5, 6, 7], [8, 9, 10, 11, 12, 13, 14]])\n",
    "array"
   ]
  },
  {
   "cell_type": "code",
   "execution_count": 24,
   "id": "accepting-retro",
   "metadata": {
    "tags": []
   },
   "outputs": [
    {
     "data": {
      "text/plain": [
       "array([[ 1,  8],\n",
       "       [ 2,  9],\n",
       "       [ 3, 10],\n",
       "       [ 4, 11],\n",
       "       [ 5, 12],\n",
       "       [ 6, 13],\n",
       "       [ 7, 14]])"
      ]
     },
     "execution_count": 24,
     "metadata": {},
     "output_type": "execute_result"
    }
   ],
   "source": [
    "array.T"
   ]
  },
  {
   "cell_type": "code",
   "execution_count": 26,
   "id": "b52188b5",
   "metadata": {},
   "outputs": [
    {
     "name": "stdout",
     "output_type": "stream",
     "text": [
      "[[[ 1  2  3]\n",
      "  [ 4  5  6]\n",
      "  [ 7  8  9]]\n",
      "\n",
      " [[10 11 12]\n",
      "  [13 14 15]\n",
      "  [16 17 18]]\n",
      "\n",
      " [[19 20 21]\n",
      "  [22 23 24]\n",
      "  [25 26 27]]]\n",
      "[[[ 1 10 19]\n",
      "  [ 4 13 22]\n",
      "  [ 7 16 25]]\n",
      "\n",
      " [[ 2 11 20]\n",
      "  [ 5 14 23]\n",
      "  [ 8 17 26]]\n",
      "\n",
      " [[ 3 12 21]\n",
      "  [ 6 15 24]\n",
      "  [ 9 18 27]]]\n"
     ]
    }
   ],
   "source": [
    "array3d = np.array([[[1,2,3],[4,5,6],[7,8,9]],\n",
    "                    [[10,11,12],[13,14,15],[16,17,18]],\n",
    "                    [[19,20,21],[22,23,24],[25,26,27]]])\n",
    "\n",
    "print(array3d)\n",
    "print(array3d.T)"
   ]
  },
  {
   "cell_type": "markdown",
   "id": "discrete-light",
   "metadata": {},
   "source": [
    "#### Estatistica"
   ]
  },
  {
   "cell_type": "code",
   "execution_count": 43,
   "id": "hydraulic-mobile",
   "metadata": {
    "tags": []
   },
   "outputs": [
    {
     "name": "stdout",
     "output_type": "stream",
     "text": [
      "[[1 8 3]\n",
      " [4 5 6]]\n"
     ]
    }
   ],
   "source": [
    "stats = np.array([[1,8,3],[4,5,6]])\n",
    "print(stats)"
   ]
  },
  {
   "cell_type": "code",
   "execution_count": 41,
   "id": "exciting-republic",
   "metadata": {
    "tags": []
   },
   "outputs": [
    {
     "data": {
      "text/plain": [
       "1"
      ]
     },
     "execution_count": 41,
     "metadata": {},
     "output_type": "execute_result"
    }
   ],
   "source": [
    "#minimo do nosso array\n",
    "np.min(stats)"
   ]
  },
  {
   "cell_type": "code",
   "execution_count": 44,
   "id": "electronic-wilderness",
   "metadata": {
    "tags": []
   },
   "outputs": [
    {
     "data": {
      "text/plain": [
       "8"
      ]
     },
     "execution_count": 44,
     "metadata": {},
     "output_type": "execute_result"
    }
   ],
   "source": [
    "#maximo do nosso array\n",
    "np.max(stats)"
   ]
  },
  {
   "cell_type": "code",
   "execution_count": 45,
   "id": "rental-relevance",
   "metadata": {
    "tags": []
   },
   "outputs": [
    {
     "data": {
      "text/plain": [
       "array([1, 4])"
      ]
     },
     "execution_count": 45,
     "metadata": {},
     "output_type": "execute_result"
    }
   ],
   "source": [
    "#minima por linha\n",
    "np.min(stats, 1)"
   ]
  },
  {
   "cell_type": "code",
   "execution_count": 10,
   "id": "64cfe54e",
   "metadata": {},
   "outputs": [
    {
     "name": "stdout",
     "output_type": "stream",
     "text": [
      "[[[ 1  2  3]\n",
      "  [ 4  5  6]\n",
      "  [ 7  8  9]]\n",
      "\n",
      " [[10 11 12]\n",
      "  [13 14 15]\n",
      "  [16 17 18]]\n",
      "\n",
      " [[19 20 21]\n",
      "  [22 23 24]\n",
      "  [25 26 27]]]\n",
      "[[1 2 3]\n",
      " [4 5 6]\n",
      " [7 8 9]]\n",
      "[[ 1  2  3]\n",
      " [10 11 12]\n",
      " [19 20 21]]\n",
      "[[ 1  4  7]\n",
      " [10 13 16]\n",
      " [19 22 25]]\n"
     ]
    }
   ],
   "source": [
    "# array3d = np.array([[[1,2],[3,4]],[[5,6],[7,8]]])\n",
    "array3d = np.array([[[1,2,3],[4,5,6],[7,8,9]],\n",
    "                    [[10,11,12],[13,14,15],[16,17,18]],\n",
    "                    [[19,20,21],[22,23,24],[25,26,27]]])\n",
    "print(array3d)\n",
    "print(np.min(array3d, 0))\n",
    "print(np.min(array3d, 1))\n",
    "print(np.min(array3d, 2))"
   ]
  },
  {
   "cell_type": "code",
   "execution_count": 15,
   "id": "ee56d95f",
   "metadata": {},
   "outputs": [
    {
     "name": "stdout",
     "output_type": "stream",
     "text": [
      "[[ 2  5  8]\n",
      " [11 14 17]\n",
      " [20 23 26]]\n",
      "[[ 7  8  9]\n",
      " [16 17 18]\n",
      " [25 26 27]]\n",
      "27\n",
      "[25 26 27]\n",
      "[ 9 18 27]\n",
      "27\n"
     ]
    }
   ],
   "source": [
    "array3d = np.array([[[1,2,3],[4,5,6],[7,8,9]],\n",
    "                    [[10,11,12],[13,14,15],[16,17,18]],\n",
    "                    [[19,20,21],[22,23,24],[25,26,27]]])\n",
    "print(array3d[:,:,1])\n",
    "print(array3d[:,2])\n",
    "print(np.max(array3d[:,2]))\n",
    "print(np.max(array3d[:,2],0))\n",
    "print(np.max(array3d[:,2],1))\n",
    "print(np.max(array3d[:,2]))"
   ]
  },
  {
   "cell_type": "code",
   "execution_count": 22,
   "id": "a0907455",
   "metadata": {},
   "outputs": [
    {
     "name": "stdout",
     "output_type": "stream",
     "text": [
      "[[[ 1  2  3]\n",
      "  [ 4  5  6]\n",
      "  [ 7  8  9]]\n",
      "\n",
      " [[19 20 21]\n",
      "  [22 23 24]\n",
      "  [25 26 27]]]\n",
      "[[[ 1  2  3]\n",
      "  [ 4  5  6]\n",
      "  [ 7  8  9]]\n",
      "\n",
      " [[19 20 21]\n",
      "  [22 23 24]\n",
      "  [25 26 27]]]\n",
      "[[ 4  5  6]\n",
      " [22 23 24]]\n",
      "4\n"
     ]
    }
   ],
   "source": [
    "array3d = np.array([[[1,2,3],[4,5,6],[7,8,9]],\n",
    "                    [[10,11,12],[13,14,15],[16,17,18]],\n",
    "                    [[19,20,21],[22,23,24],[25,26,27]]])\n",
    "print(array3d[:3:2]) # print(array3d[[0,2]])\n",
    "print(array3d[:3:2, 1])\n",
    "print(np.min(array3d[:3:2, 1]))"
   ]
  },
  {
   "cell_type": "code",
   "execution_count": 46,
   "id": "tamil-summer",
   "metadata": {
    "tags": []
   },
   "outputs": [
    {
     "data": {
      "text/plain": [
       "array([1, 5, 3])"
      ]
     },
     "execution_count": 46,
     "metadata": {},
     "output_type": "execute_result"
    }
   ],
   "source": [
    "#minima por coluna\n",
    "np.min(stats, 0)"
   ]
  },
  {
   "cell_type": "code",
   "execution_count": 50,
   "id": "amended-times",
   "metadata": {
    "tags": []
   },
   "outputs": [
    {
     "data": {
      "text/plain": [
       "5"
      ]
     },
     "execution_count": 50,
     "metadata": {},
     "output_type": "execute_result"
    }
   ],
   "source": [
    "#maximo de uma coluna especifica\n",
    "np.min(stats[:,1],0)"
   ]
  },
  {
   "cell_type": "markdown",
   "id": "dense-description",
   "metadata": {},
   "source": [
    "#### DIY - Grupos"
   ]
  },
  {
   "cell_type": "markdown",
   "id": "pursuant-democrat",
   "metadata": {},
   "source": [
    "https://archive.ics.uci.edu/ml/datasets/Wine+Quality"
   ]
  },
  {
   "cell_type": "code",
   "execution_count": 28,
   "id": "lucky-stage",
   "metadata": {
    "tags": []
   },
   "outputs": [],
   "source": [
    "url = 'https://archive.ics.uci.edu/ml/machine-learning-databases/wine-quality/winequality-red.csv'"
   ]
  },
  {
   "cell_type": "code",
   "execution_count": 29,
   "id": "c74c7cab",
   "metadata": {},
   "outputs": [
    {
     "data": {
      "text/plain": [
       "array([[0.  , 3.51, 5.  ],\n",
       "       [0.  , 3.2 , 5.  ],\n",
       "       [0.04, 3.26, 5.  ],\n",
       "       ...,\n",
       "       [0.13, 3.42, 6.  ],\n",
       "       [0.12, 3.57, 5.  ],\n",
       "       [0.47, 3.39, 6.  ]])"
      ]
     },
     "execution_count": 29,
     "metadata": {},
     "output_type": "execute_result"
    }
   ],
   "source": [
    "wine_arr = np.genfromtxt(url, delimiter=';', usecols=[2,8,11], skip_header = True)\n",
    "wine_arr"
   ]
  },
  {
   "cell_type": "markdown",
   "id": "fabulous-street",
   "metadata": {},
   "source": [
    "DICA : Procure por nan e substitua por 0 (dica: is_nan e nan_to_num)m"
   ]
  },
  {
   "cell_type": "markdown",
   "id": "african-storm",
   "metadata": {},
   "source": [
    "https://numpy.org/devdocs/user/basics.io.genfromtxt.html\n",
    "1) Verifique a url e veja quais são as colunas do arquivo\n",
    "2) Veja qual é o delimiter do arquivo ',' , ':', ';'\n",
    "3) Selecione as colunas (param usecols) Citric Acid, PH e  Alcohol\n",
    "4) Mostre o array e as caracteristicas dele ndim, shape, dype\n",
    "5) Procure o maximo e minimo da coluna PH \n",
    "6) Obtenha a media da coluna Alcohol"
   ]
  },
  {
   "cell_type": "code",
   "execution_count": 30,
   "id": "728452a8",
   "metadata": {},
   "outputs": [
    {
     "name": "stdout",
     "output_type": "stream",
     "text": [
      "2.74\n",
      "4.01\n"
     ]
    }
   ],
   "source": [
    "import numpy as np\n",
    "with open('winequality-red.csv', 'r') as arquivo:\n",
    "    wine_arr = np.genfromtxt(arquivo, delimiter=';', usecols=(2,8,10), skip_header=1)\n",
    "# 2 Citric Acid\n",
    "# 8 PH\n",
    "# 10 Alcool\n",
    "\n",
    "print(np.min(wine_arr[:,1]))\n",
    "print(np.max(wine_arr[:,1]))\n"
   ]
  },
  {
   "cell_type": "code",
   "execution_count": null,
   "id": "junior-psychology",
   "metadata": {
    "tags": []
   },
   "outputs": [],
   "source": [
    "#Import data\n",
    "wine_arr = np.genfromtxt()"
   ]
  },
  {
   "cell_type": "code",
   "execution_count": 31,
   "id": "crazy-phoenix",
   "metadata": {
    "tags": []
   },
   "outputs": [
    {
     "name": "stdout",
     "output_type": "stream",
     "text": [
      "[[ 0.    3.51  9.4 ]\n",
      " [ 0.    3.2   9.8 ]\n",
      " [ 0.04  3.26  9.8 ]\n",
      " ...\n",
      " [ 0.13  3.42 11.  ]\n",
      " [ 0.12  3.57 10.2 ]\n",
      " [ 0.47  3.39 11.  ]]\n",
      "2\n",
      "(1599, 3)\n",
      "float64\n"
     ]
    }
   ],
   "source": [
    "#Show array\n",
    "print(wine_arr)\n",
    "\n",
    "print(wine_arr.ndim)\n",
    "\n",
    "print(wine_arr.shape)\n",
    "\n",
    "print(wine_arr.dtype)"
   ]
  },
  {
   "cell_type": "code",
   "execution_count": 42,
   "id": "complimentary-yesterday",
   "metadata": {
    "tags": []
   },
   "outputs": [
    {
     "name": "stdout",
     "output_type": "stream",
     "text": [
      "2.74\n",
      "4.01\n",
      "3.3109887359198997\n",
      "0.15430622682778028\n"
     ]
    }
   ],
   "source": [
    "# Max Min Avg PH\n",
    "print(np.min(wine_arr[1:,1]))\n",
    "print(np.max(wine_arr[1:,1]))\n",
    "print(np.average(wine_arr[1:,1]))\n",
    "print(np.std(wine_arr[1:,1]))"
   ]
  },
  {
   "cell_type": "code",
   "execution_count": 43,
   "id": "d2d601fb",
   "metadata": {},
   "outputs": [
    {
     "name": "stdout",
     "output_type": "stream",
     "text": [
      "8.4\n",
      "14.9\n",
      "10.423623279098875\n",
      "1.0653600835210026\n"
     ]
    }
   ],
   "source": [
    "# Max Min Avg Alcool\n",
    "print(np.min(wine_arr[1:,2]))\n",
    "print(np.max(wine_arr[1:,2]))\n",
    "print(np.average(wine_arr[1:,2]))\n",
    "print(np.std(wine_arr[1:,2]))"
   ]
  },
  {
   "cell_type": "code",
   "execution_count": 44,
   "id": "2a9dd27b",
   "metadata": {},
   "outputs": [
    {
     "name": "stdout",
     "output_type": "stream",
     "text": [
      "0.0\n",
      "1.0\n",
      "0.2711451814768461\n",
      "0.1946830875536191\n"
     ]
    }
   ],
   "source": [
    "# Max Min Avg Acido Citrico\n",
    "print(np.min(wine_arr[1:,0]))\n",
    "print(np.max(wine_arr[1:,0]))\n",
    "print(np.average(wine_arr[1:,0]))\n",
    "print(np.std(wine_arr[1:,0]))"
   ]
  },
  {
   "cell_type": "code",
   "execution_count": 12,
   "id": "patient-lottery",
   "metadata": {
    "tags": []
   },
   "outputs": [
    {
     "data": {
      "text/plain": [
       "10.423623279098875"
      ]
     },
     "execution_count": 12,
     "metadata": {},
     "output_type": "execute_result"
    }
   ],
   "source": [
    "#Mean\n",
    "np.average(wine_arr[1:,2])"
   ]
  },
  {
   "cell_type": "markdown",
   "id": "conservative-correction",
   "metadata": {},
   "source": [
    "#### Extra"
   ]
  },
  {
   "cell_type": "markdown",
   "id": "statewide-firmware",
   "metadata": {},
   "source": [
    "1) Faça um for loop que itere por todos os elementos de uma array de 3 dimensões"
   ]
  },
  {
   "cell_type": "code",
   "execution_count": 17,
   "id": "original-fabric",
   "metadata": {
    "tags": []
   },
   "outputs": [
    {
     "name": "stdout",
     "output_type": "stream",
     "text": [
      "Bloco 0, Linha 0, - Elemento: 1\n",
      "Bloco 0, Linha 1, - Elemento: 3\n",
      "Bloco 0, Linha 0, - Elemento: 2\n",
      "Bloco 0, Linha 1, - Elemento: 4\n",
      "Bloco 1, Linha 0, - Elemento: 5\n",
      "Bloco 1, Linha 1, - Elemento: 7\n",
      "Bloco 1, Linha 0, - Elemento: 6\n",
      "Bloco 1, Linha 1, - Elemento: 8\n"
     ]
    }
   ],
   "source": [
    "for b in range(2):\n",
    "    for c in range(2):\n",
    "        for l in range(2):\n",
    "            print(f'Bloco {b}, Linha {l}, - Elemento: {array3d[b][l][c]}')"
   ]
  }
 ],
 "metadata": {
  "kernelspec": {
   "display_name": "Python 3.10.5 64-bit (windows store)",
   "language": "python",
   "name": "python3"
  },
  "language_info": {
   "codemirror_mode": {
    "name": "ipython",
    "version": 3
   },
   "file_extension": ".py",
   "mimetype": "text/x-python",
   "name": "python",
   "nbconvert_exporter": "python",
   "pygments_lexer": "ipython3",
   "version": "3.10.5"
  },
  "vscode": {
   "interpreter": {
    "hash": "d8c2dbe515bb1e132c806da356eed840d95260b43840da4c22c4a5911b708884"
   }
  }
 },
 "nbformat": 4,
 "nbformat_minor": 5
}

{
 "cells": [
  {
   "cell_type": "markdown",
   "id": "surrounded-pride",
   "metadata": {
    "execution": {
     "iopub.execute_input": "2022-06-26T20:22:03.395135Z",
     "iopub.status.busy": "2022-06-26T20:22:03.394494Z",
     "iopub.status.idle": "2022-06-26T20:22:03.426688Z",
     "shell.execute_reply": "2022-06-26T20:22:03.417247Z",
     "shell.execute_reply.started": "2022-06-26T20:22:03.395026Z"
    }
   },
   "source": [
    "<div>\n",
    "<img src=\"../Imgs/logo-numpy.svg\" width=\"250\"/>\n",
    "</div>"
   ]
  },
  {
   "cell_type": "markdown",
   "id": "chubby-infection",
   "metadata": {},
   "source": [
    "https://numpy.org\n",
    "\n",
    "- Abreviação para Numerical Python\n",
    "- É base para muitos outros pacotes, inclusive pacotes de Machinle Learning \n",
    "- Utilizado para computação de alta performance \n",
    "- Utilizado para analise e transformação de dados\n",
    "- É utilizado frequentemente em conjunto com Pandas (Próximo tema)"
   ]
  },
  {
   "cell_type": "code",
   "execution_count": 1,
   "id": "appointed-plate",
   "metadata": {
    "tags": []
   },
   "outputs": [],
   "source": [
    "import numpy as np\n",
    "import random "
   ]
  },
  {
   "cell_type": "markdown",
   "id": "weekly-plenty",
   "metadata": {
    "execution": {
     "iopub.execute_input": "2022-06-26T20:25:39.598428Z",
     "iopub.status.busy": "2022-06-26T20:25:39.598051Z",
     "iopub.status.idle": "2022-06-26T20:25:39.603810Z",
     "shell.execute_reply": "2022-06-26T20:25:39.600990Z",
     "shell.execute_reply.started": "2022-06-26T20:25:39.598393Z"
    }
   },
   "source": [
    "#### Boolean e Seleções Avançadas"
   ]
  },
  {
   "cell_type": "markdown",
   "id": "pacific-driving",
   "metadata": {},
   "source": [
    "Conceito super importante no numpy e no pandas é o de máscara booleana.\n",
    "<br>\n",
    "Ao aplicar qualquer operador booleanoo numpy retorna um array de True e False no qual ele aplicou elemento a elemento aquele operador.\n",
    "\n",
    "- '>'\n",
    "- '<'\n",
    "- '<='\n",
    "- '>='\n",
    "- '=='\n",
    "- 'in'\n",
    "\n",
    "\n"
   ]
  },
  {
   "cell_type": "code",
   "execution_count": null,
   "id": "statewide-diabetes",
   "metadata": {
    "tags": []
   },
   "outputs": [],
   "source": [
    "#Array 2d\n"
   ]
  },
  {
   "cell_type": "code",
   "execution_count": null,
   "id": "reflected-nashville",
   "metadata": {
    "tags": []
   },
   "outputs": [],
   "source": [
    "#boolean simples, retorna a mesma array com True e False\n"
   ]
  },
  {
   "cell_type": "code",
   "execution_count": null,
   "id": "spatial-catch",
   "metadata": {
    "tags": []
   },
   "outputs": [],
   "source": [
    "#Quando colocamos cochetes ele retorna os valores nos quais o nosso boolean é verdadeiro \n"
   ]
  },
  {
   "cell_type": "code",
   "execution_count": null,
   "id": "incredible-proxy",
   "metadata": {},
   "outputs": [],
   "source": [
    "#comparando arrays 1D\n",
    "\n",
    "\n",
    "#funções\n"
   ]
  },
  {
   "cell_type": "code",
   "execution_count": null,
   "id": "unusual-pollution",
   "metadata": {
    "tags": []
   },
   "outputs": [],
   "source": [
    "# .any & .all\n",
    "#coluna\n",
    "\n",
    "#linea\n"
   ]
  },
  {
   "cell_type": "code",
   "execution_count": null,
   "id": "sonic-ability",
   "metadata": {
    "tags": []
   },
   "outputs": [],
   "source": [
    "#filtro boolean and &\n"
   ]
  },
  {
   "cell_type": "code",
   "execution_count": null,
   "id": "mounted-bronze",
   "metadata": {},
   "outputs": [],
   "source": [
    "#filtro boolean 2\n"
   ]
  },
  {
   "cell_type": "code",
   "execution_count": null,
   "id": "established-orlando",
   "metadata": {
    "tags": []
   },
   "outputs": [],
   "source": [
    "#podemos gerar um filtro com o resultado da nossa pergunta booleana \n"
   ]
  },
  {
   "cell_type": "code",
   "execution_count": null,
   "id": "monthly-boxing",
   "metadata": {
    "tags": []
   },
   "outputs": [],
   "source": [
    "# filtro boolean or |\n"
   ]
  },
  {
   "cell_type": "code",
   "execution_count": null,
   "id": "lasting-afghanistan",
   "metadata": {},
   "outputs": [],
   "source": [
    "#Pegar valores do filtro \n"
   ]
  },
  {
   "cell_type": "code",
   "execution_count": null,
   "id": "regulated-recipe",
   "metadata": {
    "tags": []
   },
   "outputs": [],
   "source": [
    "#Filtro not \n"
   ]
  },
  {
   "cell_type": "code",
   "execution_count": null,
   "id": "reported-register",
   "metadata": {
    "tags": []
   },
   "outputs": [],
   "source": [
    "\n",
    " \n",
    "# array nova sobre as condições do filtro\n"
   ]
  },
  {
   "cell_type": "code",
   "execution_count": null,
   "id": "sunrise-charles",
   "metadata": {},
   "outputs": [],
   "source": [
    "new_arr"
   ]
  },
  {
   "cell_type": "code",
   "execution_count": null,
   "id": "similar-bottom",
   "metadata": {
    "tags": []
   },
   "outputs": [],
   "source": [
    "\n",
    " \n",
    "# lambda + condition\n",
    "# A função filter extrai elementos de um iteravel e retorna True ou False\n",
    "\n",
    " \n",
    "# Converting new list into numpy array\n"
   ]
  },
  {
   "cell_type": "markdown",
   "id": "minimal-jimmy",
   "metadata": {},
   "source": [
    "#### Vstack e Reorganizando Arrays"
   ]
  },
  {
   "cell_type": "code",
   "execution_count": null,
   "id": "adjustable-certificate",
   "metadata": {
    "tags": []
   },
   "outputs": [],
   "source": [
    "#reshape em uma array 1D\n"
   ]
  },
  {
   "cell_type": "code",
   "execution_count": null,
   "id": "sticky-natural",
   "metadata": {
    "tags": []
   },
   "outputs": [],
   "source": [
    "#invert no array\n"
   ]
  },
  {
   "cell_type": "code",
   "execution_count": null,
   "id": "opened-quarter",
   "metadata": {
    "tags": []
   },
   "outputs": [],
   "source": [
    "#Vstack em duas arrays do mesmo tamanho\n"
   ]
  },
  {
   "cell_type": "code",
   "execution_count": null,
   "id": "concerned-spare",
   "metadata": {
    "tags": []
   },
   "outputs": [],
   "source": []
  },
  {
   "cell_type": "code",
   "execution_count": null,
   "id": "ranging-inquiry",
   "metadata": {
    "tags": []
   },
   "outputs": [],
   "source": [
    "#flatten order= C(por coluna), F(por lina)\n"
   ]
  },
  {
   "cell_type": "markdown",
   "id": "motivated-wireless",
   "metadata": {},
   "source": [
    "##### DIY 1"
   ]
  },
  {
   "cell_type": "markdown",
   "id": "addressed-marketing",
   "metadata": {},
   "source": [
    "1. Crie 3 arrays 1D com 10 elementos com numeros inteiros de 1 a 10  e printe elas (dica = randint)\n",
    "2. Elabore um filtro boolean na arr 1 com &, pegue os valores do array com o filtro e printe\n",
    "3. Elabore um filtro boolean na arr 2 com |, pegue os valores do array com o filtro e printe\n",
    "4. Faça um reshape na arr1 \n",
    "5. Façã um vstack com as arr2 e arr3\n",
    "6. Aplique um flatten por linha na array nova"
   ]
  },
  {
   "cell_type": "code",
   "execution_count": 22,
   "id": "latter-negotiation",
   "metadata": {
    "tags": []
   },
   "outputs": [
    {
     "name": "stdout",
     "output_type": "stream",
     "text": [
      "[7 1 7 6 9 8 2 4 9 6]\n",
      "[1 0 7 2 3 9 4 4 1 9]\n",
      "[4 5 4 3 5 9 4 7 9 0]\n"
     ]
    }
   ],
   "source": [
    "array1 = np.random.randint(11, size = 10)\n",
    "array2 = np.random.randint(11, size = 10)\n",
    "array3 = np.random.randint(11, size = 10)\n",
    "print(array1)\n",
    "print(array2)\n",
    "print(array3)"
   ]
  },
  {
   "cell_type": "code",
   "execution_count": 29,
   "id": "879c11ff",
   "metadata": {},
   "outputs": [
    {
     "name": "stdout",
     "output_type": "stream",
     "text": [
      "[7 7 6 9 8 9 6]\n"
     ]
    }
   ],
   "source": [
    "array1_filter = (array1 > 5) & (array1 <= 10)\n",
    "print(array1[array1_filter])\n"
   ]
  },
  {
   "cell_type": "code",
   "execution_count": 30,
   "id": "6daf31c7",
   "metadata": {},
   "outputs": [
    {
     "name": "stdout",
     "output_type": "stream",
     "text": [
      "[7 7 9 8 9]\n"
     ]
    }
   ],
   "source": [
    "array1_filter = (array1 > 6) | (array1 == 10)\n",
    "print(array1[array1_filter])\n"
   ]
  },
  {
   "cell_type": "code",
   "execution_count": 25,
   "id": "excellent-obligation",
   "metadata": {
    "tags": []
   },
   "outputs": [
    {
     "data": {
      "text/plain": [
       "array([[7, 1, 7, 6, 9],\n",
       "       [8, 2, 4, 9, 6]])"
      ]
     },
     "execution_count": 25,
     "metadata": {},
     "output_type": "execute_result"
    }
   ],
   "source": [
    "array1.reshape(2,5)"
   ]
  },
  {
   "cell_type": "code",
   "execution_count": 26,
   "id": "346ed823",
   "metadata": {},
   "outputs": [
    {
     "name": "stdout",
     "output_type": "stream",
     "text": [
      "[[7 1 7 6 9 8 2 4 9 6]\n",
      " [1 0 7 2 3 9 4 4 1 9]]\n"
     ]
    }
   ],
   "source": [
    "arrays_vstack = np.vstack([array1, array2])\n",
    "print(arrays_vstack)"
   ]
  },
  {
   "cell_type": "code",
   "execution_count": 31,
   "id": "fbfca2f6",
   "metadata": {},
   "outputs": [
    {
     "data": {
      "text/plain": [
       "array([7, 1, 1, 0, 7, 7, 6, 2, 9, 3, 8, 9, 2, 4, 4, 4, 9, 1, 6, 9])"
      ]
     },
     "execution_count": 31,
     "metadata": {},
     "output_type": "execute_result"
    }
   ],
   "source": [
    "arrays_vstack.flatten('F')"
   ]
  },
  {
   "cell_type": "markdown",
   "id": "reliable-upper",
   "metadata": {},
   "source": [
    "#### Numpy Matrix"
   ]
  },
  {
   "cell_type": "markdown",
   "id": "furnished-healing",
   "metadata": {},
   "source": [
    "> Marizes em são obrigatoriamente elementos de duas dimensões "
   ]
  },
  {
   "cell_type": "code",
   "execution_count": null,
   "id": "designed-farming",
   "metadata": {
    "tags": []
   },
   "outputs": [],
   "source": []
  },
  {
   "cell_type": "code",
   "execution_count": null,
   "id": "functioning-archive",
   "metadata": {},
   "outputs": [],
   "source": []
  },
  {
   "cell_type": "code",
   "execution_count": null,
   "id": "grave-campbell",
   "metadata": {},
   "outputs": [],
   "source": []
  },
  {
   "cell_type": "code",
   "execution_count": null,
   "id": "cheap-destination",
   "metadata": {
    "tags": []
   },
   "outputs": [],
   "source": []
  },
  {
   "cell_type": "code",
   "execution_count": null,
   "id": "optical-kelly",
   "metadata": {},
   "outputs": [],
   "source": []
  },
  {
   "cell_type": "code",
   "execution_count": null,
   "id": "inner-reduction",
   "metadata": {
    "tags": []
   },
   "outputs": [],
   "source": [
    "#Se eu passar uma lista simples ele cria automaticamente uma matriz de duas dim\n"
   ]
  },
  {
   "cell_type": "code",
   "execution_count": null,
   "id": "attempted-perception",
   "metadata": {},
   "outputs": [],
   "source": []
  },
  {
   "cell_type": "code",
   "execution_count": null,
   "id": "unique-activation",
   "metadata": {},
   "outputs": [],
   "source": [
    "#tentando criar uma matrix maior \n"
   ]
  },
  {
   "cell_type": "code",
   "execution_count": null,
   "id": "preliminary-caution",
   "metadata": {
    "tags": []
   },
   "outputs": [],
   "source": []
  },
  {
   "cell_type": "code",
   "execution_count": null,
   "id": "fitted-grenada",
   "metadata": {
    "tags": []
   },
   "outputs": [],
   "source": [
    "#bloco, linha, coluna\n"
   ]
  },
  {
   "cell_type": "code",
   "execution_count": null,
   "id": "voluntary-shower",
   "metadata": {},
   "outputs": [],
   "source": [
    "#array multi Element Wise\n"
   ]
  },
  {
   "cell_type": "code",
   "execution_count": null,
   "id": "comparative-making",
   "metadata": {
    "tags": []
   },
   "outputs": [],
   "source": [
    "#matriz * Dot Product\n"
   ]
  },
  {
   "cell_type": "markdown",
   "id": "absent-method",
   "metadata": {
    "execution": {
     "iopub.execute_input": "2022-06-27T20:36:30.340688Z",
     "iopub.status.busy": "2022-06-27T20:36:30.339284Z",
     "iopub.status.idle": "2022-06-27T20:36:30.360000Z",
     "shell.execute_reply": "2022-06-27T20:36:30.352693Z",
     "shell.execute_reply.started": "2022-06-27T20:36:30.340625Z"
    }
   },
   "source": [
    "<div>\n",
    "<img src=\"../Imgs/dotprod.jpeg\" width=\"500\"/>\n",
    "</div>"
   ]
  },
  {
   "cell_type": "code",
   "execution_count": null,
   "id": "explicit-mobility",
   "metadata": {
    "tags": []
   },
   "outputs": [],
   "source": [
    "#Soma e subtração \n"
   ]
  },
  {
   "cell_type": "markdown",
   "id": "taken-description",
   "metadata": {},
   "source": [
    "> It is no longer recommended to use the matrix class, even for linear algebra. Instead, use regular numpy arrays. The matrix class may be removed in the future. (05-2021)"
   ]
  },
  {
   "cell_type": "markdown",
   "id": "conscious-british",
   "metadata": {},
   "source": [
    "##### DIY "
   ]
  },
  {
   "cell_type": "markdown",
   "id": "nonprofit-queens",
   "metadata": {},
   "source": [
    "1. Crie uma matriz com numeros aleatorios de 1 ao 20 shape (2,2)\n",
    "2. Crie um array 2D com shape (2,2)\n",
    "3. Transforme a array em matrix \n",
    "4. Printe o type do array transformado\n",
    "5. Faça o Dot product das matrizes\n"
   ]
  },
  {
   "cell_type": "code",
   "execution_count": null,
   "id": "nuclear-expert",
   "metadata": {
    "tags": []
   },
   "outputs": [],
   "source": []
  },
  {
   "cell_type": "code",
   "execution_count": null,
   "id": "common-natural",
   "metadata": {
    "tags": []
   },
   "outputs": [],
   "source": []
  },
  {
   "cell_type": "code",
   "execution_count": null,
   "id": "numeric-calgary",
   "metadata": {},
   "outputs": [],
   "source": []
  },
  {
   "cell_type": "code",
   "execution_count": null,
   "id": "surgical-screen",
   "metadata": {
    "tags": []
   },
   "outputs": [],
   "source": []
  },
  {
   "cell_type": "markdown",
   "id": "essential-coverage",
   "metadata": {},
   "source": [
    "#### Grupo"
   ]
  },
  {
   "cell_type": "markdown",
   "id": "difficult-raise",
   "metadata": {},
   "source": [
    "https://archive.ics.uci.edu/ml/datasets/Wine+Quality"
   ]
  },
  {
   "cell_type": "markdown",
   "id": "adjacent-technology",
   "metadata": {
    "execution": {
     "iopub.execute_input": "2022-06-27T20:44:58.345790Z",
     "iopub.status.busy": "2022-06-27T20:44:58.345428Z",
     "iopub.status.idle": "2022-06-27T20:44:59.842111Z",
     "shell.execute_reply": "2022-06-27T20:44:59.840986Z",
     "shell.execute_reply.started": "2022-06-27T20:44:58.345761Z"
    }
   },
   "source": [
    "1. Importe o mesmo dataset da aula passada \n",
    "2. Selecione as mesmas colunas Citric Acid, PH e  Alcohol\n",
    "3. Faça um filtro booleano com os vinhos com:\n",
    "    - um valor maior ou igual a 6 de Alcohol\n",
    "    - um valor de PH menor do que 3\n",
    "    - um valor de Citric Acid maior do que .20\n",
    "4. Faça um novo array com esses dados \n",
    "5. Quantos vinhos tem a nossa seleção?\n",
    "6. Quantos vinhos deixamos de fora?\n",
    "7. Faça um outro filtro segundo a sua criatividade \n",
    "8. Qual a sua conclusão?"
   ]
  },
  {
   "cell_type": "code",
   "execution_count": 77,
   "id": "unnecessary-disposition",
   "metadata": {},
   "outputs": [
    {
     "name": "stdout",
     "output_type": "stream",
     "text": [
      "Quantidade original: 1599\n",
      "[[ 0.28  2.93  9.9 ]\n",
      " [ 0.28  2.93  9.9 ]\n",
      " [ 0.29  2.93  9.8 ]\n",
      " [ 1.    2.74  9.4 ]\n",
      " [ 0.63  2.99 10.2 ]\n",
      " [ 0.72  2.88  9.8 ]\n",
      " [ 0.76  2.95 11.2 ]\n",
      " [ 0.54  2.98  9.2 ]\n",
      " [ 0.74  2.86  8.4 ]\n",
      " [ 0.49  2.92 11.1 ]\n",
      " [ 0.49  2.92 11.1 ]\n",
      " [ 0.49  2.92 11.1 ]\n",
      " [ 0.49  2.98  9.9 ]\n",
      " [ 0.55  2.98  9.4 ]\n",
      " [ 0.39  2.89  9.6 ]\n",
      " [ 0.65  2.98 14.9 ]\n",
      " [ 0.39  2.89  9.6 ]\n",
      " [ 0.59  2.92 10.5 ]\n",
      " [ 0.45  2.94  9.2 ]\n",
      " [ 0.45  2.94  9.2 ]\n",
      " [ 0.3   2.94  9.5 ]\n",
      " [ 0.3   2.99 10.2 ]\n",
      " [ 0.37  2.89 12.7 ]\n",
      " [ 0.37  2.89 12.7 ]\n",
      " [ 0.54  2.98 11.8 ]\n",
      " [ 0.26  2.94 10.2 ]\n",
      " [ 0.68  2.9   9.1 ]]\n"
     ]
    }
   ],
   "source": [
    "#Import data\n",
    "with open('winequality-red.csv', \"r\") as arquivo:\n",
    "    wine_arr = np.genfromtxt(arquivo, delimiter=\";\", usecols=(2, 8, 10), skip_header=1)\n",
    "    wine_arr\n",
    "    #wine_arr[0,:]=0\n",
    "    #print(wine_arr)\n",
    "\n",
    "\n",
    "print('Quantidade original:', len(wine_arr))\n",
    "filtro = (wine_arr[:, 2] >= 6 ) & (wine_arr[:, 1] < 3) & (wine_arr[:, 0] > .20)\n",
    "#print(filtro)\n",
    "wine_arr_filtrado = wine_arr[filtro]\n",
    "qtde_vinhos= len(wine_arr_filtrado)\n",
    "qtde_fora = len(wine_arr[~filtro])\n",
    "print('Vinhos de filtrados:' , qtde_vinhos)\n",
    "print('Vinhos de fora:' , qtde_fora)\n",
    "print(wine_arr_filtrado)"
   ]
  },
  {
   "cell_type": "code",
   "execution_count": 84,
   "id": "apart-aquarium",
   "metadata": {
    "tags": []
   },
   "outputs": [
    {
     "name": "stdout",
     "output_type": "stream",
     "text": [
      "[[ 0.76  2.95 11.2 ]\n",
      " [ 0.49  2.92 11.1 ]\n",
      " [ 0.49  2.92 11.1 ]\n",
      " [ 0.49  2.92 11.1 ]\n",
      " [ 0.65  2.98 14.9 ]\n",
      " [ 0.37  2.89 12.7 ]\n",
      " [ 0.37  2.89 12.7 ]\n",
      " [ 0.54  2.98 11.8 ]]\n"
     ]
    }
   ],
   "source": [
    "filtro_criativo = (wine_arr[:, 2] >= 11 ) & (wine_arr[:, 1] < 3) #& (wine_arr[:, 0] > .20)\n",
    "wine_arr_novo_filtro = wine_arr[filtro_criativo]\n",
    "print(wine_arr_novo_filtro)"
   ]
  },
  {
   "cell_type": "code",
   "execution_count": null,
   "id": "synthetic-rough",
   "metadata": {
    "tags": []
   },
   "outputs": [],
   "source": []
  },
  {
   "cell_type": "code",
   "execution_count": null,
   "id": "complex-railway",
   "metadata": {},
   "outputs": [],
   "source": []
  },
  {
   "cell_type": "code",
   "execution_count": null,
   "id": "trying-service",
   "metadata": {},
   "outputs": [],
   "source": []
  },
  {
   "cell_type": "code",
   "execution_count": null,
   "id": "worth-allah",
   "metadata": {
    "tags": []
   },
   "outputs": [],
   "source": []
  },
  {
   "cell_type": "code",
   "execution_count": null,
   "id": "wound-harvest",
   "metadata": {
    "tags": []
   },
   "outputs": [],
   "source": []
  },
  {
   "cell_type": "code",
   "execution_count": null,
   "id": "judicial-universe",
   "metadata": {},
   "outputs": [],
   "source": []
  },
  {
   "cell_type": "code",
   "execution_count": null,
   "id": "empty-quarterly",
   "metadata": {},
   "outputs": [],
   "source": []
  },
  {
   "cell_type": "code",
   "execution_count": null,
   "id": "cleared-patrick",
   "metadata": {
    "tags": []
   },
   "outputs": [],
   "source": []
  },
  {
   "cell_type": "code",
   "execution_count": null,
   "id": "macro-junction",
   "metadata": {
    "tags": []
   },
   "outputs": [],
   "source": []
  },
  {
   "cell_type": "code",
   "execution_count": null,
   "id": "australian-devices",
   "metadata": {},
   "outputs": [],
   "source": []
  }
 ],
 "metadata": {
  "kernelspec": {
   "display_name": "Python 3.9.7 ('base')",
   "language": "python",
   "name": "python3"
  },
  "language_info": {
   "codemirror_mode": {
    "name": "ipython",
    "version": 3
   },
   "file_extension": ".py",
   "mimetype": "text/x-python",
   "name": "python",
   "nbconvert_exporter": "python",
   "pygments_lexer": "ipython3",
   "version": "3.9.7"
  },
  "vscode": {
   "interpreter": {
    "hash": "a68946932af67dfebca33dea9f61a5a3bce380c7596b80d6e78689e2c35ba428"
   }
  }
 },
 "nbformat": 4,
 "nbformat_minor": 5
}

{
 "cells": [
  {
   "cell_type": "markdown",
   "id": "metropolitan-protocol",
   "metadata": {},
   "source": [
    "<img src=\"../Imgs/pandas.png\">"
   ]
  },
  {
   "cell_type": "markdown",
   "id": "prime-membrane",
   "metadata": {
    "execution": {
     "iopub.execute_input": "2022-06-28T23:47:00.038811Z",
     "iopub.status.busy": "2022-06-28T23:47:00.036864Z",
     "iopub.status.idle": "2022-06-28T23:47:00.058366Z",
     "shell.execute_reply": "2022-06-28T23:47:00.055926Z",
     "shell.execute_reply.started": "2022-06-28T23:47:00.038503Z"
    }
   },
   "source": [
    "https://pandas.pydata.org\n",
    "- Pandas e uma ferramenta de analisis e manipulação de dados, construida em linguagem python.\n",
    "- É usado em diferentes areas como Financas, Economia, Estatistica entre outras\n",
    "- Ferramenta para leer e escrever dados estructurados em formatos diferentes (CSV, Texto, Excel, SQL entre outros)\n",
    "- Ele cria objetos de DataFrame com indexação integrada\n",
    "- Aggregação e Transformação permitindo split-apply-combine \n",
    "- Merge e Joins de alta performance em data sets\n",
    "- Iterações rapidas em colunas para tratamento de dados\n"
   ]
  },
  {
   "cell_type": "markdown",
   "id": "vocational-water",
   "metadata": {
    "execution": {
     "iopub.execute_input": "2022-06-29T14:41:36.210140Z",
     "iopub.status.busy": "2022-06-29T14:41:36.209824Z",
     "iopub.status.idle": "2022-06-29T14:41:36.217946Z",
     "shell.execute_reply": "2022-06-29T14:41:36.215759Z",
     "shell.execute_reply.started": "2022-06-29T14:41:36.210111Z"
    }
   },
   "source": [
    "**Bases de dados do governo Brasileiro**<br>\n",
    ">https://dados.gov.br<br>\n",
    "\n",
    "**Bases de dados de diversos temas**<br>\n",
    ">https://www.kaggle.com/datasets"
   ]
  },
  {
   "cell_type": "code",
   "execution_count": null,
   "id": "laden-option",
   "metadata": {},
   "outputs": [],
   "source": [
    "#Importando pandas\n",
    "import pandas as pd\n",
    "import numpy as np "
   ]
  },
  {
   "cell_type": "markdown",
   "id": "supposed-merit",
   "metadata": {},
   "source": [
    "#### Series "
   ]
  },
  {
   "cell_type": "code",
   "execution_count": null,
   "id": "anonymous-answer",
   "metadata": {
    "scrolled": true,
    "tags": []
   },
   "outputs": [],
   "source": [
    "#Pandas Series\n",
    "#Um grupo de series forma um dataframe\n"
   ]
  },
  {
   "cell_type": "code",
   "execution_count": null,
   "id": "complimentary-moral",
   "metadata": {
    "scrolled": true,
    "tags": []
   },
   "outputs": [],
   "source": [
    "#Matematica\n",
    "\n"
   ]
  },
  {
   "cell_type": "code",
   "execution_count": null,
   "id": "handed-queens",
   "metadata": {},
   "outputs": [],
   "source": [
    "#Comparando series\n"
   ]
  },
  {
   "cell_type": "code",
   "execution_count": null,
   "id": "coupled-glucose",
   "metadata": {
    "tags": []
   },
   "outputs": [],
   "source": [
    "#numpy para serie\n"
   ]
  },
  {
   "cell_type": "code",
   "execution_count": null,
   "id": "parallel-sodium",
   "metadata": {
    "tags": []
   },
   "outputs": [],
   "source": [
    "#Dict para serie \n"
   ]
  },
  {
   "cell_type": "code",
   "execution_count": null,
   "id": "sticky-lightning",
   "metadata": {
    "tags": []
   },
   "outputs": [],
   "source": []
  },
  {
   "cell_type": "code",
   "execution_count": null,
   "id": "animated-layout",
   "metadata": {
    "tags": []
   },
   "outputs": [],
   "source": [
    "#Transformação serie para  float \n"
   ]
  },
  {
   "cell_type": "code",
   "execution_count": null,
   "id": "sorted-delta",
   "metadata": {
    "tags": []
   },
   "outputs": [],
   "source": [
    "#Series para np array\n"
   ]
  },
  {
   "cell_type": "code",
   "execution_count": null,
   "id": "chronic-courtesy",
   "metadata": {
    "tags": []
   },
   "outputs": [],
   "source": []
  },
  {
   "cell_type": "code",
   "execution_count": null,
   "id": "charitable-recognition",
   "metadata": {
    "tags": []
   },
   "outputs": [],
   "source": [
    "#adicionando valores a uma serie \n"
   ]
  },
  {
   "cell_type": "markdown",
   "id": "direct-spoke",
   "metadata": {},
   "source": []
  },
  {
   "cell_type": "code",
   "execution_count": null,
   "id": "excited-equity",
   "metadata": {
    "tags": []
   },
   "outputs": [],
   "source": [
    "#take from series\n"
   ]
  },
  {
   "cell_type": "code",
   "execution_count": null,
   "id": "planned-planet",
   "metadata": {
    "tags": []
   },
   "outputs": [],
   "source": [
    "#subsetting\n"
   ]
  },
  {
   "cell_type": "code",
   "execution_count": null,
   "id": "finished-globe",
   "metadata": {
    "tags": []
   },
   "outputs": [],
   "source": [
    "#sort\n"
   ]
  },
  {
   "cell_type": "markdown",
   "id": "hydraulic-comedy",
   "metadata": {},
   "source": [
    "##### DYI Series"
   ]
  },
  {
   "cell_type": "markdown",
   "id": "occasional-frontier",
   "metadata": {},
   "source": [
    "- Crie duas series aleatorias com 30 numeros, no intervalo 20 a 50 cada  ds1 ds2\n",
    "- Crie uma nova serie com o nome g_than com a comparação entre a s1 e a s2 \n",
    "- Crie uma nova serie com o nome ds_sum com a soma das duas series \n",
    "- Apresente o desvio padrão da serie ds_sum\n",
    "- Crie uma nova serie com 30 strings de 5 caracteres aleatorios (Dica. random.choice + string.ascii_lowercase)\n",
    "- Crie uma lista com todas as series criadas \n",
    "- Crie um dataframe com as suas series (Dica. pd.concat())\n",
    "- Coloque o nome de cada serie no novo dataframe (Dica .rename)"
   ]
  },
  {
   "cell_type": "code",
   "execution_count": null,
   "id": "broad-exclusion",
   "metadata": {
    "tags": []
   },
   "outputs": [],
   "source": []
  },
  {
   "cell_type": "markdown",
   "id": "complex-leave",
   "metadata": {},
   "source": [
    "#### DataFrame"
   ]
  },
  {
   "cell_type": "code",
   "execution_count": null,
   "id": "forced-consumption",
   "metadata": {},
   "outputs": [],
   "source": [
    "#Df from dict\n"
   ]
  },
  {
   "cell_type": "code",
   "execution_count": null,
   "id": "linear-throw",
   "metadata": {
    "tags": []
   },
   "outputs": [],
   "source": [
    "#dataframe from list\n"
   ]
  },
  {
   "cell_type": "markdown",
   "id": "timely-preparation",
   "metadata": {},
   "source": [
    "#### Leituras (Excel,CXV,TXT)"
   ]
  },
  {
   "cell_type": "markdown",
   "id": "pressing-credits",
   "metadata": {},
   "source": [
    "http://landpage-h.cgu.gov.br/dadosabertos/index.php?url=https://www.gov.br/anp/pt-br/centrais-de-conteudo/dados-abertos/arquivos/shpc/dsan/2022/precos-gasolina-etanol-05.csv"
   ]
  },
  {
   "cell_type": "code",
   "execution_count": null,
   "id": "worst-cornell",
   "metadata": {
    "tags": []
   },
   "outputs": [],
   "source": [
    "#CSV\n"
   ]
  },
  {
   "cell_type": "code",
   "execution_count": null,
   "id": "aboriginal-appreciation",
   "metadata": {
    "tags": []
   },
   "outputs": [],
   "source": []
  },
  {
   "cell_type": "code",
   "execution_count": null,
   "id": "wired-brown",
   "metadata": {},
   "outputs": [],
   "source": [
    "#Value Counts - Contar rapidamente o numero de aparições de certa informação\n"
   ]
  },
  {
   "cell_type": "code",
   "execution_count": null,
   "id": "personalized-breakfast",
   "metadata": {},
   "outputs": [],
   "source": []
  },
  {
   "cell_type": "code",
   "execution_count": null,
   "id": "wanted-reader",
   "metadata": {
    "tags": []
   },
   "outputs": [],
   "source": [
    "#Pandas as Type\n",
    "#https://pandas.pydata.org/docs/reference/api/pandas.DataFrame.astype.html\n",
    "\n",
    "\n"
   ]
  },
  {
   "cell_type": "markdown",
   "id": "vanilla-slovak",
   "metadata": {},
   "source": [
    ">Uma função lambda do Python se comporta como uma função normal em relação aos argumentos. Portanto, um parâmetro lambda pode ser inicializado com um valor padrão: o parâmetro **n** toma o **n** externo como valor padrão."
   ]
  },
  {
   "cell_type": "code",
   "execution_count": null,
   "id": "respective-association",
   "metadata": {
    "tags": []
   },
   "outputs": [],
   "source": [
    "#As Type mais de uma coluna\n"
   ]
  },
  {
   "cell_type": "code",
   "execution_count": null,
   "id": "tender-flood",
   "metadata": {
    "tags": []
   },
   "outputs": [],
   "source": []
  },
  {
   "cell_type": "code",
   "execution_count": null,
   "id": "biblical-relay",
   "metadata": {
    "tags": []
   },
   "outputs": [],
   "source": [
    "#Excel\n"
   ]
  },
  {
   "cell_type": "code",
   "execution_count": null,
   "id": "active-start",
   "metadata": {
    "tags": []
   },
   "outputs": [],
   "source": [
    "#Text\n"
   ]
  },
  {
   "cell_type": "code",
   "execution_count": null,
   "id": "cognitive-suffering",
   "metadata": {},
   "outputs": [],
   "source": [
    "#Drop colmun\n"
   ]
  },
  {
   "cell_type": "code",
   "execution_count": null,
   "id": "informed-actor",
   "metadata": {},
   "outputs": [],
   "source": [
    "#set columns name\n"
   ]
  },
  {
   "cell_type": "code",
   "execution_count": null,
   "id": "dangerous-bennett",
   "metadata": {},
   "outputs": [],
   "source": [
    "df_text"
   ]
  },
  {
   "cell_type": "code",
   "execution_count": null,
   "id": "typical-solid",
   "metadata": {},
   "outputs": [],
   "source": [
    "#subsetting\n",
    "df_text[df_text['Idade']>=30]"
   ]
  },
  {
   "cell_type": "code",
   "execution_count": null,
   "id": "legislative-execution",
   "metadata": {},
   "outputs": [],
   "source": [
    "#Groupby\n",
    "df_text.groupby(by='Nacionalidade').size().reset_index(name='counts')"
   ]
  },
  {
   "cell_type": "markdown",
   "id": "eleven-walnut",
   "metadata": {},
   "source": [
    "#### Grupos"
   ]
  },
  {
   "cell_type": "markdown",
   "id": "bottom-stopping",
   "metadata": {},
   "source": [
    "\n",
    "\n",
    "Ver o dicionario sobre o arquivo \n",
    "https://dados.gov.br/dataset/preco-de-medicamentos-no-brasil-consumidor\n",
    "\n",
    "Prestar atenção no encoding ('iso-8859-15','utf-8','ascii') Googleit\n",
    "\n",
    "\n",
    "- 1.Carregar TA_PRECO_MEDICAMENTO.csv\n",
    "\n",
    "\n",
    "- 2.Revisar os dados (info, columns, head, tail...)\n",
    "\n",
    "\n",
    "- 3.Subset da Classe Terapeutica = N2C9 - TODOS AS OUTRAS PREPARAÇÕES ANTIENXAQUECOSAS\n",
    "\n",
    "\n",
    "- 4.Fazer Transformaçoes da coluna de PMC12% para float\n",
    "\n",
    "- 5.Preço Máximo, Minimo e Mediaao Consumidor %12 da Classse Terapeutica = N2C9 - TODOS AS OUTRAS PREPARAÇÕES ANTIENXAQUECOSAS e trazer a a linha com todas as infos do df\n",
    "\n",
    "\n",
    "- 6.Coletar 3 tipos de informações relevantes do dataset inteiro\n",
    "    - 6a Quantidade de Remedios por tipo tarja DICA (groupby)\n",
    "\n",
    "    - 6b Os 10 laboratorios com mais remedios em ordem decrescente DICA(sortby)\n",
    "    \n",
    "    - 6c Faça um groupby Substância e tire um aggregate da coluna PMC 12% com min, max e mean\n",
    "    \n",
    "    - 6d Informação que vocês acharem relevante\n",
    "    \n",
    "    \n"
   ]
  },
  {
   "cell_type": "code",
   "execution_count": null,
   "id": "quantitative-exception",
   "metadata": {},
   "outputs": [],
   "source": [
    "df = pd.read_csv('bases/TA_PRECO_MEDICAMENTO.csv',sep=';', encoding='iso-8859-15',low_memory=False)"
   ]
  },
  {
   "cell_type": "code",
   "execution_count": null,
   "id": "southwest-ivory",
   "metadata": {},
   "outputs": [],
   "source": [
    "df.head()"
   ]
  },
  {
   "cell_type": "code",
   "execution_count": null,
   "id": "stunning-survival",
   "metadata": {},
   "outputs": [],
   "source": [
    "df.columns"
   ]
  },
  {
   "cell_type": "code",
   "execution_count": null,
   "id": "material-thursday",
   "metadata": {},
   "outputs": [],
   "source": [
    "df.info()"
   ]
  },
  {
   "cell_type": "code",
   "execution_count": null,
   "id": "regular-surge",
   "metadata": {
    "tags": []
   },
   "outputs": [],
   "source": [
    "df_enx = df[df['CLASSE TERAPÊUTICA'] =='N2C9 - TODOS AS OUTRAS PREPARAÇÕES ANTIENXAQUECOSAS'].copy()"
   ]
  },
  {
   "cell_type": "code",
   "execution_count": null,
   "id": "saving-field",
   "metadata": {
    "tags": []
   },
   "outputs": [],
   "source": [
    "df_enx['PMC 12%'] = df_enx['PMC 12%'].apply(lambda x: str(x).replace(',','.'))"
   ]
  },
  {
   "cell_type": "code",
   "execution_count": null,
   "id": "divine-hamilton",
   "metadata": {
    "tags": []
   },
   "outputs": [],
   "source": [
    "df_enx['PMC 12%'] = df_enx['PMC 12%'].astype('float')"
   ]
  },
  {
   "cell_type": "code",
   "execution_count": null,
   "id": "infinite-criterion",
   "metadata": {},
   "outputs": [],
   "source": [
    "df_enx['PMC 12%'].max()"
   ]
  },
  {
   "cell_type": "code",
   "execution_count": null,
   "id": "blind-carnival",
   "metadata": {},
   "outputs": [],
   "source": [
    "df_enx[df_enx['PMC 12%']==8389.65]"
   ]
  },
  {
   "cell_type": "code",
   "execution_count": null,
   "id": "french-headline",
   "metadata": {},
   "outputs": [],
   "source": [
    "df_enx['PMC 12%'].min()"
   ]
  },
  {
   "cell_type": "code",
   "execution_count": null,
   "id": "beneficial-finnish",
   "metadata": {},
   "outputs": [],
   "source": [
    "df_enx[df_enx['PMC 12%']==14.51]"
   ]
  },
  {
   "cell_type": "code",
   "execution_count": null,
   "id": "upset-sunglasses",
   "metadata": {},
   "outputs": [],
   "source": [
    "df.groupby(by=['TARJA']).size().reset_index(name='counts')"
   ]
  },
  {
   "cell_type": "code",
   "execution_count": null,
   "id": "bridal-lighting",
   "metadata": {},
   "outputs": [],
   "source": [
    "df.groupby(by=['LABORATÓRIO']).size().reset_index(name='counts').sort_values(by=['counts'],ascending=False).head(10)"
   ]
  },
  {
   "cell_type": "code",
   "execution_count": null,
   "id": "seven-language",
   "metadata": {},
   "outputs": [],
   "source": [
    "df['PMC 12%'] = df['PMC 12%'].apply(lambda x: str(x).replace(',','.'))\n",
    "df['PMC 12%'] = df['PMC 12%'].astype(float)\n",
    "df.groupby('SUBSTÂNCIA')['PMC 12%'].agg(['min', 'mean','max'])"
   ]
  }
 ],
 "metadata": {
  "kernelspec": {
   "display_name": "Python 3",
   "language": "python",
   "name": "python3"
  },
  "language_info": {
   "codemirror_mode": {
    "name": "ipython",
    "version": 3
   },
   "file_extension": ".py",
   "mimetype": "text/x-python",
   "name": "python",
   "nbconvert_exporter": "python",
   "pygments_lexer": "ipython3",
   "version": "3.7.7"
  }
 },
 "nbformat": 4,
 "nbformat_minor": 5
}

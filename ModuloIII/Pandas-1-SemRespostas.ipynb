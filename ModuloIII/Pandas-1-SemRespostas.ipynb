{
 "cells": [
  {
   "cell_type": "markdown",
   "id": "legislative-organic",
   "metadata": {},
   "source": [
    "<img src=\"../Imgs/pandas.png\">"
   ]
  },
  {
   "cell_type": "markdown",
   "id": "scientific-garlic",
   "metadata": {
    "execution": {
     "iopub.execute_input": "2022-06-28T23:47:00.038811Z",
     "iopub.status.busy": "2022-06-28T23:47:00.036864Z",
     "iopub.status.idle": "2022-06-28T23:47:00.058366Z",
     "shell.execute_reply": "2022-06-28T23:47:00.055926Z",
     "shell.execute_reply.started": "2022-06-28T23:47:00.038503Z"
    }
   },
   "source": [
    "https://pandas.pydata.org\n",
    "- Pandas e uma ferramenta de analisis e manipulação de dados, construida em linguagem python.\n",
    "- É usado em diferentes areas como Financas, Economia, Estatistica entre outras\n",
    "- Ferramenta para leer e escrever dados estructurados em formatos diferentes (CSV, Texto, Excel, SQL entre outros)\n",
    "- Ele cria objetos de DataFrame com indexação integrada\n",
    "- Aggregação e Transformação permitindo split-apply-combine \n",
    "- Merge e Joins de alta performance em data sets\n",
    "- Iterações rapidas em colunas para tratamento de dados\n"
   ]
  },
  {
   "cell_type": "markdown",
   "id": "talented-optimum",
   "metadata": {
    "execution": {
     "iopub.execute_input": "2022-06-29T14:41:36.210140Z",
     "iopub.status.busy": "2022-06-29T14:41:36.209824Z",
     "iopub.status.idle": "2022-06-29T14:41:36.217946Z",
     "shell.execute_reply": "2022-06-29T14:41:36.215759Z",
     "shell.execute_reply.started": "2022-06-29T14:41:36.210111Z"
    }
   },
   "source": [
    "**Bases de dados do governo Brasileiro**<br>\n",
    ">https://dados.gov.br<br>\n",
    "\n",
    "**Bases de dados de diversos temas**<br>\n",
    ">https://www.kaggle.com/datasets"
   ]
  },
  {
   "cell_type": "code",
   "execution_count": null,
   "id": "regulated-phrase",
   "metadata": {},
   "outputs": [],
   "source": [
    "#Importando pandas\n",
    "import pandas as pd\n",
    "import numpy as np "
   ]
  },
  {
   "cell_type": "markdown",
   "id": "warming-burns",
   "metadata": {},
   "source": [
    "#### Series "
   ]
  },
  {
   "cell_type": "code",
   "execution_count": null,
   "id": "selected-turner",
   "metadata": {
    "scrolled": true,
    "tags": []
   },
   "outputs": [],
   "source": [
    "#Pandas Series\n",
    "#Um grupo de series forma um dataframe\n",
    "ds1 = pd.Series(np.random.randint(10, 25, size=25))\n",
    "ds2 = pd.Series(np.random.randint(10, 25, size=25))\n",
    "print(type(s1))\n",
    "print(ds1.shape)\n",
    "print(ds1)\n",
    "print('---------')\n",
    "print(type(ds2))\n",
    "print(ds2.shape)\n",
    "print(ds2)"
   ]
  },
  {
   "cell_type": "code",
   "execution_count": null,
   "id": "armed-agriculture",
   "metadata": {
    "scrolled": true,
    "tags": []
   },
   "outputs": [],
   "source": [
    "#Matematica\n",
    "ds = ds1 + ds2\n",
    "print('Soma:')\n",
    "print(ds)\n",
    "print('\\n')\n",
    "print('Subtração:')\n",
    "ds = ds1 - ds2\n",
    "print(ds)\n",
    "print('\\n')\n",
    "print('Multiplicação:')\n",
    "ds = ds1 * ds2\n",
    "print(ds)\n",
    "print('\\n')\n",
    "print(\"Divisão:\")\n",
    "ds = ds1 / ds2\n",
    "print(ds)\n",
    "print('\\n')\n",
    "print('Media:')\n",
    "print(ds1.mean())\n",
    "print('\\n')\n",
    "print('Mediana:')\n",
    "print(ds1.median())\n",
    "print('\\n')\n",
    "print('Std Dev:')\n",
    "print(ds1.std())\n",
    "print('\\n')\n",
    "print('\\n')\n"
   ]
  },
  {
   "cell_type": "code",
   "execution_count": null,
   "id": "straight-terminal",
   "metadata": {
    "tags": []
   },
   "outputs": [],
   "source": [
    "#Comparando series\n",
    "print(\"Igual:\")\n",
    "print(ds1 == ds2)\n",
    "print(\"Maior que:\")\n",
    "print(ds1 > ds2)\n",
    "print(\"Menor que:\")\n",
    "print(ds1 < ds2)"
   ]
  },
  {
   "cell_type": "code",
   "execution_count": null,
   "id": "fossil-filter",
   "metadata": {
    "tags": []
   },
   "outputs": [],
   "source": [
    "#numpy para serie\n",
    "np_array = np.array([10, 20, 30, 40, 50])\n",
    "labels = ['a','b','c','d','f']\n",
    "ds_np = pd.Series(np_array, index=labels)"
   ]
  },
  {
   "cell_type": "code",
   "execution_count": null,
   "id": "invisible-stationery",
   "metadata": {
    "tags": []
   },
   "outputs": [],
   "source": [
    "ds_np"
   ]
  },
  {
   "cell_type": "code",
   "execution_count": null,
   "id": "qualified-ordinary",
   "metadata": {
    "tags": []
   },
   "outputs": [],
   "source": [
    "#Dict para serie \n",
    "d1 = {'a': 'Banana', 'b': None, 'c':'30', 'd':'12', 'e':'240'}\n",
    "ds_dict = pd.Series(d1)"
   ]
  },
  {
   "cell_type": "code",
   "execution_count": null,
   "id": "intense-bobby",
   "metadata": {
    "tags": []
   },
   "outputs": [],
   "source": [
    "ds_dict"
   ]
  },
  {
   "cell_type": "code",
   "execution_count": null,
   "id": "irish-responsibility",
   "metadata": {
    "tags": []
   },
   "outputs": [],
   "source": [
    "#Transformação serie para  float \n",
    "ds_dict = pd.to_numeric(ds_dict, errors='coerce')"
   ]
  },
  {
   "cell_type": "code",
   "execution_count": null,
   "id": "patient-grounds",
   "metadata": {
    "tags": []
   },
   "outputs": [],
   "source": [
    "#Series para np array\n",
    "a = np.array(ds_dict.values)"
   ]
  },
  {
   "cell_type": "code",
   "execution_count": null,
   "id": "based-model",
   "metadata": {
    "tags": []
   },
   "outputs": [],
   "source": [
    "#adicionando valores a uma serie \n",
    "s = pd.Series(['10', '26', 'python', '300.12', '78'])\n",
    "new_s = s.append(pd.Series(['23','Ruby'])).reset_index(drop=True)\n",
    "\n",
    "new_s"
   ]
  },
  {
   "cell_type": "code",
   "execution_count": null,
   "id": "removed-future",
   "metadata": {
    "tags": []
   },
   "outputs": [],
   "source": [
    "#take from series\n",
    "ds1 = pd.Series(np.random.randint(10, 25, size=25))\n",
    "\n",
    "print(ds1)\n",
    "print('\\n')\n",
    "print(ds1.value_counts())\n",
    "element_idx = [2,5,9,22]\n",
    "extract = ds1.take(element_idx)\n",
    "print('\\n')\n",
    "print(extract)"
   ]
  },
  {
   "cell_type": "code",
   "execution_count": null,
   "id": "temporal-bulgaria",
   "metadata": {
    "tags": []
   },
   "outputs": [],
   "source": [
    "#subsetting\n",
    "ds1[2:-1]\n",
    "ds1[5:7]"
   ]
  },
  {
   "cell_type": "code",
   "execution_count": null,
   "id": "fatty-might",
   "metadata": {
    "tags": []
   },
   "outputs": [],
   "source": [
    "#sort\n",
    "ds1.sort_values().reset_index(drop=True)"
   ]
  },
  {
   "cell_type": "markdown",
   "id": "mental-singles",
   "metadata": {},
   "source": [
    "##### DYI Series"
   ]
  },
  {
   "cell_type": "markdown",
   "id": "sustainable-queensland",
   "metadata": {},
   "source": [
    "- Crie duas series aleatorias com 30 numeros, no intervalo 20 a 50 cada  ds1 ds2\n",
    "- Crie uma nova serie com o nome g_than com a comparação entre a s1 e a s2 \n",
    "- Crie uma nova serie com o nome ds_sum com a soma das duas series \n",
    "- Apresente o desvio padrão da serie ds_sum\n",
    "- Crie uma nova serie com 30 strings de 5 caracteres aleatorios (Dica. random.choice + string.ascii_lowercase)\n",
    "- Crie uma lista com todas as series criadas \n",
    "- Crie um dataframe com as suas series (Dica. pd.concat())\n",
    "- Coloque o nome de cada serie no novo dataframe (Dica .rename)"
   ]
  },
  {
   "cell_type": "code",
   "execution_count": null,
   "id": "light-precipitation",
   "metadata": {},
   "outputs": [],
   "source": [
    "import random \n",
    "import string"
   ]
  },
  {
   "cell_type": "code",
   "execution_count": null,
   "id": "bacterial-ground",
   "metadata": {
    "tags": []
   },
   "outputs": [],
   "source": []
  },
  {
   "cell_type": "markdown",
   "id": "modern-cholesterol",
   "metadata": {},
   "source": [
    "#### DataFrame"
   ]
  },
  {
   "cell_type": "code",
   "execution_count": null,
   "id": "novel-casting",
   "metadata": {},
   "outputs": [],
   "source": [
    "#Df from dict\n",
    "exam_data  = {'nome': ['Ana', 'Maria', 'Carlos', 'João', 'Diego', 'Jorge', 'Silvio', 'Daniel', 'Kevin', 'Bruna'],\n",
    "        'score': [12.5, 9, 16.5, np.nan, 9, 20, 14.5, np.nan, 8, 19],\n",
    "        'escolaridade': [1, 3, 2, 3, 2, 3, 1, 1, 2, 1],\n",
    "        'passou': ['yes', 'no', 'yes', 'no', 'no', 'yes', 'yes', 'no', 'no', 'yes']}"
   ]
  },
  {
   "cell_type": "code",
   "execution_count": null,
   "id": "monthly-singing",
   "metadata": {},
   "outputs": [],
   "source": [
    "#View Dataframe\n",
    "df = pd.DataFrame(exam_data)"
   ]
  },
  {
   "cell_type": "code",
   "execution_count": null,
   "id": "refined-audit",
   "metadata": {},
   "outputs": [],
   "source": [
    "df"
   ]
  },
  {
   "cell_type": "code",
   "execution_count": null,
   "id": "damaged-polymer",
   "metadata": {},
   "outputs": [],
   "source": [
    "df.info()"
   ]
  },
  {
   "cell_type": "code",
   "execution_count": null,
   "id": "executive-steal",
   "metadata": {},
   "outputs": [],
   "source": [
    "df.describe()\n"
   ]
  },
  {
   "cell_type": "code",
   "execution_count": null,
   "id": "provincial-roberts",
   "metadata": {
    "tags": []
   },
   "outputs": [],
   "source": [
    "#dataframe from list\n",
    "data = [12,13,12,10,12,1,5,43,23]\n",
    "df1 = pd.DataFrame(data)\n",
    "df2 = pd.DataFrame(data)\n",
    "#dataframe append\n",
    "df1.append(df2).reset_index(inplace=True)"
   ]
  },
  {
   "cell_type": "code",
   "execution_count": null,
   "id": "brutal-house",
   "metadata": {
    "tags": []
   },
   "outputs": [],
   "source": [
    "df1"
   ]
  },
  {
   "cell_type": "markdown",
   "id": "anonymous-election",
   "metadata": {},
   "source": [
    "#### Leituras (Excel,CXV,TXT)"
   ]
  },
  {
   "cell_type": "markdown",
   "id": "scheduled-mistress",
   "metadata": {},
   "source": [
    "http://landpage-h.cgu.gov.br/dadosabertos/index.php?url=https://www.gov.br/anp/pt-br/centrais-de-conteudo/dados-abertos/arquivos/shpc/dsan/2022/precos-gasolina-etanol-05.csv"
   ]
  },
  {
   "cell_type": "code",
   "execution_count": null,
   "id": "sporting-strike",
   "metadata": {
    "tags": []
   },
   "outputs": [],
   "source": [
    "#CSV\n",
    "df_csv = pd.read_csv('bases/precos-gasolina-etanol-05.csv',sep=';')"
   ]
  },
  {
   "cell_type": "code",
   "execution_count": null,
   "id": "brown-enclosure",
   "metadata": {
    "tags": []
   },
   "outputs": [],
   "source": [
    "df_csv.head()"
   ]
  },
  {
   "cell_type": "code",
   "execution_count": null,
   "id": "radio-dominant",
   "metadata": {},
   "outputs": [],
   "source": [
    "#Value Counts - Contar rapidamente o numero de aparições de certa informação\n",
    "df_csv['Estado - Sigla'].value_counts()"
   ]
  },
  {
   "cell_type": "code",
   "execution_count": null,
   "id": "encouraging-blackjack",
   "metadata": {},
   "outputs": [],
   "source": [
    "df_csv.info()"
   ]
  },
  {
   "cell_type": "code",
   "execution_count": null,
   "id": "continuing-flood",
   "metadata": {
    "tags": []
   },
   "outputs": [],
   "source": [
    "#Pandas as Type\n",
    "#https://pandas.pydata.org/docs/reference/api/pandas.DataFrame.astype.html\n",
    "df_csv['Valor de Venda'] = df_csv['Valor de Venda'].apply(lambda x:x.replace(',','.'))\n",
    "\n",
    "df_csv['Valor de Venda'] = df_csv['Valor de Venda'].astype('float')\n",
    "\n"
   ]
  },
  {
   "cell_type": "markdown",
   "id": "wound-student",
   "metadata": {},
   "source": [
    ">Uma função lambda do Python se comporta como uma função normal em relação aos argumentos. Portanto, um parâmetro lambda pode ser inicializado com um valor padrão: o parâmetro **n** toma o **n** externo como valor padrão."
   ]
  },
  {
   "cell_type": "code",
   "execution_count": null,
   "id": "fitting-latter",
   "metadata": {
    "tags": []
   },
   "outputs": [],
   "source": [
    "df_csv['Numero Rua'] = df_csv['Numero Rua'].apply(lambda x:0 if x == 'S/N' or 'SN' else x)\n",
    "#As Type mais de uma coluna\n",
    "df_csv = df_csv.astype({\"Valor de Venda\":float,\"Numero Rua\":int})"
   ]
  },
  {
   "cell_type": "code",
   "execution_count": null,
   "id": "cognitive-certification",
   "metadata": {
    "tags": []
   },
   "outputs": [],
   "source": [
    "df_csv.info()"
   ]
  },
  {
   "cell_type": "code",
   "execution_count": null,
   "id": "motivated-brief",
   "metadata": {
    "tags": []
   },
   "outputs": [],
   "source": [
    "print(f\"Media: {df_csv['Valor de Venda'].mean()}\")\n",
    "print(f\"Max: {df_csv['Valor de Venda'].max()}\")\n",
    "print(f\"Min: {df_csv['Valor de Venda'].min()}\")"
   ]
  },
  {
   "cell_type": "code",
   "execution_count": null,
   "id": "abandoned-pepper",
   "metadata": {},
   "outputs": [],
   "source": [
    "max_p = df_csv['Valor de Venda'].max() "
   ]
  },
  {
   "cell_type": "code",
   "execution_count": null,
   "id": "featured-teacher",
   "metadata": {},
   "outputs": [],
   "source": [
    "df_csv[df_csv['Valor de Venda']==max_p]"
   ]
  },
  {
   "cell_type": "code",
   "execution_count": null,
   "id": "killing-cylinder",
   "metadata": {},
   "outputs": [],
   "source": [
    "df_csv.to_csv('bases/preco_gasolina_new.csv', index=False)"
   ]
  },
  {
   "cell_type": "code",
   "execution_count": null,
   "id": "obvious-poker",
   "metadata": {
    "tags": []
   },
   "outputs": [],
   "source": [
    "#Excel\n",
    "df_excel = pd.read_excel('bases/inpe_EM_BRAmz_results.xlsx',sheet_name='Sem degracação',skiprows=10)"
   ]
  },
  {
   "cell_type": "code",
   "execution_count": null,
   "id": "monthly-speed",
   "metadata": {},
   "outputs": [],
   "source": [
    "df_excel.info()"
   ]
  },
  {
   "cell_type": "code",
   "execution_count": null,
   "id": "finished-ambassador",
   "metadata": {},
   "outputs": [],
   "source": [
    "df_excel.columns"
   ]
  },
  {
   "cell_type": "code",
   "execution_count": null,
   "id": "cardiac-raising",
   "metadata": {},
   "outputs": [],
   "source": [
    "df_excel.head()"
   ]
  },
  {
   "cell_type": "code",
   "execution_count": null,
   "id": "cubic-cowboy",
   "metadata": {
    "tags": []
   },
   "outputs": [],
   "source": [
    "df_excel.drop(columns=['-','Unnamed: 16','Unnamed: 17','Unnamed: 18'],inplace=True)"
   ]
  },
  {
   "cell_type": "code",
   "execution_count": null,
   "id": "strange-extreme",
   "metadata": {
    "tags": []
   },
   "outputs": [],
   "source": [
    "df_excel"
   ]
  },
  {
   "cell_type": "code",
   "execution_count": null,
   "id": "junior-company",
   "metadata": {
    "tags": []
   },
   "outputs": [],
   "source": [
    "df_excel.iloc[12:30,2:]"
   ]
  },
  {
   "cell_type": "code",
   "execution_count": null,
   "id": "damaged-departure",
   "metadata": {
    "tags": []
   },
   "outputs": [],
   "source": [
    "df_excel.index = df_excel.index.map(str)\n",
    "df_excel.loc[['2','30'],['D_Area','VR_CO2_1stOrder']]\n"
   ]
  },
  {
   "cell_type": "code",
   "execution_count": null,
   "id": "federal-recorder",
   "metadata": {
    "scrolled": true,
    "tags": []
   },
   "outputs": [],
   "source": [
    "df_excel.loc['2': , :'VR_CO2_1stOrder']"
   ]
  },
  {
   "cell_type": "code",
   "execution_count": null,
   "id": "metropolitan-dietary",
   "metadata": {
    "tags": []
   },
   "outputs": [],
   "source": [
    "df_excel[['Year', 'D_Area']]"
   ]
  },
  {
   "cell_type": "code",
   "execution_count": null,
   "id": "successful-offense",
   "metadata": {
    "tags": []
   },
   "outputs": [],
   "source": [
    "#Text\n",
    "df_text = pd.read_csv('bases/text.txt', sep=\"/t\", header=None, index_col=0)"
   ]
  },
  {
   "cell_type": "code",
   "execution_count": null,
   "id": "tender-above",
   "metadata": {
    "tags": []
   },
   "outputs": [],
   "source": [
    "df_text"
   ]
  },
  {
   "cell_type": "code",
   "execution_count": null,
   "id": "faced-encyclopedia",
   "metadata": {},
   "outputs": [],
   "source": [
    "#Drop colmun\n",
    "df_text.drop(columns=[4],inplace=True)"
   ]
  },
  {
   "cell_type": "code",
   "execution_count": null,
   "id": "divine-corner",
   "metadata": {},
   "outputs": [],
   "source": [
    "#set columns name\n",
    "df_text.columns = [\"Nome\", \"Nacionalidade\", \"Idade\"]"
   ]
  },
  {
   "cell_type": "code",
   "execution_count": null,
   "id": "involved-convergence",
   "metadata": {},
   "outputs": [],
   "source": [
    "df_text"
   ]
  },
  {
   "cell_type": "code",
   "execution_count": null,
   "id": "suburban-limitation",
   "metadata": {},
   "outputs": [],
   "source": [
    "#subsetting\n",
    "df_text[df_text['Idade']>=30]"
   ]
  },
  {
   "cell_type": "code",
   "execution_count": null,
   "id": "married-proof",
   "metadata": {},
   "outputs": [],
   "source": [
    "#Groupby\n",
    "df_text.groupby(by='Nacionalidade').size().reset_index(name='counts')"
   ]
  },
  {
   "cell_type": "markdown",
   "id": "extensive-excitement",
   "metadata": {},
   "source": [
    "#### Grupos"
   ]
  },
  {
   "cell_type": "markdown",
   "id": "occupied-boutique",
   "metadata": {},
   "source": [
    "\n",
    "\n",
    "Ver o dicionario sobre o arquivo \n",
    "https://dados.gov.br/dataset/preco-de-medicamentos-no-brasil-consumidor\n",
    "\n",
    "Prestar atenção no encoding ('iso-8859-15','utf-8','ascii') Googleit\n",
    "\n",
    "\n",
    "- 1.Carregar TA_PRECO_MEDICAMENTO.csv\n",
    "\n",
    "\n",
    "- 2.Revisar os dados (info, columns, head, tail...)\n",
    "\n",
    "\n",
    "- 3.Subset da Classe Terapeutica = N2C9 - TODOS AS OUTRAS PREPARAÇÕES ANTIENXAQUECOSAS\n",
    "\n",
    "\n",
    "- 4.Fazer Transformaçoes da coluna de PMC12% para float\n",
    "\n",
    "- 5.Preço Máximo, Minimo e Mediaao Consumidor %12 da Classse Terapeutica = N2C9 - TODOS AS OUTRAS PREPARAÇÕES ANTIENXAQUECOSAS e trazer a a linha com todas as infos do df\n",
    "\n",
    "\n",
    "- 6.Coletar 3 tipos de informações relevantes do dataset inteiro\n",
    "    - 6a Quantidade de Remedios por tipo tarja DICA (groupby)\n",
    "\n",
    "    - 6b Os 10 laboratorios com mais remedios em ordem decrescente DICA(sortby)\n",
    "    \n",
    "    - 6c Faça um groupby Substância e tire um aggregate da coluna PMC 12% com min, max e mean\n",
    "    \n",
    "    - 6d Informação que vocês acharem relevante\n",
    "    \n",
    "    \n"
   ]
  },
  {
   "cell_type": "code",
   "execution_count": null,
   "id": "mounted-packaging",
   "metadata": {},
   "outputs": [],
   "source": []
  }
 ],
 "metadata": {
  "kernelspec": {
   "display_name": "Python 3",
   "language": "python",
   "name": "python3"
  },
  "language_info": {
   "codemirror_mode": {
    "name": "ipython",
    "version": 3
   },
   "file_extension": ".py",
   "mimetype": "text/x-python",
   "name": "python",
   "nbconvert_exporter": "python",
   "pygments_lexer": "ipython3",
   "version": "3.7.7"
  }
 },
 "nbformat": 4,
 "nbformat_minor": 5
}

{
 "cells": [
  {
   "cell_type": "markdown",
   "id": "surrounded-pride",
   "metadata": {
    "execution": {
     "iopub.execute_input": "2022-06-26T20:22:03.395135Z",
     "iopub.status.busy": "2022-06-26T20:22:03.394494Z",
     "iopub.status.idle": "2022-06-26T20:22:03.426688Z",
     "shell.execute_reply": "2022-06-26T20:22:03.417247Z",
     "shell.execute_reply.started": "2022-06-26T20:22:03.395026Z"
    }
   },
   "source": [
    "<div>\n",
    "<img src=\"../Imgs/logo-numpy.svg\" width=\"250\"/>\n",
    "</div>"
   ]
  },
  {
   "cell_type": "markdown",
   "id": "chubby-infection",
   "metadata": {},
   "source": [
    "https://numpy.org\n",
    "\n",
    "- Abreviação para Numerical Python\n",
    "- É base para muitos outros pacotes, inclusive pacotes de Machinle Learning \n",
    "- Utilizado para computação de alta performance \n",
    "- Utilizado para analise e transformação de dados\n",
    "- É utilizado frequentemente em conjunto com Pandas (Próximo tema)"
   ]
  },
  {
   "cell_type": "code",
   "execution_count": 2,
   "id": "appointed-plate",
   "metadata": {
    "tags": []
   },
   "outputs": [],
   "source": [
    "import numpy as np\n",
    "import random "
   ]
  },
  {
   "cell_type": "markdown",
   "id": "weekly-plenty",
   "metadata": {
    "execution": {
     "iopub.execute_input": "2022-06-26T20:25:39.598428Z",
     "iopub.status.busy": "2022-06-26T20:25:39.598051Z",
     "iopub.status.idle": "2022-06-26T20:25:39.603810Z",
     "shell.execute_reply": "2022-06-26T20:25:39.600990Z",
     "shell.execute_reply.started": "2022-06-26T20:25:39.598393Z"
    }
   },
   "source": [
    "#### Boolean e Seleções Avançadas"
   ]
  },
  {
   "cell_type": "markdown",
   "id": "pacific-driving",
   "metadata": {},
   "source": [
    "Conceito super importante no numpy e no pandas é o de máscara booleana.\n",
    "<br>\n",
    "Ao aplicar qualquer operador booleanoo numpy retorna um array de True e False no qual ele aplicou elemento a elemento aquele operador.\n",
    "\n",
    "- '>'\n",
    "- '<'\n",
    "- '<='\n",
    "- '>='\n",
    "- '=='\n",
    "- 'in'\n",
    "\n",
    "\n"
   ]
  },
  {
   "cell_type": "code",
   "execution_count": 3,
   "id": "statewide-diabetes",
   "metadata": {
    "tags": []
   },
   "outputs": [],
   "source": [
    "#Array 2d\n",
    "arr1 = np.array([[1,10,20,30],[1,2,50,13]])"
   ]
  },
  {
   "cell_type": "code",
   "execution_count": 4,
   "id": "090f9842",
   "metadata": {},
   "outputs": [
    {
     "data": {
      "text/plain": [
       "array([[ 1, 10, 20, 30],\n",
       "       [ 1,  2, 50, 13]])"
      ]
     },
     "execution_count": 4,
     "metadata": {},
     "output_type": "execute_result"
    }
   ],
   "source": [
    "arr1"
   ]
  },
  {
   "cell_type": "code",
   "execution_count": 5,
   "id": "f8c9f3c2",
   "metadata": {},
   "outputs": [
    {
     "data": {
      "text/plain": [
       "2"
      ]
     },
     "execution_count": 5,
     "metadata": {},
     "output_type": "execute_result"
    }
   ],
   "source": [
    "arr1.ndim"
   ]
  },
  {
   "cell_type": "code",
   "execution_count": 6,
   "id": "4aba092d",
   "metadata": {},
   "outputs": [
    {
     "data": {
      "text/plain": [
       "(2, 4)"
      ]
     },
     "execution_count": 6,
     "metadata": {},
     "output_type": "execute_result"
    }
   ],
   "source": [
    "arr1.shape"
   ]
  },
  {
   "cell_type": "code",
   "execution_count": 11,
   "id": "reflected-nashville",
   "metadata": {
    "tags": []
   },
   "outputs": [],
   "source": [
    "#boolean simples, retorna a mesma array com True e False\n",
    "boolfilter = arr1 >= 10\n"
   ]
  },
  {
   "cell_type": "code",
   "execution_count": 8,
   "id": "f8b09958",
   "metadata": {},
   "outputs": [
    {
     "name": "stdout",
     "output_type": "stream",
     "text": [
      "[[False  True False False]\n",
      " [False False False False]]\n",
      "[10]\n"
     ]
    }
   ],
   "source": [
    "arr1 <= 10\n",
    "print(arr1 == 10)\n",
    "print(arr1[arr1==10])"
   ]
  },
  {
   "cell_type": "code",
   "execution_count": 23,
   "id": "c04f6e58",
   "metadata": {},
   "outputs": [
    {
     "data": {
      "text/plain": [
       "dtype('bool')"
      ]
     },
     "execution_count": 23,
     "metadata": {},
     "output_type": "execute_result"
    }
   ],
   "source": [
    "(arr1>=10).dtype"
   ]
  },
  {
   "cell_type": "code",
   "execution_count": 12,
   "id": "spatial-catch",
   "metadata": {
    "tags": []
   },
   "outputs": [
    {
     "name": "stdout",
     "output_type": "stream",
     "text": [
      "[[ 1 10 20 30]\n",
      " [ 1  2 50 13]]\n",
      "[[False  True  True  True]\n",
      " [False False  True  True]]\n",
      "[10 20 30 50 13]\n"
     ]
    }
   ],
   "source": [
    "#Quando colocamos cochetes ele retorna os valores nos quais o nosso boolean é verdadeiro \n",
    "print(arr1)\n",
    "print(arr1>=10)\n",
    "print(arr1[arr1>=10])"
   ]
  },
  {
   "cell_type": "code",
   "execution_count": 21,
   "id": "incredible-proxy",
   "metadata": {},
   "outputs": [
    {
     "name": "stdout",
     "output_type": "stream",
     "text": [
      "[False False False False]\n",
      "<class 'numpy.ndarray'>\n"
     ]
    }
   ],
   "source": [
    "#comparando arrays 1D\n",
    "a = np.array([1,2,3,4])\n",
    "b = np.array([3,8,5,6])\n",
    "\n",
    "#funções\n",
    "print(np.greater(a,b))\n",
    "print(type(np.greater(a,b)))"
   ]
  },
  {
   "cell_type": "code",
   "execution_count": 22,
   "id": "cb072652",
   "metadata": {},
   "outputs": [
    {
     "name": "stdout",
     "output_type": "stream",
     "text": [
      "[False False False False]\n",
      "<class 'numpy.ndarray'>\n"
     ]
    }
   ],
   "source": [
    "print(a > b)\n",
    "print(type(a>b))"
   ]
  },
  {
   "cell_type": "code",
   "execution_count": 14,
   "id": "dd2a0d13",
   "metadata": {},
   "outputs": [
    {
     "data": {
      "text/plain": [
       "array([ True,  True,  True,  True])"
      ]
     },
     "execution_count": 14,
     "metadata": {},
     "output_type": "execute_result"
    }
   ],
   "source": [
    "np.less(a,b)"
   ]
  },
  {
   "cell_type": "code",
   "execution_count": 15,
   "id": "50e10408",
   "metadata": {},
   "outputs": [
    {
     "data": {
      "text/plain": [
       "array([False, False, False, False])"
      ]
     },
     "execution_count": 15,
     "metadata": {},
     "output_type": "execute_result"
    }
   ],
   "source": [
    "np.equal(a,b)"
   ]
  },
  {
   "cell_type": "code",
   "execution_count": 16,
   "id": "5dda9e6c",
   "metadata": {},
   "outputs": [
    {
     "data": {
      "text/plain": [
       "array([ True,  True,  True,  True])"
      ]
     },
     "execution_count": 16,
     "metadata": {},
     "output_type": "execute_result"
    }
   ],
   "source": [
    "np.not_equal(a,b)"
   ]
  },
  {
   "cell_type": "code",
   "execution_count": 27,
   "id": "unusual-pollution",
   "metadata": {
    "tags": []
   },
   "outputs": [
    {
     "data": {
      "text/plain": [
       "array([False,  True,  True,  True])"
      ]
     },
     "execution_count": 27,
     "metadata": {},
     "output_type": "execute_result"
    }
   ],
   "source": [
    "# .any & .all\n",
    "# 0 é coluna\n",
    "np.any(arr1>5,axis=0)\n"
   ]
  },
  {
   "cell_type": "code",
   "execution_count": null,
   "id": "d5c21bea",
   "metadata": {},
   "outputs": [],
   "source": []
  },
  {
   "cell_type": "code",
   "execution_count": 25,
   "id": "c80c1ccd",
   "metadata": {},
   "outputs": [
    {
     "data": {
      "text/plain": [
       "False"
      ]
     },
     "execution_count": 25,
     "metadata": {},
     "output_type": "execute_result"
    }
   ],
   "source": [
    "np.all(arr1>5)"
   ]
  },
  {
   "cell_type": "code",
   "execution_count": 26,
   "id": "8198cfa4",
   "metadata": {},
   "outputs": [
    {
     "data": {
      "text/plain": [
       "array([False, False,  True,  True])"
      ]
     },
     "execution_count": 26,
     "metadata": {},
     "output_type": "execute_result"
    }
   ],
   "source": [
    "# 0 é coluna\n",
    "# 1 é linha\n",
    "np.all(arr1>5,axis=0)"
   ]
  },
  {
   "cell_type": "code",
   "execution_count": 28,
   "id": "6087cda7",
   "metadata": {},
   "outputs": [
    {
     "data": {
      "text/plain": [
       "array([ True,  True])"
      ]
     },
     "execution_count": 28,
     "metadata": {},
     "output_type": "execute_result"
    }
   ],
   "source": [
    "# 0 é coluna\n",
    "# 1 é linha\n",
    "np.any(arr1>10,axis=1)"
   ]
  },
  {
   "cell_type": "code",
   "execution_count": 23,
   "id": "95e4a33c",
   "metadata": {},
   "outputs": [
    {
     "data": {
      "text/plain": [
       "array([False, False])"
      ]
     },
     "execution_count": 23,
     "metadata": {},
     "output_type": "execute_result"
    }
   ],
   "source": [
    "# 0 é coluna\n",
    "# 1 é linha\n",
    "np.all(arr1>10,axis=1)"
   ]
  },
  {
   "cell_type": "code",
   "execution_count": 19,
   "id": "sonic-ability",
   "metadata": {
    "tags": []
   },
   "outputs": [],
   "source": [
    "#filtro boolean and &\n",
    "filtand = (arr1>10)&(arr1<=20)"
   ]
  },
  {
   "cell_type": "code",
   "execution_count": 20,
   "id": "mounted-bronze",
   "metadata": {},
   "outputs": [
    {
     "data": {
      "text/plain": [
       "array([20, 13])"
      ]
     },
     "execution_count": 20,
     "metadata": {},
     "output_type": "execute_result"
    }
   ],
   "source": [
    "#filtro boolean 2\n",
    "arr1[filtand]"
   ]
  },
  {
   "cell_type": "code",
   "execution_count": 22,
   "id": "established-orlando",
   "metadata": {
    "tags": []
   },
   "outputs": [
    {
     "data": {
      "text/plain": [
       "array([20, 30, 50])"
      ]
     },
     "execution_count": 22,
     "metadata": {},
     "output_type": "execute_result"
    }
   ],
   "source": [
    "#podemos gerar um filtro com o resultado da nossa pergunta booleana \n",
    "filtand2 = (arr1>15)&(arr1 % 2 == 0)\n",
    "arr1[filtand2]"
   ]
  },
  {
   "cell_type": "code",
   "execution_count": 29,
   "id": "monthly-boxing",
   "metadata": {
    "tags": []
   },
   "outputs": [
    {
     "data": {
      "text/plain": [
       "array([ 1, 10, 20, 30,  1,  2, 50, 13])"
      ]
     },
     "execution_count": 29,
     "metadata": {},
     "output_type": "execute_result"
    }
   ],
   "source": [
    "# filtro boolean or |\n",
    "filtor = (arr1>10)|(arr1<=20)\n",
    "arr1[filtor]"
   ]
  },
  {
   "cell_type": "code",
   "execution_count": 30,
   "id": "lasting-afghanistan",
   "metadata": {},
   "outputs": [],
   "source": [
    "#Pegar valores do filtro \n"
   ]
  },
  {
   "cell_type": "code",
   "execution_count": 31,
   "id": "ee3ddf8a",
   "metadata": {},
   "outputs": [
    {
     "data": {
      "text/plain": [
       "array([[False,  True,  True,  True],\n",
       "       [False,  True,  True,  True]])"
      ]
     },
     "execution_count": 31,
     "metadata": {},
     "output_type": "execute_result"
    }
   ],
   "source": []
  },
  {
   "cell_type": "code",
   "execution_count": 34,
   "id": "regulated-recipe",
   "metadata": {
    "tags": []
   },
   "outputs": [],
   "source": [
    "#Filtro not \n",
    "filtn = ~(arr1==10)"
   ]
  },
  {
   "cell_type": "code",
   "execution_count": 35,
   "id": "0dc8e3fd",
   "metadata": {},
   "outputs": [
    {
     "data": {
      "text/plain": [
       "array([ 1, 20, 30,  1,  2, 50, 13])"
      ]
     },
     "execution_count": 35,
     "metadata": {},
     "output_type": "execute_result"
    }
   ],
   "source": [
    "arr1[filtn]"
   ]
  },
  {
   "cell_type": "code",
   "execution_count": null,
   "id": "reported-register",
   "metadata": {
    "tags": []
   },
   "outputs": [],
   "source": [
    "\n",
    " \n",
    "# array nova sobre as condições do filtro\n"
   ]
  },
  {
   "cell_type": "code",
   "execution_count": null,
   "id": "sunrise-charles",
   "metadata": {},
   "outputs": [],
   "source": [
    "new_arr"
   ]
  },
  {
   "cell_type": "code",
   "execution_count": 42,
   "id": "similar-bottom",
   "metadata": {
    "tags": []
   },
   "outputs": [
    {
     "name": "stdout",
     "output_type": "stream",
     "text": [
      "[11 12 13 14 15 16 17 18 19 20 21 22 23 24 25 26 27 28 29 30 31 32 33 34\n",
      " 35 36 37 38 39]\n",
      "[16, 18, 22, 24, 26, 28, 32, 34, 36, 38]\n",
      "[16 18 22 24 26 28 32 34 36 38]\n"
     ]
    }
   ],
   "source": [
    "arr = np.array([x for x in range(11,40)])\n",
    "print(arr)\n",
    " \n",
    "# lambda + condition\n",
    "# A função filter extrai elementos de um iteravel e retorna True ou False\n",
    "lambda_filter = list(filter(lambda x: x>15 and x%2==0 and x%10!=0,arr))\n",
    "print(lambda_filter)\n",
    "# Converting new list into numpy array\n",
    "new_arr = np.array(lambda_filter)\n",
    "print(new_arr)"
   ]
  },
  {
   "cell_type": "code",
   "execution_count": 30,
   "id": "7e0b1956",
   "metadata": {},
   "outputs": [
    {
     "name": "stdout",
     "output_type": "stream",
     "text": [
      "<filter object at 0x00000201C8F09660>\n",
      "[16, 18, 22, 24, 26, 28, 32, 34, 36, 38]\n"
     ]
    }
   ],
   "source": [
    "arr = np.array([x for x in range(11,40)])\n",
    "fltr = filter(lambda x: x>15 and x%2==0 and x%10!=0,arr)\n",
    "print(fltr)\n",
    "ls_fltr = list(fltr)\n",
    "print(ls_fltr)\n",
    "\n"
   ]
  },
  {
   "cell_type": "markdown",
   "id": "minimal-jimmy",
   "metadata": {},
   "source": [
    "#### Vstack e Reorganizando Arrays"
   ]
  },
  {
   "cell_type": "code",
   "execution_count": 32,
   "id": "adjustable-certificate",
   "metadata": {
    "tags": []
   },
   "outputs": [
    {
     "data": {
      "text/plain": [
       "array([[12, 12],\n",
       "       [23, 24]])"
      ]
     },
     "execution_count": 32,
     "metadata": {},
     "output_type": "execute_result"
    }
   ],
   "source": [
    "#reshape em uma array 1D\n",
    "np.array([12,12,23,24]).reshape(2,2)"
   ]
  },
  {
   "cell_type": "code",
   "execution_count": null,
   "id": "92aaaf15",
   "metadata": {},
   "outputs": [],
   "source": [
    "np.array([12,12,23,24]).reshape(2,2)"
   ]
  },
  {
   "cell_type": "code",
   "execution_count": 33,
   "id": "6014e8c8",
   "metadata": {},
   "outputs": [
    {
     "data": {
      "text/plain": [
       "array([[12, 12],\n",
       "       [23, 24]])"
      ]
     },
     "execution_count": 33,
     "metadata": {},
     "output_type": "execute_result"
    }
   ],
   "source": [
    "# com -1 ele calcula por vc\n",
    "np.array([12,12,23,24]).reshape(2,-1)"
   ]
  },
  {
   "cell_type": "code",
   "execution_count": 34,
   "id": "69072073",
   "metadata": {},
   "outputs": [
    {
     "data": {
      "text/plain": [
       "array([[12, 12],\n",
       "       [23, 24],\n",
       "       [31, 32],\n",
       "       [33, 34],\n",
       "       [41, 42]])"
      ]
     },
     "execution_count": 34,
     "metadata": {},
     "output_type": "execute_result"
    }
   ],
   "source": [
    "np.array([12,12,23,24,31,32,33,34,41,42]).reshape(-1,2)"
   ]
  },
  {
   "cell_type": "code",
   "execution_count": 39,
   "id": "sticky-natural",
   "metadata": {
    "tags": []
   },
   "outputs": [
    {
     "name": "stdout",
     "output_type": "stream",
     "text": [
      "[-12 -13 -22 -23 -32 -33]\n"
     ]
    }
   ],
   "source": [
    "#invert no array\n",
    "a = np.array((11, 12, 21, 22, 31, 32))\n",
    "b = np.invert(a)\n",
    "print(b)"
   ]
  },
  {
   "cell_type": "code",
   "execution_count": 42,
   "id": "f3d79897",
   "metadata": {},
   "outputs": [
    {
     "name": "stdout",
     "output_type": "stream",
     "text": [
      "<class 'int'>\n"
     ]
    }
   ],
   "source": [
    "x = 9 and 14\n",
    "print(type(x))"
   ]
  },
  {
   "cell_type": "code",
   "execution_count": 47,
   "id": "opened-quarter",
   "metadata": {
    "tags": []
   },
   "outputs": [],
   "source": [
    "#Vstack em duas arrays do mesmo tamanho\n",
    "a1 = np.array([1,2,3,4])\n",
    "a2 = np.array([5,6,7,8])"
   ]
  },
  {
   "cell_type": "code",
   "execution_count": 49,
   "id": "concerned-spare",
   "metadata": {
    "tags": []
   },
   "outputs": [
    {
     "name": "stdout",
     "output_type": "stream",
     "text": [
      "[1 2 3 4]\n",
      "[5 6 7 8]\n"
     ]
    }
   ],
   "source": [
    "print(a1)\n",
    "print(a2)\n",
    "vstack = np.vstack([a1,a2,a2,a2])"
   ]
  },
  {
   "cell_type": "code",
   "execution_count": 50,
   "id": "ranging-inquiry",
   "metadata": {
    "tags": []
   },
   "outputs": [
    {
     "data": {
      "text/plain": [
       "array([1, 2, 3, 4, 5, 6, 7, 8, 5, 6, 7, 8, 5, 6, 7, 8])"
      ]
     },
     "execution_count": 50,
     "metadata": {},
     "output_type": "execute_result"
    }
   ],
   "source": [
    "#flatten order= C(por linha), F(por coluna)\n",
    "vstack.flatten('C')"
   ]
  },
  {
   "cell_type": "code",
   "execution_count": 52,
   "id": "ec63e7e9",
   "metadata": {},
   "outputs": [
    {
     "data": {
      "text/plain": [
       "array([1, 5, 5, 5, 2, 6, 6, 6, 3, 7, 7, 7, 4, 8, 8, 8])"
      ]
     },
     "execution_count": 52,
     "metadata": {},
     "output_type": "execute_result"
    }
   ],
   "source": [
    "vstack.flatten('F')"
   ]
  },
  {
   "cell_type": "code",
   "execution_count": 31,
   "id": "3b4c1ea7",
   "metadata": {},
   "outputs": [
    {
     "data": {
      "text/plain": [
       "30"
      ]
     },
     "execution_count": 31,
     "metadata": {},
     "output_type": "execute_result"
    }
   ],
   "source": [
    "funcao = lambda x: x+10\n",
    "funcao(20)"
   ]
  },
  {
   "cell_type": "markdown",
   "id": "motivated-wireless",
   "metadata": {},
   "source": [
    "##### DIY 1"
   ]
  },
  {
   "cell_type": "markdown",
   "id": "addressed-marketing",
   "metadata": {},
   "source": [
    "1. Crie 3 arrays 1D com 10 elementos com numeros inteiros de 1 a 10  e printe elas (dica = randint)\n",
    "2. Elabore um filtro boolean na arr 1 com &, pegue os valores do array com o filtro e printe\n",
    "3. Elabore um filtro boolean na arr 2 com |, pegue os valores do array com o filtro e printe\n",
    "4. Faça um reshape na arr1 \n",
    "5. Façã um vstack com as arr2 e arr3\n",
    "6. Aplique um flatten por linha na array nova"
   ]
  },
  {
   "cell_type": "code",
   "execution_count": 28,
   "id": "b018b0ec",
   "metadata": {},
   "outputs": [
    {
     "data": {
      "text/plain": [
       "array([9, 7, 1, 4, 4, 8, 6, 9, 5, 4])"
      ]
     },
     "execution_count": 28,
     "metadata": {},
     "output_type": "execute_result"
    }
   ],
   "source": [
    "arr0= np.array(np.random.randint(1,10,10))\n",
    "arr0"
   ]
  },
  {
   "cell_type": "code",
   "execution_count": 33,
   "id": "d1e36729",
   "metadata": {},
   "outputs": [
    {
     "data": {
      "text/plain": [
       "array([ 5,  9,  0,  1,  8,  7,  4,  5, 10,  7])"
      ]
     },
     "execution_count": 33,
     "metadata": {},
     "output_type": "execute_result"
    }
   ],
   "source": [
    "arr11 = np.random.randint(11, size = 10)\n",
    "arr11\n"
   ]
  },
  {
   "cell_type": "code",
   "execution_count": 12,
   "id": "latter-negotiation",
   "metadata": {
    "tags": []
   },
   "outputs": [
    {
     "data": {
      "text/plain": [
       "array([ 5,  1,  5,  6,  8, 10,  6,  2,  7,  2])"
      ]
     },
     "execution_count": 12,
     "metadata": {},
     "output_type": "execute_result"
    }
   ],
   "source": [
    "# \n",
    "arr1 = np.random.randint(1,11,(10))\n",
    "arr1"
   ]
  },
  {
   "cell_type": "code",
   "execution_count": 13,
   "id": "excellent-obligation",
   "metadata": {
    "tags": []
   },
   "outputs": [
    {
     "data": {
      "text/plain": [
       "array([ 7,  4,  3,  5,  3, 10,  7,  6, 10, 10])"
      ]
     },
     "execution_count": 13,
     "metadata": {},
     "output_type": "execute_result"
    }
   ],
   "source": [
    "arr2 = np.random.randint(1,11,(10))\n",
    "arr2"
   ]
  },
  {
   "cell_type": "code",
   "execution_count": 14,
   "id": "41566c87",
   "metadata": {},
   "outputs": [
    {
     "data": {
      "text/plain": [
       "array([ 2,  4,  9,  4, 10,  7, 10,  1, 10,  5])"
      ]
     },
     "execution_count": 14,
     "metadata": {},
     "output_type": "execute_result"
    }
   ],
   "source": [
    "arr3 = np.random.randint(1,11,(10))\n",
    "arr3"
   ]
  },
  {
   "cell_type": "code",
   "execution_count": 18,
   "id": "04eac9b3",
   "metadata": {},
   "outputs": [
    {
     "data": {
      "text/plain": [
       "array([5, 1, 5])"
      ]
     },
     "execution_count": 18,
     "metadata": {},
     "output_type": "execute_result"
    }
   ],
   "source": [
    "filtand = (arr1<=5)&(arr1!=2)\n",
    "arr1[filtand]"
   ]
  },
  {
   "cell_type": "code",
   "execution_count": 20,
   "id": "bea64c3f",
   "metadata": {},
   "outputs": [
    {
     "data": {
      "text/plain": [
       "array([ 7,  4,  3, 10,  6, 10])"
      ]
     },
     "execution_count": 20,
     "metadata": {},
     "output_type": "execute_result"
    }
   ],
   "source": [
    "filtor = (arr1<=5)|(arr1==10)\n",
    "arr2[filtor]"
   ]
  },
  {
   "cell_type": "code",
   "execution_count": 34,
   "id": "466907a1",
   "metadata": {},
   "outputs": [
    {
     "data": {
      "text/plain": [
       "array([[ 5,  1,  5,  6,  8],\n",
       "       [10,  6,  2,  7,  2]])"
      ]
     },
     "execution_count": 34,
     "metadata": {},
     "output_type": "execute_result"
    }
   ],
   "source": [
    "arr1_reshd = np.array(arr1).reshape(2,-1)\n",
    "arr1_reshd"
   ]
  },
  {
   "cell_type": "code",
   "execution_count": 35,
   "id": "5f5989f4",
   "metadata": {},
   "outputs": [
    {
     "data": {
      "text/plain": [
       "array([[ 7,  4,  3,  5,  3, 10,  7,  6, 10, 10],\n",
       "       [ 2,  4,  9,  4, 10,  7, 10,  1, 10,  5]])"
      ]
     },
     "execution_count": 35,
     "metadata": {},
     "output_type": "execute_result"
    }
   ],
   "source": [
    "vstack = np.vstack([arr2,arr3])\n",
    "vstack"
   ]
  },
  {
   "cell_type": "code",
   "execution_count": 36,
   "id": "c19a37db",
   "metadata": {},
   "outputs": [
    {
     "data": {
      "text/plain": [
       "array([ 7,  2,  4,  4,  3,  9,  5,  4,  3, 10, 10,  7,  7, 10,  6,  1, 10,\n",
       "       10, 10,  5])"
      ]
     },
     "execution_count": 36,
     "metadata": {},
     "output_type": "execute_result"
    }
   ],
   "source": [
    "vstack.flatten('F')"
   ]
  },
  {
   "cell_type": "markdown",
   "id": "reliable-upper",
   "metadata": {},
   "source": [
    "#### Numpy Matrix"
   ]
  },
  {
   "cell_type": "markdown",
   "id": "furnished-healing",
   "metadata": {},
   "source": [
    "> Marizes em são obrigatoriamente elementos de duas dimensões "
   ]
  },
  {
   "cell_type": "code",
   "execution_count": 56,
   "id": "designed-farming",
   "metadata": {
    "tags": []
   },
   "outputs": [
    {
     "data": {
      "text/plain": [
       "matrix([[1, 2],\n",
       "        [3, 4]])"
      ]
     },
     "execution_count": 56,
     "metadata": {},
     "output_type": "execute_result"
    }
   ],
   "source": [
    "mat1 = np.matrix([[1,2],[3,4]])\n",
    "mat1"
   ]
  },
  {
   "cell_type": "code",
   "execution_count": 57,
   "id": "functioning-archive",
   "metadata": {},
   "outputs": [
    {
     "data": {
      "text/plain": [
       "2"
      ]
     },
     "execution_count": 57,
     "metadata": {},
     "output_type": "execute_result"
    }
   ],
   "source": [
    "mat1.ndim"
   ]
  },
  {
   "cell_type": "code",
   "execution_count": 58,
   "id": "grave-campbell",
   "metadata": {},
   "outputs": [
    {
     "data": {
      "text/plain": [
       "numpy.ndarray"
      ]
     },
     "execution_count": 58,
     "metadata": {},
     "output_type": "execute_result"
    }
   ],
   "source": [
    "type(arr1)"
   ]
  },
  {
   "cell_type": "code",
   "execution_count": 62,
   "id": "cheap-destination",
   "metadata": {
    "tags": []
   },
   "outputs": [
    {
     "data": {
      "text/plain": [
       "matrix([[1, 2, 3]])"
      ]
     },
     "execution_count": 62,
     "metadata": {},
     "output_type": "execute_result"
    }
   ],
   "source": [
    "mat2 = np.matrix([[1,2,3]])\n",
    "mat2"
   ]
  },
  {
   "cell_type": "code",
   "execution_count": 65,
   "id": "optical-kelly",
   "metadata": {},
   "outputs": [
    {
     "data": {
      "text/plain": [
       "array([[[ 1,  2],\n",
       "        [ 3,  4]],\n",
       "\n",
       "       [[ 5,  6],\n",
       "        [ 7,  8]],\n",
       "\n",
       "       [[ 9, 10],\n",
       "        [11, 12]]])"
      ]
     },
     "execution_count": 65,
     "metadata": {},
     "output_type": "execute_result"
    }
   ],
   "source": [
    "np.array([[[1,2],[3,4]],[[5,6],[7,8]],[[9,10],[11,12]]])"
   ]
  },
  {
   "cell_type": "code",
   "execution_count": null,
   "id": "inner-reduction",
   "metadata": {
    "tags": []
   },
   "outputs": [],
   "source": [
    "#Se eu passar uma lista simples ele cria automaticamente uma matriz de duas dim\n"
   ]
  },
  {
   "cell_type": "code",
   "execution_count": null,
   "id": "attempted-perception",
   "metadata": {},
   "outputs": [],
   "source": []
  },
  {
   "cell_type": "code",
   "execution_count": null,
   "id": "unique-activation",
   "metadata": {},
   "outputs": [],
   "source": [
    "#tentando criar uma matrix maior \n"
   ]
  },
  {
   "cell_type": "code",
   "execution_count": null,
   "id": "preliminary-caution",
   "metadata": {
    "tags": []
   },
   "outputs": [],
   "source": []
  },
  {
   "cell_type": "code",
   "execution_count": null,
   "id": "fitted-grenada",
   "metadata": {
    "tags": []
   },
   "outputs": [],
   "source": [
    "#bloco, linha, coluna\n"
   ]
  },
  {
   "cell_type": "code",
   "execution_count": 66,
   "id": "voluntary-shower",
   "metadata": {},
   "outputs": [
    {
     "data": {
      "text/plain": [
       "array([[ 5, 12],\n",
       "       [21, 32]])"
      ]
     },
     "execution_count": 66,
     "metadata": {},
     "output_type": "execute_result"
    }
   ],
   "source": [
    "#array multi Element Wise\n",
    "a = np.array([[1,2],[3,4]])\n",
    "b = np.array([[5,6],[7,8]])\n",
    "a*b"
   ]
  },
  {
   "cell_type": "code",
   "execution_count": 67,
   "id": "e852daaa",
   "metadata": {},
   "outputs": [
    {
     "data": {
      "text/plain": [
       "matrix([[19, 22],\n",
       "        [43, 50]])"
      ]
     },
     "execution_count": 67,
     "metadata": {},
     "output_type": "execute_result"
    }
   ],
   "source": [
    "a = np.matrix([[1,2],[3,4]])\n",
    "b = np.array([[5,6],[7,8]])\n",
    "a*b"
   ]
  },
  {
   "cell_type": "code",
   "execution_count": 69,
   "id": "2a61ea1b",
   "metadata": {},
   "outputs": [
    {
     "data": {
      "text/plain": [
       "matrix([[19, 22],\n",
       "        [43, 50]])"
      ]
     },
     "execution_count": 69,
     "metadata": {},
     "output_type": "execute_result"
    }
   ],
   "source": [
    "a = np.array([[1,2],[3,4]])\n",
    "b = np.matrix([[5,6],[7,8]])\n",
    "a*b"
   ]
  },
  {
   "cell_type": "code",
   "execution_count": 68,
   "id": "1b31b2f7",
   "metadata": {},
   "outputs": [
    {
     "data": {
      "text/plain": [
       "matrix([[19, 22],\n",
       "        [43, 50]])"
      ]
     },
     "execution_count": 68,
     "metadata": {},
     "output_type": "execute_result"
    }
   ],
   "source": [
    "a = np.matrix([[1,2],[3,4]])\n",
    "b = np.matrix([[5,6],[7,8]])\n",
    "a*b"
   ]
  },
  {
   "cell_type": "code",
   "execution_count": 70,
   "id": "ef064f04",
   "metadata": {},
   "outputs": [
    {
     "data": {
      "text/plain": [
       "matrix([[ 27,  30,  33],\n",
       "        [ 61,  68,  75],\n",
       "        [ 95, 106, 117]])"
      ]
     },
     "execution_count": 70,
     "metadata": {},
     "output_type": "execute_result"
    }
   ],
   "source": [
    "a = np.matrix([[1,2],[3,4],[5,6]])\n",
    "b = np.matrix([[7,8,9],[10,11,12]])\n",
    "a*b"
   ]
  },
  {
   "cell_type": "code",
   "execution_count": 71,
   "id": "959f4933",
   "metadata": {},
   "outputs": [
    {
     "data": {
      "text/plain": [
       "matrix([[ 76, 100],\n",
       "        [103, 136]])"
      ]
     },
     "execution_count": 71,
     "metadata": {},
     "output_type": "execute_result"
    }
   ],
   "source": [
    "a = np.matrix([[1,2],[3,4],[5,6]])\n",
    "b = np.matrix([[7,8,9],[10,11,12]])\n",
    "b*a"
   ]
  },
  {
   "cell_type": "code",
   "execution_count": null,
   "id": "comparative-making",
   "metadata": {
    "tags": []
   },
   "outputs": [],
   "source": [
    "#matriz * Dot Product\n"
   ]
  },
  {
   "cell_type": "markdown",
   "id": "absent-method",
   "metadata": {
    "execution": {
     "iopub.execute_input": "2022-06-27T20:36:30.340688Z",
     "iopub.status.busy": "2022-06-27T20:36:30.339284Z",
     "iopub.status.idle": "2022-06-27T20:36:30.360000Z",
     "shell.execute_reply": "2022-06-27T20:36:30.352693Z",
     "shell.execute_reply.started": "2022-06-27T20:36:30.340625Z"
    }
   },
   "source": [
    "<div>\n",
    "<img src=\"../Imgs/dotprod.jpeg\" width=\"500\"/>\n",
    "</div>"
   ]
  },
  {
   "cell_type": "code",
   "execution_count": null,
   "id": "explicit-mobility",
   "metadata": {
    "tags": []
   },
   "outputs": [],
   "source": [
    "#Soma e subtração \n"
   ]
  },
  {
   "cell_type": "markdown",
   "id": "taken-description",
   "metadata": {},
   "source": [
    "> It is no longer recommended to use the matrix class, even for linear algebra. Instead, use regular numpy arrays. The matrix class may be removed in the future. (05-2021)"
   ]
  },
  {
   "cell_type": "markdown",
   "id": "conscious-british",
   "metadata": {},
   "source": [
    "##### DIY "
   ]
  },
  {
   "cell_type": "markdown",
   "id": "nonprofit-queens",
   "metadata": {},
   "source": [
    "1. Crie uma matriz com numeros aleatorios de 1 ao 20 shape (2,2)\n",
    "2. Crie um array 2D com shape (2,2)\n",
    "3. Transforme a array em matrix \n",
    "4. Printe o type do array transformado\n",
    "5. Faça o Dot product das matrizes\n"
   ]
  },
  {
   "cell_type": "code",
   "execution_count": 90,
   "id": "2e0bb2ef",
   "metadata": {},
   "outputs": [
    {
     "data": {
      "text/plain": [
       "array([[11, 12],\n",
       "       [15, 18]])"
      ]
     },
     "execution_count": 90,
     "metadata": {},
     "output_type": "execute_result"
    }
   ],
   "source": [
    "mtz1 = np.array(np.random.randint(1,21,4).reshape(2,2))\n",
    "mtz1"
   ]
  },
  {
   "cell_type": "code",
   "execution_count": 82,
   "id": "85a0b268",
   "metadata": {},
   "outputs": [],
   "source": [
    "mtz1 = np.matrix([[1,2],[2,1]])"
   ]
  },
  {
   "cell_type": "code",
   "execution_count": 77,
   "id": "nuclear-expert",
   "metadata": {
    "tags": []
   },
   "outputs": [
    {
     "data": {
      "text/plain": [
       "array([[12,  5],\n",
       "       [ 6, 17]])"
      ]
     },
     "execution_count": 77,
     "metadata": {},
     "output_type": "execute_result"
    }
   ],
   "source": [
    "arr2 = np.random.randint(1,21,(2,2))\n",
    "arr2"
   ]
  },
  {
   "cell_type": "code",
   "execution_count": 91,
   "id": "bc628fa5",
   "metadata": {},
   "outputs": [
    {
     "data": {
      "text/plain": [
       "matrix([[12,  5],\n",
       "        [ 6, 17]])"
      ]
     },
     "execution_count": 91,
     "metadata": {},
     "output_type": "execute_result"
    }
   ],
   "source": [
    "mtz2 = np.asmatrix(arr2)\n",
    "mtz2"
   ]
  },
  {
   "cell_type": "code",
   "execution_count": 78,
   "id": "common-natural",
   "metadata": {
    "tags": []
   },
   "outputs": [
    {
     "data": {
      "text/plain": [
       "matrix([[12,  5],\n",
       "        [ 6, 17]])"
      ]
     },
     "execution_count": 78,
     "metadata": {},
     "output_type": "execute_result"
    }
   ],
   "source": [
    "mtz2 = np.matrix(arr2)\n",
    "mtz2"
   ]
  },
  {
   "cell_type": "code",
   "execution_count": 79,
   "id": "numeric-calgary",
   "metadata": {},
   "outputs": [
    {
     "name": "stdout",
     "output_type": "stream",
     "text": [
      "<class 'numpy.matrix'>\n"
     ]
    }
   ],
   "source": [
    "print(type(mtz2))"
   ]
  },
  {
   "cell_type": "code",
   "execution_count": 93,
   "id": "surgical-screen",
   "metadata": {
    "tags": []
   },
   "outputs": [
    {
     "data": {
      "text/plain": [
       "matrix([[204, 259],\n",
       "        [288, 381]])"
      ]
     },
     "execution_count": 93,
     "metadata": {},
     "output_type": "execute_result"
    }
   ],
   "source": [
    "mtz1*mtz2"
   ]
  },
  {
   "cell_type": "code",
   "execution_count": 92,
   "id": "b298fc8e",
   "metadata": {},
   "outputs": [
    {
     "data": {
      "text/plain": [
       "matrix([[204, 259],\n",
       "        [288, 381]])"
      ]
     },
     "execution_count": 92,
     "metadata": {},
     "output_type": "execute_result"
    }
   ],
   "source": [
    "np.dot(mtz1,mtz2)"
   ]
  },
  {
   "cell_type": "markdown",
   "id": "essential-coverage",
   "metadata": {},
   "source": [
    "#### Grupo"
   ]
  },
  {
   "cell_type": "markdown",
   "id": "difficult-raise",
   "metadata": {},
   "source": [
    "https://archive.ics.uci.edu/ml/datasets/Wine+Quality"
   ]
  },
  {
   "cell_type": "markdown",
   "id": "adjacent-technology",
   "metadata": {
    "execution": {
     "iopub.execute_input": "2022-06-27T20:44:58.345790Z",
     "iopub.status.busy": "2022-06-27T20:44:58.345428Z",
     "iopub.status.idle": "2022-06-27T20:44:59.842111Z",
     "shell.execute_reply": "2022-06-27T20:44:59.840986Z",
     "shell.execute_reply.started": "2022-06-27T20:44:58.345761Z"
    }
   },
   "source": [
    "1. Importe o mesmo dataset da aula passada \n",
    "2. Selecione as mesmas colunas Citric Acid, PH e  Alcohol\n",
    "3. Faça um filtro booleano com os vinhos com:\n",
    "    - um valor maior ou igual a 6 de Alcohol\n",
    "    - um valor de PH menor do que 3\n",
    "    - um valor de Citric Acid maior do que .20\n",
    "4. Faça um novo array com esses dados \n",
    "5. Quantos vinhos tem a nossa seleção?\n",
    "6. Quantos vinhos deixamos de fora?\n",
    "7. Faça um outro filtro segundo a sua criatividade \n",
    "8. Qual a sua conclusão?"
   ]
  },
  {
   "cell_type": "code",
   "execution_count": 73,
   "id": "unnecessary-disposition",
   "metadata": {},
   "outputs": [
    {
     "data": {
      "text/plain": [
       "array([[ 7, 16],\n",
       "       [ 7, 12]])"
      ]
     },
     "execution_count": 73,
     "metadata": {},
     "output_type": "execute_result"
    }
   ],
   "source": []
  },
  {
   "cell_type": "code",
   "execution_count": null,
   "id": "apart-aquarium",
   "metadata": {
    "tags": []
   },
   "outputs": [],
   "source": []
  },
  {
   "cell_type": "code",
   "execution_count": null,
   "id": "synthetic-rough",
   "metadata": {
    "tags": []
   },
   "outputs": [],
   "source": []
  },
  {
   "cell_type": "code",
   "execution_count": null,
   "id": "complex-railway",
   "metadata": {},
   "outputs": [],
   "source": []
  },
  {
   "cell_type": "code",
   "execution_count": null,
   "id": "trying-service",
   "metadata": {},
   "outputs": [],
   "source": []
  },
  {
   "cell_type": "code",
   "execution_count": null,
   "id": "worth-allah",
   "metadata": {
    "tags": []
   },
   "outputs": [],
   "source": []
  },
  {
   "cell_type": "code",
   "execution_count": null,
   "id": "wound-harvest",
   "metadata": {
    "tags": []
   },
   "outputs": [],
   "source": []
  },
  {
   "cell_type": "code",
   "execution_count": null,
   "id": "judicial-universe",
   "metadata": {},
   "outputs": [],
   "source": []
  },
  {
   "cell_type": "code",
   "execution_count": null,
   "id": "empty-quarterly",
   "metadata": {},
   "outputs": [],
   "source": []
  },
  {
   "cell_type": "code",
   "execution_count": null,
   "id": "cleared-patrick",
   "metadata": {
    "tags": []
   },
   "outputs": [],
   "source": []
  },
  {
   "cell_type": "code",
   "execution_count": null,
   "id": "macro-junction",
   "metadata": {
    "tags": []
   },
   "outputs": [],
   "source": []
  },
  {
   "cell_type": "code",
   "execution_count": null,
   "id": "australian-devices",
   "metadata": {},
   "outputs": [],
   "source": []
  }
 ],
 "metadata": {
  "kernelspec": {
   "display_name": "Python 3.10.5 64-bit (windows store)",
   "language": "python",
   "name": "python3"
  },
  "language_info": {
   "codemirror_mode": {
    "name": "ipython",
    "version": 3
   },
   "file_extension": ".py",
   "mimetype": "text/x-python",
   "name": "python",
   "nbconvert_exporter": "python",
   "pygments_lexer": "ipython3",
   "version": "3.10.5"
  },
  "vscode": {
   "interpreter": {
    "hash": "d8c2dbe515bb1e132c806da356eed840d95260b43840da4c22c4a5911b708884"
   }
  }
 },
 "nbformat": 4,
 "nbformat_minor": 5
}

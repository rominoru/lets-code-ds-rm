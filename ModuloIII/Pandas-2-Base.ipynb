{
 "cells": [
  {
   "cell_type": "markdown",
   "id": "variable-switzerland",
   "metadata": {},
   "source": [
    "Base para a aula\n",
    "https://www.kaggle.com/datasets/victorsoeiro/netflix-tv-shows-and-movies?resource=download"
   ]
  },
  {
   "cell_type": "code",
   "execution_count": null,
   "id": "alleged-electronics",
   "metadata": {},
   "outputs": [],
   "source": [
    "#Importando pandas\n",
    "import pandas as pd\n",
    "import numpy as np "
   ]
  },
  {
   "cell_type": "code",
   "execution_count": null,
   "id": "pending-checkout",
   "metadata": {
    "tags": []
   },
   "outputs": [],
   "source": []
  },
  {
   "cell_type": "code",
   "execution_count": null,
   "id": "strange-worse",
   "metadata": {
    "tags": []
   },
   "outputs": [],
   "source": [
    "#reading the data\n"
   ]
  },
  {
   "cell_type": "code",
   "execution_count": null,
   "id": "graduate-nickel",
   "metadata": {
    "tags": []
   },
   "outputs": [],
   "source": []
  },
  {
   "cell_type": "code",
   "execution_count": null,
   "id": "adjacent-lindsay",
   "metadata": {
    "tags": []
   },
   "outputs": [],
   "source": []
  },
  {
   "cell_type": "code",
   "execution_count": null,
   "id": "traditional-joining",
   "metadata": {
    "tags": []
   },
   "outputs": [],
   "source": [
    "#nlargest - function toget the biggest elements of a colum\n"
   ]
  },
  {
   "cell_type": "code",
   "execution_count": null,
   "id": "invisible-expression",
   "metadata": {},
   "outputs": [],
   "source": [
    "#df.select_dtypes - function to get all column of a dtype\n"
   ]
  },
  {
   "cell_type": "code",
   "execution_count": null,
   "id": "stainless-significance",
   "metadata": {
    "tags": []
   },
   "outputs": [],
   "source": [
    "#create one extra column with data \n"
   ]
  },
  {
   "cell_type": "code",
   "execution_count": null,
   "id": "designed-baltimore",
   "metadata": {
    "tags": []
   },
   "outputs": [],
   "source": []
  },
  {
   "cell_type": "code",
   "execution_count": null,
   "id": "assumed-cause",
   "metadata": {
    "tags": []
   },
   "outputs": [],
   "source": [
    "#Series.unique and .nunique - Get the all elements of a series with out duplicates and get amount of diferent elements in a DF\n"
   ]
  },
  {
   "cell_type": "code",
   "execution_count": null,
   "id": "sustained-junior",
   "metadata": {
    "tags": []
   },
   "outputs": [],
   "source": [
    "#df.groupby - group data by a specific column \n",
    "\n",
    "#Get df for each type\n",
    "   \n",
    "\n",
    "#groupby more than 1 col \n",
    "\n",
    "\n"
   ]
  },
  {
   "cell_type": "code",
   "execution_count": null,
   "id": "integral-layout",
   "metadata": {
    "tags": []
   },
   "outputs": [],
   "source": [
    "#show groups\n",
    "\n",
    "#get groups keys\n"
   ]
  },
  {
   "cell_type": "code",
   "execution_count": null,
   "id": "contrary-knitting",
   "metadata": {
    "tags": []
   },
   "outputs": [],
   "source": [
    "#get_group - get group dataframe\n"
   ]
  },
  {
   "cell_type": "code",
   "execution_count": null,
   "id": "crucial-delaware",
   "metadata": {
    "tags": []
   },
   "outputs": [],
   "source": []
  },
  {
   "cell_type": "code",
   "execution_count": null,
   "id": "yellow-separate",
   "metadata": {
    "tags": []
   },
   "outputs": [],
   "source": []
  },
  {
   "cell_type": "code",
   "execution_count": null,
   "id": "extreme-violence",
   "metadata": {
    "tags": []
   },
   "outputs": [],
   "source": []
  },
  {
   "cell_type": "code",
   "execution_count": null,
   "id": "separate-charter",
   "metadata": {
    "tags": []
   },
   "outputs": [],
   "source": []
  },
  {
   "cell_type": "markdown",
   "id": "infectious-foster",
   "metadata": {},
   "source": [
    "#DIY\n",
    "- crie uma nova coluna categorica com a coluna run time com as opções curta_duracao(30<), media_duracao(entre 30 e 90), longa_duracao(>90)\n",
    "- faça um group by com essas nova coluna \n",
    "- atribua cada grupo a uma variavel \n",
    "- veja o tamanho do dataframe e defina quantos filmes tem cada categoria nova criada \n",
    "- pegue o top 10 de cada grupo (imdb score)"
   ]
  },
  {
   "cell_type": "code",
   "execution_count": null,
   "id": "exposed-billion",
   "metadata": {},
   "outputs": [],
   "source": []
  },
  {
   "cell_type": "code",
   "execution_count": null,
   "id": "enhanced-houston",
   "metadata": {},
   "outputs": [],
   "source": []
  },
  {
   "cell_type": "code",
   "execution_count": null,
   "id": "scenic-vision",
   "metadata": {},
   "outputs": [],
   "source": []
  },
  {
   "cell_type": "code",
   "execution_count": null,
   "id": "automated-congo",
   "metadata": {},
   "outputs": [],
   "source": []
  },
  {
   "cell_type": "code",
   "execution_count": null,
   "id": "broad-batch",
   "metadata": {},
   "outputs": [],
   "source": []
  },
  {
   "cell_type": "markdown",
   "id": "intellectual-taylor",
   "metadata": {
    "tags": []
   },
   "source": [
    "#### Concat and append"
   ]
  },
  {
   "cell_type": "code",
   "execution_count": null,
   "id": "scenic-participant",
   "metadata": {
    "tags": []
   },
   "outputs": [],
   "source": [
    "df_2 = pd.read_csv('bases/credits.csv')"
   ]
  },
  {
   "cell_type": "code",
   "execution_count": null,
   "id": "intermediate-boring",
   "metadata": {
    "tags": []
   },
   "outputs": [],
   "source": [
    "df_2.info()"
   ]
  },
  {
   "cell_type": "code",
   "execution_count": null,
   "id": "broken-number",
   "metadata": {},
   "outputs": [],
   "source": [
    "df_2.head()"
   ]
  },
  {
   "cell_type": "code",
   "execution_count": null,
   "id": "studied-oracle",
   "metadata": {
    "tags": []
   },
   "outputs": [],
   "source": [
    "df_2.shape[0]/2"
   ]
  },
  {
   "cell_type": "code",
   "execution_count": null,
   "id": "serial-florence",
   "metadata": {
    "tags": []
   },
   "outputs": [],
   "source": [
    "# sample - get a sample ofyour data random\n",
    "df_2_sample = df_2.sample(frac=.5, replace=True, random_state=42)\n"
   ]
  },
  {
   "cell_type": "code",
   "execution_count": null,
   "id": "competitive-concentration",
   "metadata": {
    "tags": []
   },
   "outputs": [],
   "source": [
    "#split data purposly \n",
    "df1 = df_2.iloc[:38606, :]\n",
    "df2 = df_2.iloc[38606:, :]"
   ]
  },
  {
   "cell_type": "code",
   "execution_count": null,
   "id": "musical-acrobat",
   "metadata": {
    "tags": []
   },
   "outputs": [],
   "source": [
    "df2"
   ]
  },
  {
   "cell_type": "code",
   "execution_count": null,
   "id": "handled-attempt",
   "metadata": {
    "tags": []
   },
   "outputs": [],
   "source": [
    "new_df = pd.concat([df1,df2])"
   ]
  },
  {
   "cell_type": "code",
   "execution_count": null,
   "id": "interracial-bacteria",
   "metadata": {
    "tags": []
   },
   "outputs": [],
   "source": [
    "df1 = df_2.loc[:, :'name']\n",
    "df2 = df_2.loc[:, 'character':]"
   ]
  },
  {
   "cell_type": "code",
   "execution_count": null,
   "id": "oriented-socket",
   "metadata": {
    "tags": []
   },
   "outputs": [],
   "source": [
    "new_df = pd.concat([df1,df2], axis=1)"
   ]
  },
  {
   "cell_type": "code",
   "execution_count": null,
   "id": "running-breach",
   "metadata": {},
   "outputs": [],
   "source": [
    "s = pd.Series(['01010101', 'tm010101010', 'Roger Rendon', 'Carlos','ACTOR'], index=['person_id', 'id', 'name','character','role'])"
   ]
  },
  {
   "cell_type": "code",
   "execution_count": null,
   "id": "martial-exposure",
   "metadata": {},
   "outputs": [],
   "source": [
    "s"
   ]
  },
  {
   "cell_type": "code",
   "execution_count": null,
   "id": "massive-scout",
   "metadata": {
    "tags": []
   },
   "outputs": [],
   "source": [
    "df_2.append(s,ignore_index=True)"
   ]
  },
  {
   "cell_type": "code",
   "execution_count": null,
   "id": "expired-brook",
   "metadata": {
    "tags": []
   },
   "outputs": [],
   "source": [
    "new_data = [['01010101', 'tm010101010', 'Roger Rendon', 'Carlos','ACTOR']]\n",
    "df_temp = pd.DataFrame(new_data,columns=['person_id', 'id', 'name','character','role'])\n",
    "df_2.append(df_temp,ignore_index=True)"
   ]
  },
  {
   "cell_type": "code",
   "execution_count": null,
   "id": "crazy-indonesian",
   "metadata": {},
   "outputs": [],
   "source": []
  }
 ],
 "metadata": {
  "kernelspec": {
   "display_name": "Python 3",
   "language": "python",
   "name": "python3"
  },
  "language_info": {
   "codemirror_mode": {
    "name": "ipython",
    "version": 3
   },
   "file_extension": ".py",
   "mimetype": "text/x-python",
   "name": "python",
   "nbconvert_exporter": "python",
   "pygments_lexer": "ipython3",
   "version": "3.7.7"
  }
 },
 "nbformat": 4,
 "nbformat_minor": 5
}

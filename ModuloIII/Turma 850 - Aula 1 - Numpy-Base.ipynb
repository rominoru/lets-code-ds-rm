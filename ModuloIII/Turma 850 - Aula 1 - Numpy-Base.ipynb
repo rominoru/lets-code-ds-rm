{
 "cells": [
  {
   "cell_type": "markdown",
   "id": "unexpected-parliament",
   "metadata": {
    "execution": {
     "iopub.execute_input": "2022-06-23T22:42:49.761772Z",
     "iopub.status.busy": "2022-06-23T22:42:49.761413Z",
     "iopub.status.idle": "2022-06-23T22:42:49.792967Z",
     "shell.execute_reply": "2022-06-23T22:42:49.770780Z",
     "shell.execute_reply.started": "2022-06-23T22:42:49.761738Z"
    },
    "tags": []
   },
   "source": [
    "<div>\n",
    "<img src=\"Imgs/logo-numpy.svg\" width=\"250\"/>\n",
    "</div>"
   ]
  },
  {
   "cell_type": "markdown",
   "id": "electric-importance",
   "metadata": {},
   "source": [
    "https://numpy.org\n",
    "\n",
    "- Abreviação para Numerical Python\n",
    "- É base para muitos outros pacotes, inclusive pacotes de Machinle Learning \n",
    "- Utilizado para computação de alta performance \n",
    "- Utilizado para analise e transformação de dados\n",
    "- É utilizado frequentemente em conjunto com Pandas (Próximo tema)"
   ]
  },
  {
   "cell_type": "markdown",
   "id": "tamil-abortion",
   "metadata": {},
   "source": [
    "Curiosidade sobre Numpy\n",
    "https://numpy.org/case-studies/blackhole-image/"
   ]
  },
  {
   "cell_type": "code",
   "execution_count": null,
   "id": "respective-silicon",
   "metadata": {},
   "outputs": [],
   "source": [
    "import numpy as np"
   ]
  },
  {
   "cell_type": "markdown",
   "id": "organizational-seattle",
   "metadata": {},
   "source": [
    "#### Conceitos principais"
   ]
  },
  {
   "cell_type": "code",
   "execution_count": null,
   "id": "spread-baghdad",
   "metadata": {
    "tags": []
   },
   "outputs": [],
   "source": [
    "#numpy.ndarray VS Lists\n",
    "list1 = [4,2,5,6,10]\n",
    "array1 = np.array(list1)\n",
    "print(f'List: {list1}')\n",
    "print(type(list1))\n",
    "print(list1)\n",
    "print(type(list1[1]))\n",
    "print(type(list1[4]))\n",
    "print('\\n')\n",
    "print(f'Numpy array: {array1}')\n",
    "print(f'Type: {type(array1)}')\n",
    "print(array1)\n",
    "print(type(array1[0]))\n",
    "print(type(array1[3]))\n"
   ]
  },
  {
   "cell_type": "code",
   "execution_count": null,
   "id": "burning-jesus",
   "metadata": {
    "tags": []
   },
   "outputs": [],
   "source": [
    "# Soma de um numero na lista e no nparray\n",
    "arr + 2"
   ]
  },
  {
   "cell_type": "code",
   "execution_count": null,
   "id": "described-investor",
   "metadata": {
    "tags": []
   },
   "outputs": [],
   "source": [
    "list1 + 2"
   ]
  },
  {
   "cell_type": "markdown",
   "id": "removable-movie",
   "metadata": {},
   "source": [
    ">Todos os itens de um array devem ser do mesmo tipo, diferentemente os itens de uma lista. Segue!"
   ]
  },
  {
   "cell_type": "markdown",
   "id": "universal-jackson",
   "metadata": {},
   "source": [
    "- i - integer\n",
    "- b - boolean\n",
    "- U - unsigned integer (Inteiros que não tem simbolos de + ou - associados )\n",
    "- f - float\n",
    "- c - complex float (Numeros Imaginarios)\n",
    "- m - timedelta\n",
    "- M - datetime\n",
    "- O - object\n",
    "- S - string\n",
    "- U - unicode string"
   ]
  },
  {
   "cell_type": "code",
   "execution_count": null,
   "id": "amazing-blind",
   "metadata": {
    "tags": []
   },
   "outputs": [],
   "source": [
    "#Testes com diferentes tipos\n",
    "#Str>Float>Int\n",
    "list2 = [[2,3,4,4],[3,40,100,0]]"
   ]
  },
  {
   "cell_type": "code",
   "execution_count": null,
   "id": "wrapped-anger",
   "metadata": {
    "tags": []
   },
   "outputs": [],
   "source": [
    "#dtype param \n"
   ]
  },
  {
   "cell_type": "code",
   "execution_count": null,
   "id": "front-spell",
   "metadata": {
    "tags": []
   },
   "outputs": [],
   "source": [
    "#ndim, shape, size, dtype\n"
   ]
  },
  {
   "cell_type": "code",
   "execution_count": null,
   "id": "found-bunny",
   "metadata": {
    "tags": []
   },
   "outputs": [],
   "source": [
    "#astype\n"
   ]
  },
  {
   "cell_type": "code",
   "execution_count": null,
   "id": "southeast-victoria",
   "metadata": {
    "tags": []
   },
   "outputs": [],
   "source": [
    "#zeros = array feita de zeros\n",
    "\n",
    "#ones - array feita de qualquer numero\n",
    "\n",
    "#empty - array dada um tamanho e tipo determinado com valores randomicos\n",
    "\n",
    "#full - parecida a ones porem mais \"elegante\"\n",
    "\n",
    "#fulllike - cria um array baseada em uma existente com outro numero dado\n",
    "\n",
    "# arange - cria um array com elementos separados por um step\n",
    "\n",
    "#copias do array \n"
   ]
  },
  {
   "cell_type": "markdown",
   "id": "committed-america",
   "metadata": {},
   "source": [
    "#### Operações entre ndarrays"
   ]
  },
  {
   "cell_type": "markdown",
   "id": "prescribed-samuel",
   "metadata": {},
   "source": [
    "> Numpy foi feito para manipular e realizar operações vetorizadas em grande escala, com velocidade"
   ]
  },
  {
   "cell_type": "code",
   "execution_count": null,
   "id": "neutral-groove",
   "metadata": {},
   "outputs": [],
   "source": [
    "#creating random arrays  = np.random.random_sample retorna array do tamanho pedido com numeros entre 0.0, 1.0"
   ]
  },
  {
   "cell_type": "code",
   "execution_count": null,
   "id": "unauthorized-silver",
   "metadata": {
    "tags": []
   },
   "outputs": [],
   "source": [
    "np.random.random_sample((3, 3))"
   ]
  },
  {
   "cell_type": "code",
   "execution_count": null,
   "id": "serious-weapon",
   "metadata": {
    "tags": []
   },
   "outputs": [],
   "source": [
    "#multipy, divide, add, subtract\n"
   ]
  },
  {
   "cell_type": "markdown",
   "id": "british-atmosphere",
   "metadata": {},
   "source": [
    "##### DIY"
   ]
  },
  {
   "cell_type": "markdown",
   "id": "important-shame",
   "metadata": {},
   "source": [
    "Ex 1\n",
    "1) Transforme a duas listas em duas arrays diferentes arr1 e arr2.\n",
    "2) Verifique o dtype dos array\n",
    "3) Transforme os dois array em float\n",
    "4) Compare as duas arrays e mostre os indices dos elementos que são iguais(dica : where)\n",
    "5) Retorne os numeros do array que são iguais usando o output do paso 4 dica subsetting"
   ]
  },
  {
   "cell_type": "code",
   "execution_count": 1,
   "id": "furnished-boutique",
   "metadata": {
    "execution": {
     "iopub.execute_input": "2022-06-24T18:28:41.320388Z",
     "iopub.status.busy": "2022-06-24T18:28:41.317945Z",
     "iopub.status.idle": "2022-06-24T18:28:41.332595Z",
     "shell.execute_reply": "2022-06-24T18:28:41.331483Z",
     "shell.execute_reply.started": "2022-06-24T18:28:41.319864Z"
    },
    "tags": []
   },
   "outputs": [],
   "source": [
    "list_1 = [1,2,3,4,5]\n",
    "list_2 = [1,3,2.2,4,5]"
   ]
  },
  {
   "cell_type": "markdown",
   "id": "understanding-basis",
   "metadata": {},
   "source": [
    "#### Indexação, Slicing"
   ]
  },
  {
   "cell_type": "code",
   "execution_count": null,
   "id": "aggregate-burke",
   "metadata": {
    "tags": []
   },
   "outputs": [],
   "source": [
    "array = np.array([[1, 2, 3, 4, 5, 6, 7], [8, 9, 10, 11, 12, 13, 14]])\n",
    "array"
   ]
  },
  {
   "cell_type": "code",
   "execution_count": null,
   "id": "increased-paragraph",
   "metadata": {
    "tags": []
   },
   "outputs": [],
   "source": [
    "#seleção por index [linha, coluna]\n",
    "#numero especifico\n",
    " \n",
    "#numero especifico negativo\n",
    "\n",
    "\n",
    "# : é chamado de slicing [startindex:endindex:stepsize]\n",
    "#primera linha\n",
    "\n",
    "#todos os elementos da 2 coluna\n",
    "\n",
    "#elemento especificos com step\n"
   ]
  },
  {
   "cell_type": "markdown",
   "id": "willing-regard",
   "metadata": {},
   "source": [
    "> conseguimos mudar também elementos especificos de uma array usando index e slicing"
   ]
  },
  {
   "cell_type": "code",
   "execution_count": null,
   "id": "dutch-jordan",
   "metadata": {
    "tags": []
   },
   "outputs": [],
   "source": [
    "#trocando um numero especifico\n",
    " \n",
    "#trocar coluna inteira \n",
    "\n",
    "#voltar os valores originais \n"
   ]
  },
  {
   "cell_type": "markdown",
   "id": "executed-luther",
   "metadata": {
    "execution": {
     "iopub.execute_input": "2022-06-24T16:58:47.984825Z",
     "iopub.status.busy": "2022-06-24T16:58:47.984085Z",
     "iopub.status.idle": "2022-06-24T16:58:48.042519Z",
     "shell.execute_reply": "2022-06-24T16:58:48.040862Z",
     "shell.execute_reply.started": "2022-06-24T16:58:47.984789Z"
    },
    "tags": []
   },
   "source": [
    "#### DIY"
   ]
  },
  {
   "cell_type": "markdown",
   "id": "relevant-deposit",
   "metadata": {},
   "source": [
    "Ex 2\n",
    "1) Gere uma array com 3 dimensões com shape. (2,2,2)\n",
    "2) Printe o ndim da array e o shape\n",
    "3) Retire um elemento especifico [bloco][linha][coluna]\n",
    "\n"
   ]
  },
  {
   "cell_type": "code",
   "execution_count": null,
   "id": "removable-catalog",
   "metadata": {
    "tags": []
   },
   "outputs": [],
   "source": [
    "array3d= "
   ]
  },
  {
   "cell_type": "code",
   "execution_count": null,
   "id": "willing-empty",
   "metadata": {
    "tags": []
   },
   "outputs": [],
   "source": [
    "#print array\n",
    "array3d"
   ]
  },
  {
   "cell_type": "code",
   "execution_count": null,
   "id": "rotary-suite",
   "metadata": {
    "tags": []
   },
   "outputs": [],
   "source": [
    "#print ndim\n"
   ]
  },
  {
   "cell_type": "code",
   "execution_count": null,
   "id": "existing-ending",
   "metadata": {
    "tags": []
   },
   "outputs": [],
   "source": [
    "#print shape\n"
   ]
  },
  {
   "cell_type": "code",
   "execution_count": null,
   "id": "liquid-globe",
   "metadata": {
    "tags": []
   },
   "outputs": [],
   "source": [
    "#print elemento\n"
   ]
  },
  {
   "cell_type": "markdown",
   "id": "explicit-keyboard",
   "metadata": {
    "heading_collapsed": "true",
    "tags": []
   },
   "source": [
    "##### Dica"
   ]
  },
  {
   "cell_type": "markdown",
   "id": "basic-friday",
   "metadata": {},
   "source": [
    "O array 3D é um conjunto de arrays de duas dimensões, \"um array de arrays de arrays\", os elementos são acessados para um indice para linha, um para coluna um para o bloco ( Parecido com um cubo). Tem apliações em diversas areas como: Jogos, Data Wharehouses, Analise de dados entre outros. \n",
    "\n",
    "Ordem [bloco][linha][coluna]"
   ]
  },
  {
   "cell_type": "markdown",
   "id": "suspended-directory",
   "metadata": {
    "execution": {
     "iopub.execute_input": "2022-06-24T17:37:00.185437Z",
     "iopub.status.busy": "2022-06-24T17:37:00.183727Z",
     "iopub.status.idle": "2022-06-24T17:37:00.200784Z",
     "shell.execute_reply": "2022-06-24T17:37:00.198669Z",
     "shell.execute_reply.started": "2022-06-24T17:37:00.185363Z"
    }
   },
   "source": [
    "<div>\n",
    "<img src=\"Imgs/arrays.png\" width=\"500\"/>\n",
    "</div>\n",
    "<img src=\"Imgs/formato3d.png\" width=\"500\"/>"
   ]
  },
  {
   "cell_type": "markdown",
   "id": "technological-irish",
   "metadata": {},
   "source": [
    "#### Transposição, Stacking e Redimensionamento"
   ]
  },
  {
   "cell_type": "markdown",
   "id": "social-meditation",
   "metadata": {},
   "source": [
    "<img src=\"Imgs/transpose.png\" width=\"500\"/>"
   ]
  },
  {
   "cell_type": "code",
   "execution_count": null,
   "id": "coordinated-ocean",
   "metadata": {},
   "outputs": [],
   "source": [
    "array = np.array([[1, 2, 3, 4, 5, 6, 7], [8, 9, 10, 11, 12, 13, 14]])\n",
    "array"
   ]
  },
  {
   "cell_type": "code",
   "execution_count": null,
   "id": "accepting-retro",
   "metadata": {
    "tags": []
   },
   "outputs": [],
   "source": [
    "array.T"
   ]
  },
  {
   "cell_type": "markdown",
   "id": "discrete-light",
   "metadata": {},
   "source": [
    "#### Estatistica"
   ]
  },
  {
   "cell_type": "code",
   "execution_count": null,
   "id": "hydraulic-mobile",
   "metadata": {
    "tags": []
   },
   "outputs": [],
   "source": []
  },
  {
   "cell_type": "code",
   "execution_count": null,
   "id": "exciting-republic",
   "metadata": {
    "tags": []
   },
   "outputs": [],
   "source": [
    "#minimo do nosso array\n"
   ]
  },
  {
   "cell_type": "code",
   "execution_count": null,
   "id": "electronic-wilderness",
   "metadata": {
    "tags": []
   },
   "outputs": [],
   "source": [
    "#maximo do nosso array\n"
   ]
  },
  {
   "cell_type": "code",
   "execution_count": null,
   "id": "rental-relevance",
   "metadata": {
    "tags": []
   },
   "outputs": [],
   "source": [
    "#minima por linha\n"
   ]
  },
  {
   "cell_type": "code",
   "execution_count": null,
   "id": "tamil-summer",
   "metadata": {
    "tags": []
   },
   "outputs": [],
   "source": [
    "#minima por coluna\n"
   ]
  },
  {
   "cell_type": "code",
   "execution_count": null,
   "id": "amended-times",
   "metadata": {
    "tags": []
   },
   "outputs": [],
   "source": [
    "#maximo de uma coluna especifica\n"
   ]
  },
  {
   "cell_type": "markdown",
   "id": "dense-description",
   "metadata": {},
   "source": [
    "#### DIY - Grupos"
   ]
  },
  {
   "cell_type": "markdown",
   "id": "pursuant-democrat",
   "metadata": {},
   "source": [
    "https://archive.ics.uci.edu/ml/datasets/Wine+Quality"
   ]
  },
  {
   "cell_type": "code",
   "execution_count": null,
   "id": "lucky-stage",
   "metadata": {
    "tags": []
   },
   "outputs": [],
   "source": [
    "url = 'https://archive.ics.uci.edu/ml/machine-learning-databases/wine-quality/winequality-red.csv'"
   ]
  },
  {
   "cell_type": "markdown",
   "id": "fabulous-street",
   "metadata": {},
   "source": [
    "DICA : Procure por nan e substitua por 0 (dica: is_nan e nan_to_num)m"
   ]
  },
  {
   "cell_type": "markdown",
   "id": "african-storm",
   "metadata": {},
   "source": [
    "https://numpy.org/devdocs/user/basics.io.genfromtxt.html\n",
    "1) Verifique a url e veja quais são as colunas do arquivo\n",
    "2) Veja qual é o delimiter do arquivo ',' , ':', ';'\n",
    "3) Selecione as colunas (param usecols) Citric Acid, PH e  Alcohol\n",
    "4) Mostre o array e as caracteristicas dele ndim, shape, dype\n",
    "5) Procure o maximo e minimo da coluna PH \n",
    "6) Obtenha a media da coluna Alcohol"
   ]
  },
  {
   "cell_type": "code",
   "execution_count": null,
   "id": "junior-psychology",
   "metadata": {
    "tags": []
   },
   "outputs": [],
   "source": [
    "#Import data\n",
    "wine_arr = np.genfromtxt()"
   ]
  },
  {
   "cell_type": "code",
   "execution_count": null,
   "id": "crazy-phoenix",
   "metadata": {
    "tags": []
   },
   "outputs": [],
   "source": [
    "#Show array\n",
    "print(wine_arr)\n",
    "\n",
    "print(wine_arr.ndim)\n",
    "\n",
    "print(wine_arr.shape)\n",
    "\n",
    "print(wine_arr.dtype)"
   ]
  },
  {
   "cell_type": "code",
   "execution_count": null,
   "id": "complimentary-yesterday",
   "metadata": {
    "tags": []
   },
   "outputs": [],
   "source": [
    "#Max e Min\n"
   ]
  },
  {
   "cell_type": "code",
   "execution_count": null,
   "id": "patient-lottery",
   "metadata": {
    "tags": []
   },
   "outputs": [],
   "source": [
    "#Mean\n"
   ]
  },
  {
   "cell_type": "markdown",
   "id": "conservative-correction",
   "metadata": {},
   "source": [
    "#### Extra"
   ]
  },
  {
   "cell_type": "markdown",
   "id": "statewide-firmware",
   "metadata": {},
   "source": [
    "1) Faça um for loop que itere por todos os elementos de uma array de 3 dimensões"
   ]
  },
  {
   "cell_type": "code",
   "execution_count": null,
   "id": "original-fabric",
   "metadata": {
    "tags": []
   },
   "outputs": [],
   "source": []
  }
 ],
 "metadata": {
  "kernelspec": {
   "display_name": "Python 3",
   "language": "python",
   "name": "python3"
  },
  "language_info": {
   "codemirror_mode": {
    "name": "ipython",
    "version": 3
   },
   "file_extension": ".py",
   "mimetype": "text/x-python",
   "name": "python",
   "nbconvert_exporter": "python",
   "pygments_lexer": "ipython3",
   "version": "3.7.7"
  }
 },
 "nbformat": 4,
 "nbformat_minor": 5
}

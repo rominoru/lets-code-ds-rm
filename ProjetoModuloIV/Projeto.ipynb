{
 "cells": [
  {
   "cell_type": "markdown",
   "id": "da25e583",
   "metadata": {},
   "source": [
    "## Projeto"
   ]
  },
  {
   "cell_type": "markdown",
   "id": "1d6e3a2f",
   "metadata": {},
   "source": [
    "O projeto deste módulo será uma aplicação prática do conteúdo de visualização de dados no python.  \n",
    "  \n",
    "**Objetivo**  \n",
    "Realizar um EDA (Exploratory Data Analysis) implementando gráficos para tornar o resultado visual. Lembre-se de explorar as bibliotecas estudadas neste módulo (Pandas, Matplotlib, Plotly, Seaborn)  \n",
    "  \n",
    "**Base de Dados**  \n",
    "Cada grupo será responsável por buscar uma base de dados de seu interesse  \n",
    "  \n",
    "**Composição**  \n",
    "Os trios/quarteto estão descritas segundo o excel \"Equipes_projeto\" na pasta do Drive\n",
    "https://drive.google.com/drive/folders/1iq0Yi94_hI7nQHvOFod8NN_Y2iCT8sci?usp=sharing\n",
    "  \n",
    "**Github**  \n",
    "Na mesma planilha das equipes, apenas um integrante do grupo, insira o link para o github  \n",
    "  \n",
    "**Apresentação**  \n",
    "A apresentação poderá ser construída no formato de preferência (jupyter notebook, power point..)  \n",
    "  \n",
    "**Tempo de apresentação**  \n",
    "Cada grupo terá no máximo 10 minutos para apresentar o EDA  \n",
    "  \n",
    "**Avaliação**  \n",
    "Para a avaliação serão considerados os seguintes pontos\n",
    "1. Entendimento do contexto em que se encaixa a base de dados\n",
    "2. Uso de todas bibliotecas apresentadas neste módulo para criação de gráficos (ao menos um gráfico de cada biblioteca)\n",
    "3. Apresentação das características do conjunto de dados fornecido, destacando sua visão geral acerca do conjunto de dados e tecendo críticas e comentários\n",
    "4. Uso dos diferentes tipos de gráficos com as variáveis numéricas e categóricas \n",
    "5. Identificação e discussão de missings ou outliers na base de dados\n",
    "6. Outras análises que sejam pertinentes \n",
    "  \n",
    "**Data de apresentação**  \n",
    "01/08/2022  \n",
    "  \n",
    "**Obs. 1**: Não esqueçam de considerar se as informações são públicas  \n",
    "**Obs. 2**: Não esqueçam de se divertirem fazendo isso! :D  \n",
    "  \n",
    "**BOM TRABALHO!**"
   ]
  },
  {
   "cell_type": "code",
   "execution_count": null,
   "id": "178151e3",
   "metadata": {},
   "outputs": [],
   "source": []
  }
 ],
 "metadata": {
  "kernelspec": {
   "display_name": "Python 3.10.5 64-bit (windows store)",
   "language": "python",
   "name": "python3"
  },
  "language_info": {
   "codemirror_mode": {
    "name": "ipython",
    "version": 3
   },
   "file_extension": ".py",
   "mimetype": "text/x-python",
   "name": "python",
   "nbconvert_exporter": "python",
   "pygments_lexer": "ipython3",
   "version": "3.10.5"
  },
  "vscode": {
   "interpreter": {
    "hash": "d8c2dbe515bb1e132c806da356eed840d95260b43840da4c22c4a5911b708884"
   }
  }
 },
 "nbformat": 4,
 "nbformat_minor": 5
}

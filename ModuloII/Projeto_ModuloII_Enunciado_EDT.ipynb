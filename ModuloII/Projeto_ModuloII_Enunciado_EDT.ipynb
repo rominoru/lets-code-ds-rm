{
 "cells": [
  {
   "cell_type": "markdown",
   "metadata": {},
   "source": [
    "## Enunciado\n",
    "Para implementar o programa abaixo, tente empregar técnicas estudadas no módulo atual quando possível: tratamento de strings, manipulação de arquivos utilizando as bibliotecas auxiliares estudadas (`csv` e `json`), tratamento de exceção, diferentes formatos de parâmetro de função, compreensão de listas e/ou geradores, funções de alta ordem e lambda. Apesar de ser possível resolver boa parte dos problemas utilizando loops e técnicas do módulo anterior, você deixará de treinar os novos conceitos e perderá a oportunidade de receber feedback adequado sobre o seu aprendizado deste módulo."
   ]
  },
  {
   "cell_type": "markdown",
   "metadata": {},
   "source": [
    "Uma grande dificuldade de muitos músicos de garagem é encontrar outros músicos que toquem instrumentos diferentes, possuam gostos semelhantes e disponibilidade para formar conjuntos."
   ]
  },
  {
   "cell_type": "markdown",
   "metadata": {},
   "source": [
    "Vamos fazer um sistema para auxiliar na formação de bandas online! Em seu menu principal, o programa deverá oferecer as seguintes funcionalidades:\n",
    "- Cadastrar músicos\n",
    "- Buscar músicos\n",
    "- Modificar músicos\n",
    "- Montar bandas\n",
    "- Sair"
   ]
  },
  {
   "cell_type": "markdown",
   "metadata": {},
   "source": [
    "**No cadastro** devem ser digitadas as seguintes informações:\n",
    "\n",
    "- Nome (string contendo apenas letras e espaço)\n",
    "- E-mail (string contendo apenas letras, underscore (`_`), ponto (`.`), dígitos numéricos e, obrigatoriamente, exatamente 1 arroba (`@`))\n",
    "- Gêneros musicais (mínimo 1, usuário pode digitar quantos forem necessários)\n",
    "- Instrumentos (mínimo 1, usuário pode digitar quantos forem necessários)\n",
    "\n",
    "\n",
    "As entradas devem ser validadas seguindo as regras. O e-mail deve ser único: se ele já existe, o cadastro não deve ser concluído.\n",
    "\n",
    "DICA: padronize suas strings na hora de salvar em sua base para evitar que buscas sejam prejudicadas por divergências de maiúsculas e minúsculas."
   ]
  },
  {
   "cell_type": "code",
   "execution_count": 64,
   "metadata": {},
   "outputs": [
    {
     "name": "stdout",
     "output_type": "stream",
     "text": [
      "Utilize apenas letras e espaço, separe os gêneros por vírgula.\n"
     ]
    },
    {
     "data": {
      "text/plain": [
       "'violão, teclado'"
      ]
     },
     "execution_count": 64,
     "metadata": {},
     "output_type": "execute_result"
    }
   ],
   "source": [
    "musicians = {'roger@nme.com': {'name': 'roger'}}\n",
    "\n",
    "def im1_check_term(term, term_type):\n",
    "    if term_type == 'name':\n",
    "        try:\n",
    "            if all(char.isalpha() or char == ' ' for char in term):\n",
    "                return term\n",
    "            else:\n",
    "                raise Exception\n",
    "        except:\n",
    "            print('Utilize apenas letras ou espaço.')\n",
    "            return im1_check_term(input('Informe corretamente o nome da pessoa: '), 'name')\n",
    "    elif term_type == 'email':\n",
    "        try:\n",
    "            if all(char.isalnum() or char in list('_-.@') for char in term):\n",
    "                pass\n",
    "            else:\n",
    "                print('O email informado contém caracteres inválidos.')\n",
    "                raise Exception\n",
    "            if len([char for char in term if char == '@']) == 1:\n",
    "                pass\n",
    "            else:\n",
    "                print('O email informado deve conter necessariamente e apenas uma \\'@\\'.')\n",
    "                raise Exception\n",
    "            if term not in musicians.keys():\n",
    "                return term\n",
    "            else:\n",
    "                print('Já existe pessoa cadastrada com o email informado.')\n",
    "                raise Exception\n",
    "        except:\n",
    "            return im1_check_term(input('Informe novamente um email: '), 'email')\n",
    "    elif term_type == 'gen_inst':\n",
    "        try:\n",
    "            if all(char.isalpha() or char in list(', -') for char in term) and len(term) > 0 and len([char for char in term if char.isalpha()]) > 0:\n",
    "                return term\n",
    "            else:\n",
    "                print('Utilize apenas letras e espaço, separe os gêneros por vírgula.')\n",
    "                raise Exception\n",
    "        except:\n",
    "            return im1_check_term(input('Informe novamente um termo: '), 'gen_inst')\n",
    "\n",
    "im1_check_term(input(), 'gen_inst')"
   ]
  },
  {
   "cell_type": "markdown",
   "metadata": {},
   "source": [
    "**Na busca** o usuário deve passar pelo menos 1 das opções: nome, e-mail, gênero (digitar apenas 1) ou instrumento (digitar apenas 1). O usuário deve selecionar se os resultados devem bater com todas as informações digitadas ou pelo menos uma (ex: se o usuário digitar nome e instrumento, a busca pode ser por resultados contendo o nome E o instrumento vs o nome OU o instrumento)."
   ]
  },
  {
   "cell_type": "code",
   "execution_count": 2,
   "metadata": {},
   "outputs": [
    {
     "data": {
      "text/plain": [
       "['a']"
      ]
     },
     "execution_count": 2,
     "metadata": {},
     "output_type": "execute_result"
    }
   ],
   "source": [
    "'a, b, c'.split()\n",
    "'a'.split()"
   ]
  },
  {
   "cell_type": "code",
   "execution_count": 36,
   "metadata": {},
   "outputs": [
    {
     "name": "stdout",
     "output_type": "stream",
     "text": [
      "\n",
      "====================================================================================================\n",
      " Opções disponíveis:\n",
      "['1', '2', '3', '4', '0']\n",
      "1. Nome\n",
      "2. Email\n",
      "3. Gêneros\n",
      "4. Instrumentos\n",
      "0. Voltar ao menu inicial\n"
     ]
    }
   ],
   "source": [
    "options = {'1': 'nome', '2': 'email', '3': 'gêneros', '4': 'instrumentos', '0': 'voltar ao menu inicial'}\n",
    "e_opt = {'1': 'name', '2': 'email', '3': 'genres', '4': 'instruments'}\n",
    "search_type_opt = {'1': 'E', '2': 'OU'}\n",
    "print(f'\\n{100*\"=\"}\\n','Opções disponíveis:')\n",
    "cont = 0\n",
    "print(list(options))\n",
    "for idx in list(options):\n",
    "    print(f'{idx}. {options[str(idx)].capitalize()}')\n"
   ]
  },
  {
   "cell_type": "code",
   "execution_count": 33,
   "metadata": {},
   "outputs": [
    {
     "name": "stdout",
     "output_type": "stream",
     "text": [
      "Foram localizados os seguintes músicos que atendem aos critérios:\n",
      "instrumentos = 'guitar' OU gêneros = 'rock' \n",
      "====================================================================================================\n",
      "email: ian-curtis@factoryrecords.com\n",
      "Nome: Ian Curtis\n",
      "Gêneros: post-punk\n",
      "Instrumentos: vocals, guitar, melodica, synthesizer\n",
      "====================================================================================================\n",
      "email: bernard-sumner@factory.com\n",
      "Nome: Bernard Sumner\n",
      "Gêneros: rock, post-punk, new wave, synthpop, electronica\n",
      "Instrumentos: vocals, guitar, keyboards, synthesiser, melodica\n",
      "====================================================================================================\n",
      "email: peter-hook@factory.com\n",
      "Nome: Peter Hook\n",
      "Gêneros: post-punk, new wave, alternative rock, alternative dance, synthpop, electronica\n",
      "Instrumentos: bass guitar, vocals, electronic drums, synthesizer, guitar, melodica\n",
      "====================================================================================================\n",
      "email: andrew.vanwyngarden@columbia.com\n",
      "Nome: Andrew VanWyngarden\n",
      "Gêneros: psychedelic rock, neo-psychedelia, indie pop, synthpop, progressive rock\n",
      "Instrumentos: vocals, guitar, keyboards, bass guitar, drums, percussion\n",
      "====================================================================================================\n",
      "email: cecil-womack@pitchfork.com\n",
      "Nome: Cecil Womack\n",
      "Gêneros: gospel, r&b, soul\n",
      "Instrumentos: guitar, piano, vocals\n",
      "====================================================================================================\n",
      "email: bobby-womack@xl.com\n",
      "Nome: Bobby Womack\n",
      "Gêneros: r&b, gospel, soul, rock and roll, doo-wop, funk, soul blues, rock, jazz\n",
      "Instrumentos: vocals, guitar\n",
      "====================================================================================================\n",
      "email: steve.jones@virgin.com\n",
      "Nome: Steve Jones\n",
      "Gêneros: punk rock, heavy metal, hard rock\n",
      "Instrumentos: guitar, bass, vocals\n",
      "====================================================================================================\n",
      "email: glenmatlock@virginrecords.com\n",
      "Nome: Glen Matlock\n",
      "Gêneros: punk rock, rock, new wave\n",
      "Instrumentos: bass guitar,  guitar,  vocals\n",
      "====================================================================================================\n",
      "email: paul.weller@nme.com\n",
      "Nome: Paul Weller\n",
      "Gêneros: punk rock, new wave, mod revival, blue-eyed soul\n",
      "Instrumentos: vocals, guitar, piano, bass, hammond organ\n",
      "====================================================================================================\n",
      "email: rick.buckler@polydor.com\n",
      "Nome: Rick Buckler\n",
      "Gêneros: punk rock, mod revival, new wave, rock\n",
      "Instrumentos: drums\n",
      "====================================================================================================\n",
      "email: prince7015@warnerbros.com\n",
      "Nome: Prince\n",
      "Gêneros: funk, rock, r&b, pop, soul\n",
      "Instrumentos: vocals, guitar\n",
      "====================================================================================================\n",
      "email: johnsquire@silvertone.com\n",
      "Nome: John Squire\n",
      "Gêneros: alternative rock, madchester, psychedelic rock, blues rock\n",
      "Instrumentos: guitar, vocals\n",
      "====================================================================================================\n",
      "email: reni5745@silvertone.com\n",
      "Nome: Reni\n",
      "Gêneros: alternative rock, madchester\n",
      "Instrumentos: drums, percussion, vocals, guitar\n",
      "====================================================================================================\n",
      "email: nigel_ipinson@nme.com\n",
      "Nome: Nigel Ipinson\n",
      "Gêneros: pop, rock, jazz\n",
      "Instrumentos: keyboard, piano\n",
      "\n"
     ]
    }
   ],
   "source": [
    "s_values = {'instruments': 'guitar', 'genres': 'rock'}\n",
    "search_type = '2'\n",
    "result_list = [{'ian-curtis@factoryrecords.com': {'name': 'Ian Curtis', 'genres': ['post-punk'], 'instruments': ['vocals', 'guitar', 'melodica', 'synthesizer']}}, {'bernard-sumner@factory.com': {'name': 'Bernard Sumner', 'genres': ['rock', 'post-punk', 'new wave', 'synthpop', 'electronica'], 'instruments': ['vocals', 'guitar', 'keyboards', 'synthesiser', 'melodica']}}, {'peter-hook@factory.com': {'name': 'Peter Hook', 'genres': ['post-punk', 'new wave', 'alternative rock', 'alternative dance', 'synthpop', 'electronica'], 'instruments': ['bass guitar','vocals', 'electronic drums', 'synthesizer', 'guitar', 'melodica']}}, {'andrew.vanwyngarden@columbia.com': {'name': 'Andrew VanWyngarden', 'genres': ['psychedelic rock', 'neo-psychedelia', 'indie pop', 'synthpop', 'progressive rock'], 'instruments': ['vocals', 'guitar', 'keyboards', 'bass guitar', 'drums', 'percussion']}}, {'cecil-womack@pitchfork.com': {'name': 'Cecil Womack', 'genres': ['gospel', 'r&b', 'soul'], 'instruments': ['guitar', 'piano', 'vocals']}}, {'bobby-womack@xl.com': {'name': 'Bobby Womack', 'genres': ['r&b', 'gospel', 'soul', 'rock and roll', 'doo-wop', 'funk', 'soul blues', 'rock', 'jazz'], 'instruments': ['vocals', 'guitar']}}, {'steve.jones@virgin.com': {'name': 'Steve Jones', 'genres': ['punk rock', 'heavy metal', 'hard rock'], 'instruments': ['guitar', 'bass', 'vocals']}}, {'glenmatlock@virginrecords.com': {'name': 'Glen Matlock', 'genres': ['punk rock', 'rock', 'new wave'], 'instruments': ['bass guitar', ' guitar', ' vocals']}}, {'paul.weller@nme.com': {'name': 'Paul Weller', 'genres': ['punk rock', 'new wave', 'mod revival', 'blue-eyed soul'], 'instruments': ['vocals', 'guitar', 'piano', 'bass', 'hammond organ']}}, {'rick.buckler@polydor.com': {'name': 'Rick Buckler', 'genres': ['punk rock', 'mod revival', 'new wave', 'rock'], 'instruments': ['drums']}}, {'prince7015@warnerbros.com': {'name': 'Prince', 'genres': ['funk', 'rock', 'r&b', 'pop', 'soul'], 'instruments': ['vocals', 'guitar']}}, {'johnsquire@silvertone.com': {'name': 'John Squire', 'genres': ['alternative rock', 'madchester', 'psychedelic rock', 'blues rock'], 'instruments': ['guitar', 'vocals']}}, {'reni5745@silvertone.com': {'name': 'Reni', 'genres': ['alternative rock', 'madchester'], 'instruments': ['drums', 'percussion', 'vocals', 'guitar']}}, {'nigel_ipinson@nme.com': {'name': 'Nigel Ipinson', 'genres': ['pop', 'rock', 'jazz'], 'instruments': ['keyboard', 'piano']}}]\n",
    "\n",
    "en_pt_corr = {'name': 'nome', 'email': 'email', 'genres': 'gêneros', 'instruments': 'instrumentos'}\n",
    "\n",
    "message = 'Foram localizados os seguintes músicos que atendem aos critérios:\\n'\n",
    "for k, v in s_values.items():\n",
    "    message += f\"{en_pt_corr[k]} = \\'{v}\\' {'E' if search_type == '1' else 'OU'} \"\n",
    "message = (message[:-2] if search_type == '1' else message[:-3]) + '\\n'\n",
    "for item in result_list:\n",
    "    message += f'{100*\"=\"}\\n'\n",
    "    for email, artist in item.items():\n",
    "        message += f'email: {email}\\n'\n",
    "        for k, v in artist.items():\n",
    "            # print(en_pt_corr[k], v)\n",
    "            message += f'{en_pt_corr[k].title()}: {\", \".join(v) if type(v) == list else v}\\n'\n",
    "\n",
    "\n",
    "\n",
    "print(message)"
   ]
  },
  {
   "cell_type": "markdown",
   "metadata": {},
   "source": [
    "**Na modificação de um usuário**, será feita uma busca especificamente por e-mail. É permitido adicionar ou remover gêneros e instrumentos. Não é permitido mudar nome ou e-mail."
   ]
  },
  {
   "cell_type": "code",
   "execution_count": null,
   "metadata": {},
   "outputs": [],
   "source": []
  },
  {
   "cell_type": "markdown",
   "metadata": {},
   "source": [
    "**Na opção de montar bandas**, o usuário deverá informar o número desejado de músicos, o instrumento de cada um dos músicos (1 por músico) e 1 gênero. O programa deverá exibir na tela todas as combinações possíveis de músicos (e-mail + instrumento)."
   ]
  },
  {
   "cell_type": "markdown",
   "metadata": {},
   "source": [
    "Ex: suponha que para o gênero 'heavy metal' a gente tenha os músicos ana@letscode.com.br (bateria), bruno@letscode.com.br (guitarra), carol@letscode.com.br (guitarra), danilo@letscode.com.br (baixo) e erasmo@letscode.com.br (baixo) e a busca seja:\n",
    "- Gênero: heavy metal\n",
    "- Quantidade: 3\n",
    "- Instrumento 1: guitarra\n",
    "- Instrumento 2: bateria\n",
    "- Instrumento 3: baixo\n",
    "\n",
    "A saída mostraria as seguintes combinações:\n",
    "```\n",
    "(bruno@letscode.com.br, guitarra) + (ana@letscode.com.br, bateria) + (danilo@letscode.com.br, baixo)\n",
    "(bruno@letscode.com.br, guitarra) + (ana@letscode.com.br, bateria) + (erasmo@letscode.com.br, baixo)\n",
    "(carol@letscode.com.br, guitarra) + (ana@letscode.com.br, bateria) + (danilo@letscode.com.br, baixo)\n",
    "(carol@letscode.com.br, guitarra) + (ana@letscode.com.br, bateria) + (erasmo@letscode.com.br, baixo)\n",
    "```"
   ]
  },
  {
   "cell_type": "code",
   "execution_count": 6,
   "metadata": {},
   "outputs": [
    {
     "name": "stdout",
     "output_type": "stream",
     "text": [
      "[[1, 'a'], [1, 'b'], [1, 'c'], [2, 'a'], [2, 'b'], [2, 'c'], [3, 'a'], [3, 'b'], [3, 'c']]\n"
     ]
    }
   ],
   "source": [
    "combinations = []\n",
    "\n",
    "l1 = [1, 2, 3]\n",
    "l2 = ['a', 'b', 'c']\n",
    "idx_1 = 0\n",
    "idx_2 = 0\n",
    "\n",
    "while idx_1 < len(l1):\n",
    "    while idx_2 < len(l2):\n",
    "        pair = [l1[idx_1], l2[idx_2]]\n",
    "        combinations.append(pair)\n",
    "        idx_2 += 1\n",
    "    idx_2 = 0\n",
    "    idx_1 += 1\n",
    "\n",
    "print(combinations)"
   ]
  },
  {
   "cell_type": "code",
   "execution_count": 96,
   "metadata": {},
   "outputs": [
    {
     "name": "stdout",
     "output_type": "stream",
     "text": [
      "[['A', 'A', 'A', 'A', 'A', 'A', 'A', 'A', 'A', 'A', 'A', 'A', 'B', 'B', 'B', 'B', 'B', 'B', 'B', 'B', 'B', 'B', 'B', 'B', 'C', 'C', 'C', 'C', 'C', 'C', 'C', 'C', 'C', 'C', 'C', 'C', 'D', 'D', 'D', 'D', 'D', 'D', 'D', 'D', 'D', 'D', 'D', 'D'], ['E', 'E', 'E', 'E', 'E', 'E', 'F', 'F', 'F', 'F', 'F', 'F', 'E', 'E', 'E', 'E', 'E', 'E', 'F', 'F', 'F', 'F', 'F', 'F', 'E', 'E', 'E', 'E', 'E', 'E', 'F', 'F', 'F', 'F', 'F', 'F', 'E', 'E', 'E', 'E', 'E', 'E', 'F', 'F', 'F', 'F', 'F', 'F'], ['G', 'G', 'G', 'H', 'H', 'H', 'G', 'G', 'G', 'H', 'H', 'H', 'G', 'G', 'G', 'H', 'H', 'H', 'G', 'G', 'G', 'H', 'H', 'H', 'G', 'G', 'G', 'H', 'H', 'H', 'G', 'G', 'G', 'H', 'H', 'H', 'G', 'G', 'G', 'H', 'H', 'H', 'G', 'G', 'G', 'H', 'H', 'H'], ['I', 'J', 'K', 'I', 'J', 'K', 'I', 'J', 'K', 'I', 'J', 'K', 'I', 'J', 'K', 'I', 'J', 'K', 'I', 'J', 'K', 'I', 'J', 'K', 'I', 'J', 'K', 'I', 'J', 'K', 'I', 'J', 'K', 'I', 'J', 'K', 'I', 'J', 'K', 'I', 'J', 'K', 'I', 'J', 'K', 'I', 'J', 'K']]\n",
      "48\n",
      "48\n",
      "48\n",
      "48\n"
     ]
    }
   ],
   "source": [
    "input_list = [['A', 'B', 'C', 'D'], ['E', 'F'], ['G', 'H'], ['I', 'J', 'K']]\n",
    "output_list = []\n",
    "array_len = 1\n",
    "for idx in range(len(input_list)):\n",
    "    array_len *= len(input_list[idx])\n",
    "p_l_len = 1\n",
    "for idx in range(len(input_list)):\n",
    "    inner_list = []\n",
    "    l_len = len(input_list[idx])\n",
    "    array_len /= l_len\n",
    "    for item in input_list[idx]:\n",
    "        temp_list = []\n",
    "        temp_list.append(((item+' ')*int(array_len)).strip().split(' '))\n",
    "        # print(temp_list)\n",
    "        for item in temp_list:\n",
    "            for sitem in item:\n",
    "                inner_list.append(sitem)\n",
    "        # print(inner_list)\n",
    "    # print(inner_list)\n",
    "    output_list.append(p_l_len*inner_list)\n",
    "    p_l_len *= l_len\n",
    "\n",
    "print(output_list)\n",
    "for item in output_list:\n",
    "    print(len(item))\n"
   ]
  },
  {
   "cell_type": "code",
   "execution_count": 108,
   "metadata": {},
   "outputs": [
    {
     "name": "stdout",
     "output_type": "stream",
     "text": [
      "[['A', 'E'], ['A', 'F'], ['B', 'E'], ['B', 'F'], ['C', 'E'], ['C', 'F'], ['D', 'E'], ['D', 'F']]\n",
      "[[['A', 'E'], ['A', 'F'], ['B', 'E'], ['B', 'F'], ['C', 'E'], ['C', 'F'], ['D', 'E'], ['D', 'F']], ['G', 'H'], ['I', 'J', 'K']]\n",
      "[[['A', 'E'], 'G'], [['A', 'E'], 'H'], [['A', 'F'], 'G'], [['A', 'F'], 'H'], [['B', 'E'], 'G'], [['B', 'E'], 'H'], [['B', 'F'], 'G'], [['B', 'F'], 'H'], [['C', 'E'], 'G'], [['C', 'E'], 'H'], [['C', 'F'], 'G'], [['C', 'F'], 'H'], [['D', 'E'], 'G'], [['D', 'E'], 'H'], [['D', 'F'], 'G'], [['D', 'F'], 'H']]\n",
      "[[[['A', 'E'], 'G'], [['A', 'E'], 'H'], [['A', 'F'], 'G'], [['A', 'F'], 'H'], [['B', 'E'], 'G'], [['B', 'E'], 'H'], [['B', 'F'], 'G'], [['B', 'F'], 'H'], [['C', 'E'], 'G'], [['C', 'E'], 'H'], [['C', 'F'], 'G'], [['C', 'F'], 'H'], [['D', 'E'], 'G'], [['D', 'E'], 'H'], [['D', 'F'], 'G'], [['D', 'F'], 'H']], ['I', 'J', 'K']]\n",
      "[[[['A', 'E'], 'G'], 'I'], [[['A', 'E'], 'G'], 'J'], [[['A', 'E'], 'G'], 'K'], [[['A', 'E'], 'H'], 'I'], [[['A', 'E'], 'H'], 'J'], [[['A', 'E'], 'H'], 'K'], [[['A', 'F'], 'G'], 'I'], [[['A', 'F'], 'G'], 'J'], [[['A', 'F'], 'G'], 'K'], [[['A', 'F'], 'H'], 'I'], [[['A', 'F'], 'H'], 'J'], [[['A', 'F'], 'H'], 'K'], [[['B', 'E'], 'G'], 'I'], [[['B', 'E'], 'G'], 'J'], [[['B', 'E'], 'G'], 'K'], [[['B', 'E'], 'H'], 'I'], [[['B', 'E'], 'H'], 'J'], [[['B', 'E'], 'H'], 'K'], [[['B', 'F'], 'G'], 'I'], [[['B', 'F'], 'G'], 'J'], [[['B', 'F'], 'G'], 'K'], [[['B', 'F'], 'H'], 'I'], [[['B', 'F'], 'H'], 'J'], [[['B', 'F'], 'H'], 'K'], [[['C', 'E'], 'G'], 'I'], [[['C', 'E'], 'G'], 'J'], [[['C', 'E'], 'G'], 'K'], [[['C', 'E'], 'H'], 'I'], [[['C', 'E'], 'H'], 'J'], [[['C', 'E'], 'H'], 'K'], [[['C', 'F'], 'G'], 'I'], [[['C', 'F'], 'G'], 'J'], [[['C', 'F'], 'G'], 'K'], [[['C', 'F'], 'H'], 'I'], [[['C', 'F'], 'H'], 'J'], [[['C', 'F'], 'H'], 'K'], [[['D', 'E'], 'G'], 'I'], [[['D', 'E'], 'G'], 'J'], [[['D', 'E'], 'G'], 'K'], [[['D', 'E'], 'H'], 'I'], [[['D', 'E'], 'H'], 'J'], [[['D', 'E'], 'H'], 'K'], [[['D', 'F'], 'G'], 'I'], [[['D', 'F'], 'G'], 'J'], [[['D', 'F'], 'G'], 'K'], [[['D', 'F'], 'H'], 'I'], [[['D', 'F'], 'H'], 'J'], [[['D', 'F'], 'H'], 'K']]\n",
      "[[[[['A', 'E'], 'G'], 'I'], [[['A', 'E'], 'G'], 'J'], [[['A', 'E'], 'G'], 'K'], [[['A', 'E'], 'H'], 'I'], [[['A', 'E'], 'H'], 'J'], [[['A', 'E'], 'H'], 'K'], [[['A', 'F'], 'G'], 'I'], [[['A', 'F'], 'G'], 'J'], [[['A', 'F'], 'G'], 'K'], [[['A', 'F'], 'H'], 'I'], [[['A', 'F'], 'H'], 'J'], [[['A', 'F'], 'H'], 'K'], [[['B', 'E'], 'G'], 'I'], [[['B', 'E'], 'G'], 'J'], [[['B', 'E'], 'G'], 'K'], [[['B', 'E'], 'H'], 'I'], [[['B', 'E'], 'H'], 'J'], [[['B', 'E'], 'H'], 'K'], [[['B', 'F'], 'G'], 'I'], [[['B', 'F'], 'G'], 'J'], [[['B', 'F'], 'G'], 'K'], [[['B', 'F'], 'H'], 'I'], [[['B', 'F'], 'H'], 'J'], [[['B', 'F'], 'H'], 'K'], [[['C', 'E'], 'G'], 'I'], [[['C', 'E'], 'G'], 'J'], [[['C', 'E'], 'G'], 'K'], [[['C', 'E'], 'H'], 'I'], [[['C', 'E'], 'H'], 'J'], [[['C', 'E'], 'H'], 'K'], [[['C', 'F'], 'G'], 'I'], [[['C', 'F'], 'G'], 'J'], [[['C', 'F'], 'G'], 'K'], [[['C', 'F'], 'H'], 'I'], [[['C', 'F'], 'H'], 'J'], [[['C', 'F'], 'H'], 'K'], [[['D', 'E'], 'G'], 'I'], [[['D', 'E'], 'G'], 'J'], [[['D', 'E'], 'G'], 'K'], [[['D', 'E'], 'H'], 'I'], [[['D', 'E'], 'H'], 'J'], [[['D', 'E'], 'H'], 'K'], [[['D', 'F'], 'G'], 'I'], [[['D', 'F'], 'G'], 'J'], [[['D', 'F'], 'G'], 'K'], [[['D', 'F'], 'H'], 'I'], [[['D', 'F'], 'H'], 'J'], [[['D', 'F'], 'H'], 'K']]]\n",
      "[[[[['A', 'E'], 'G'], 'I'], [[['A', 'E'], 'G'], 'J'], [[['A', 'E'], 'G'], 'K'], [[['A', 'E'], 'H'], 'I'], [[['A', 'E'], 'H'], 'J'], [[['A', 'E'], 'H'], 'K'], [[['A', 'F'], 'G'], 'I'], [[['A', 'F'], 'G'], 'J'], [[['A', 'F'], 'G'], 'K'], [[['A', 'F'], 'H'], 'I'], [[['A', 'F'], 'H'], 'J'], [[['A', 'F'], 'H'], 'K'], [[['B', 'E'], 'G'], 'I'], [[['B', 'E'], 'G'], 'J'], [[['B', 'E'], 'G'], 'K'], [[['B', 'E'], 'H'], 'I'], [[['B', 'E'], 'H'], 'J'], [[['B', 'E'], 'H'], 'K'], [[['B', 'F'], 'G'], 'I'], [[['B', 'F'], 'G'], 'J'], [[['B', 'F'], 'G'], 'K'], [[['B', 'F'], 'H'], 'I'], [[['B', 'F'], 'H'], 'J'], [[['B', 'F'], 'H'], 'K'], [[['C', 'E'], 'G'], 'I'], [[['C', 'E'], 'G'], 'J'], [[['C', 'E'], 'G'], 'K'], [[['C', 'E'], 'H'], 'I'], [[['C', 'E'], 'H'], 'J'], [[['C', 'E'], 'H'], 'K'], [[['C', 'F'], 'G'], 'I'], [[['C', 'F'], 'G'], 'J'], [[['C', 'F'], 'G'], 'K'], [[['C', 'F'], 'H'], 'I'], [[['C', 'F'], 'H'], 'J'], [[['C', 'F'], 'H'], 'K'], [[['D', 'E'], 'G'], 'I'], [[['D', 'E'], 'G'], 'J'], [[['D', 'E'], 'G'], 'K'], [[['D', 'E'], 'H'], 'I'], [[['D', 'E'], 'H'], 'J'], [[['D', 'E'], 'H'], 'K'], [[['D', 'F'], 'G'], 'I'], [[['D', 'F'], 'G'], 'J'], [[['D', 'F'], 'G'], 'K'], [[['D', 'F'], 'H'], 'I'], [[['D', 'F'], 'H'], 'J'], [[['D', 'F'], 'H'], 'K']]]\n"
     ]
    }
   ],
   "source": [
    "def comb(listas):\n",
    "    combi = []\n",
    "    if len(listas) > 1:\n",
    "        for a in listas[0]:\n",
    "            for b in listas[1]:\n",
    "                combi.append([a,b])\n",
    "        print(combi)\n",
    "        restante = [combi] + listas[2:]\n",
    "        print(restante)\n",
    "    \n",
    "    return comb(restante) if len(listas) > 1 else listas\n",
    "\n",
    "input_list = [['A', 'B', 'C', 'D'], ['E', 'F'], ['G', 'H'], ['I', 'J', 'K']]\n",
    "combinacoes = comb(input_list)\n",
    "print(combinacoes)\n"
   ]
  },
  {
   "cell_type": "code",
   "execution_count": 107,
   "metadata": {},
   "outputs": [
    {
     "name": "stdout",
     "output_type": "stream",
     "text": [
      "[['G', 'H', 'G', 'H', 'G', 'H', 'G', 'H', 'G', 'H', 'G', 'H', 'G', 'H', 'G', 'H']]\n",
      "[]\n"
     ]
    }
   ],
   "source": [
    "def eliminar_rep(combinacoes):\n",
    "    emails = [[musico[1] for musico in musicos] for musicos in combinacoes]\n",
    "    print(emails)\n",
    "    return [musicos for musicos, email in zip(combinacoes, emails) if len(set(email)) == len(email)]\n",
    "\n",
    "print(eliminar_rep(combinacoes))"
   ]
  },
  {
   "cell_type": "code",
   "execution_count": 26,
   "metadata": {},
   "outputs": [
    {
     "name": "stdout",
     "output_type": "stream",
     "text": [
      "[[([(), 'ab'],), '12'], [([(), 'ab'],), '34'], [([(), 'ab'],), '56'], [([(), 'cd'],), '12'], [([(), 'cd'],), '34'], [([(), 'cd'],), '56'], [([(), 'ef'],), '12'], [([(), 'ef'],), '34'], [([(), 'ef'],), '56']]\n"
     ]
    }
   ],
   "source": [
    "combinations = []\n",
    "\n",
    "def combine(terms, *accum):\n",
    "    last = (len(terms) == 1)\n",
    "    n = len(terms[0])\n",
    "    for i in range(n):\n",
    "        item = [accum] + [terms[0][i]]\n",
    "        if last:\n",
    "            combinations.append(item)\n",
    "        else:\n",
    "            combine(terms[1:], item)\n",
    "\n",
    "\n",
    "a = [['ab','cd','ef'],['12','34','56']]\n",
    "combine(a, )\n",
    "print(combinations)"
   ]
  },
  {
   "cell_type": "code",
   "execution_count": 38,
   "metadata": {},
   "outputs": [
    {
     "name": "stdout",
     "output_type": "stream",
     "text": [
      "[['bernard-sumner@factory.com', 'bobby-womack@xl.com', 'prince7015@warnerbros.com'], ['bernard-sumner@factory.com', 'bobby-womack@xl.com', 'prince7015@warnerbros.com'], ['rick.buckler@polydor.com']]\n"
     ]
    }
   ],
   "source": [
    "\n",
    "grp_insts = ['vocals', 'guitar', 'drums']\n",
    "genre_musicians = [{'bernard-sumner@factory.com': {'name': 'Bernard Sumner', 'genres': ['rock', 'post-punk', 'new wave', 'synthpop', 'electronica'], 'instruments': ['vocals', 'guitar', 'keyboards', 'synthesiser', 'melodica']}}, {'bobby-womack@xl.com': {'name': 'Bobby Womack', 'genres': ['r&b', 'gospel', 'soul', 'rock and roll', 'doo-wop', 'funk', 'soul blues', 'rock', 'jazz'], 'instruments': ['vocals', 'guitar']}}, {'glenmatlock@virginrecords.com': {'name': 'Glen Matlock', 'genres': ['punk rock', 'rock', 'new wave'], 'instruments': ['bass guitar', ' guitar', ' vocals']}}, {'rick.buckler@polydor.com': {'name': 'Rick Buckler', 'genres': ['punk rock', 'mod revival', 'new wave', 'rock'], 'instruments': ['drums']}}, {'prince7015@warnerbros.com': {'name': 'Prince', 'genres': ['funk', 'rock', 'r&b', 'pop', 'soul'], 'instruments': ['vocals', 'guitar']}}, {'nigel_ipinson@nme.com': {'name': 'Nigel Ipinson', 'genres': ['pop', 'rock', 'jazz'], 'instruments': ['keyboard', 'piano']}}]\n",
    "inst_musicians = []\n",
    "for idx in range(len(grp_insts)):\n",
    "    for musician in genre_musicians:\n",
    "        for k, v in musician.items():\n",
    "            if grp_insts[idx] in v['instruments']:\n",
    "                if idx == len(inst_musicians):\n",
    "                    inst_musicians.append([k])\n",
    "                else: inst_musicians[idx].append(k)\n",
    "\n",
    "print(inst_musicians)"
   ]
  },
  {
   "cell_type": "code",
   "execution_count": 44,
   "metadata": {},
   "outputs": [
    {
     "name": "stdout",
     "output_type": "stream",
     "text": [
      "1\n",
      "2\n",
      "3\n",
      "4\n",
      "5\n",
      "[['bernard-sumner@factory.com', 'bobby-womack@xl.com', 'prince7015@warnerbros.com', 'stuart-tosh@clashmusic.com', 'freddiemercury@columbia.com', 'darren.wharton@legendrecords(current).com', 'damonjohnson@mtv.com', 'phil.lynott@vertigo.com', 'stevediggle@emi.com', 'mick_jagger@virgin.com', 'keithrichards@decca.com', 'ronnie.wood@warnerbros.com', 'brian_jones@decca.com', 'bill_wyman@velvel.com', 'topperheadon@cbs.com', 'nick_sheppard@cbsrecords.com', 'michael.jackson@steeltown.com', 'liam_gallagher@creation.com', 'noel.gallagher@creation.com', 'natasha-shneider@mtv.com', 'megwhite@warnerbros.com', 'lana-del-rey@polydor.com', 'iggypop@carolineinternational.com'], ['bernard-sumner@factory.com', 'bobby-womack@xl.com', 'prince7015@warnerbros.com', 'al_anderson@last.fm', 'scott-gorham@vertigo.com', 'damonjohnson@mtv.com', 'keithrichards@decca.com', 'ronnie.wood@warnerbros.com', 'brian_jones@decca.com', 'micktaylor@columbia.com', 'phil_king@pitchfork.com', 'jimmy-cauty@klfcommunications.com', 'liam_gallagher@creation.com', 'noel.gallagher@creation.com', 'richard_mcnamara@vh1.com', 'troy_van_leeuwen@warnerbros.com', 'iggypop@carolineinternational.com'], ['bernard-sumner@factory.com', 'bobby-womack@xl.com', 'prince7015@warnerbros.com', 'al_anderson@last.fm', 'scott-gorham@vertigo.com', 'damonjohnson@mtv.com', 'keithrichards@decca.com', 'ronnie.wood@warnerbros.com', 'brian_jones@decca.com', 'micktaylor@columbia.com', 'phil_king@pitchfork.com', 'jimmy-cauty@klfcommunications.com', 'liam_gallagher@creation.com', 'noel.gallagher@creation.com', 'richard_mcnamara@vh1.com', 'troy_van_leeuwen@warnerbros.com', 'iggypop@carolineinternational.com'], ['phil_king@pitchfork.com', 'paul-mcguigan@downbeat.com', 'troy_van_leeuwen@warnerbros.com'], ['rick.buckler@polydor.com', 'gary_wallis@downbeat.com', 'charlie.watts@decca.com', 'topperheadon@cbs.com', 'megwhite@warnerbros.com', 'iggypop@carolineinternational.com']]\n"
     ]
    }
   ],
   "source": [
    "grp_insts = ['vocals', 'guitar', 'guitar', 'bass', 'drums']\n",
    "genre_musicians = [{'bernard-sumner@factory.com': {'name': 'Bernard Sumner', 'genres': ['rock', 'post-punk', 'new wave', 'synthpop', 'electronica'], 'instruments': ['vocals', 'guitar', 'keyboards', 'synthesiser', 'melodica']}}, {'bobby-womack@xl.com': {'name': 'Bobby Womack', 'genres': ['r&b', 'gospel', 'soul', 'rock and roll', 'doo-wop', 'funk', 'soul blues', 'rock', 'jazz'], 'instruments': ['vocals', 'guitar']}}, {'glenmatlock@virginrecords.com': {'name': 'Glen Matlock', 'genres': ['punk rock', 'rock', 'new wave'], 'instruments': ['bass guitar', ' guitar', ' vocals']}}, {'rick.buckler@polydor.com': {'name': 'Rick Buckler', 'genres': ['punk rock', 'mod revival', 'new wave', 'rock'], 'instruments': ['drums']}}, {'prince7015@warnerbros.com': {'name': 'Prince', 'genres': ['funk', 'rock', 'r&b', 'pop', 'soul'], 'instruments': ['vocals', 'guitar']}}, {'nigel_ipinson@nme.com': {'name': 'Nigel Ipinson', 'genres': ['pop', 'rock', 'jazz'], 'instruments': ['keyboard', 'piano']}}, {'al_anderson@last.fm': {'name': 'Al Anderson', 'genres': ['reggae', 'rock'], 'instruments': ['guitar', 'percussion']}}, {'stuart-tosh@clashmusic.com': {'name': 'Stuart Tosh', 'genres': ['rock', 'progressive rock'], 'instruments': ['vocals']}}, {'vic_emerson@rcarecords.com': {'name': 'Vic Emerson', 'genres': ['rock', 'soft rock'], 'instruments': ['hammond organ', ' keyboards', ' synthesizer', ' piano']}}, {'gary_wallis@downbeat.com': {'name': 'Gary Wallis', 'genres': ['rock', ' pop'], 'instruments': ['drums', ' percussion', ' electronic drums', ' drum programming', ' keyboards']}}, {'freddiemercury@columbia.com': {'name': 'Freddie Mercury', 'genres': ['rock'], 'instruments': ['vocals', 'keyboards']}}, {'john.deacon@downbeat.com': {'name': 'John Deacon', 'genres': ['rock'], 'instruments': ['bass guitar']}}, {'james-hooker@clashmusic.com': {'name': 'James Hooker', 'genres': ['rock', 'r&b', 'country', 'americana'], 'instruments': ['keyboards']}}, {'scott-gorham@vertigo.com': {'name': 'Scott Gorham', 'genres': ['rock', 'blues-rock', 'hard rock', 'heavy metal', 'progressive rock'], 'instruments': ['guitar', ' vocals']}}, {'darren.wharton@legendrecords(current).com': {'name': 'Darren Wharton', 'genres': ['rock', 'hard rock', 'heavy metal'], 'instruments': ['vocals', ' keyboards', ' keytar', ' organ', ' minimoog']}}, {'damonjohnson@mtv.com': {'name': 'Damon Johnson', 'genres': ['rock', 'classic rock', 'hard rock', 'southern rock', 'country', 'country rock'], 'instruments': ['vocals', 'guitar']}}, {'phil.lynott@vertigo.com': {'name': 'Phil Lynott', 'genres': ['rock', 'hard rock', 'blues rock', 'heavy metal', 'celtic rock'], 'instruments': ['vocals', ' bass']}}, {'stevediggle@emi.com': {'name': 'Steve Diggle', 'genres': ['rock', 'punk rock', 'pop punk'], 'instruments': ['vocals', ' guitar', ' bass guitar']}}, {'garth_smith@vh1.com': {'name': 'Garth Smith', 'genres': ['punk rock', 'rock', 'pop'], 'instruments': ['bass guitar', ' double bass']}}, {'mick_jagger@virgin.com': {'name': 'Mick Jagger', 'genres': ['rock', 'blues', 'pop'], 'instruments': ['vocals']}}, {'keithrichards@decca.com': {'name': 'Keith Richards', 'genres': ['rock', 'blues', 'blues rock', 'rock and roll', 'rhythm and blues', 'hard rock'], 'instruments': ['guitar', 'vocals']}}, {'ronnie.wood@warnerbros.com': {'name': 'Ronnie Wood', 'genres': ['rock', 'blues'], 'instruments': ['guitar', 'lap steel guitar', 'bass guitar', 'pedal steel guitar', 'vocals']}}, {'brian_jones@decca.com': {'name': 'Brian Jones', 'genres': ['rock', 'blues', 'world'], 'instruments': ['guitar', 'bass guitar', 'keyboards', 'percussion', 'brass', 'vocals', 'harmonica', 'sitar', 'marimba', 'dulcimer', 'koto', 'kazoo', 'recorder', 'theremin', 'concert harp', 'auto harp', 'flute', 'tamboura']}}, {'ian-stewart@clashmusic.com': {'name': 'Ian Stewart', 'genres': ['rock', 'boogie-woogie'], 'instruments': ['keyboards', 'piano']}}, {'bill_wyman@velvel.com': {'name': 'Bill Wyman', 'genres': ['rock', 'blues', 'jazz'], 'instruments': ['vocals', ' bass guitar']}}, {'charlie.watts@decca.com': {'name': 'Charlie Watts', 'genres': ['rock', 'jazz', 'blues'], 'instruments': ['drums']}}, {'micktaylor@columbia.com': {'name': 'Mick Taylor', 'genres': ['rock', 'blues'], 'instruments': ['guitar', ' vocals']}}, {'topperheadon@cbs.com': {'name': 'Topper Headon', 'genres': ['jazz', 'soul', 'r&b', 'rock', 'punk rock', 'reggae', 'rock and roll'], 'instruments': ['drums', 'percussion', 'vocals', 'piano', 'bass guitar']}}, {'nick_sheppard@cbsrecords.com': {'name': 'Nick Sheppard', 'genres': ['rhythm and blues', 'rock', 'punk rock'], 'instruments': ['vocals']}}, {'michael.jackson@steeltown.com': {'name': 'Michael Jackson', 'genres': ['pop', 'soul', 'funk', 'rhythm and blues', 'rock', 'disco', 'post-disco', 'dance-pop', 'new jack swing'], 'instruments': ['vocals']}}, {'phil_king@pitchfork.com': {'name': 'Phil King', 'genres': ['rock', 'shoegazing', 'alternative rock', 'noise pop'], 'instruments': ['bass', 'guitar']}}, {'stuart.fletcher@billboard.com': {'name': 'Stuart Fletcher', 'genres': ['rock', 'pop rock'], 'instruments': ['bass guitar']}}, {'jimmy-cauty@klfcommunications.com': {'name': 'Jimmy Cauty', 'genres': ['ambient house', 'electronic', 'pop', 'rock'], 'instruments': ['guitar', 'synthesiser']}}, {'liam_gallagher@creation.com': {'name': 'Liam Gallagher', 'genres': ['rock', 'hard rock', 'alternative rock', 'britpop'], 'instruments': ['vocals', 'tambourine', 'guitar']}}, {'noel.gallagher@creation.com': {'name': 'Noel Gallagher', 'genres': ['rock', 'britpop', 'alternative rock', 'psychedelic rock', 'baroque pop'], 'instruments': ['vocals', 'guitar']}}, {'paul-mcguigan@downbeat.com': {'name': 'Paul McGuigan', 'genres': ['rock', 'britpop', 'alternative rock'], 'instruments': ['bass', ' turntables', ' sampler']}}, {'rami.jaffee@mtv.com': {'name': 'Rami Jaffee', 'genres': ['rock'], 'instruments': ['keyboards', ' accordion', ' harmonica']}}, {'richard_mcnamara@vh1.com': {'name': 'Richard McNamara', 'genres': ['rock', 'britpop'], 'instruments': ['guitar', ' vocals', ' percussion', ' keyboards']}}, {'steve-firth@clashmusic.com': {'name': 'Steve Firth', 'genres': ['rock', 'indie'], 'instruments': ['bass guitar']}}, {'troy_van_leeuwen@warnerbros.com': {'name': 'Troy Van Leeuwen', 'genres': ['rock', 'alternative rock', 'hard rock'], 'instruments': ['guitar', 'keyboards', 'synthesizers', 'percussion', 'bass']}}, {'natasha-shneider@mtv.com': {'name': 'Natasha Shneider', 'genres': ['rock', 'alternative rock', ' pop'], 'instruments': ['vocals', ' keyboards', ' piano', ' bass']}}, {'megwhite@warnerbros.com': {'name': 'Meg White', 'genres': ['rock', 'alternative rock', 'garage rock'], 'instruments': ['drums', 'percussion', 'vocals']}}, {'lana-del-rey@polydor.com': {'name': 'Lana Del Rey', 'genres': ['baroque pop', 'dream pop', 'rock'], 'instruments': ['vocals']}}, {'iggypop@carolineinternational.com': {'name': 'Iggy Pop', 'genres': ['rock', 'punk rock', 'proto-punk', 'hard rock'], 'instruments': ['vocals', 'guitar', 'drums']}}]\n",
    "inst_musicians = []\n",
    "for idx in range(len(grp_insts)):\n",
    "    for musician in genre_musicians:\n",
    "        for k, v in musician.items():\n",
    "            if grp_insts[idx] in v['instruments']:\n",
    "                if idx == len(inst_musicians):\n",
    "                    inst_musicians.append([k])\n",
    "                else: inst_musicians[idx].append(k)\n",
    "    print(len(inst_musicians))\n",
    "\n",
    "print(inst_musicians)"
   ]
  },
  {
   "cell_type": "markdown",
   "metadata": {},
   "source": [
    "A formatação para exibir esse resultado fica a seu critério.\n",
    "\n",
    "O seu programa deverá salvar todos os dados em formato de sua preferência para consulta posterior: JSON ou CSV.\n",
    "\n",
    "Caso opte por CSV, ele terá as colunas nome, e-mail, instrumentos (escreva os dados em formato de lista) e gêneros (escreva os dados em formato de lista). Ex:\n",
    "```\n",
    "ana;ana@letscode.com.br;['bateria', 'voz'];['hard rock', 'heavy metal']\n",
    "bruno;bruno@letscode.com.br;['guitarra'];['heavy metal', 'jazz']\n",
    "```\n",
    "Para o JSON, teremos uma lista de dicionários. As chaves dos dicionários correspondem às colunas do CSV. Alternativamente, você pode fazer um dicionário de dicionários, adotando o e-mail como chave, e o valor seria um dicionário contendo as outras 3 chaves.\n",
    "\n",
    "Lembre-se de garantir que seu programa sempre salva o arquivo quando for encerrado."
   ]
  },
  {
   "cell_type": "code",
   "execution_count": null,
   "metadata": {},
   "outputs": [],
   "source": []
  },
  {
   "cell_type": "markdown",
   "metadata": {},
   "source": [
    "**Procedimento de entrega do projeto**: subir o arquivo .py (programa Python puro) ou .ipynb (Jupyter Notebook). Caso haja necessidade de subir múltiplos arquivos, salve-os em um .zip."
   ]
  },
  {
   "cell_type": "code",
   "execution_count": 67,
   "metadata": {},
   "outputs": [
    {
     "ename": "NameError",
     "evalue": "name '__path__' is not defined",
     "output_type": "error",
     "traceback": [
      "\u001b[1;31m---------------------------------------------------------------------------\u001b[0m",
      "\u001b[1;31mNameError\u001b[0m                                 Traceback (most recent call last)",
      "\u001b[1;32md:\\Users\\minoru\\Documents\\Processos\\Safra\\Formacao\\Repo\\rominoru\\lets-code-safra-ds-rm\\ModuloII\\Projeto_ModuloII_Enunciado_EDT.ipynb Cell 24'\u001b[0m in \u001b[0;36m<cell line: 9>\u001b[1;34m()\u001b[0m\n\u001b[0;32m      <a href='vscode-notebook-cell:/d%3A/Users/minoru/Documents/Processos/Safra/Formacao/Repo/rominoru/lets-code-safra-ds-rm/ModuloII/Projeto_ModuloII_Enunciado_EDT.ipynb#ch0000023?line=5'>6</a>\u001b[0m         \u001b[39mreturn\u001b[39;00m tables\n\u001b[0;32m      <a href='vscode-notebook-cell:/d%3A/Users/minoru/Documents/Processos/Safra/Formacao/Repo/rominoru/lets-code-safra-ds-rm/ModuloII/Projeto_ModuloII_Enunciado_EDT.ipynb#ch0000023?line=7'>8</a>\u001b[0m musicians \u001b[39m=\u001b[39m read_json_file(\u001b[39m'\u001b[39m\u001b[39mmusicians_v01_dict_letscode.json\u001b[39m\u001b[39m'\u001b[39m)\n\u001b[1;32m----> <a href='vscode-notebook-cell:/d%3A/Users/minoru/Documents/Processos/Safra/Formacao/Repo/rominoru/lets-code-safra-ds-rm/ModuloII/Projeto_ModuloII_Enunciado_EDT.ipynb#ch0000023?line=8'>9</a>\u001b[0m \u001b[39mprint\u001b[39m(__path__)\n",
      "\u001b[1;31mNameError\u001b[0m: name '__path__' is not defined"
     ]
    }
   ],
   "source": [
    "import json\n",
    "\n",
    "def read_json_file(jsonfile):\n",
    "    with open(jsonfile, 'r') as file:\n",
    "        tables = json.loads(file.read())\n",
    "        return tables\n",
    "\n",
    "musicians = read_json_file('musicians_v01_dict_letscode.json')\n",
    "print(__path__)\n",
    "# musician_list = [{k: v} for k, v in musicians.items()][:30]\n",
    "# for musician in musician_list:\n",
    "#     for email, dict, in musician.items():\n",
    "#         for k, v in dict:\n",
    "#             if type(v) == list:\n",
    "#                 for item in list:\n",
    "#                     item.strip()\n",
    "\n",
    "\n",
    "# print(musician_list)\n",
    "\n",
    "\n",
    "# musicians = {}\n",
    "# for item in musician_list: musicians.update(item)\n",
    "\n",
    "\n",
    "# for key, value in musicians.items():\n",
    "#     print(value['instruments'])\n",
    "\n",
    "# with open('musicians_v01_dict_letscode_stripped.json', 'w+', encoding='UTF-8') as file:\n",
    "#     file.write(json.dumps(new_dict, indent=2))"
   ]
  }
 ],
 "metadata": {
  "kernelspec": {
   "display_name": "Python 3.10.5 64-bit (windows store)",
   "language": "python",
   "name": "python3"
  },
  "language_info": {
   "codemirror_mode": {
    "name": "ipython",
    "version": 3
   },
   "file_extension": ".py",
   "mimetype": "text/x-python",
   "name": "python",
   "nbconvert_exporter": "python",
   "pygments_lexer": "ipython3",
   "version": "3.10.5"
  },
  "orig_nbformat": 4,
  "vscode": {
   "interpreter": {
    "hash": "d8c2dbe515bb1e132c806da356eed840d95260b43840da4c22c4a5911b708884"
   }
  }
 },
 "nbformat": 4,
 "nbformat_minor": 2
}

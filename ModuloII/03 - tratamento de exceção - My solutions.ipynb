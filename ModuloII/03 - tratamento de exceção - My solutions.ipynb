{
 "cells": [
  {
   "cell_type": "markdown",
   "id": "580a1dd1",
   "metadata": {},
   "source": [
    "# Tratamento de Exceção\n",
    "\n",
    "Você já deve ter notado que certas operações podem dar errado em certas circunstâncias, e esses erros provocam o tratamento do nosso programa. \n",
    "\n",
    "Por exemplo, quando solicitamos que o usuário digite um número inteiro e ele digita qualquer outra coisa. O erro ocorre especificamente na conversão da entrada para ```int```. Veja o exemplo abaixo:"
   ]
  },
  {
   "cell_type": "code",
   "execution_count": null,
   "id": "8b7b1f99",
   "metadata": {},
   "outputs": [],
   "source": [
    "entrada = 'olá'\n",
    "inteiro = int(entrada)"
   ]
  },
  {
   "cell_type": "markdown",
   "id": "ae0b071f",
   "metadata": {},
   "source": [
    "Note que o erro possui um nome, ```ValueError```, e uma mensagem explicando o que ocorreu.\n",
    "\n",
    "Vejamos outro exemplo bastante famoso: a divisão por zero."
   ]
  },
  {
   "cell_type": "code",
   "execution_count": null,
   "id": "68d6128f",
   "metadata": {},
   "outputs": [],
   "source": [
    "x = 1/0"
   ]
  },
  {
   "cell_type": "markdown",
   "id": "0d23c909",
   "metadata": {},
   "source": [
    "Observe a mesma estrutura do erro anterior: temos um nome (```ZeroDivisionError```) e uma mensagem explicando o que ocorreu.\n",
    "\n",
    "Esses erros, que não são erros de lógica nem de sintaxe, são o que chamamos de **exceções**. São pequenos problemas que o programa pode encontrar durante sua execução, como não encontrar um arquivo ou uma função receber um valor de tipo inesperado.\n",
    "\n",
    "Vamos começar aprendendo como lidar com códigos que podem provocar erros, evitando o travamento do programa, e em seguida iremos aprender a criar as nossas próprias exceções para alertar outros programadores sobre problemas que possam ter ocorrido em nossas classes e funções."
   ]
  },
  {
   "cell_type": "markdown",
   "id": "cd4ce0d2",
   "metadata": {},
   "source": [
    "## Tratando uma exceção\n",
    "\n",
    "Tratar uma exceção significa que quando surgir um dos erros mencionados, nós iremos assumir responsabilidade sobre ele e iremos providenciar algum código alternativo. Dessa maneira, o Python não irá mais travar o nosso programa, e sim desviar seu fluxo para o código fornecido.\n",
    "\n",
    "O bloco mais básico para lidarmos com exceção é o ```try```/```except```.\n",
    "\n",
    "Dentro do ```try``` vamos colocar o pedaço de código com potencial para dar erro. Estamos pedindo que o Python **tente** executar aquele código, cientes de que pode não dar certo.\n",
    "\n",
    "Dentro do ```except```, colocamos o código que deverá ser executado **somente** se algo de errado ocorrer no ```try```. Vejamos um exemplo:"
   ]
  },
  {
   "cell_type": "code",
   "execution_count": null,
   "id": "870808f7",
   "metadata": {},
   "outputs": [],
   "source": [
    "numerador = 1\n",
    "\n",
    "for denominador in range(3, -1, -1):\n",
    "    try:\n",
    "        divisao = numerador/denominador\n",
    "    except:\n",
    "        divisao = 'infinito'\n",
    "    \n",
    "    print(f'{numerador}/{denominador} = {divisao}')\n",
    "    \n",
    "    "
   ]
  },
  {
   "cell_type": "markdown",
   "id": "a16a86af",
   "metadata": {},
   "source": [
    "O bloco acima já resolve a grande maioria dos problemas. Mas vamos estudar mais algumas possibilidades para deixar nosso tratamento ainda mais sofisticado e especializado.\n",
    "\n",
    "Você deve ter notado que enfatizamos bastante o fato de exceções poderem ter um nome. Esse nome pode nos ajudar a identificar com sucesso qual dos erros possíveis ocorreu e tratá-lo com sucesso.\n",
    "\n",
    "Vamos considerar a função abaixo:"
   ]
  },
  {
   "cell_type": "code",
   "execution_count": null,
   "id": "53cd126b",
   "metadata": {},
   "outputs": [],
   "source": [
    "def divisao(a, b):\n",
    "    return a/b"
   ]
  },
  {
   "cell_type": "markdown",
   "id": "de1ab200",
   "metadata": {},
   "source": [
    "Um erro óbvio que pode ocorrer nessa função seria o ```ZeroDivisionError```, que nós obtemos passando 0 como segundo parâmetro:"
   ]
  },
  {
   "cell_type": "code",
   "execution_count": null,
   "id": "954c1d00",
   "metadata": {},
   "outputs": [],
   "source": [
    "divisao(1, 0)"
   ]
  },
  {
   "cell_type": "markdown",
   "id": "f96523ba",
   "metadata": {},
   "source": [
    "Porém, ele não é o único erro possível. O que acontece se passarmos um parâmetro que não seja numérico? ```TypeError```, pois utilizamos tipos inválidos para o operador ```/```."
   ]
  },
  {
   "cell_type": "code",
   "execution_count": null,
   "id": "f4ce03b9",
   "metadata": {},
   "outputs": [],
   "source": [
    "divisao('olá', 1)"
   ]
  },
  {
   "cell_type": "markdown",
   "id": "79e8f698",
   "metadata": {},
   "source": [
    "Podemos colocar diversos ```except``` após o ```try```, cada um testando um tipo diferente de erro. Um último ```except``` genérico irá pegar todos os casos que não se encaixarem nos específicos:"
   ]
  },
  {
   "cell_type": "code",
   "execution_count": 1,
   "id": "dc1a56a3",
   "metadata": {},
   "outputs": [
    {
     "name": "stdout",
     "output_type": "stream",
     "text": [
      "1/0 = erro desconhecido\n",
      "1/2 = erro desconhecido\n",
      "1/3 = erro desconhecido\n",
      "1/a = erro desconhecido\n",
      "1/5 = erro desconhecido\n"
     ]
    }
   ],
   "source": [
    "denominadores = [0, 2, 3, 'a', 5]\n",
    "\n",
    "for d in denominadores:\n",
    "    try:\n",
    "        div = divisao(1, d)\n",
    "        \n",
    "    except ZeroDivisionError:\n",
    "        div = 'infinito'\n",
    "        \n",
    "    except TypeError:        \n",
    "        div = f'1/{d}'\n",
    "        \n",
    "    except:\n",
    "        div = 'erro desconhecido'\n",
    "    \n",
    "    print(f'1/{d} = {div}')"
   ]
  },
  {
   "cell_type": "markdown",
   "id": "f9bf6c51",
   "metadata": {},
   "source": [
    "## O ```else``` no tratamento de exceção\n",
    "\n",
    "Nosso bom e velho ```else```, tipicamente usado em expressões condicionais acompanhando um ```if```, também pode aparecer em blocos ```try```/```except```. Seu efeito é o oposto do ```except```: enquanto o ```except``` é executado quando algo dá errado, o ```else``` só é executado se absolutamente nada der errado. Por exemplo, poderíamos atualizar nosso exemplo anterior utilizando um ```else```:"
   ]
  },
  {
   "cell_type": "code",
   "execution_count": 2,
   "id": "2e5271ff",
   "metadata": {},
   "outputs": [
    {
     "name": "stdout",
     "output_type": "stream",
     "text": [
      "erro desconhecido\n",
      "erro desconhecido\n",
      "erro desconhecido\n",
      "erro desconhecido\n",
      "erro desconhecido\n"
     ]
    }
   ],
   "source": [
    "denominadores = [0, 2, 3, 'a', 5]\n",
    "\n",
    "for d in denominadores:\n",
    "    try:\n",
    "        div = divisao(1, d)\n",
    "        \n",
    "    except ZeroDivisionError:\n",
    "        print('infinito')\n",
    "        \n",
    "    except TypeError:        \n",
    "        print(f'1/{d}')\n",
    "        \n",
    "    except:\n",
    "        print('erro desconhecido')\n",
    "        \n",
    "    else:\n",
    "        print(f'1/{d} = {div}')"
   ]
  },
  {
   "cell_type": "markdown",
   "id": "66c9c40a",
   "metadata": {},
   "source": [
    "Note que no exemplo acima não tem problema estarmos atribuindo valor pra ```div``` apenas no bloco ```try```. Ela só será usada no ```else```, ou seja, só será usada se tudo deu certo.\n",
    "\n",
    "**Nota:** várias linguagens possuem construções equivalentes ao ```try```/```except``` (este último frequentemente vira ```catch```), bem como ao ```finally``` e o ```raise``` (frequentemente ```throw``` em outras linguagens), que serão estudados já já. Mas o ```else``` na construção é bastante atípico e na maioria das linguagens ele realmente só serve para blocos condicionais. Por conta disso, é um pouco mais raro de vê-lo sendo usado nesse contexto."
   ]
  },
  {
   "cell_type": "markdown",
   "id": "97c9bc07",
   "metadata": {},
   "source": [
    "## Limpando a bagunça: ```finally```\n",
    "\n",
    "Muitas vezes um erro pode ocorrer quando já realizamos diversas operações. Dentre essas operações, podemos ter solicitado recursos, como por exemplo abrir um arquivo, estabelecer uma conexão com a internet ou alocar uma grande faixa de memória.\n",
    "\n",
    "O que aconteceria, por exemplo, se um comando como ```return``` aparecesse durante o tratamento desse erro após termos solicitado tantos recursos diferentes? O arquivo ficaria aberto, a conexão ficaria aberta, memória seria desperdiçada etc.\n",
    "\n",
    "O ```finally``` serve garante um local seguro para colocarmos código de limpeza - ou seja, devolver recursos que não serão mais utilizados: fechar arquivos, fechar conexões com servidor etc.\n",
    "\n",
    "Ele **sempre** será executado após um bloco ```try```/```except```, **mesmo que haja um return no caminho**.\n",
    "\n",
    "Veja o exemplo abaixo para entender o que queremos dizer:"
   ]
  },
  {
   "cell_type": "code",
   "execution_count": 3,
   "id": "f4b41af9",
   "metadata": {},
   "outputs": [
    {
     "name": "stdout",
     "output_type": "stream",
     "text": [
      "Opa\n",
      "1.0\n",
      "Opa\n",
      "infinito\n"
     ]
    }
   ],
   "source": [
    "def teste(den):\n",
    "    try:\n",
    "        x = 1/den\n",
    "        return x\n",
    "    except:\n",
    "        return 'infinito'\n",
    "    finally:\n",
    "        print('Opa')\n",
    "\n",
    "print(teste(1))\n",
    "print(teste(0))\n"
   ]
  },
  {
   "cell_type": "markdown",
   "id": "fbc150db",
   "metadata": {},
   "source": [
    "Note que o conteúdo do bloco ```finally``` foi executado em ambas as chamadas, mesmo havendo um ```return``` dentro do ```try``` e outro dentro do ```except```. Antes de sair da função e retornar o valor, o Python é obrigado a desviar a execução para o bloco ```finally``` e executar seu conteúdo.\n",
    "\n",
    "Vejamos um exemplo mais completo: um bloco ```try```/```except``` tentará criar um arquivo. Dentro do ```try```, teremos um bloco ```try```/```except```/```finally```. O ```try``` tentará escrever algumas operações matemáticas no arquivo, o ```except``` exibirá uma mensagem caso uma operação seja inválida, e o ```finally``` garantirá que o arquivo será fechado **independentemente de um erro ter ou não ocorrido**."
   ]
  },
  {
   "cell_type": "code",
   "execution_count": null,
   "id": "14475f20",
   "metadata": {},
   "outputs": [],
   "source": [
    "def escreve_arquivo(nome_do_arquivo, denominador):\n",
    "    try:\n",
    "        arq = open(nome_do_arquivo, 'w')\n",
    "        \n",
    "        try:\n",
    "            div = 1/denominador\n",
    "            arq.write(str(div))\n",
    "            return f'O número {div} foi escrito no arquivo.'\n",
    "        \n",
    "        except ZeroDivisionError:\n",
    "            return 'Divisão por zero, não escrevemos no arquivo.'\n",
    "\n",
    "        except TypeError:        \n",
    "            return 'Tipo inválido, não escreveremos no arquivo.'\n",
    "\n",
    "        except:\n",
    "            return 'Erro desconhecido, não escreveremos no arquivo.'\n",
    "        \n",
    "        finally:\n",
    "            print(f'Fechando o arquivo {nome_do_arquivo}')\n",
    "            arq.close() # o arquivo SEMPRE será fechado, mesmo que ocorra erro!\n",
    "            \n",
    "    \n",
    "    except:\n",
    "        return 'Não foi possível abrir o arquivo'\n",
    "    \n",
    "    \n",
    "print(escreve_arquivo('teste1.txt', 1))\n",
    "print(escreve_arquivo('teste2.txt', 0))"
   ]
  },
  {
   "cell_type": "markdown",
   "id": "095f726d",
   "metadata": {},
   "source": [
    "## Levantando nossas próprias exceções\n",
    "\n",
    "Quando estamos criando nossos próprios módulos, classes ou funções, muitas vezes vamos nos deparar com situações inválidas. Imprimir uma mensagem de erro não é uma boa ideia, pois o programa pode estar rodando em um servidor, pode ter uma interface gráfica etc.\n",
    "\n",
    "Logo, o ideal seria lançarmos exceções para sinalizar essas situações. Desta forma, se elas forem ignoradas, o programa irá parar, sinalizando para o programador que existe alguma situação que deveria ser tratada. Adicionalmente, podemos criar nossa própria mensagem de erro, sinalizando para o programador que ele deveria fazer algo a respeito.\n",
    "\n",
    "Podemos utilizar a palavra ```raise``` seguida de ```Exception()```, passando entre parênteses a nossa mensagem personalizada de erro."
   ]
  },
  {
   "cell_type": "code",
   "execution_count": null,
   "id": "74eac74d",
   "metadata": {},
   "outputs": [],
   "source": [
    "salarios = []\n",
    "\n",
    "def cadastrar_salario(salario):\n",
    "    if salario <= 0:\n",
    "        raise Exception('Salário inválido! Salários devem ser positivos!')\n",
    "    \n",
    "    salarios.append(salario)\n",
    "    \n",
    "cadastrar_salario(10)\n",
    "cadastrar_salario(0)        "
   ]
  },
  {
   "cell_type": "code",
   "execution_count": null,
   "id": "9f037375",
   "metadata": {},
   "outputs": [],
   "source": [
    "print(salarios)"
   ]
  },
  {
   "cell_type": "markdown",
   "id": "65dcb343",
   "metadata": {},
   "source": [
    "Note que na primeira chamada, onde não ocorreu exceção, o salário foi cadastrado na lista (observe o print acima). Já na segunda chamada, nossa função lançou a exceção e parou sua execução.\n",
    "\n",
    "Idealmente, quem pretende utilizar a função deveria fazê-lo agora utilizando ```try```, para manter o programa funcionando e tratar adequadamente o problema."
   ]
  },
  {
   "cell_type": "code",
   "execution_count": 7,
   "id": "25c909b8",
   "metadata": {},
   "outputs": [
    {
     "name": "stdout",
     "output_type": "stream",
     "text": [
      "Opa, salário inválido!\n",
      "[2000.0, 3000.0]\n"
     ]
    }
   ],
   "source": [
    "salarios = []\n",
    "\n",
    "def cadastrar_salario(salario):\n",
    "    if salario <= 0:\n",
    "        raise Exception('Salário inválido! Salários devem ser positivos!')\n",
    "    \n",
    "    salarios.append(salario)\n",
    "    \n",
    "for i in range(3):\n",
    "    salario = float(input('Digite o salário do funcionário: '))\n",
    "    \n",
    "    try:\n",
    "        cadastrar_salario(salario)\n",
    "    except:\n",
    "        print('Opa, salário inválido!')\n",
    "        \n",
    "print(salarios)\n",
    "        \n"
   ]
  },
  {
   "cell_type": "markdown",
   "metadata": {},
   "source": [
    "# Exercícios\n",
    "\n",
    "O programa abaixo apresenta alguns erros de execução. Sem alterar as estruturas de dados originais (lista e dicionário), faça um tratamento adequado dos erros para exibir as médias corretas de cada aluno ou mensagens de erro significativas para o usuário em português, sem permitir que o programa seja interrompido antes de finalizar sua execução.\n",
    "\n",
    "```python\n",
    "alunos = ['John', 'Paul', 'George', 'Ringo', 'Brian', 'Pete']\n",
    "\n",
    "notas = {\n",
    "    'John':[7.5, 9.0, 8.25, 8.0],\n",
    "    'Paul':[9.0, 8.5, '10.0', 8.5],\n",
    "    'George':[6.0, '7.0', 8.0, 9],\n",
    "    'Ringo':[4.5, 4.0, 6.0, 7.0],\n",
    "    'Pete':[]\n",
    "}\n",
    "\n",
    "for aluno in alunos:\n",
    "    media = sum(notas[aluno])/len(notas[aluno])\n",
    "    print(f'{aluno}:\\t{media}')\n",
    "```"
   ]
  },
  {
   "cell_type": "code",
   "execution_count": 6,
   "id": "60f33aee",
   "metadata": {},
   "outputs": [
    {
     "name": "stdout",
     "output_type": "stream",
     "text": [
      "John:\t8.1875\n",
      "Valor de nota inválido.\n",
      "Valor de nota inválido.\n",
      "Ringo:\t5.375\n",
      "Aluno Brian não encontrado.\n",
      "Não há notas para o aluno Pete.\n"
     ]
    }
   ],
   "source": [
    "alunos = ['John', 'Paul', 'George', 'Ringo', 'Brian', 'Pete']\n",
    "\n",
    "notas = {\n",
    "    'John':[7.5, 9.0, 8.25, 8.0],\n",
    "    'Paul':[9.0, 8.5, '10.0', 8.5],\n",
    "    'George':[6.0, '7.0', 8.0, 9],\n",
    "    'Ringo':[4.5, 4.0, 6.0, 7.0],\n",
    "    'Pete':[]\n",
    "}\n",
    "\n",
    "for aluno in alunos:\n",
    "    try:\n",
    "        media = sum(notas[aluno])/len(notas[aluno])\n",
    "        print(f'{aluno}:\\t{media}')\n",
    "    except TypeError:\n",
    "        print('Valor de nota inválido.')\n",
    "    except KeyError:\n",
    "        print(f'Aluno {aluno} não encontrado.')\n",
    "    except ZeroDivisionError:\n",
    "        print(f'Não há notas para o aluno {aluno}.')\n",
    "\n",
    "    "
   ]
  },
  {
   "cell_type": "markdown",
   "id": "acf980ab",
   "metadata": {},
   "source": [
    "Na aula de **arquivos**, você provavelmente fez o exercício abaixo:\n",
    "\n",
    "> Faça um programa que carrega um arquivo CSV de notas (como o gerado pelo exercício anterior) e pede para o usuário digitar a nota mínima para aprovação. Ele deverá gerar um novo arquivo contendo as notas originais e 2 colunas adicionais: a média de cada aluno na primeira (com, no máximo, 2 casas decimais) e \"APR\" ou \"REP\" na segunda, indicando se a média atingiu o valor mínimo ou não.\n",
    "\n",
    "Vamos tornar nosso programa mais seguro:\n",
    "* Caso alguma nota não possa ser interpretada como float, considere seu valor como sendo zero, exiba uma mensagem de erro informando o usuário sobre o aluno e prova que contém a nota inválida e não interrompa a execução do programa.\n",
    "* Caso alguma nota seja um número válido, mas esteja fora do intervalo entre 0 e 10, considere o valor 0 para a nota, exiba uma mensagem de erro informando o usuário sobre o aluno e prova que contém a nota inválida, explique o intervalo permitido e não interrompa a execução do programa.\n",
    "* Caso não seja possível criar o arquivo para escrever o resultado, exiba uma mensagem em português para o usuário informando o problema e imprima o resultado dos cálculos na tela.\n",
    "* Caso o arquivo original não seja encontrado, você pode deixar que o programa seja interrompido - mas exiba uma mensagem de erro significativa em português para o usuário.\n"
   ]
  },
  {
   "cell_type": "code",
   "execution_count": null,
   "id": "ddfba587",
   "metadata": {},
   "outputs": [],
   "source": [
    "import csv\n",
    "\n",
    "arquivo = open('notas_alunos.csv', 'r')\n",
    "planilha = list(csv.reader(arquivo, delimiter=';', lineterminator='\\n'))\n",
    "arquivo.close()\n",
    "\n",
    "for lista in planilha:\n",
    "    soma_notas = 0\n",
    "    for i in range(len(lista)):\n",
    "        try:\n",
    "            soma_notas += float(lista[i])\n",
    "        except TypeError:\n",
    "            soma_notas += 0\n",
    "            print(f'')\n",
    "    media = round(soma_notas/len(lista),2)\n",
    "    lista.append(media)\n",
    "\n",
    "    if media >= 6: lista.append('APR')\n",
    "    else: lista.append('REP')\n",
    "\n",
    "arquivo_novo = open('aprovados_reprovados.csv', 'w')\n",
    "escritor = csv.writer(arquivo_novo, delimiter=';')\n",
    "escritor.writerows(planilha)\n",
    "arquivo_novo.close()\n"
   ]
  },
  {
   "cell_type": "markdown",
   "id": "dba7eb32",
   "metadata": {},
   "source": [
    "> Os próximos tópicos utilizam alguns conceitos de **Programação Orientada a Objeto**, como classes, objetos, métodos e herança. Ela está aqui para tornar o material mais completo, mas não é esperado que vocês entendam plenamente os conceitos envolvidos neste momento. Porém, caso se sinta confortável, você pode usar os códigos dos próximos tópicos como um _modelo_ para criar suas próprias exceções. "
   ]
  },
  {
   "cell_type": "markdown",
   "id": "5e5281f6",
   "metadata": {},
   "source": [
    "## Criando novas exceções\n",
    "\n",
    "Muitos problemas simples podem ser resolvidos através do ```raise Exception(mensagem)```. Porém, você deve ter notado que o nome da nossa mensagem de erro foi ```Exception```.\n",
    "\n",
    "Exceções geralmente são implementadas através de classes. O \"nome\" dos erros é o nome da classe de cada exceção. Existe uma exceção genérica chamada de ```Exception```. Quando usamos ```raise Exception(mensagem)```, estamos lançando essa exceção genérica junto de uma mensagem de erro personalizada.\n",
    "\n",
    "O problema da nossa abordagem é que por utilizarmos uma exceção genérica não teremos como adicionar um ```except``` específico para nossa mensagem. Vamos criar nossa própria classe para escolher o nome de nosso erro. Exceções personalizadas geralmente **herdam** da classe ```Exception```. Fazemos isso adicionando ```(Exception)``` após o nome de nossa classe.\n",
    "\n",
    "Vamos colocar um construtor que recebe uma mensagem. Podemos definir uma mensagem padrão, caso ninguém passe a mensagem. Em seguida, chamaremos o construtor da superclasse ```(Exception)```. Não se preocupe com os detalhes, veremos isso na aula de herança."
   ]
  },
  {
   "cell_type": "code",
   "execution_count": null,
   "id": "f50f2e67",
   "metadata": {},
   "outputs": [],
   "source": [
    "class SalarioInvalido(Exception):\n",
    "    def __init__(self, message = 'Salários devem ser positivos!'):\n",
    "        self.message = message\n",
    "        super().__init__(self.message)"
   ]
  },
  {
   "cell_type": "markdown",
   "id": "3a4a0d8d",
   "metadata": {},
   "source": [
    "Agora que criamos nossa exceção, podemos lançá-la:"
   ]
  },
  {
   "cell_type": "code",
   "execution_count": null,
   "id": "f951b596",
   "metadata": {},
   "outputs": [],
   "source": [
    "salarios = []\n",
    "\n",
    "def cadastrar_salario(salario):\n",
    "    if salario <= 0:\n",
    "        raise SalarioInvalido()\n",
    "    \n",
    "    salarios.append(salario)\n",
    "    \n",
    "cadastrar_salario(0)"
   ]
  },
  {
   "cell_type": "markdown",
   "id": "5541d3d5",
   "metadata": {},
   "source": [
    "Agora sim temos um erro com seu próprio nome e uma mensagem padrão. Mas note que quem está usando a nossa exceção pode personalizar a mensagem se quiser, basta passar uma mensagem diferente entre parênteses. O tipo do erro ainda será o mesmo e ambos deverão ser identificados como ```SalarioInvalido``` no ```Except```."
   ]
  },
  {
   "cell_type": "code",
   "execution_count": null,
   "id": "cf710e94",
   "metadata": {},
   "outputs": [],
   "source": [
    "salarios = []\n",
    "\n",
    "def cadastrar_salario(salario):\n",
    "    if salario <= 0:\n",
    "        raise SalarioInvalido('Deixa de ser mão-de-vaca e pague seus funcionários!')\n",
    "    \n",
    "    salarios.append(salario)\n",
    "    \n",
    "cadastrar_salario(0)"
   ]
  },
  {
   "cell_type": "markdown",
   "id": "03acc2d5",
   "metadata": {},
   "source": [
    "Bom, para finalizar, vale sempre lembrar que podemos tratar essa exceção específica:\n",
    "\n"
   ]
  },
  {
   "cell_type": "code",
   "execution_count": null,
   "id": "66205572",
   "metadata": {},
   "outputs": [],
   "source": [
    "salarios = []\n",
    "\n",
    "def cadastrar_salario(salario):\n",
    "    if salario <= 0:\n",
    "        raise SalarioInvalido()\n",
    "    \n",
    "    salarios.append(salario)\n",
    "    \n",
    "for i in range(3):\n",
    "    salario = float(input('Digite o salário do funcionário: '))\n",
    "    \n",
    "    try:\n",
    "        cadastrar_salario(salario)\n",
    "    except SalarioInvalido:\n",
    "        print('Nosso RH é uma vergonha :(')\n",
    "    except:\n",
    "        print('Exceção genérica lalala')\n",
    "        \n",
    "print(salarios)"
   ]
  },
  {
   "cell_type": "markdown",
   "id": "6e25e8aa",
   "metadata": {},
   "source": [
    "## Colocando informações adicionais em nossa exceção\n",
    "\n",
    "É possível uma exceção trazer consigo informações sobre o valor que provocou erro. Por exemplo, seria útil que a nossa ```SalarioInvalido``` pudesse informar qual foi o salário inválido. Isso é útil, por exemplo, em _logs_ que registram tudo o que ocorreu no programa e traria informações importantes para o _debugging_ do código depois.\n",
    "\n",
    "Para isso, basta ajustar o construtor da classe de sua exceção:"
   ]
  },
  {
   "cell_type": "code",
   "execution_count": null,
   "id": "420dff8f",
   "metadata": {},
   "outputs": [],
   "source": [
    "class SalarioInvalido(Exception):\n",
    "    def __init__(self, salario, mensagem='Salários devem ser positivos!'):\n",
    "        self.salario = salario\n",
    "        self.message = mensagem\n",
    "        super().__init__(self.message)"
   ]
  },
  {
   "cell_type": "markdown",
   "id": "37deafc9",
   "metadata": {},
   "source": [
    "Agora, na hora de lançar a exceção, devemos passar o salário:"
   ]
  },
  {
   "cell_type": "code",
   "execution_count": null,
   "id": "174febbb",
   "metadata": {},
   "outputs": [],
   "source": [
    "salarios = []\n",
    "\n",
    "def cadastrar_salario(salario):\n",
    "    if salario <= 0:\n",
    "        raise SalarioInvalido(salario)\n",
    "    \n",
    "    salarios.append(salario)"
   ]
  },
  {
   "cell_type": "markdown",
   "id": "0e22f103",
   "metadata": {},
   "source": [
    "Por fim, na hora de tratar a exceção, podemos dar um _alias_ (um \"apelido\") para ela utilizando a palavrinha ```as```. Através desse apelido, podemos acessar seus atributos.\n",
    "\n",
    "Note que imprimir o objeto faz com que sua mensagem seja impressa."
   ]
  },
  {
   "cell_type": "code",
   "execution_count": null,
   "id": "2f692be5",
   "metadata": {},
   "outputs": [],
   "source": [
    "for i in range(3):\n",
    "    salario = float(input('Digite o salário do funcionário: '))\n",
    "    \n",
    "    try:\n",
    "        cadastrar_salario(salario)\n",
    "    except SalarioInvalido as excecao:\n",
    "        print(excecao) # \"Salários devem ser positivos!\"\n",
    "        print(f'O salário problemático foi: {excecao.salario}')        \n",
    "    except:\n",
    "        print('Exceção genérica lalala')\n",
    "        \n",
    "print(salarios)"
   ]
  },
  {
   "cell_type": "markdown",
   "id": "562bf7a0",
   "metadata": {},
   "source": [
    "## ~~Finally~~ Finalmente..."
   ]
  },
  {
   "cell_type": "markdown",
   "id": "a59729ec",
   "metadata": {},
   "source": [
    "O tópico parece extenso, mas é bastante simples e você irá usar apenas o que precisar. \n",
    "\n",
    "Como usuário de um módulo, você deverá saber se existem situações onde ele pode lançar exceções, e neste caso usar o ```try```/```exception``` para tratá-las.\n",
    "\n",
    "Caso haja necessidade de dar tratamentos diferentes para exceções diferentes, você pode utilizar múltiplos ```except```, mas isso é totalmente opcional.\n",
    "\n",
    "No ```except``` você também pode usar o ```as``` para apelidar sua exceção e, assim, acessar seus atributos caso necessário.\n",
    "\n",
    "Caso haja necessidade de realizar qualquer \"limpeza\", como fechar arquivos e conexões, você pode usar o ```finally```.\n",
    "\n",
    "---\n",
    "\n",
    "Como criador de módulos, é útil lançar exceções sempre que você encontrar uma situação onde você acredita que uma tarefa deveria ser abandonada porque algum valor ou situação errada ocorreu. Nunca sinalize essas situações com um ```print```, sempre prefira utilizar o ```raise``` para lançar exceções, pois elas irão aparecer no terminal assim como o ```print```, mas também irão aparecer em logs e podem ser detectadas em código.\n",
    "\n",
    "Caso você deseje criar exceções específicas para situações específicas, crie uma classe herdeira de ```Exception``` e não se esqueça de invocar o ```super().__init__``` passando sua mensagem. Nessa classe você pode personalizar mensagens e até mesmo armazenar informações úteis sobre o erro."
   ]
  },
  {
   "cell_type": "code",
   "execution_count": null,
   "id": "604db649",
   "metadata": {},
   "outputs": [],
   "source": []
  }
 ],
 "metadata": {
  "interpreter": {
   "hash": "d8c2dbe515bb1e132c806da356eed840d95260b43840da4c22c4a5911b708884"
  },
  "kernelspec": {
   "display_name": "Python 3.10.4 64-bit (windows store)",
   "language": "python",
   "name": "python3"
  },
  "language_info": {
   "codemirror_mode": {
    "name": "ipython",
    "version": 3
   },
   "file_extension": ".py",
   "mimetype": "text/x-python",
   "name": "python",
   "nbconvert_exporter": "python",
   "pygments_lexer": "ipython3",
   "version": "3.10.4"
  }
 },
 "nbformat": 4,
 "nbformat_minor": 5
}

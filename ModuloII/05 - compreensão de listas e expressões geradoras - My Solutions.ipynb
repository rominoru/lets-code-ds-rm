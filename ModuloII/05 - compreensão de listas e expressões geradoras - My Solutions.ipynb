{
 "cells": [
  {
   "cell_type": "markdown",
   "metadata": {},
   "source": [
    "# Compreensão de listas e expressões geradoras\n",
    "\n",
    "Muito do que estudamos até o momento em Python pode ser reproduzido de maneira muito parecida em outras linguagens. Comandos como if, else, while e for, bem como conceitos como criar funções, passar parâmetros e retornar valores são comuns a uma infinidade de linguagens de programação.\n",
    "\n",
    "Porém, um dos objetivos da linguagem Python é realizar o máximo possível de trabalho com a menor quantidade possível de código, resultando em um código mais limpo e com menos efeitos colaterais. \n",
    "\n",
    "Com isso, o Python traz maneiras diferentes e mais enxutas de resolver problemas que já lidávamos bem utilizando outras técnicas. Parte dessas técnicas foi inspirada em conceitos de **programação funcional**, que será explicada um pouco melhor em uma aula futura.\n",
    "\n",
    "As **compreensões de listas** e **expressões geradoras** são algumas dessas ferramentas."
   ]
  },
  {
   "cell_type": "markdown",
   "metadata": {},
   "source": [
    "## Compreensão de listas\n",
    "\n",
    "Vamos considerar um probleminha simples: montar uma lista com os quadrados dos números de 1 até 10. Você provavelmente resolveria esse problema da seguinte maneira:"
   ]
  },
  {
   "cell_type": "code",
   "execution_count": null,
   "metadata": {},
   "outputs": [],
   "source": [
    "quadrados = []\n",
    "\n",
    "for x in range(1, 11):\n",
    "    quadrados.append(x**2)\n",
    "\n",
    "print(quadrados)\n",
    "print(x)"
   ]
  },
  {
   "cell_type": "markdown",
   "metadata": {},
   "source": [
    "Note que utilizamos 3 linhas de código para criar uma lista: uma para declarar uma lista, uma para percorrer alguns valores e uma para executar o cálculo e adicionar o resultado à lista.\n",
    "\n",
    "Além disso, criamos uma variável extra, ```x```, que segue existindo em nosso programa mesmo após o loop, como você pode observar pelo segundo ```print``` do exemplo.\n",
    "\n",
    "A **compreensão de listas** resolve todos esses problemas: iremos resumir em uma única linha a criação da nova lista já com todos os valores desejados, e sem variáveis *sobrando* após a execução:"
   ]
  },
  {
   "cell_type": "code",
   "execution_count": null,
   "metadata": {},
   "outputs": [],
   "source": [
    "quadrados_compreensao = [num**2 for num in range(1, 11)]\n",
    "\n",
    "print(quadrados_compreensao)"
   ]
  },
  {
   "cell_type": "markdown",
   "metadata": {},
   "source": [
    "Note que a variável ```x``` criada na versão extensa ainda existe. A variável ```num``` utilizada na compreensão, não:"
   ]
  },
  {
   "cell_type": "code",
   "execution_count": null,
   "metadata": {},
   "outputs": [],
   "source": [
    "print('x:', x)\n",
    "print('num:', num)"
   ]
  },
  {
   "cell_type": "markdown",
   "metadata": {},
   "source": [
    "Vale destacar que você não precisa necessariamente utilizar ```range``` em suas compreensões. Você pode utilizar **qualquer** tipo de iterável, como listas, tuplas, strings etc.\n",
    "\n",
    "O exemplo abaixo monta uma lista contendo a metade do valor de cada elemento de uma outra lista:"
   ]
  },
  {
   "cell_type": "code",
   "execution_count": null,
   "metadata": {},
   "outputs": [],
   "source": [
    "numeros = [1, 9, 4, 7, 6, 2]\n",
    "\n",
    "metades = [n/2 for n in numeros]\n",
    "\n",
    "print(metades)"
   ]
  },
  {
   "cell_type": "markdown",
   "metadata": {},
   "source": [
    "### Condicionais em compreensões\n",
    "\n",
    "Podemos utilizar compreensões em nossas condicionais. Imagine que no exemplo anterior não pudéssemos aceitar valores \"quebrados\", e para isso não iremos dividir números ímpares, apenas pares. Podemos colocar um ```if``` na expressão:"
   ]
  },
  {
   "cell_type": "code",
   "execution_count": null,
   "metadata": {},
   "outputs": [],
   "source": [
    "metades_pares = [n/2 for n in numeros if n % 2 == 0 ]\n",
    "print(metades_pares)"
   ]
  },
  {
   "cell_type": "markdown",
   "metadata": {},
   "source": [
    "Podemos também utilizar ```else``` na expressão. Vejamos mais um exemplo e em seguida generalizaremos a sintaxe das compreensões de lista. \n",
    "\n",
    "Considere que vamos, sim, aceitar números quebrados no exemplo das metades. Porém, não queremos utilizar o tipo float desnecessariamente. Portanto, faremos uma divisão **inteira** quando o número for par (para que o resultado seja int) e uma divisão **real** quando o número for ímpar (para que o resultado seja float). A expressão ficaria assim:"
   ]
  },
  {
   "cell_type": "code",
   "execution_count": null,
   "metadata": {},
   "outputs": [],
   "source": [
    "metades_tipo = [n//2 if n % 2 == 0 else n/2 for n in numeros]\n",
    "\n",
    "print(metades_tipo)"
   ]
  },
  {
   "cell_type": "markdown",
   "metadata": {},
   "source": [
    "Note que quando colocamos o ```else```, a ordem da compreensão sofreu uma alteração. Quando era apenas ```if```, ele vinha após o ```for```. Com o ```else```, ambos vem antes.\n",
    "\n",
    "Outro ponto importante é que no caso do ```else``` passamos a ter uma segunda expressão. Quando a condição do ```if``` é verdadeira, a compreensão irá executar a expressão original. Caso contrário, ele irá executar a expressão do ```else```.\n",
    "\n",
    "Resumindo as combinações possíveis:\n",
    "\n",
    "```py\n",
    "lista = [expressao for item in colecao]\n",
    "\n",
    "# equivale a:\n",
    "\n",
    "for item in colecao:\n",
    "    lista.append(expressao)\n",
    "```\n",
    "---\n",
    "\n",
    "```py\n",
    "[expressao for item in colecao if condicao]\n",
    "\n",
    "# equivale a:\n",
    "\n",
    "for item in colecao:\n",
    "    if condicao:\n",
    "        lista.append(expressao)\n",
    "```\n",
    "\n",
    "---\n",
    "\n",
    "```py\n",
    "[expressao if condicao else expressao_alternativa for item in colecao] \n",
    "\n",
    "# equivale a:\n",
    "\n",
    "for item in colecao:\n",
    "    if condicao:\n",
    "        lista.append(expressao)\n",
    "    else:\n",
    "        lista.append(expressao_alternativa)\n",
    "```\n",
    "\n",
    "### Aninhando compreensões\n",
    "\n",
    "É possível aninhar compreensões de lista. Ao colocarmos mais de um ```for``` consecutivo, o primeiro for será considerado o mais externo, e o seguinte, mais interno. O exemplo abaixo mostra todas as combinações possíveis entre alguns nomes e sobrenomes:"
   ]
  },
  {
   "cell_type": "code",
   "execution_count": null,
   "metadata": {},
   "outputs": [],
   "source": [
    "nomes = ['Ana', 'Bruno', 'Carla', 'Daniel', 'Emília']\n",
    "sobrenomes = ['Silva', 'Oliveira']\n",
    "\n",
    "combinacoes = [nome + ' ' + sobrenome for nome in nomes for sobrenome in sobrenomes]\n",
    "print(combinacoes)"
   ]
  },
  {
   "cell_type": "markdown",
   "metadata": {},
   "source": [
    "Inclusive podemos utilizar essa forma para trabalhar com matrizes. O exemplo abaixo lê pelo teclado a quantidade de vitórias, empates e derrotas para cada time em um grupo:"
   ]
  },
  {
   "cell_type": "code",
   "execution_count": null,
   "metadata": {},
   "outputs": [],
   "source": [
    "times = ['Atlético Python', 'JavaScript United', 'C Seniors', 'Javeiros do Norte']\n",
    "entradas = ['V', 'E', 'D']\n",
    "\n",
    "tabela = [[int(input(f'Digite a quantidade de {tipo} do time {time}')) for tipo in entradas] for time in times]\n",
    "\n",
    "print(tabela)"
   ]
  },
  {
   "cell_type": "markdown",
   "metadata": {},
   "source": [
    "### Compreensão de dicionários\n",
    "\n",
    "Da mesma forma que utilizamos compreensão para listas, podemos utilizá-la para dicionários. A diferença é que precisamos, obrigatoriamente, passar um par chave-valor. O exemplo abaixo parte de uma lista de notas e uma lista de alunos e chega em um dicionário associando cada aluno a uma nota.\n",
    "\n"
   ]
  },
  {
   "cell_type": "code",
   "execution_count": null,
   "metadata": {},
   "outputs": [],
   "source": [
    "alunos = ['Ana', 'Bruno', 'Carla', 'Daniel', 'Emília']\n",
    "medias = [9.0, 8.0, 8.0, 6.5, 7.0]\n",
    "\n",
    "cadastro = {alunos[i]:medias[i] for i in range(len(alunos))}\n",
    "\n",
    "print(cadastro)"
   ]
  },
  {
   "cell_type": "markdown",
   "metadata": {},
   "source": [
    "Talvez você não tenha achado esse código tão *pythonico*, e você tem razão. Não gostamos de percorrer listas por índices dessa maneira. Uma estratégia melhor é utilizar o *zip*. Vejamos um exemplo para entender o que o *zip* faz com listas.\n",
    "Execute o código abaixo:"
   ]
  },
  {
   "cell_type": "code",
   "execution_count": null,
   "metadata": {},
   "outputs": [],
   "source": [
    "alunos = ['Ana', 'Bruno', 'Carla', 'Daniel', 'Emília']\n",
    "medias = [9.0, 8.0, 8.0, 6.5, 7.0]\n",
    "\n",
    "zip_alunos = zip(alunos, medias)\n",
    "\n",
    "for item in zip_alunos:\n",
    "    print(item)"
   ]
  },
  {
   "cell_type": "markdown",
   "metadata": {},
   "source": [
    "O *zip* montou uma coleção onde cada elemento é uma tupla contendo um elemento da primeira lista associado ao elemento da mesma posição na segunda lista. Utilizando o nosso bom e velho *tuple unpacking*, podemos tirar proveito disso para percorrer duas listas em paralelo:"
   ]
  },
  {
   "cell_type": "code",
   "execution_count": null,
   "metadata": {},
   "outputs": [],
   "source": [
    "for a, m in zip(alunos, medias):\n",
    "    print(f'Aluno: {a}\\t | Média:{m}')"
   ]
  },
  {
   "cell_type": "markdown",
   "metadata": {},
   "source": [
    "Vamos refazer nossa compreensão de dicionários para ser mais *Pythonica*:"
   ]
  },
  {
   "cell_type": "code",
   "execution_count": null,
   "metadata": {},
   "outputs": [],
   "source": [
    "alunos = ['Ana', 'Bruno', 'Carla', 'Daniel', 'Emília']\n",
    "medias = [9.0, 8.0, 8.0, 6.5, 7.0]\n",
    "\n",
    "cadastro = {aluno:media for aluno,media in zip(alunos, medias)}\n",
    "\n",
    "print(cadastro)"
   ]
  },
  {
   "cell_type": "markdown",
   "metadata": {},
   "source": [
    "## Expressões geradoras\n",
    "\n",
    "Se você executar o código abaixo, não notará nenhum erro de execução. Ambas as linhas executam com sucesso:"
   ]
  },
  {
   "cell_type": "code",
   "execution_count": 1,
   "metadata": {},
   "outputs": [],
   "source": [
    "colchetes = [x for x in range(10)]\n",
    "\n",
    "parenteses = (x for x in range(10))"
   ]
  },
  {
   "cell_type": "markdown",
   "metadata": {},
   "source": [
    "Listas são representadas por colchetes, e fazemos compreensão de listas utilizando colchetes. Dicionários utilizam chaves (**{** e **}**), e utilizamos chaves para fazer compreensão de dicionários. A expressão entre parênteses só pode ser uma tupla, certo?"
   ]
  },
  {
   "cell_type": "code",
   "execution_count": 2,
   "metadata": {},
   "outputs": [
    {
     "name": "stdout",
     "output_type": "stream",
     "text": [
      "{0, 1, 2, 3, 4, 5, 6, 7, 8, 9}\n",
      "<class 'set'>\n",
      "<generator object <genexpr> at 0x00000182938AD4D0>\n",
      "<class 'generator'>\n"
     ]
    }
   ],
   "source": [
    "print(colchetes)\n",
    "print(type(colchetes))\n",
    "\n",
    "print(parenteses)\n",
    "print(type(parenteses))"
   ]
  },
  {
   "cell_type": "markdown",
   "metadata": {},
   "source": [
    "Não existe compreensão de tuplas em Python. Quando colocamos uma expressão semelhante a uma compreensão de lista entre colchetes, estamos criando uma expressão geradora. Note que podemos iterar uma expressão geradora:"
   ]
  },
  {
   "cell_type": "code",
   "execution_count": 3,
   "metadata": {},
   "outputs": [
    {
     "name": "stdout",
     "output_type": "stream",
     "text": [
      "0\n",
      "1\n",
      "64\n",
      "4\n",
      "36\n",
      "9\n",
      "16\n",
      "49\n",
      "81\n",
      "25\n"
     ]
    }
   ],
   "source": [
    "gerador_quadrados = (x**2 for x in range(10))\n",
    "\n",
    "for quadrado in gerador_quadrados:\n",
    "    print(quadrado)"
   ]
  },
  {
   "cell_type": "markdown",
   "metadata": {},
   "source": [
    "Também podemos convertê-lo para outras estruturas, como uma lista ou uma tupla:"
   ]
  },
  {
   "cell_type": "code",
   "execution_count": null,
   "metadata": {},
   "outputs": [],
   "source": [
    "gerador_impares = (x for x in range(20) if x % 2 == 1)\n",
    "\n",
    "lista_impares = list(gerador_impares)\n",
    "\n",
    "print(lista_impares)"
   ]
  },
  {
   "cell_type": "markdown",
   "metadata": {},
   "source": [
    "Porém, não podemos utilizar nosso gerador uma segunda vez. Vamos tentar:"
   ]
  },
  {
   "cell_type": "code",
   "execution_count": 4,
   "metadata": {},
   "outputs": [
    {
     "name": "stdout",
     "output_type": "stream",
     "text": [
      "0\n",
      "1\n",
      "64\n",
      "4\n",
      "36\n",
      "9\n",
      "16\n",
      "49\n",
      "81\n",
      "25\n",
      "[0, 1, 64, 4, 36, 9, 16, 49, 81, 25]\n"
     ]
    }
   ],
   "source": [
    "gerador_quadrados = (x**2 for x in range(10))\n",
    "\n",
    "for quadrado in gerador_quadrados:\n",
    "    print(quadrado)\n",
    "\n",
    "lista_quadrados = list(gerador_quadrados)\n",
    "print(lista_quadrados)"
   ]
  },
  {
   "cell_type": "markdown",
   "metadata": {},
   "source": [
    "Para entender porque a lista saiu vazia, precisamos entender a diferença entre um **iterável** e um **iterador** em Python.\n",
    "\n",
    "### Iteráveis e iteradores\n",
    "\n",
    "Um **iterável** é um objeto em Python que podemos percorrer utilizando um loop. Geralmente pensamos em iteráveis como algum tipo de coleção. Listas, tuplas, dicionários e strings são todos iteráveis.\n",
    "\n",
    "Porém, o que o loop realmente utiliza não é o iterável, mas o **iterador**. Quando tentamos percorrer um iterável, é criado um iterador a partir dele utilizando a função ```iter```. Em cada passo da iteração (do loop), a função ```next``` é chamada, e ela irá retornar o próximo elemento. Quando os elementos são esgotados, ela irá lançar a exceção ```StopIteration```.\n",
    "\n",
    "Veja o exemplo abaixo:"
   ]
  },
  {
   "cell_type": "code",
   "execution_count": null,
   "metadata": {},
   "outputs": [],
   "source": [
    "lista = [1, 3, 5]\n",
    "\n",
    "iterador = iter(lista)\n",
    "\n",
    "print(iterador)\n",
    "\n",
    "print(next(iterador))\n",
    "print(next(iterador))\n",
    "print(next(iterador))\n",
    "print(next(iterador))"
   ]
  },
  {
   "cell_type": "markdown",
   "metadata": {},
   "source": [
    "Uma diferença fundamental entre um **iterável** e um **iterador** é que o iterador já possui todos os exemplos salvos em algum lugar. O iterável não. Ele irá gerar/buscar cada elemento no momento que a função ```next``` é chamada, e ele não irá salvar os elementos anteriores.\n",
    "\n",
    "Uma expressão geradora não é um **iterável**, ela é um **iterador**. Uma lista é um **iterável**.\n",
    "\n",
    "Ou seja, quando nós fazemos uma compreensão de lista, a expressão é avaliada na mesma hora e todos os elementos são gerados e salvos na memória.\n",
    "\n",
    "Quando utilizamos uma expressão geradora, cada elemento é gerado apenas quando solicitado, e os elementos não ficam salvos.\n",
    "\n"
   ]
  },
  {
   "cell_type": "code",
   "execution_count": null,
   "metadata": {},
   "outputs": [],
   "source": [
    "gerador = (x for x in range(5))\n",
    "\n",
    "print(next(gerador))\n",
    "print(next(gerador))\n",
    "print(next(gerador))\n",
    "print(next(gerador))\n",
    "print(next(gerador))\n",
    "#print(next(gerador)) # essa linha provoca uma exceção"
   ]
  },
  {
   "cell_type": "markdown",
   "metadata": {},
   "source": [
    "Podemos utilizar expressões geradoras quando:\n",
    "\n",
    "* Iremos trabalhar com uma base de dados tão grande que a geração da lista pode ser excessivamente lenta ou consumir memória demais.\n",
    "* Quando desejamos obter dados infinitos (uma sequência numérica sem fim, ou então um *stream* de dados que pode estar chegando por um sensor ou pela internet, por exemplo).\n",
    "* Quando sabemos com certeza absoluta que só precisaremos iterar uma única vez por cada elemento e não precisaremos deles posteriormente.\n",
    "\n",
    "Caso você precise dos dados mais de uma vez, a expressão geradora deixa de ser atrativa e compensa mais utilizar compreensão de listas.\n"
   ]
  },
  {
   "cell_type": "markdown",
   "metadata": {},
   "source": [
    "## Funções geradoras\n",
    "\n",
    "Expressões geradoras são uma forma compacta para criar iteradores. Uma das formas mais completas envolve utilizar programação orientada a objeto para definir uma classe com alguns métodos específicos para que os objetos se comportem como geradores. A outra envolve utilizar uma função geradora.\n",
    "\n",
    "Funções geradoras lembram bastante funções convencionais, mas ao invés de ```return``` elas utilizarão a palavra ```yield```. \n",
    "\n",
    "A função irá retornar um iterador, e iremos sempre chamar ```next``` passando esse gerador.\n",
    "\n",
    "Cada vez que o ```next``` for chamado, o iterador irá executar a função até encontrar o ```yield```. O estado da função é salvo e o valor do ```yield``` é retornado. Quando chamarmos ```next``` novamente, a função irá executar do ponto que parou até encontrar novamente o ```yield```. Quando não houver mais ```yield```, a exceção ```StopIteraction``` será lançada.\n",
    "\n",
    "Vejamos um exemplo:"
   ]
  },
  {
   "cell_type": "code",
   "execution_count": null,
   "metadata": {},
   "outputs": [],
   "source": [
    "def funcao_geradora():\n",
    "    yield 1\n",
    "    yield 3\n",
    "    yield 5\n",
    "\n",
    "meu_gerador = funcao_geradora()\n",
    "\n",
    "print(next(meu_gerador))\n",
    "print(next(meu_gerador))\n",
    "print(next(meu_gerador))\n",
    "print(next(meu_gerador))"
   ]
  },
  {
   "cell_type": "markdown",
   "metadata": {},
   "source": [
    "A nossa função geradora pode, inclusive, ter malhas de repetição:"
   ]
  },
  {
   "cell_type": "code",
   "execution_count": 4,
   "metadata": {},
   "outputs": [
    {
     "name": "stdout",
     "output_type": "stream",
     "text": [
      "0\n",
      "1\n",
      "2\n",
      "3\n",
      "4\n",
      "5\n",
      "6\n",
      "7\n",
      "8\n",
      "9\n",
      "Chegou no fim!\n"
     ]
    }
   ],
   "source": [
    "def gerador_de_sequencia(limite:int):\n",
    "    contador = 0\n",
    "    while contador < limite:\n",
    "        yield contador\n",
    "        contador += 1\n",
    "\n",
    "iterador_sequencia = gerador_de_sequencia(10)\n",
    "\n",
    "while True:\n",
    "    try:\n",
    "        print(next(iterador_sequencia))\n",
    "    except StopIteration:\n",
    "        print('Chegou no fim!')\n",
    "        break"
   ]
  },
  {
   "cell_type": "markdown",
   "metadata": {},
   "source": [
    "> \n",
    "> **Observação:** se você tentou fazer uma compreensão de dicionário e esqueceu de utilizar um par chave-valor, talvez você tenha se surpreendido ao notar que não deu erro. Isso ocorre porque existe *outra* estrutura de dados em Python que não estudamos no curso que utiliza os símbolos **{** e **}**: o ```set``` (conjunto). Ele é uma coleção **mutável** de elementos (como a lista), mas ele não possui índice (porque a ordem não importa) e ele não aceita elementos repetidos. Caso tenha curiosidade, segue material de referência com o básico de como trabalhar com conjuntos: https://www.programiz.com/python-programming/set\n",
    "> "
   ]
  },
  {
   "cell_type": "markdown",
   "metadata": {},
   "source": [
    "Caso tenha interesse em se aprofundar nos assuntos de hoje e ver alguns experimentos envolvendo tamanho e performance de cada um, segue algumas boas referências:\n",
    "\n",
    ">https://djangostars.com/blog/list-comprehensions-and-generator-expressions/\n",
    ">\n",
    ">https://towardsdatascience.com/comprehensions-and-generator-expression-in-python-2ae01c48fc50\n",
    ">\n",
    ">https://docs.python.org/3/howto/functional.html#generator-expressions-and-list-comprehensions"
   ]
  },
  {
   "cell_type": "markdown",
   "metadata": {},
   "source": [
    "# Exercícios\n",
    "\n",
    "> Nos exercícios mais simples, que consistem apenas em gerar uma lista ou dicionário, utilize necessariamente compreensão de lista/dicionário. Em exercícios com instruções mais específicas, siga as instruções. Em exercícios de geradores, fique à vontade para usar expressões geradoras ou funções geradoras, mas tenha em mente que nem todas as tarefas podem ser reduzidas a uma expressão geradora. \n",
    "\n",
    "---\n",
    "\n",
    "Um professor precisou anular uma questão de uma prova. Faça uma função que recebe a lista de notas da turma, o valor da questão e soma esse valor em todas as notas."
   ]
  },
  {
   "cell_type": "code",
   "execution_count": null,
   "metadata": {},
   "outputs": [],
   "source": [
    "def soma_valor(lista_de_notas, valor_questao):\n",
    "    return [nota + valor_questao for nota in lista_de_notas]"
   ]
  },
  {
   "cell_type": "markdown",
   "metadata": {},
   "source": [
    "Faça uma função que recebe uma lista de números e retorna uma lista contendo os cubos dos números pares."
   ]
  },
  {
   "cell_type": "code",
   "execution_count": 7,
   "metadata": {},
   "outputs": [
    {
     "name": "stdout",
     "output_type": "stream",
     "text": [
      "[8, 64, 216]\n"
     ]
    }
   ],
   "source": [
    "def cubos_dos_pares(lista):\n",
    "    return [numero**3 for numero in lista if numero %2 == 0 ]\n",
    "\n",
    "print(cubos_dos_pares([1, 2, 3, 4, 5, 6, 7]))"
   ]
  },
  {
   "cell_type": "markdown",
   "metadata": {},
   "source": [
    "Faça uma função que recebe uma lista de números e retorna uma lista contendo os cubos dos números positivos e o quadrado dos números negativos."
   ]
  },
  {
   "cell_type": "code",
   "execution_count": 8,
   "metadata": {},
   "outputs": [
    {
     "name": "stdout",
     "output_type": "stream",
     "text": [
      "[25, 784, 0, 8, 2985984, 175616]\n"
     ]
    }
   ],
   "source": [
    "def potencias(lista):\n",
    "    return [numero**3 if numero > 0 else numero ** 2 for numero in lista]\n",
    "print(potencias([-5, -28, 0, 2, 144, 56]))"
   ]
  },
  {
   "cell_type": "markdown",
   "metadata": {},
   "source": [
    "Faça uma função que retorna uma lista contendo apenas float a partir de uma lista contendo variáveis inteiras, float e strings. Exemplo:\n",
    "\n",
    "Entrada: [1, 2.0, '3', 4.0, '5.5', 6]\n",
    "\n",
    "Saída: [1.0, 2.0, 3.0, 4.0, 5.5, 6.0]"
   ]
  },
  {
   "cell_type": "code",
   "execution_count": 10,
   "metadata": {},
   "outputs": [
    {
     "name": "stdout",
     "output_type": "stream",
     "text": [
      "[1.0, 5.0, 4.0, 42.0, 9.0]\n"
     ]
    }
   ],
   "source": [
    "def converte_float(lista):\n",
    "    return [float(item) for item in lista]\n",
    "\n",
    "print(converte_float([1, '5', 4, '42', 9]))"
   ]
  },
  {
   "cell_type": "markdown",
   "metadata": {},
   "source": [
    "Faça uma função que retorna uma lista contendo apenas números a partir de uma lista contendo variáveis inteiras, float e strings. Valores já numéricos **não** devem ter seu tipo alterado, apenas strings. Exemplo:\n",
    "\n",
    "Entrada: [1, 2.0, '3', 4.0, '5.5', 6]\n",
    "\n",
    "Saída: [1, 2.0, 3.0, 4.0, 5.5, 6]"
   ]
  },
  {
   "cell_type": "code",
   "execution_count": 12,
   "metadata": {},
   "outputs": [
    {
     "name": "stdout",
     "output_type": "stream",
     "text": [
      "[1, 5.0, 4.25, 42.0, 9]\n"
     ]
    }
   ],
   "source": [
    "def converte(lista):\n",
    "    return [item if type(item) in [int, float] else float(item) for item in lista]\n",
    "\n",
    "print(converte([1, '5', 4.25, '42', 9]))"
   ]
  },
  {
   "cell_type": "markdown",
   "metadata": {},
   "source": [
    "Faça uma função que recebe uma lista de nomes, uma lista de médias e a nota mínima para aprovação. Ela deverá retornar uma lista com os nomes dos alunos reprovados."
   ]
  },
  {
   "cell_type": "code",
   "execution_count": null,
   "metadata": {},
   "outputs": [],
   "source": [
    "def reprovados(nomes, medias, minimo):\n",
    "    return [nome for nome, media in zip(nomes, medias) if (media < min)]"
   ]
  },
  {
   "cell_type": "markdown",
   "metadata": {},
   "source": [
    "Faça uma função que recebe uma lista de nomes, uma lista de médias e a nota mínima para aprovação. Ela deverá retornar um dicionário contendo os nomes dos alunos e \"APR\" ou \"REP\" indicando a situação de cada um deles."
   ]
  },
  {
   "cell_type": "code",
   "execution_count": null,
   "metadata": {},
   "outputs": [],
   "source": [
    "def reprovados(nomes, medias, minimo):\n",
    "    return {nome:'REP' if (media < min) else 'APR' for nome, media in zip(nomes, medias)}"
   ]
  },
  {
   "cell_type": "markdown",
   "metadata": {},
   "source": [
    "Crie o seu próprio gerador que funcione como o **range**. \n",
    "\n",
    "* Se ele receber 1 parâmetro, considere como valor final (não incluso na sequência). Valor inicial será 0 e passo será 1.\n",
    "* Se ele receber 2 parâmetros, interprete como valor inicial (incluso) e valor final (não incluso), respectivamente. O passo será 1.\n",
    "* Se ele receber 3 parâmetros, interprete como valor inicial (incluso), valor final (não incluso) e passo.\n",
    "* Caso não receba parâmetros, receba mais do que 3 parâmetros ou receba algum parâmetro que não seja **int**, lance uma exceção."
   ]
  },
  {
   "cell_type": "code",
   "execution_count": 120,
   "metadata": {},
   "outputs": [
    {
     "name": "stdout",
     "output_type": "stream",
     "text": [
      "[0, 1, 2, 3, 4, 5, 6, 7, 8, 9]\n",
      "[4, 5, 6, 7, 8, 9]\n",
      "[4, 6, 8]\n",
      "[10, 9, 8, 7, 6, 5]\n"
     ]
    }
   ],
   "source": [
    "def proprio_range(num_1 = None, num_2 = 0, passo = 1, *arg_extra):\n",
    "    if not num_1 or arg_extra or (type(num_1), type(num_2), type(passo)) != (int, int, int):\n",
    "        raise Exception('Inadequação no(s) parâmetro(s) informados.')\n",
    "\n",
    "    limite, contador = (num_1, 0) if num_2 == 0 else (num_2, num_1)\n",
    "\n",
    "    if contador < limite:\n",
    "        while contador < limite:\n",
    "            yield contador\n",
    "            contador += passo\n",
    "    else:\n",
    "        while contador > limite:\n",
    "            yield contador\n",
    "            contador += passo\n",
    "\n",
    "print(list(proprio_range(10)))\n",
    "print(list(proprio_range(4,10)))\n",
    "print(list(proprio_range(4,10,2)))\n",
    "print(list(proprio_range(10,4,-1)))\n",
    "\n",
    "# print(list(proprio_range()))\n",
    "# print(list(proprio_range(4,8,9,2)))\n",
    "# print(list(proprio_range(4,8,9,2,9)))\n",
    "# print(list(proprio_range('abc', 10, 1)))"
   ]
  },
  {
   "cell_type": "code",
   "execution_count": 115,
   "metadata": {},
   "outputs": [
    {
     "name": "stdout",
     "output_type": "stream",
     "text": [
      "[0, 1, 2, 3, 4, 5, 6, 7, 8, 9]\n",
      "[4, 5, 6, 7, 8, 9]\n",
      "[4, 6, 8]\n"
     ]
    },
    {
     "ename": "Exception",
     "evalue": "Nenhum argumento passado (necessário ao menos 1).",
     "output_type": "error",
     "traceback": [
      "\u001b[1;31m---------------------------------------------------------------------------\u001b[0m",
      "\u001b[1;31mException\u001b[0m                                 Traceback (most recent call last)",
      "\u001b[1;32md:\\Users\\minoru\\Documents\\Processos\\Safra\\Formacao\\Repo\\rominoru\\lets-code-safra-ds-rm\\ModuloII\\05 - compreensão de listas e expressões geradoras - My Solutions.ipynb Cell 64'\u001b[0m in \u001b[0;36m<cell line: 19>\u001b[1;34m()\u001b[0m\n\u001b[0;32m     <a href='vscode-notebook-cell:/d%3A/Users/minoru/Documents/Processos/Safra/Formacao/Repo/rominoru/lets-code-safra-ds-rm/ModuloII/05%20-%20compreens%C3%A3o%20de%20listas%20e%20express%C3%B5es%20geradoras%20-%20My%20Solutions.ipynb#ch0000079?line=15'>16</a>\u001b[0m \u001b[39mprint\u001b[39m(\u001b[39mlist\u001b[39m(proprio_range(\u001b[39m4\u001b[39m,\u001b[39m10\u001b[39m)))\n\u001b[0;32m     <a href='vscode-notebook-cell:/d%3A/Users/minoru/Documents/Processos/Safra/Formacao/Repo/rominoru/lets-code-safra-ds-rm/ModuloII/05%20-%20compreens%C3%A3o%20de%20listas%20e%20express%C3%B5es%20geradoras%20-%20My%20Solutions.ipynb#ch0000079?line=16'>17</a>\u001b[0m \u001b[39mprint\u001b[39m(\u001b[39mlist\u001b[39m(proprio_range(\u001b[39m4\u001b[39m,\u001b[39m10\u001b[39m,\u001b[39m2\u001b[39m)))\n\u001b[1;32m---> <a href='vscode-notebook-cell:/d%3A/Users/minoru/Documents/Processos/Safra/Formacao/Repo/rominoru/lets-code-safra-ds-rm/ModuloII/05%20-%20compreens%C3%A3o%20de%20listas%20e%20express%C3%B5es%20geradoras%20-%20My%20Solutions.ipynb#ch0000079?line=18'>19</a>\u001b[0m \u001b[39mprint\u001b[39m(\u001b[39mlist\u001b[39;49m(proprio_range()))\n",
      "\u001b[1;32md:\\Users\\minoru\\Documents\\Processos\\Safra\\Formacao\\Repo\\rominoru\\lets-code-safra-ds-rm\\ModuloII\\05 - compreensão de listas e expressões geradoras - My Solutions.ipynb Cell 64'\u001b[0m in \u001b[0;36mproprio_range\u001b[1;34m(num_1, num_2, passo, *arg_extra)\u001b[0m\n\u001b[0;32m      <a href='vscode-notebook-cell:/d%3A/Users/minoru/Documents/Processos/Safra/Formacao/Repo/rominoru/lets-code-safra-ds-rm/ModuloII/05%20-%20compreens%C3%A3o%20de%20listas%20e%20express%C3%B5es%20geradoras%20-%20My%20Solutions.ipynb#ch0000079?line=0'>1</a>\u001b[0m \u001b[39mdef\u001b[39;00m \u001b[39mproprio_range\u001b[39m(num_1 \u001b[39m=\u001b[39m \u001b[39mNone\u001b[39;00m, num_2 \u001b[39m=\u001b[39m \u001b[39m0\u001b[39m, passo \u001b[39m=\u001b[39m \u001b[39m1\u001b[39m, \u001b[39m*\u001b[39marg_extra):\n\u001b[0;32m      <a href='vscode-notebook-cell:/d%3A/Users/minoru/Documents/Processos/Safra/Formacao/Repo/rominoru/lets-code-safra-ds-rm/ModuloII/05%20-%20compreens%C3%A3o%20de%20listas%20e%20express%C3%B5es%20geradoras%20-%20My%20Solutions.ipynb#ch0000079?line=1'>2</a>\u001b[0m     \u001b[39mif\u001b[39;00m \u001b[39mnot\u001b[39;00m num_1:\n\u001b[1;32m----> <a href='vscode-notebook-cell:/d%3A/Users/minoru/Documents/Processos/Safra/Formacao/Repo/rominoru/lets-code-safra-ds-rm/ModuloII/05%20-%20compreens%C3%A3o%20de%20listas%20e%20express%C3%B5es%20geradoras%20-%20My%20Solutions.ipynb#ch0000079?line=2'>3</a>\u001b[0m         \u001b[39mraise\u001b[39;00m \u001b[39mException\u001b[39;00m(\u001b[39m'\u001b[39m\u001b[39mNenhum argumento passado (necessário ao menos 1).\u001b[39m\u001b[39m'\u001b[39m)\n\u001b[0;32m      <a href='vscode-notebook-cell:/d%3A/Users/minoru/Documents/Processos/Safra/Formacao/Repo/rominoru/lets-code-safra-ds-rm/ModuloII/05%20-%20compreens%C3%A3o%20de%20listas%20e%20express%C3%B5es%20geradoras%20-%20My%20Solutions.ipynb#ch0000079?line=3'>4</a>\u001b[0m     \u001b[39melif\u001b[39;00m arg_extra:\n\u001b[0;32m      <a href='vscode-notebook-cell:/d%3A/Users/minoru/Documents/Processos/Safra/Formacao/Repo/rominoru/lets-code-safra-ds-rm/ModuloII/05%20-%20compreens%C3%A3o%20de%20listas%20e%20express%C3%B5es%20geradoras%20-%20My%20Solutions.ipynb#ch0000079?line=4'>5</a>\u001b[0m         \u001b[39mraise\u001b[39;00m \u001b[39mException\u001b[39;00m(\u001b[39m'\u001b[39m\u001b[39mExcesso de argumentos (máximo 3).\u001b[39m\u001b[39m'\u001b[39m)\n",
      "\u001b[1;31mException\u001b[0m: Nenhum argumento passado (necessário ao menos 1)."
     ]
    }
   ],
   "source": [
    "def proprio_range(num_1 = None, num_2 = 0, passo = 1, *arg_extra):\n",
    "    if not num_1:\n",
    "        raise Exception('Nenhum argumento passado (necessário ao menos 1).')\n",
    "    elif arg_extra:\n",
    "        raise Exception('Excesso de argumentos (máximo 3).')\n",
    "    elif (type(num_1), type(num_2), type(passo)) != (int, int, int):\n",
    "        raise Exception('Ao menos um dos argumentos não é do tipo int.')\n",
    "\n",
    "    limite, contador = (num_1, 0) if num_2 == 0 else (num_2, num_1)\n",
    "\n",
    "    while contador < limite:\n",
    "        yield contador\n",
    "        contador += passo\n",
    "\n",
    "print(list(proprio_range(10)))\n",
    "print(list(proprio_range(4,10)))\n",
    "print(list(proprio_range(4,10,2)))\n",
    "\n",
    "print(list(proprio_range()))\n",
    "# print(list(proprio_range(4,8,9,2)))\n",
    "# print(list(proprio_range(4,8,9,2,9)))\n",
    "# print(list(proprio_range('abc', 10, 1)))"
   ]
  },
  {
   "cell_type": "markdown",
   "metadata": {},
   "source": [
    "Crie um gerador infinito para representar uma **progressão aritmética**. Dada uma **razão** e um **termo inicial**, ele deverá calcular o restante dos termos."
   ]
  },
  {
   "cell_type": "code",
   "execution_count": null,
   "metadata": {},
   "outputs": [],
   "source": [
    "def gera_pa(termo_inicial, razao):\n",
    "    while True:\n",
    "        yield termo_inicial\n",
    "        termo_inicial += razao\n",
    "            \n",
    "# for valor in gera_pa(0,4):\n",
    "#     if valor > 100:\n",
    "#         break\n",
    "#     print(valor)"
   ]
  },
  {
   "cell_type": "markdown",
   "metadata": {},
   "source": [
    "Faça um gerador infinito para representar uma **progressão geométrica**. Dada uma **razão** e um **termo inicial** ele deverá calcular o restante dos termos."
   ]
  },
  {
   "cell_type": "code",
   "execution_count": null,
   "metadata": {},
   "outputs": [],
   "source": [
    "def gera_pg(termo_inicial, razao):\n",
    "    while True:\n",
    "        yield termo_inicial\n",
    "        termo_inicial*=razao\n",
    "            \n",
    "# for valor in gera_pg(1,2):\n",
    "#     if valor > 1000:\n",
    "#         break\n",
    "#     print(valor)"
   ]
  },
  {
   "cell_type": "markdown",
   "metadata": {},
   "source": [
    "Crie um gerador capaz de gerar infinitos números de Fibonacci.\n",
    "\n",
    "Lembre-se de como os números de Fibonacci são gerados:\n",
    "> f(0) = 0\n",
    "> f(1) = 1\n",
    "> f(n) = f(n-1) + f(n-2)\n",
    "\n",
    "Os primeiros números de Fibonacci são: 0, 1, 1, 2, 3, 5, 8, 13, 21, 34, 55, 89, 144..."
   ]
  },
  {
   "cell_type": "code",
   "execution_count": 80,
   "metadata": {},
   "outputs": [],
   "source": [
    "def gera_fibo():\n",
    "    lista_fibo = [0,1]\n",
    "    yield 0\n",
    "    yield 1\n",
    "    while True:        \n",
    "        lista_fibo.append(sum(lista_fibo[-2:]))\n",
    "        yield lista_fibo[-1]\n",
    "    \n",
    "# for valor in gera_fibo():\n",
    "#     if valor > 100:\n",
    "#         break\n",
    "#     print(valor)\n"
   ]
  },
  {
   "cell_type": "code",
   "execution_count": null,
   "metadata": {},
   "outputs": [],
   "source": [
    "# solução Brian\n",
    "def gerador_fibo():\n",
    "    penultimo = 0\n",
    "    ultimo = 1\n",
    "    yield penultimo\n",
    "    while True:\n",
    "        penultimo, ultimo = ultimo, penultimo + ultimo\n",
    "\n",
    "# for valor in gera_fibo():\n",
    "#     if valor > 100:\n",
    "#         break\n",
    "#     print(valor)"
   ]
  },
  {
   "cell_type": "markdown",
   "metadata": {},
   "source": [
    "Crie um gerador capaz de gerar infinitos números primos.\n",
    "\n",
    "Um número primo é divisível apenas por 1 e por ele mesmo.\n",
    "\n",
    "Exemplos: 2, 3, 5, 7, 11, 13, 17, 19, 23, 29..."
   ]
  },
  {
   "cell_type": "code",
   "execution_count": 130,
   "metadata": {},
   "outputs": [],
   "source": [
    "# sulução Brian\n",
    "def eh_primo(n):\n",
    "    divisor = 2\n",
    "    while divisor <= n/2:\n",
    "        if n % divisor == 0:\n",
    "            return False\n",
    "        divisor += 1\n",
    "    else:\n",
    "        return True\n",
    "\n",
    "def gera_primo():\n",
    "    numero = 2\n",
    "    while True:\n",
    "        if eh_primo(numero):\n",
    "            yield numero\n",
    "        numero += 1\n",
    "\n",
    "# for valor in gera_primo():\n",
    "#     if valor > 100:\n",
    "#         break\n",
    "#     print(valor)"
   ]
  },
  {
   "cell_type": "code",
   "execution_count": null,
   "metadata": {},
   "outputs": [],
   "source": [
    "def gera_primos():\n",
    "    primo = 2\n",
    "    yield 2\n",
    "    \n",
    "    while True:\n",
    "        divisor = 2\n",
    "        while divisor < primo:\n",
    "            if primo % divisor == 0:\n",
    "                break\n",
    "            divisor += 1\n",
    "        else:\n",
    "            yield primo\n",
    "            primo += 1\n",
    "\n",
    "        # for num in lista_primos:\n",
    "        #     if proximo % num == 0:\n",
    "        #         continue\n",
    "        # else:\n",
    "        #     lista_primos.append(proximo)\n",
    "        #     yield lista_primos[-1]\n",
    "        # proximo = lista_primos[-1] + 1\n",
    "\n",
    "for valor in gera_primos():\n",
    "    if valor > 100:\n",
    "        break\n",
    "    print(valor)"
   ]
  },
  {
   "cell_type": "markdown",
   "metadata": {},
   "source": [
    "Você fez o exercício abaixo na lista de arquivos:\n",
    "\n",
    "> Faça um programa que carrega um arquivo CSV de notas (como o gerado pelo exercício anterior) e pede para o usuário digitar a nota mínima para aprovação. Ele deverá gerar um novo arquivo contendo as notas originais e 2 colunas adicionais: a média de cada aluno na primeira (com, no máximo, 2 casas decimais) e \"APR\" ou \"REP\" na segunda, indicando se a média atingiu o valor mínimo ou não.\n",
    "\n",
    "Refaça esse exercício utilizando compreensão de listas para montar a tabela de notas já com todas as notas convertidas para float."
   ]
  },
  {
   "cell_type": "code",
   "execution_count": null,
   "metadata": {},
   "outputs": [],
   "source": []
  },
  {
   "cell_type": "markdown",
   "metadata": {},
   "source": [
    "Enriqueça o exercício anterior lendo uma lista de nomes a partir de um arquivo, com os nomes separados por quebras de linha.\n",
    "\n",
    "Utilize compreensão de dicionários para associar cada aluno a sua lista de notas. \n",
    "\n",
    "Salve o resultado em um arquivo .json."
   ]
  },
  {
   "cell_type": "code",
   "execution_count": null,
   "metadata": {},
   "outputs": [],
   "source": []
  }
 ],
 "metadata": {
  "interpreter": {
   "hash": "d8c2dbe515bb1e132c806da356eed840d95260b43840da4c22c4a5911b708884"
  },
  "kernelspec": {
   "display_name": "Python 3.10.5 64-bit (windows store)",
   "language": "python",
   "name": "python3"
  },
  "language_info": {
   "codemirror_mode": {
    "name": "ipython",
    "version": 3
   },
   "file_extension": ".py",
   "mimetype": "text/x-python",
   "name": "python",
   "nbconvert_exporter": "python",
   "pygments_lexer": "ipython3",
   "version": "3.10.5"
  },
  "orig_nbformat": 4,
  "vscode": {
   "interpreter": {
    "hash": "ad2bdc8ecc057115af97d19610ffacc2b4e99fae6737bb82f5d7fb13d2f2c186"
   }
  }
 },
 "nbformat": 4,
 "nbformat_minor": 2
}

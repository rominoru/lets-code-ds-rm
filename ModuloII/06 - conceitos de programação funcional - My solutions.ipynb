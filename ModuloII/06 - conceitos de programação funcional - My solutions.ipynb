{
 "cells": [
  {
   "cell_type": "markdown",
   "metadata": {},
   "source": [
    "# Conceitos Programação Funcional\n",
    "\n",
    "Hoje vamos conversar um pouco sobre um conjunto de técnicas diferente do que temos utilizado até o momento para planejar nossos programas. Para que isso faça sentido, vamos começar entendendo um pouco melhor de que maneiras podemos planejar um programa.\n",
    "\n",
    "## Paradigmas de programação\n",
    "\n",
    "Um conceito bastante importante em programação é a ideia de **paradigmas de programação**. Um paradigma é uma forma diferente de pensar o seu programa. \n",
    "\n",
    "Todos os nossos programas até agora consistem de uma sequência de **instruções** para o computador. Essas instruções são executadas sequencialmente. A ideia de um programa como um conjunto sequencial de instruções é conhecido como **paradigma imperativo** ou **programação imperativa**, pois o programa pode ser visualizado como um conjunto de verbos no imperativo.\n",
    "\n",
    "Na prática, nossos programas não eram 100% sequenciais, e conseguimos ramificar o fluxo de execução através de condicionais ou malhas de repetição. O uso dessas técnicas foi uma evolução na forma de programar e é conhecido como **programação estruturada**.\n",
    "\n",
    "Indo um pouco além, dificilmente escrevemos blocos muito grandes de código de uma vez. Ao longo deste curso, criamos o hábito de modularizar os nossos programas encaixando pequenos pedaços de lógica dentro de funções, que agem como *mini-programas*, e o nosso programa se desenvolve através da interação entre essas funções. Essa forma de programação é conhecida como **programação procedural**. A programação procedural é uma forma mais específica de programação imperativa.\n",
    "\n",
    "A **programação orientada a objetos** é outro paradigma de programação, onde o foco do programa está na modelagem dos nossos programas como resultado da interação entre diferentes objetos, que possuem seu comportamento ditado por suas respectivas classes. Porém, dentro das classes nós desenvolvemos *métodos*, que são bastante semelhantes às funções que já conhecemos, e portanto também é uma forma de programação imperativa.\n",
    "\n",
    "Um ponto importante sobre a relação entre paradigmas e linguagens de programação é que para programar utilizando um certo paradigma, muitas vezes será necessário que a linguagem forneça ferramentas específicas para tal. Por exemplo, é difícil aplicar o paradigma orientado a objeto utilizando uma linguagem que não suporte conceitos importantes deste paradigma, como os próprios objetos, com seus atributos e métodos.\n",
    "\n",
    "O Python oferece ferramentas para auxiliar na programação procedural, na programação orientada a objeto e na programação funcional, que já discutiremos.\n",
    "\n",
    "Existe todo um conjunto de formas diferentes de programar conhecido como **programação declarativa**, onde o programador irá se preocupar mais em descrever os resultados desejados do que em enfileirar instruções. O foco está em **o que** deve ser feito, e não em **como** deve ser feito. Uma forma de programação declarativa é a **programação funcional**.\n",
    "\n",
    "## O que é programação funcional\n",
    "\n",
    "Assim como na programação procedural, nossos programas serão modularizados em funções, pequenos pedaços reutilizáveis de código que podem receber dados de entrada (parâmetros) e fornecer resultados de sua computação (retorno).\n",
    "\n",
    "Uma das motivações para a adoção da programação funcional é aumentar o **determinismo** de nossos programas, isto é, tornar a execução dos programas mais previsíveis. Programas escritos de maneira imperativa tendem a ter efeitos colaterais causados por seu **estado**. O estado de um programa é definido pelo valor de todas as suas variáveis em um dado momento.\n",
    "\n",
    "Quando um programa se torna muito grande, com diversas funções alterando o conteúdo de diferentes variáveis e objetos, torna-se cada vez mais perigoso que o programador perca o controle sobre o estado do programa, sendo possível que certos conjuntos de valores alterem o comportamento de outras funções e resultem em erros de computação.\n",
    "\n",
    "### Funções puras\n",
    "\n",
    "Para evitar o não-determinismo, um conceito importante é o de **funções puras**. Uma função pura não possui **efeitos colaterais**, ou seja, seu funcionamento não irá alterar conteúdo na memória (ex: variáveis) ou dispositivos de entrada e saída. Isso traz algumas vantagens:\n",
    "\n",
    "* Se nenhum parâmetro da função causa efeitos colaterais, então a função sempre apresentará o mesmo resultado ao receber os mesmos argumentos.\n",
    "* Se não houver dependência entre os dados de duas funções puras, elas podem ser executadas em paralelo sem causar problemas de concorrência.\n",
    "* Se o retorno de uma função sem efeitos colaterais não está sendo usado, ela pode ser removida sem afetar o restante do programa.\n",
    "\n",
    "Vejamos alguns exemplos:"
   ]
  },
  {
   "cell_type": "code",
   "execution_count": null,
   "metadata": {},
   "outputs": [],
   "source": [
    "def funcao_pura(numeros: list):\n",
    "    soma = 0\n",
    "    for n in numeros:\n",
    "        soma += n\n",
    "    return soma\n",
    "\n",
    "def funcao_impura(numeros: list):\n",
    "    soma = 0\n",
    "    for idx in range(len(numeros)):\n",
    "\n",
    "        if type(numeros[idx]) != int:\n",
    "            numeros[idx] = int(numeros[idx])\n",
    "        \n",
    "        soma += numeros[idx]\n",
    "        idx += 1\n",
    "    return soma\n",
    "\n",
    "entrada = [1, 2.5, 3, 4.5]\n",
    "funcao_pura(entrada)\n",
    "print(entrada)\n",
    "funcao_impura(entrada)\n",
    "print(entrada)"
   ]
  },
  {
   "cell_type": "markdown",
   "metadata": {},
   "source": [
    "Note que no exemplo acima não utilizamos o retorno de nenhuma das funções. A ```funcao_pura``` poderia facilmente ser removido e nada mudaria, pois ela não provocou efeitos colaterais. Já a ```funcao_impura``` afeta o conteúdo da lista que foi passada, o que significa que sua ausência no programa alteraria seu resultado.\n",
    "\n",
    "### Funções de primeira ordem e funções de alta ordem\n",
    "\n",
    "Dizemos que algumas linguagens tratam funções como *cidadãs de primeira classe*. Isso significa que nessa linguagem funções podem:\n",
    "1) serem atribuidas para variáveis ou guardadas em estruturas de dados\n",
    "2) serem passadas como parâmetros para outras funções\n",
    "3) serem retornadas por outras funções\n",
    "\n",
    "É como se funções fossem variáveis como qualquer outra, de um tipo específico \"função\".\n",
    "\n",
    "Essas características permitem a criação de **funções de alta ordem**, que são funções que recebem pelo menos uma função como parâmetro e/ou retornam uma função. Vejamos alguns exemplos:\n",
    "\n",
    "1) atribuindo função para uma variável em Python"
   ]
  },
  {
   "cell_type": "code",
   "execution_count": null,
   "metadata": {},
   "outputs": [],
   "source": [
    "def funcao():\n",
    "    print('olá mundo')\n",
    "\n",
    "x = funcao\n",
    "print('Tipo da variável x:', type(x))\n",
    "x()"
   ]
  },
  {
   "cell_type": "markdown",
   "metadata": {},
   "source": [
    "2. passando uma função como parâmetro para outra função"
   ]
  },
  {
   "cell_type": "code",
   "execution_count": null,
   "metadata": {},
   "outputs": [],
   "source": [
    "def soma(a, b):\n",
    "    return a + b\n",
    "\n",
    "def multiplicacao(a, b):\n",
    "    return a * b\n",
    "\n",
    "def cumulativo(inicial, quantidade, operacao):\n",
    "    contador = 1\n",
    "    acumulado = inicial\n",
    "    while contador <= quantidade:\n",
    "        acumulado = operacao(acumulado, contador)\n",
    "        contador += 1\n",
    "    return acumulado\n",
    "\n",
    "somatorio = cumulativo(0, 5, soma)\n",
    "fatorial = cumulativo(1, 5, multiplicacao)\n",
    "print(f'Somatório de 1 a 5: {somatorio} | Fatorial de 5: {fatorial}')\n"
   ]
  },
  {
   "cell_type": "markdown",
   "metadata": {},
   "source": [
    "3. retornando uma função:"
   ]
  },
  {
   "cell_type": "code",
   "execution_count": null,
   "metadata": {},
   "outputs": [],
   "source": [
    "def soma(a, b):\n",
    "    return a + b\n",
    "\n",
    "def subtracao(a, b):\n",
    "    return a - b\n",
    "\n",
    "def multiplicacao(a, b):\n",
    "    return a * b\n",
    "\n",
    "def divisao(a, b):\n",
    "    return a / b\n",
    "\n",
    "def operador_para_funcao(operador):\n",
    "    if operador == '+':\n",
    "        return soma\n",
    "    elif operador == '-':\n",
    "        return subtracao\n",
    "    elif operador == '*':\n",
    "        return multiplicacao\n",
    "    else:\n",
    "        return divisao\n",
    "\n",
    "x = operador_para_funcao('*')\n",
    "print(x(5, 2))"
   ]
  },
  {
   "cell_type": "markdown",
   "metadata": {},
   "source": [
    "### Closure\n",
    "\n",
    "Uma possibilidade criada por todas essas estratégias é a de uma **closure** (*clausura* em algumas traduções em português), onde uma função pode ser usada para criar outra função junto de um **ambiente**. Soa complicado, mas através de um exemplo podemos entender facilmente o que está acontecendo:"
   ]
  },
  {
   "cell_type": "code",
   "execution_count": null,
   "metadata": {},
   "outputs": [],
   "source": [
    "def cria_somas(x):\n",
    "    def soma(y):\n",
    "        return x + y\n",
    "    return soma\n",
    "\n",
    "incremento = cria_somas(1)\n",
    "decremento = cria_somas(-1)\n",
    "\n",
    "print(incremento(5))\n",
    "print(incremento(10))\n",
    "print(incremento(15))\n",
    "\n",
    "print(decremento(5))\n",
    "print(decremento(10))\n",
    "print(decremento(15))"
   ]
  },
  {
   "cell_type": "markdown",
   "metadata": {},
   "source": [
    "### **\"CLOSURE É UMA FÁBRICA DE FUNÇÕES\"**\n",
    "\n",
    "Explicação do José: **o def cria_somas retorna a função soma, então quando você coloca ela igual a incremento o incremento vira a função soma que recebe um argumento**"
   ]
  },
  {
   "cell_type": "markdown",
   "metadata": {},
   "source": [
    "A função \"mais interna\" possui um valor que foi recebido como parâmetro pela função mais externa. Quando chamamos a função ```cria_soma``` passando 1, a função interna foi definida como sempre retornando seu parâmetro + 1. Sendo assim, ao pegarmos essa função retornada, ela permanentemente retornará parâmetro + 1. No segundo caso passamos -1. Neste caso, a função mais interna foi criada com x valendo -1. Logo, ao pegarmos essa função, ela sempre irá retornar seu parâmetro - 1.\n",
    "\n",
    "### Funções anônimas\n",
    "\n",
    "Outro conceito bastante comum na programação funcional é o de **funções anônimas**, também conhecidas como **funções lambda**. Elas são funções que não necessariamente precisam ser declaradas - no caso do Python, utilizando a palavra ```def``` - e atribuídas para um nome. A sintaxe para criar uma função lambda em Python é:\n",
    "\n",
    "```lambda parametro1, parametro2... : expressao```\n",
    "\n",
    "A lambda pode ser chamada como outras funções passando parâmetros entre parênteses e sua expressão será retornada. Não utilizamos a palavra ```return```, já é subentendido que o resultado da lambda será retornado.\n",
    "\n",
    "\n",
    "É comum utilizarmos funções lambda para rapidamente passar um parâmetro para uma função ou obter um retorno de uma função. Vejamos alguns exemplos antigos sendo refeitos utilizando lambdas:\n"
   ]
  },
  {
   "cell_type": "code",
   "execution_count": null,
   "metadata": {},
   "outputs": [],
   "source": [
    "def cumulativo(inicial, quantidade, operacao):\n",
    "    contador = 1\n",
    "    acumulado = inicial\n",
    "    while contador <= quantidade:\n",
    "        acumulado = operacao(acumulado, contador)\n",
    "        contador += 1\n",
    "    return acumulado\n",
    "\n",
    "somatorio = cumulativo(0, 5, lambda x, y: x + y)\n",
    "fatorial = cumulativo(1, 5, lambda x, y: x * y)\n",
    "print(f'Somatório de 1 a 5: {somatorio} | Fatorial de 5: {fatorial}')"
   ]
  },
  {
   "cell_type": "code",
   "execution_count": null,
   "metadata": {},
   "outputs": [],
   "source": [
    "def cria_somas(x):\n",
    "    return lambda y: x + y\n",
    "\n",
    "incremento = cria_somas(1)\n",
    "decremento = cria_somas(-1)\n",
    "\n",
    "print(incremento(5))\n",
    "print(incremento(10))\n",
    "print(incremento(15))\n",
    "\n",
    "print(decremento(5))\n",
    "print(decremento(10))\n",
    "print(decremento(15))"
   ]
  },
  {
   "cell_type": "markdown",
   "metadata": {},
   "source": [
    "### **\"CRIAR UMA FUNÇÃO SEM PRECISAR DAR O NOME A ELA\"**\n",
    "\"O lambda é uma função de uma linha só\", isso é uma verdade parcial"
   ]
  },
  {
   "cell_type": "markdown",
   "metadata": {},
   "source": [
    "### Imutabilidade\n",
    "\n",
    "Outro ponto bastante explorado pela programação funcional é tentar evitar o uso de estruturas mutáveis. Isso ocorre para evitar efeitos colaterais, como problemas de **concorrência** na execução paralela de diferentes trechos de código que poderiam afetar uma mesma estrutura.\n",
    "\n",
    "Ao invés de atualizarmos diferentes variáveis para ir salvando o estado de operações, iremos compor chamadas de funções de alta ordem e funções recursivas, e as informações irão fluir através de seus parâmetros e retornos. \n",
    "\n",
    "Veremos logo mais algumas funções de alta ordem *tradicionais* e como elas nos ajudam a evitar a mutabilidade.\n",
    "\n",
    "### Recursão\n",
    "\n",
    "Laços de repetição tradicionais, como o _for_, apresentam pelo menos 2 possíveis problemas.\n",
    "\n",
    "O primeiro deles é a necessidade de mutabilidade e variáveis de controle. Frequentemente controlaremos nossas repetições incrementando algum tipo de variável e testando seu valor.\n",
    "\n",
    "O segundo é a própria legibilidade do loop: parte do código gerado é para controlar as repetições, e pode se distanciar um pouco da definição do problema em si.\n",
    "\n",
    "Você já estudou esse conceito antes, mas vamos relembrar: recursão é quando uma função é capaz de chamar a si mesma. Tipicamente funções recursivas possuem 1 ou mais **casos base**, ou seja, casos onde nenhuma computação será feita e o resultado será retornado de maneira imediata, e o **caso geral** ou **caso recursivo**, onde o problema será subdividido em sucessivas chamadas para a função variando seus parâmetros até que um caso base seja atingido.\n",
    "\n",
    "Um exemplo clássico das aulas de programação é a sequência de Fibonacci. Uma das formas de definir essa sequência é a seguinte:\n",
    "* F(0) = 1\n",
    "* F(1) = 1\n",
    "* F(n) = F(n-1) + F(n-2), se n > 1\n",
    "\n",
    "Compare agora um código em loop (chamado de código **iterativo**) com um código **recursivo**. Note que no recursivo não utilizamos qualquer tipo de dado mutável. Observe também qual dos códigos lembra mais a definição original da sequência."
   ]
  },
  {
   "cell_type": "code",
   "execution_count": null,
   "metadata": {},
   "outputs": [],
   "source": [
    "def fib_iterativo(n):\n",
    "    n1 = 0\n",
    "    n2 = 1\n",
    "    contador = 0\n",
    "    while contador < n:\n",
    "        n1, n2 = n2, n1+n2\n",
    "        contador+=1\n",
    "    return n2\n",
    "\n",
    "def fib_recursivo(n):\n",
    "    if n == 0 or n == 1:\n",
    "        return 1\n",
    "    else:\n",
    "        return fib_recursivo(n-1) + fib_recursivo(n-2)\n",
    "        "
   ]
  },
  {
   "cell_type": "markdown",
   "metadata": {},
   "source": [
    "Uma desvantagem da recursão é a possibilidade de muitos cálculos repetidos serem realizados. Para calcular F(5), teremos F(4) + F(3). Mas no F(4), o F(3) irá aparecer novamente.\n",
    "\n",
    "Algumas linguagens oferecem um recurso chamado de **tail recursion**, ou **recursão de cauda**. Nelas, o resultado de chamadas recursivas recentes é temporariamente armazenado e pode ser reutilizado em outras chamadas. O Python **NÃO** possui recursão de cauda nativamente, mas é possível manipularmos os parâmetros de nossas funções para obter esse tipo de recursão na prática. Observe o código abaixo:"
   ]
  },
  {
   "cell_type": "code",
   "execution_count": null,
   "metadata": {},
   "outputs": [],
   "source": [
    "def fib_cauda(n, n1 = 1, n2 = 1):\n",
    "    if n == 0:\n",
    "        return n1\n",
    "    if n == 1:\n",
    "        return n2\n",
    "    return fib_cauda(n - 1, n2, n1 + n2) # vai empurrando a conta para dentro dos próprios parâmetros da função, fazendo com que ela faça menos chamadas"
   ]
  },
  {
   "cell_type": "code",
   "execution_count": null,
   "metadata": {},
   "outputs": [],
   "source": [
    "def fib_cauda(n, n1 = 0, n2 = 1):\n",
    "    if n == 0:\n",
    "        return n1\n",
    "    if n == 1:\n",
    "        return n2\n",
    "    return fib_cauda(n - 1, n2, n1 + n2) # vai empurrando a conta para dentro dos próprios parâmetros da função, fazendo com que ela faça menos chamadas\n",
    "\n",
    "print(fib_cauda(0))\n",
    "print(fib_cauda(1))\n",
    "print(fib_cauda(2))\n",
    "print(fib_cauda(3))\n",
    "print(fib_cauda(4))\n",
    "print(fib_cauda(5))\n",
    "print(fib_cauda(6))\n",
    "print(fib_cauda(7))\n",
    "print(fib_cauda(8))\n",
    "print(fib_cauda(9))\n",
    "print(fib_cauda(10))\n",
    "print(fib_cauda(11))"
   ]
  },
  {
   "cell_type": "markdown",
   "metadata": {},
   "source": [
    "Em casa passo recursivo, atualizamos n2 com a próxima soma, o valor anterior de n2 passa para n1, e o nosso n decrementa rumo ao caso base. Ao contrário da chamada recursiva anterior, observe que não estamos mais \"ramificando\" nossas chamadas recursivas, e as chamadas estão sendo resolvidas de maneira mais linear, com cada passo aproveitando os dois resultados anteriores.\n",
    "\n",
    "### Funções de alta ordem em coleções\n",
    "\n",
    "Qualquer função que receba ou retorne uma função é considerada uma função de alta ordem. Mas três funções de alta ordem são consideradas bastante importantes porque elas permitem realizar diversas operações bastante úteis sobre coleções (listas, arrays, tuplas etc). Elas resolvem problemas tradicionais envolvendo as coleções, mas sem que a gente precise utilizar loops. Além disso, elas sempre irão retornar uma nova lista ou um valor, não alterando o conteúdo da função original. Elas são as funções ```map```, ```filter``` e ```reduce```.\n",
    "\n",
    "#### Map\n",
    "\n",
    "A função map recebe uma função e uma coleção. Ela irá aplicar a função recebida sobre cada um dos elementos da coleção, retornando uma nova coleção com os retornos de cada uma dessas chamadas.\n",
    "\n",
    "Em Python, a função map retorna um **iterador**, então cabe a nós convertê-lo para uma estrutura caso necessário, como lista ou tupla."
   ]
  },
  {
   "cell_type": "code",
   "execution_count": 4,
   "metadata": {},
   "outputs": [
    {
     "name": "stdout",
     "output_type": "stream",
     "text": [
      "('1.0', '3.7', '5.4') (1.0, 3.7, 5.4)\n",
      "[1, 2, 3, 4] [1, 4, 9, 16]\n",
      "[1, 2, 3, 4] [1, 8, 27, 64]\n"
     ]
    }
   ],
   "source": [
    "# exemplo 1 - convertendo todo o conteúdo de uma tupla para float\n",
    "tupla_str = ('1.0', '3.7', '5.4')\n",
    "tupla_float = tuple(map(float, tupla_str))\n",
    "print(tupla_str, tupla_float)\n",
    "\n",
    "# exemplo 2 - elevando todo o conteúdo de uma lista a 2 usando uma função já existente\n",
    "def quadrado(x):\n",
    "    return x ** 2\n",
    "numeros = [1, 2, 3, 4]\n",
    "numeros_quadrados = list(map(quadrado, numeros))\n",
    "print(numeros, numeros_quadrados)\n",
    "\n",
    "# exemplo 3 - elevando todo o conteúdo de uma lista a 3 usando um lambda\n",
    "numeros_cubo = list(map(lambda x: x**3, numeros))\n",
    "print(numeros, numeros_cubo)"
   ]
  },
  {
   "cell_type": "markdown",
   "metadata": {},
   "source": [
    "A função map é bastante conhecida no meio da programação funcional e é oferecida em diversas linguagens. Por exemplo, em JavaScript - uma linguagem multiparadigma, como o Python - é comum o uso de map, bem como o das outras duas funções que estudaremos.\n",
    "\n",
    "Apesar do Python trazer a função implementada, é possível reproduzir a funcionalidade do map utilizando uma compreensão de lista ou uma expressão geradora. O resultado é equivalente: evitamos mutabilidade e efeitos colaterais, geramos uma coleção nova a partir da antiga, mas o código fica mais _idiomático_."
   ]
  },
  {
   "cell_type": "code",
   "execution_count": null,
   "metadata": {},
   "outputs": [],
   "source": [
    "# exemplo 1 - convertendo todo o conteúdo de uma tupla para float\n",
    "tupla_str = ('1.0', '3.7', '5.4')\n",
    "tupla_float = tuple(float(x) for x in tupla_str)\n",
    "print(tupla_str, tupla_float)\n",
    "\n",
    "# exemplo 2 - elevando todo o conteúdo de uma lista a 2 usando uma função já existente\n",
    "def quadrado(x):\n",
    "    return x ** 2\n",
    "numeros = [1, 2, 3, 4]\n",
    "numeros_quadrados = [quadrado(x) for x in numeros]\n",
    "print(numeros, numeros_quadrados)\n",
    "\n",
    "# exemplo 3 - elevando todo o conteúdo de uma lista a 3 sem usar função pronta\n",
    "numeros_cubo = [x**3 for x in numeros]\n",
    "print(numeros, numeros_cubo)"
   ]
  },
  {
   "cell_type": "markdown",
   "metadata": {},
   "source": [
    "#### Filter\n",
    "\n",
    "A função ```filter``` também recebe uma função que deve retornar um booleano e uma coleção. Ela irá conter apenas os elementos da coleção que provocaram valor ```True``` na função passada."
   ]
  },
  {
   "cell_type": "code",
   "execution_count": null,
   "metadata": {},
   "outputs": [],
   "source": [
    "# exemplo 1 - detectando pares em uma lista usando função pronta\n",
    "def eh_par(x):\n",
    "    return x % 2 == 0\n",
    "numeros = [3, 6, 4, 8, 7, 9, 2, 5]\n",
    "pares = list(filter(eh_par, numeros))\n",
    "print(pares)\n",
    "\n",
    "# exemplo 2 - detectando negativos em uma lista usando lambda\n",
    "numeros = [5, -3, 1, 4, 7, -8, -2]\n",
    "negativos = list(filter(lambda x: x < 0, numeros))\n",
    "print(negativos)"
   ]
  },
  {
   "cell_type": "markdown",
   "metadata": {},
   "source": [
    "Assim como no caso do map, podemos reproduzir a funcionalidade do filter de maneira mais _pythonica_ utilizando compreensão de lista ou expressão geradora:"
   ]
  },
  {
   "cell_type": "code",
   "execution_count": null,
   "metadata": {},
   "outputs": [],
   "source": [
    "# exemplo 1 - pares usando função pronta\n",
    "def eh_par(x):\n",
    "    return x % 2 == 0\n",
    "numeros = [3, 6, 4, 8, 7, 9, 2, 5]\n",
    "pares = [x for x in numeros if eh_par(x)]\n",
    "print(pares)\n",
    "\n",
    "# exemplo 2 - negativos sem função pronta\n",
    "numeros = [5, -3, 1, 4, 7, -8, -2]\n",
    "negativos = [x for x in numeros if x < 0]\n",
    "print(negativos)"
   ]
  },
  {
   "cell_type": "markdown",
   "metadata": {},
   "source": [
    "#### Reduce\n",
    "\n",
    "A última função especial de alta ordem envolvendo coleções que estudaremos é o ```reduce```. Além da função e da coleção, ele irá receber também um valor inicial. Ele irá aplicar a função entre o valor inicial e o primeiro valor da coleção. Em seguida, entre o resultado dessa operação e o segundo valor da coleção. Depois, resultado da operação e o terceiro valor da coleção, e assim sucessivamente. Ou seja, ele **acumula** uma operação ao longo de uma coleção. O exemplo mais tradicional é o somatório.\n",
    "\n",
    "Se você possui uma lista contendo os valores [1, 3, 5, 7, 9] e utilizar o reduce com valor inicial 0, ele retornará o resultado de:\n",
    "\n",
    "(((((0 + 1) + 3) + 5) + 7) + 9)\n",
    "\n",
    "No Python, o reduce não é uma função nativa como o map e o filter, e devemos importá-la de ```functools```."
   ]
  },
  {
   "cell_type": "code",
   "execution_count": 8,
   "metadata": {},
   "outputs": [
    {
     "name": "stdout",
     "output_type": "stream",
     "text": [
      "25\n",
      "30\n"
     ]
    }
   ],
   "source": [
    "from functools import reduce\n",
    "\n",
    "lista = [1, 3, 5, 7, 9]\n",
    "\n",
    "somatorio = reduce(lambda x, y: x + y, lista, 0)\n",
    "\n",
    "print(somatorio)\n",
    "\n",
    "# colocando valor inicial\n",
    "\n",
    "somatorio_inicial = reduce(lambda x, y: x + y, lista, 5)\n",
    "print(somatorio_inicial)"
   ]
  },
  {
   "cell_type": "markdown",
   "metadata": {},
   "source": [
    "Um uso muito legal do reduce é para agrupar dados em categorias. Considere a estrutura abaixo, listando os cursos de diferentes professores da Let's Code:\n",
    "\n"
   ]
  },
  {
   "cell_type": "code",
   "execution_count": 6,
   "metadata": {},
   "outputs": [],
   "source": [
    "professores = {\n",
    "    'Brian pré-tattoo': 'Python',\n",
    "    'Brian pós-tattoo': 'Java',\n",
    "    'Bruna': 'DevOps',\n",
    "    'Rafael': 'Python',\n",
    "}"
   ]
  },
  {
   "cell_type": "markdown",
   "metadata": {},
   "source": [
    "Vamos criar uma estrutura por categoria. Ela fará nosso papel de acumulador e será algo assim:\n",
    "\n",
    "```\n",
    "{'Python': [], 'Java': [], 'DevOps':[]}\n",
    "```\n",
    "\n",
    "Ela vai ser determinada de maneira **automática**, ou seja, vamos determinando as disciplinas e adicionando ao dicionário.\n",
    "\n",
    "Por fim, precisamos criar a função que usaremos. Para fugir de usar variáveis globais, podemos fazer uma função que gera funções a partir de um dicionário, que tal?"
   ]
  },
  {
   "cell_type": "code",
   "execution_count": 9,
   "metadata": {},
   "outputs": [
    {
     "name": "stdout",
     "output_type": "stream",
     "text": [
      "{'Python': ['Brian pré-tattoo', 'Rafael'], 'Java': ['Brian pós-tattoo'], 'DevOps': ['Bruna']}\n"
     ]
    }
   ],
   "source": [
    "def gera_redutor(dicionario):\n",
    "\n",
    "    def redutor(acumulador, chave):\n",
    "        if dicionario[chave] in acumulador:\n",
    "            acumulador[dicionario[chave]].append(chave)\n",
    "        else:\n",
    "            acumulador[dicionario[chave]] = [chave]\n",
    "        return acumulador\n",
    "    \n",
    "    return redutor\n",
    "\n",
    "redutor_profs = gera_redutor(professores)\n",
    "\n",
    "profs_por_curso = reduce(redutor_profs,\n",
    "    professores,\n",
    "    {})\n",
    "\n",
    "print(profs_por_curso)"
   ]
  },
  {
   "cell_type": "markdown",
   "metadata": {},
   "source": [
    "> A ideia não é que você nunca mais utilize técnicas de programação imperativa. O Python não é uma linguagem funcional pura, e muitos de seus recursos mais úteis estão ligados à programação orientada a objeto, por exemplo.\n",
    "> \n",
    "> Porém, você agora é capaz de analisar de maneira mais crítica o impacto de diferentes técnicas para resolver um problema e fazer uma escolha mais consciente refletindo sobre os seus benefícios e suas desvantagens.\n",
    "> \n",
    "> As ferramentas funcionais são mais uma ferramenta em sua caixinha de ferramentas que podem ser incorporadas parcialmente em programas orientados a objeto, como ocorre com frequência, por exemplo, no desenvolvimento web em JavaScript."
   ]
  },
  {
   "cell_type": "markdown",
   "metadata": {},
   "source": [
    "Algumas referências (em inglês) caso você queira se aprofundar:\n",
    "\n",
    "* Uma explicação mais profunda sobre como recursão funciona na memória do computador e como isso muda quando implementamos recursão de cauda: https://towardsdatascience.com/python-stack-frames-and-tail-call-optimization-4d0ea55b0542\n",
    "* Um pouco mais sobre recursão vs loops: https://arstechnica.com/information-technology/2013/04/recursion-or-while-loops-which-is-better\n",
    "* O Real Python possui alguns tutoriais e artigos breves e gratuitos [aqui](https://realpython.com/python-functional-programming/) de programação funcional em Python e um curso (pago) mais completo [aqui](https://realpython.com/courses/functional-programming-python/). O material completo deles inclui mais detalhes também sobre map, filter e reduce. O índice está disponível [aqui](https://realpython.com/learning-paths/functional-programming/)."
   ]
  },
  {
   "cell_type": "markdown",
   "metadata": {},
   "source": [
    "# Exercícios\n",
    "\n",
    "Faça uma função que recebe um número ```exp```. Ela deverá retornar uma função que recebe um número ```base``` e retorna base elevado a exp.\n",
    "\n",
    "Experimente as duas abordagens: utilizando funções internas formando uma clausura e utilizando lambda."
   ]
  },
  {
   "cell_type": "code",
   "execution_count": 10,
   "metadata": {},
   "outputs": [
    {
     "name": "stdout",
     "output_type": "stream",
     "text": [
      "9\n"
     ]
    }
   ],
   "source": [
    "def exp(x):\n",
    "    def bas(y):\n",
    "        return y ** x\n",
    "    return bas\n",
    "\n",
    "expoente = exp(2)\n",
    "print(expoente(3))"
   ]
  },
  {
   "cell_type": "code",
   "execution_count": 12,
   "metadata": {},
   "outputs": [
    {
     "name": "stdout",
     "output_type": "stream",
     "text": [
      "16\n"
     ]
    }
   ],
   "source": [
    "def exp(x):\n",
    "    return lambda y: y ** x\n",
    "\n",
    "expoente = exp(4)\n",
    "print(expoente(2))"
   ]
  },
  {
   "cell_type": "markdown",
   "metadata": {},
   "source": [
    "Faça uma função que recebe uma string ```prefixo```. Ela retornará uma função que recebe uma string e a retorna prefixada. "
   ]
  },
  {
   "cell_type": "code",
   "execution_count": 13,
   "metadata": {},
   "outputs": [
    {
     "name": "stdout",
     "output_type": "stream",
     "text": [
      "preconceito\n"
     ]
    }
   ],
   "source": [
    "def prefixo(palavra):\n",
    "    return lambda sufixo: palavra+sufixo\n",
    "\n",
    "prefi = prefixo('pre')\n",
    "print(prefi('conceito'))"
   ]
  },
  {
   "cell_type": "markdown",
   "metadata": {},
   "source": [
    "Faça uma função que recebe um número inteiro ```x```. Ela deverá retornar uma função que recebe um número ```n``` e retorna o n-ésimo número da tabuada de x."
   ]
  },
  {
   "cell_type": "code",
   "execution_count": 14,
   "metadata": {},
   "outputs": [
    {
     "name": "stdout",
     "output_type": "stream",
     "text": [
      "56\n"
     ]
    }
   ],
   "source": [
    "def tabuada(x):\n",
    "    return lambda n: n*x\n",
    "\n",
    "tabu = tabuada(8)\n",
    "print(tabu(7))"
   ]
  },
  {
   "cell_type": "markdown",
   "metadata": {},
   "source": [
    "Faça o bom e velho fatorial recursivo."
   ]
  },
  {
   "cell_type": "code",
   "execution_count": 15,
   "metadata": {},
   "outputs": [
    {
     "name": "stdout",
     "output_type": "stream",
     "text": [
      "720\n"
     ]
    }
   ],
   "source": [
    "def fatorial(x):\n",
    "    return 1 if x == 1 else x*fatorial(x-1)\n",
    "\n",
    "print(fatorial(6))"
   ]
  },
  {
   "cell_type": "markdown",
   "metadata": {},
   "source": [
    "Faça o fatorial com recursão de cauda. O cálculo deverá ocorrer nos parâmetros das chamadas recursivas."
   ]
  },
  {
   "cell_type": "code",
   "execution_count": null,
   "metadata": {},
   "outputs": [],
   "source": [
    "def fib_cauda(n, n1 = 1, n2 = 1):\n",
    "    if n == 0:\n",
    "        return n1\n",
    "    if n == 1:\n",
    "        return n2\n",
    "    return fib_cauda(n - 1, n2, n1 + n2)\n",
    "\n",
    "print(fib_cauda(0))\n",
    "print(fib_cauda(1))"
   ]
  },
  {
   "cell_type": "code",
   "execution_count": 17,
   "metadata": {},
   "outputs": [
    {
     "name": "stdout",
     "output_type": "stream",
     "text": [
      "120\n"
     ]
    }
   ],
   "source": [
    "def fatorial(n, n1 = 1):\n",
    "    if n == 1:\n",
    "        return n1\n",
    "    else:\n",
    "        return fatorial(n-1, n*n1)\n",
    "\n",
    "print(fatorial(5))"
   ]
  },
  {
   "cell_type": "markdown",
   "metadata": {},
   "source": [
    "-----\n",
    "\n",
    "Para o restante dos exercícios, utilize map, filter e reduce **e/ou** compreensão de lista. Tendo tempo, seria legal desenvolver ambas as soluções."
   ]
  },
  {
   "cell_type": "markdown",
   "metadata": {},
   "source": [
    "ok :)"
   ]
  },
  {
   "cell_type": "markdown",
   "metadata": {},
   "source": [
    "Dada uma string contendo um nome completo, retorne uma lista contendo as iniciais do nome."
   ]
  },
  {
   "cell_type": "code",
   "execution_count": 24,
   "metadata": {},
   "outputs": [
    {
     "name": "stdout",
     "output_type": "stream",
     "text": [
      "['T', 'R']\n"
     ]
    }
   ],
   "source": [
    "from functools import reduce\n",
    "\n",
    "nomes = 'Thalles Rafael'\n",
    "print(list(map(lambda x: x[0], nomes.split())))\n",
    "\n",
    "# vale à pena como desafio usar Reduce"
   ]
  },
  {
   "cell_type": "markdown",
   "metadata": {},
   "source": [
    "Dada a hora do dia (ignore os minutos), utilize filter para descobrir os restaurantes abertos:\n",
    "\n",
    "```py\n",
    "restaurantes = [\n",
    "  {\n",
    "    nome: 'Pizzaria do Mario',\n",
    "    horario_abertura: 14,\n",
    "    horario_fechamento: 23\n",
    "  },\n",
    "  {\n",
    "    nome: 'Churrascaria do Ronaldo',\n",
    "    horario_abertura: 11,\n",
    "    horario_fechamento: 14,\n",
    "  },\n",
    "  {\n",
    "    nome: 'Bar do Zeca',\n",
    "    horario_abertura: 12,\n",
    "    horario_fechamento: 2,\n",
    "  },\n",
    "  {\n",
    "    nome: 'Doceria da Mara',\n",
    "    horario_abertura: 8,\n",
    "    horario_fechamento: 20,\n",
    "  },\n",
    "]\n",
    "```"
   ]
  },
  {
   "cell_type": "code",
   "execution_count": 27,
   "metadata": {},
   "outputs": [],
   "source": [
    "restaurantes = [\n",
    "  {\n",
    "    'nome': 'Pizzaria do Mario',\n",
    "    'horario_abertura': 14,\n",
    "    'horario_fechamento': 23\n",
    "  },\n",
    "  {\n",
    "    'nome': 'Churrascaria do Ronaldo',\n",
    "    'horario_abertura': 11,\n",
    "    'horario_fechamento': 14,\n",
    "  },\n",
    "  {\n",
    "    'nome': 'Bar do Zeca',\n",
    "    'horario_abertura': 12,\n",
    "    'horario_fechamento': 2,\n",
    "  },\n",
    "  {\n",
    "    'nome': 'Doceria da Mara',\n",
    "    'horario_abertura': 8,\n",
    "    'horario_fechamento': 20,\n",
    "  }\n",
    "]"
   ]
  },
  {
   "cell_type": "code",
   "execution_count": 29,
   "metadata": {},
   "outputs": [
    {
     "name": "stdout",
     "output_type": "stream",
     "text": [
      "[{'nome': 'Churrascaria do Ronaldo', 'horario_abertura': 11, 'horario_fechamento': 14}, {'nome': 'Doceria da Mara', 'horario_abertura': 8, 'horario_fechamento': 20}]\n"
     ]
    }
   ],
   "source": [
    "def verifica_hora():\n",
    "    pass\n",
    "\n",
    "hora = 13\n",
    "aberto = list(filter(lambda x: x['horario_abertura'] < hora < x['horario_fechamento'], restaurantes))\n",
    "print(aberto)\n",
    "\n",
    "# Usar o map para \n",
    "# ['Churrascaria do Ronaldo', 'Bar do Zeca', 'Doceria da Mara']\n",
    "\n"
   ]
  },
  {
   "cell_type": "markdown",
   "metadata": {},
   "source": [
    "Determine todos os números primos de uma lista de números qualquer."
   ]
  },
  {
   "cell_type": "code",
   "execution_count": null,
   "metadata": {},
   "outputs": [],
   "source": []
  },
  {
   "cell_type": "markdown",
   "metadata": {},
   "source": [
    "Faça uma função que recebe um endereço de e-mail e verifica se ele está na base de dados fornecida. Caso esteja, retorne os dados dele. Caso contrário, retorne uma mensagem padrão.\n",
    "\n",
    "```py\n",
    "usuarios = [\n",
    "  {\n",
    "    nome: \"Zé\",\n",
    "    idade: 20,\n",
    "    cpf: \"123.456.789-01\",\n",
    "    email: \"ze@uol.com.br\",\n",
    "  },\n",
    "  {\n",
    "    nome: \"Maria\",\n",
    "    idade: 27,\n",
    "    cpf: \"123.456.789-02\",\n",
    "    email: \"maria_meg_costa@outlook.com\",\n",
    "  },\n",
    "  {\n",
    "    nome: \"Carla\",\n",
    "    idade: 37,\n",
    "    cpf: \"123.456.789-03\",\n",
    "    email: \"carla@bol.com.br\",\n",
    "  },\n",
    "  {\n",
    "    nome: \"Zeca\",\n",
    "    idade: 36,\n",
    "    cpf: \"123.456.789-03\",\n",
    "    email: \"zecal3@msn.com\",\n",
    "  },\n",
    "  {\n",
    "    nome: \"Mel\",\n",
    "    idade: 16,\n",
    "    cpf: \"123.456.789-03\",\n",
    "    email: \"melsaf@gmail.com\",\n",
    "  },\n",
    "]\n",
    "```"
   ]
  },
  {
   "cell_type": "code",
   "execution_count": null,
   "metadata": {},
   "outputs": [],
   "source": []
  },
  {
   "cell_type": "markdown",
   "metadata": {},
   "source": [
    "Calcule a soma dos preços dos produtos do carrinho e aplique um frete de 15 reais sobre o resultado.\n",
    "\n",
    "```py\n",
    "carrinho = [\n",
    "  {\n",
    "    produto: \"Camisa branca:\",\n",
    "    quantidade: 4,\n",
    "    valorDaUnidade: 25.50,\n",
    "  },\n",
    "  {\n",
    "    produto: \"Calça jeans:\",\n",
    "    quantidade: 2,\n",
    "    valorDaUnidade: 180.25,\n",
    "  },\n",
    "  {\n",
    "    produto: \"Jaqueta\",\n",
    "    quantidade: 1,\n",
    "    valorDaUnidade: 299.99,\n",
    "  },\n",
    "  {\n",
    "    produto: \"Tênis de Corrida\",\n",
    "    quantidade: 1,\n",
    "    valorDaUnidade: 150.50,\n",
    "  },\n",
    "  {\n",
    "    produto: \"Par de meias\",\n",
    "    quantidade: 3,\n",
    "    valorDaUnidade: 15.00,\n",
    "  },\n",
    "  {\n",
    "    produto: \"Relógio esportivo\",\n",
    "    quantidade: 1,\n",
    "    valorDaUnidade: 350.00,\n",
    "  },\n",
    "]\n",
    "```"
   ]
  },
  {
   "cell_type": "code",
   "execution_count": null,
   "metadata": {},
   "outputs": [],
   "source": []
  },
  {
   "cell_type": "markdown",
   "metadata": {},
   "source": [
    "Gere uma lista de telefones já prefixada por +DDI:\n",
    "\n",
    "```py\n",
    "telefones = [\n",
    "  {\n",
    "    pais: 'BR',\n",
    "    numero: '99235790',\n",
    "  },\n",
    "  {\n",
    "    pais: 'BR',\n",
    "    numero: '94342678',\n",
    "  },\n",
    "  {\n",
    "    pais: 'FR',\n",
    "    numero: '90357790',\n",
    "  },\n",
    "  {\n",
    "    pais: 'FIN',\n",
    "    numero: '99342578',\n",
    "  },\n",
    "  {\n",
    "    pais: 'MX',\n",
    "    numero: '88215857',\n",
    "  },\n",
    "  {\n",
    "    pais: 'LUX',\n",
    "    numero: '37654864',\n",
    "  },\n",
    "  {\n",
    "    pais: 'CL',\n",
    "    numero: '43647344',\n",
    "  },\n",
    "  {\n",
    "    pais: 'FR',\n",
    "    numero: '34646346',\n",
    "  },\n",
    "  {\n",
    "    pais: 'EG',\n",
    "    numero: '32632864',\n",
    "  },\n",
    "]\n",
    "\n",
    "const ddi = {\n",
    "  'BR': 55,\n",
    "  'CL': 56,\n",
    "  'EG': 20,\n",
    "  'FIN': 358,\n",
    "  'FR': 33,\n",
    "  'LUX': 352,\n",
    "  'MX': 52,\n",
    "}\n",
    "```"
   ]
  },
  {
   "cell_type": "code",
   "execution_count": null,
   "metadata": {},
   "outputs": [],
   "source": []
  },
  {
   "cell_type": "markdown",
   "metadata": {},
   "source": [
    "Faça um programa que recebe uma área de atuação e um percentual de aumento. Aplique o percentual de aumento em todos os funcionários daquela área:\n",
    "\n",
    "```py\n",
    "funcionarios = [\n",
    "        {\n",
    "            nome: \"Renata\",\n",
    "            area: \"Vendas\",\n",
    "            salario: 3000,\n",
    "        },\n",
    "        {\n",
    "            nome: \"Marcela\",\n",
    "            area: \"Dev\",\n",
    "            salario: 8000,\n",
    "        },\n",
    "        {\n",
    "            nome: \"Jonas\",\n",
    "            area: \"Vendas\",\n",
    "            salario: 3500,\n",
    "        },\n",
    "        {\n",
    "            nome: \"Carlos\",\n",
    "            area: \"Vendas\",\n",
    "            salario: 2000,\n",
    "        },\n",
    "        {\n",
    "            nome: \"Rick\",\n",
    "            area: \"Dev\",\n",
    "            salario: 7000,\n",
    "        },\n",
    "        {\n",
    "            nome: \"Yara\",\n",
    "            area: \"Finanças\",\n",
    "            salario: 6500,\n",
    "        },\n",
    "        {\n",
    "            nome: \"Zeca\",\n",
    "            area: \"Finanças\",\n",
    "            salario: 5500,\n",
    "        },\n",
    "        {\n",
    "            nome: \"Josué\",\n",
    "            area: \"RH\",\n",
    "            salario: 4500,\n",
    "        },\n",
    "        {\n",
    "            nome: \"Sheila\",\n",
    "            area: \"RH\",\n",
    "            salario: 5500,\n",
    "        },\n",
    "        {\n",
    "            nome: \"Cleber\",\n",
    "            area: \"Finanças\",\n",
    "            salario: 4500,\n",
    "        },\n",
    "    ]\n",
    "```"
   ]
  },
  {
   "cell_type": "code",
   "execution_count": null,
   "metadata": {},
   "outputs": [],
   "source": []
  }
 ],
 "metadata": {
  "kernelspec": {
   "display_name": "Python 3",
   "language": "python",
   "name": "python3"
  },
  "language_info": {
   "codemirror_mode": {
    "name": "ipython",
    "version": 3
   },
   "file_extension": ".py",
   "mimetype": "text/x-python",
   "name": "python",
   "nbconvert_exporter": "python",
   "pygments_lexer": "ipython3",
   "version": "3.8.8"
  },
  "vscode": {
   "interpreter": {
    "hash": "ad507513ebe3550b2f2cefb4eceb19970a3afbb1f1dd427648277e3986f6f978"
   }
  }
 },
 "nbformat": 4,
 "nbformat_minor": 2
}
